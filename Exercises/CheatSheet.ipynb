{
 "cells": [
  {
   "cell_type": "code",
   "execution_count": 26,
   "metadata": {
    "collapsed": true,
    "ExecuteTime": {
     "end_time": "2024-01-04T15:14:17.101557300Z",
     "start_time": "2024-01-04T15:14:16.646471200Z"
    }
   },
   "outputs": [],
   "source": [
    "baseball = pd.read_csv(\"01 - Handling data/Data/baseball.csv\", index_col='id')\n",
    "segments = pd.read_csv(\"01 - Handling data/Data/transit_segments.csv\")\n",
    "cdystonia = pd.read_csv(\"01 - Handling data/Data/cdystonia.csv\", index_col=None)\n",
    "vessels = pd.read_csv(\"01 - Handling data/Data/vessel_information.csv\", index_col='mmsi')"
   ]
  },
  {
   "cell_type": "code",
   "execution_count": 27,
   "outputs": [],
   "source": [
    "import pandas as pd\n",
    "import seaborn as sns\n",
    "import numpy as np\n",
    "import matplotlib.pyplot as plt\n",
    "\n",
    "%matplotlib inline\n",
    "sns.set_context('notebook')"
   ],
   "metadata": {
    "collapsed": false,
    "ExecuteTime": {
     "end_time": "2024-01-04T15:14:19.290045300Z",
     "start_time": "2024-01-04T15:14:19.230001700Z"
    }
   }
  },
  {
   "cell_type": "markdown",
   "source": [
    "# 1 - Handling Data"
   ],
   "metadata": {
    "collapsed": false
   }
  },
  {
   "cell_type": "code",
   "execution_count": 28,
   "outputs": [
    {
     "data": {
      "text/plain": "Proteobacteria    1638\nActinobacteria     569\ndtype: int64"
     },
     "execution_count": 28,
     "metadata": {},
     "output_type": "execute_result"
    }
   ],
   "source": [
    "bacteria = pd.Series([632, 1638, 569, 115],\n",
    "    index=['Firmicutes', 'Proteobacteria', 'Actinobacteria', 'Bacteroidetes'])\n",
    "\n",
    "bacteria[[name.endswith('bacteria') for name in bacteria.index]]"
   ],
   "metadata": {
    "collapsed": false,
    "ExecuteTime": {
     "end_time": "2024-01-04T15:14:20.160948800Z",
     "start_time": "2024-01-04T15:14:20.141436400Z"
    }
   }
  },
  {
   "cell_type": "code",
   "execution_count": 29,
   "outputs": [
    {
     "data": {
      "text/plain": "   value  patient          phylum\n0    632        1      Firmicutes\n1   1638        1  Proteobacteria\n2    569        1  Actinobacteria\n3    115        1   Bacteroidetes\n4    433        2      Firmicutes\n5   1130        2  Proteobacteria\n6    754        2  Actinobacteria\n7    555        2   Bacteroidetes",
      "text/html": "<div>\n<style scoped>\n    .dataframe tbody tr th:only-of-type {\n        vertical-align: middle;\n    }\n\n    .dataframe tbody tr th {\n        vertical-align: top;\n    }\n\n    .dataframe thead th {\n        text-align: right;\n    }\n</style>\n<table border=\"1\" class=\"dataframe\">\n  <thead>\n    <tr style=\"text-align: right;\">\n      <th></th>\n      <th>value</th>\n      <th>patient</th>\n      <th>phylum</th>\n    </tr>\n  </thead>\n  <tbody>\n    <tr>\n      <th>0</th>\n      <td>632</td>\n      <td>1</td>\n      <td>Firmicutes</td>\n    </tr>\n    <tr>\n      <th>1</th>\n      <td>1638</td>\n      <td>1</td>\n      <td>Proteobacteria</td>\n    </tr>\n    <tr>\n      <th>2</th>\n      <td>569</td>\n      <td>1</td>\n      <td>Actinobacteria</td>\n    </tr>\n    <tr>\n      <th>3</th>\n      <td>115</td>\n      <td>1</td>\n      <td>Bacteroidetes</td>\n    </tr>\n    <tr>\n      <th>4</th>\n      <td>433</td>\n      <td>2</td>\n      <td>Firmicutes</td>\n    </tr>\n    <tr>\n      <th>5</th>\n      <td>1130</td>\n      <td>2</td>\n      <td>Proteobacteria</td>\n    </tr>\n    <tr>\n      <th>6</th>\n      <td>754</td>\n      <td>2</td>\n      <td>Actinobacteria</td>\n    </tr>\n    <tr>\n      <th>7</th>\n      <td>555</td>\n      <td>2</td>\n      <td>Bacteroidetes</td>\n    </tr>\n  </tbody>\n</table>\n</div>"
     },
     "execution_count": 29,
     "metadata": {},
     "output_type": "execute_result"
    }
   ],
   "source": [
    "data = pd.DataFrame({'value':[632, 1638, 569, 115, 433, 1130, 754, 555],\n",
    "                     'patient':[1, 1, 1, 1, 2, 2, 2, 2],\n",
    "                     'phylum':['Firmicutes', 'Proteobacteria', 'Actinobacteria',\n",
    "    'Bacteroidetes', 'Firmicutes', 'Proteobacteria', 'Actinobacteria', 'Bacteroidetes']})\n",
    "data"
   ],
   "metadata": {
    "collapsed": false,
    "ExecuteTime": {
     "end_time": "2024-01-04T15:14:20.654440500Z",
     "start_time": "2024-01-04T15:14:20.602803800Z"
    }
   }
  },
  {
   "cell_type": "markdown",
   "source": [
    "### Get DF"
   ],
   "metadata": {
    "collapsed": false
   }
  },
  {
   "cell_type": "code",
   "execution_count": 30,
   "outputs": [
    {
     "data": {
      "text/plain": "pandas.core.frame.DataFrame"
     },
     "execution_count": 30,
     "metadata": {},
     "output_type": "execute_result"
    }
   ],
   "source": [
    "type(data[['value']])"
   ],
   "metadata": {
    "collapsed": false,
    "ExecuteTime": {
     "end_time": "2024-01-04T15:14:21.542835900Z",
     "start_time": "2024-01-04T15:14:21.509800200Z"
    }
   }
  },
  {
   "cell_type": "markdown",
   "source": [
    "### Get Serie"
   ],
   "metadata": {
    "collapsed": false
   }
  },
  {
   "cell_type": "code",
   "execution_count": 31,
   "outputs": [
    {
     "data": {
      "text/plain": "pandas.core.series.Series"
     },
     "execution_count": 31,
     "metadata": {},
     "output_type": "execute_result"
    }
   ],
   "source": [
    "type(data.value)"
   ],
   "metadata": {
    "collapsed": false,
    "ExecuteTime": {
     "end_time": "2024-01-04T15:14:22.659740400Z",
     "start_time": "2024-01-04T15:14:22.626363900Z"
    }
   }
  },
  {
   "cell_type": "markdown",
   "source": [
    "### Get Row"
   ],
   "metadata": {
    "collapsed": false
   }
  },
  {
   "cell_type": "code",
   "execution_count": 32,
   "outputs": [
    {
     "data": {
      "text/plain": "value                115\npatient                1\nphylum     Bacteroidetes\nName: 3, dtype: object"
     },
     "execution_count": 32,
     "metadata": {},
     "output_type": "execute_result"
    }
   ],
   "source": [
    "# With labels as index\n",
    "data.loc[3]"
   ],
   "metadata": {
    "collapsed": false,
    "ExecuteTime": {
     "end_time": "2024-01-04T15:14:23.127516300Z",
     "start_time": "2024-01-04T15:14:23.122373400Z"
    }
   }
  },
  {
   "cell_type": "code",
   "execution_count": 33,
   "outputs": [
    {
     "data": {
      "text/plain": "value                115\npatient                1\nphylum     Bacteroidetes\nName: 3, dtype: object"
     },
     "execution_count": 33,
     "metadata": {},
     "output_type": "execute_result"
    }
   ],
   "source": [
    "#With integer location as index\n",
    "data.iloc[3]"
   ],
   "metadata": {
    "collapsed": false,
    "ExecuteTime": {
     "end_time": "2024-01-04T15:14:23.377965500Z",
     "start_time": "2024-01-04T15:14:23.358623300Z"
    }
   }
  },
  {
   "cell_type": "code",
   "execution_count": 34,
   "outputs": [
    {
     "data": {
      "text/plain": "h      126\nX2b     18\nX3b      3\nhr       4\nName: 89347, dtype: object"
     },
     "execution_count": 34,
     "metadata": {},
     "output_type": "execute_result"
    }
   ],
   "source": [
    "baseball.loc[89347, ['h','X2b', 'X3b', 'hr']]"
   ],
   "metadata": {
    "collapsed": false,
    "ExecuteTime": {
     "end_time": "2024-01-04T15:14:23.642106900Z",
     "start_time": "2024-01-04T15:14:23.556869600Z"
    }
   }
  },
  {
   "cell_type": "code",
   "execution_count": 35,
   "outputs": [
    {
     "data": {
      "text/plain": "id\n88641     1\n88643     0\n88645     0\n88649     0\n88650     0\n88652     6\n88653    15\n88662     0\n89177     0\n89178     1\n89330    10\n89333     0\n89334     1\n89335     0\n89336     0\n89337     4\n89338     0\n89339     0\n89340     0\n89341     0\n89343     0\n89345     0\n89347     4\nName: hr, dtype: int64"
     },
     "execution_count": 35,
     "metadata": {},
     "output_type": "execute_result"
    }
   ],
   "source": [
    "baseball.loc[:89347, 'hr']"
   ],
   "metadata": {
    "collapsed": false,
    "ExecuteTime": {
     "end_time": "2024-01-04T15:14:23.865013400Z",
     "start_time": "2024-01-04T15:14:23.800767300Z"
    }
   }
  },
  {
   "cell_type": "code",
   "execution_count": 36,
   "outputs": [
    {
     "data": {
      "text/plain": "        g  ab  r\nid              \n88641  19  50  6\n88643  31   2  0\n88645  62   0  0\n88649  20   3  0\n88650  33   6  0",
      "text/html": "<div>\n<style scoped>\n    .dataframe tbody tr th:only-of-type {\n        vertical-align: middle;\n    }\n\n    .dataframe tbody tr th {\n        vertical-align: top;\n    }\n\n    .dataframe thead th {\n        text-align: right;\n    }\n</style>\n<table border=\"1\" class=\"dataframe\">\n  <thead>\n    <tr style=\"text-align: right;\">\n      <th></th>\n      <th>g</th>\n      <th>ab</th>\n      <th>r</th>\n    </tr>\n    <tr>\n      <th>id</th>\n      <th></th>\n      <th></th>\n      <th></th>\n    </tr>\n  </thead>\n  <tbody>\n    <tr>\n      <th>88641</th>\n      <td>19</td>\n      <td>50</td>\n      <td>6</td>\n    </tr>\n    <tr>\n      <th>88643</th>\n      <td>31</td>\n      <td>2</td>\n      <td>0</td>\n    </tr>\n    <tr>\n      <th>88645</th>\n      <td>62</td>\n      <td>0</td>\n      <td>0</td>\n    </tr>\n    <tr>\n      <th>88649</th>\n      <td>20</td>\n      <td>3</td>\n      <td>0</td>\n    </tr>\n    <tr>\n      <th>88650</th>\n      <td>33</td>\n      <td>6</td>\n      <td>0</td>\n    </tr>\n  </tbody>\n</table>\n</div>"
     },
     "execution_count": 36,
     "metadata": {},
     "output_type": "execute_result"
    }
   ],
   "source": [
    "baseball.iloc[:5, 5:8]"
   ],
   "metadata": {
    "collapsed": false,
    "ExecuteTime": {
     "end_time": "2024-01-04T15:14:27.274475800Z",
     "start_time": "2024-01-04T15:14:27.202327700Z"
    }
   }
  },
  {
   "cell_type": "markdown",
   "source": [
    "### Copy to not have a view of the DF"
   ],
   "metadata": {
    "collapsed": false
   }
  },
  {
   "cell_type": "code",
   "execution_count": 37,
   "outputs": [],
   "source": [
    "vals = data.value.copy()"
   ],
   "metadata": {
    "collapsed": false,
    "ExecuteTime": {
     "end_time": "2024-01-04T15:14:28.608617800Z",
     "start_time": "2024-01-04T15:14:28.576398300Z"
    }
   }
  },
  {
   "cell_type": "markdown",
   "source": [
    "### Filter DF"
   ],
   "metadata": {
    "collapsed": false
   }
  },
  {
   "cell_type": "code",
   "execution_count": 38,
   "outputs": [
    {
     "data": {
      "text/plain": "   value  patient          phylum\n1   1638        1  Proteobacteria\n5   1130        2  Proteobacteria",
      "text/html": "<div>\n<style scoped>\n    .dataframe tbody tr th:only-of-type {\n        vertical-align: middle;\n    }\n\n    .dataframe tbody tr th {\n        vertical-align: top;\n    }\n\n    .dataframe thead th {\n        text-align: right;\n    }\n</style>\n<table border=\"1\" class=\"dataframe\">\n  <thead>\n    <tr style=\"text-align: right;\">\n      <th></th>\n      <th>value</th>\n      <th>patient</th>\n      <th>phylum</th>\n    </tr>\n  </thead>\n  <tbody>\n    <tr>\n      <th>1</th>\n      <td>1638</td>\n      <td>1</td>\n      <td>Proteobacteria</td>\n    </tr>\n    <tr>\n      <th>5</th>\n      <td>1130</td>\n      <td>2</td>\n      <td>Proteobacteria</td>\n    </tr>\n  </tbody>\n</table>\n</div>"
     },
     "execution_count": 38,
     "metadata": {},
     "output_type": "execute_result"
    }
   ],
   "source": [
    "data[data['phylum'].apply(lambda x: x.endswith('bacteria')) & data['value'].apply(lambda x: x>1000)]"
   ],
   "metadata": {
    "collapsed": false,
    "ExecuteTime": {
     "end_time": "2024-01-04T15:14:29.427487200Z",
     "start_time": "2024-01-04T15:14:29.405535800Z"
    }
   }
  },
  {
   "cell_type": "markdown",
   "source": [
    "### Drop a line or a row"
   ],
   "metadata": {
    "collapsed": false
   }
  },
  {
   "cell_type": "code",
   "execution_count": 39,
   "outputs": [
    {
     "data": {
      "text/plain": "   value  patient          phylum  treatment\n0    632        1      Firmicutes        0.0\n1   1638        1  Proteobacteria        0.0\n2    569        1  Actinobacteria        0.0\n3    115        1   Bacteroidetes        0.0\n4    433        2      Firmicutes        1.0\n5   1130        2  Proteobacteria        1.0\n6    754        2  Actinobacteria        NaN\n7    555        2   Bacteroidetes        NaN",
      "text/html": "<div>\n<style scoped>\n    .dataframe tbody tr th:only-of-type {\n        vertical-align: middle;\n    }\n\n    .dataframe tbody tr th {\n        vertical-align: top;\n    }\n\n    .dataframe thead th {\n        text-align: right;\n    }\n</style>\n<table border=\"1\" class=\"dataframe\">\n  <thead>\n    <tr style=\"text-align: right;\">\n      <th></th>\n      <th>value</th>\n      <th>patient</th>\n      <th>phylum</th>\n      <th>treatment</th>\n    </tr>\n  </thead>\n  <tbody>\n    <tr>\n      <th>0</th>\n      <td>632</td>\n      <td>1</td>\n      <td>Firmicutes</td>\n      <td>0.0</td>\n    </tr>\n    <tr>\n      <th>1</th>\n      <td>1638</td>\n      <td>1</td>\n      <td>Proteobacteria</td>\n      <td>0.0</td>\n    </tr>\n    <tr>\n      <th>2</th>\n      <td>569</td>\n      <td>1</td>\n      <td>Actinobacteria</td>\n      <td>0.0</td>\n    </tr>\n    <tr>\n      <th>3</th>\n      <td>115</td>\n      <td>1</td>\n      <td>Bacteroidetes</td>\n      <td>0.0</td>\n    </tr>\n    <tr>\n      <th>4</th>\n      <td>433</td>\n      <td>2</td>\n      <td>Firmicutes</td>\n      <td>1.0</td>\n    </tr>\n    <tr>\n      <th>5</th>\n      <td>1130</td>\n      <td>2</td>\n      <td>Proteobacteria</td>\n      <td>1.0</td>\n    </tr>\n    <tr>\n      <th>6</th>\n      <td>754</td>\n      <td>2</td>\n      <td>Actinobacteria</td>\n      <td>NaN</td>\n    </tr>\n    <tr>\n      <th>7</th>\n      <td>555</td>\n      <td>2</td>\n      <td>Bacteroidetes</td>\n      <td>NaN</td>\n    </tr>\n  </tbody>\n</table>\n</div>"
     },
     "execution_count": 39,
     "metadata": {},
     "output_type": "execute_result"
    }
   ],
   "source": [
    "treatment = pd.Series([0]*4 + [1]*2)\n",
    "data['treatment'] = treatment\n",
    "#Columns\n",
    "data_nomonth = data.drop('treatment', axis=1)\n",
    "#Rows\n",
    "data_nomonth.drop(0)\n",
    "#na\n",
    "data.dropna(how='all') #how=all make it drop only if all col as nan"
   ],
   "metadata": {
    "collapsed": false,
    "ExecuteTime": {
     "end_time": "2024-01-04T15:14:29.984967400Z",
     "start_time": "2024-01-04T15:14:29.965534400Z"
    }
   }
  },
  {
   "cell_type": "markdown",
   "source": [
    "### Have a look at external CSV"
   ],
   "metadata": {
    "collapsed": false
   }
  },
  {
   "cell_type": "code",
   "execution_count": 40,
   "outputs": [
    {
     "name": "stderr",
     "output_type": "stream",
     "text": [
      "head: cannot open 'Data/microbiome.csv' for reading: No such file or directory\n"
     ]
    }
   ],
   "source": [
    "!head Data/microbiome.csv"
   ],
   "metadata": {
    "collapsed": false,
    "ExecuteTime": {
     "end_time": "2024-01-04T15:14:30.909369500Z",
     "start_time": "2024-01-04T15:14:30.835046500Z"
    }
   }
  },
  {
   "cell_type": "markdown",
   "source": [
    "### Load CSV"
   ],
   "metadata": {
    "collapsed": false
   }
  },
  {
   "cell_type": "code",
   "execution_count": 41,
   "outputs": [
    {
     "name": "stderr",
     "output_type": "stream",
     "text": [
      "<>:3: SyntaxWarning: invalid escape sequence '\\s'\n",
      "<>:3: SyntaxWarning: invalid escape sequence '\\s'\n",
      "C:\\Users\\xagao\\AppData\\Local\\Temp\\ipykernel_27628\\3948407883.py:3: SyntaxWarning: invalid escape sequence '\\s'\n",
      "  sep='\\s+',#separator are whitespaces\n"
     ]
    },
    {
     "ename": "ValueError",
     "evalue": "Index Patient invalid",
     "output_type": "error",
     "traceback": [
      "\u001B[1;31m---------------------------------------------------------------------------\u001B[0m",
      "\u001B[1;31mValueError\u001B[0m                                Traceback (most recent call last)",
      "Cell \u001B[1;32mIn[41], line 1\u001B[0m\n\u001B[1;32m----> 1\u001B[0m pd\u001B[38;5;241m.\u001B[39mread_csv(\u001B[38;5;124m\"\u001B[39m\u001B[38;5;124m01 - Handling data/Data/microbiome.csv\u001B[39m\u001B[38;5;124m\"\u001B[39m,\n\u001B[0;32m      2\u001B[0m             header\u001B[38;5;241m=\u001B[39m\u001B[38;5;28;01mNone\u001B[39;00m, \u001B[38;5;66;03m#Don't use the first line of the csv as column index\u001B[39;00m\n\u001B[0;32m      3\u001B[0m             sep\u001B[38;5;241m=\u001B[39m\u001B[38;5;124m'\u001B[39m\u001B[38;5;124m\\\u001B[39m\u001B[38;5;124ms+\u001B[39m\u001B[38;5;124m'\u001B[39m,\u001B[38;5;66;03m#separator are whitespaces\u001B[39;00m\n\u001B[0;32m      4\u001B[0m             index_col\u001B[38;5;241m=\u001B[39m[\u001B[38;5;124m'\u001B[39m\u001B[38;5;124mPatient\u001B[39m\u001B[38;5;124m'\u001B[39m,\u001B[38;5;124m'\u001B[39m\u001B[38;5;124mTaxon\u001B[39m\u001B[38;5;124m'\u001B[39m], \u001B[38;5;66;03m#use Patient and Taxon as index\u001B[39;00m\n\u001B[0;32m      5\u001B[0m             skiprows\u001B[38;5;241m=\u001B[39m[\u001B[38;5;241m3\u001B[39m,\u001B[38;5;241m4\u001B[39m,\u001B[38;5;241m6\u001B[39m],\u001B[38;5;66;03m#Don't load those line from csv\u001B[39;00m\n\u001B[0;32m      6\u001B[0m             nrows\u001B[38;5;241m=\u001B[39m\u001B[38;5;241m10\u001B[39m,\u001B[38;5;66;03m#Only load 10 first rows of csv\u001B[39;00m\n\u001B[0;32m      7\u001B[0m             na_values\u001B[38;5;241m=\u001B[39m[\u001B[38;5;124m'\u001B[39m\u001B[38;5;124m?\u001B[39m\u001B[38;5;124m'\u001B[39m, \u001B[38;5;241m-\u001B[39m\u001B[38;5;241m99999\u001B[39m], \u001B[38;5;66;03m#specify the char ? and number -99999 to be considered as NA\u001B[39;00m\n\u001B[0;32m      8\u001B[0m             )\n",
      "File \u001B[1;32m~\\anaconda3\\envs\\ADA\\Lib\\site-packages\\pandas\\io\\parsers\\readers.py:948\u001B[0m, in \u001B[0;36mread_csv\u001B[1;34m(filepath_or_buffer, sep, delimiter, header, names, index_col, usecols, dtype, engine, converters, true_values, false_values, skipinitialspace, skiprows, skipfooter, nrows, na_values, keep_default_na, na_filter, verbose, skip_blank_lines, parse_dates, infer_datetime_format, keep_date_col, date_parser, date_format, dayfirst, cache_dates, iterator, chunksize, compression, thousands, decimal, lineterminator, quotechar, quoting, doublequote, escapechar, comment, encoding, encoding_errors, dialect, on_bad_lines, delim_whitespace, low_memory, memory_map, float_precision, storage_options, dtype_backend)\u001B[0m\n\u001B[0;32m    935\u001B[0m kwds_defaults \u001B[38;5;241m=\u001B[39m _refine_defaults_read(\n\u001B[0;32m    936\u001B[0m     dialect,\n\u001B[0;32m    937\u001B[0m     delimiter,\n\u001B[1;32m   (...)\u001B[0m\n\u001B[0;32m    944\u001B[0m     dtype_backend\u001B[38;5;241m=\u001B[39mdtype_backend,\n\u001B[0;32m    945\u001B[0m )\n\u001B[0;32m    946\u001B[0m kwds\u001B[38;5;241m.\u001B[39mupdate(kwds_defaults)\n\u001B[1;32m--> 948\u001B[0m \u001B[38;5;28;01mreturn\u001B[39;00m _read(filepath_or_buffer, kwds)\n",
      "File \u001B[1;32m~\\anaconda3\\envs\\ADA\\Lib\\site-packages\\pandas\\io\\parsers\\readers.py:617\u001B[0m, in \u001B[0;36m_read\u001B[1;34m(filepath_or_buffer, kwds)\u001B[0m\n\u001B[0;32m    614\u001B[0m     \u001B[38;5;28;01mreturn\u001B[39;00m parser\n\u001B[0;32m    616\u001B[0m \u001B[38;5;28;01mwith\u001B[39;00m parser:\n\u001B[1;32m--> 617\u001B[0m     \u001B[38;5;28;01mreturn\u001B[39;00m parser\u001B[38;5;241m.\u001B[39mread(nrows)\n",
      "File \u001B[1;32m~\\anaconda3\\envs\\ADA\\Lib\\site-packages\\pandas\\io\\parsers\\readers.py:1748\u001B[0m, in \u001B[0;36mTextFileReader.read\u001B[1;34m(self, nrows)\u001B[0m\n\u001B[0;32m   1741\u001B[0m nrows \u001B[38;5;241m=\u001B[39m validate_integer(\u001B[38;5;124m\"\u001B[39m\u001B[38;5;124mnrows\u001B[39m\u001B[38;5;124m\"\u001B[39m, nrows)\n\u001B[0;32m   1742\u001B[0m \u001B[38;5;28;01mtry\u001B[39;00m:\n\u001B[0;32m   1743\u001B[0m     \u001B[38;5;66;03m# error: \"ParserBase\" has no attribute \"read\"\u001B[39;00m\n\u001B[0;32m   1744\u001B[0m     (\n\u001B[0;32m   1745\u001B[0m         index,\n\u001B[0;32m   1746\u001B[0m         columns,\n\u001B[0;32m   1747\u001B[0m         col_dict,\n\u001B[1;32m-> 1748\u001B[0m     ) \u001B[38;5;241m=\u001B[39m \u001B[38;5;28mself\u001B[39m\u001B[38;5;241m.\u001B[39m_engine\u001B[38;5;241m.\u001B[39mread(  \u001B[38;5;66;03m# type: ignore[attr-defined]\u001B[39;00m\n\u001B[0;32m   1749\u001B[0m         nrows\n\u001B[0;32m   1750\u001B[0m     )\n\u001B[0;32m   1751\u001B[0m \u001B[38;5;28;01mexcept\u001B[39;00m \u001B[38;5;167;01mException\u001B[39;00m:\n\u001B[0;32m   1752\u001B[0m     \u001B[38;5;28mself\u001B[39m\u001B[38;5;241m.\u001B[39mclose()\n",
      "File \u001B[1;32m~\\anaconda3\\envs\\ADA\\Lib\\site-packages\\pandas\\io\\parsers\\c_parser_wrapper.py:333\u001B[0m, in \u001B[0;36mCParserWrapper.read\u001B[1;34m(self, nrows)\u001B[0m\n\u001B[0;32m    330\u001B[0m     data \u001B[38;5;241m=\u001B[39m {k: v \u001B[38;5;28;01mfor\u001B[39;00m k, (i, v) \u001B[38;5;129;01min\u001B[39;00m \u001B[38;5;28mzip\u001B[39m(names, data_tups)}\n\u001B[0;32m    332\u001B[0m     names, date_data \u001B[38;5;241m=\u001B[39m \u001B[38;5;28mself\u001B[39m\u001B[38;5;241m.\u001B[39m_do_date_conversions(names, data)\n\u001B[1;32m--> 333\u001B[0m     index, column_names \u001B[38;5;241m=\u001B[39m \u001B[38;5;28mself\u001B[39m\u001B[38;5;241m.\u001B[39m_make_index(date_data, alldata, names)\n\u001B[0;32m    335\u001B[0m \u001B[38;5;28;01mreturn\u001B[39;00m index, column_names, date_data\n",
      "File \u001B[1;32m~\\anaconda3\\envs\\ADA\\Lib\\site-packages\\pandas\\io\\parsers\\base_parser.py:370\u001B[0m, in \u001B[0;36mParserBase._make_index\u001B[1;34m(self, data, alldata, columns, indexnamerow)\u001B[0m\n\u001B[0;32m    367\u001B[0m     index \u001B[38;5;241m=\u001B[39m \u001B[38;5;28;01mNone\u001B[39;00m\n\u001B[0;32m    369\u001B[0m \u001B[38;5;28;01melif\u001B[39;00m \u001B[38;5;129;01mnot\u001B[39;00m \u001B[38;5;28mself\u001B[39m\u001B[38;5;241m.\u001B[39m_has_complex_date_col:\n\u001B[1;32m--> 370\u001B[0m     simple_index \u001B[38;5;241m=\u001B[39m \u001B[38;5;28mself\u001B[39m\u001B[38;5;241m.\u001B[39m_get_simple_index(alldata, columns)\n\u001B[0;32m    371\u001B[0m     index \u001B[38;5;241m=\u001B[39m \u001B[38;5;28mself\u001B[39m\u001B[38;5;241m.\u001B[39m_agg_index(simple_index)\n\u001B[0;32m    372\u001B[0m \u001B[38;5;28;01melif\u001B[39;00m \u001B[38;5;28mself\u001B[39m\u001B[38;5;241m.\u001B[39m_has_complex_date_col:\n",
      "File \u001B[1;32m~\\anaconda3\\envs\\ADA\\Lib\\site-packages\\pandas\\io\\parsers\\base_parser.py:402\u001B[0m, in \u001B[0;36mParserBase._get_simple_index\u001B[1;34m(self, data, columns)\u001B[0m\n\u001B[0;32m    400\u001B[0m index \u001B[38;5;241m=\u001B[39m []\n\u001B[0;32m    401\u001B[0m \u001B[38;5;28;01mfor\u001B[39;00m idx \u001B[38;5;129;01min\u001B[39;00m \u001B[38;5;28mself\u001B[39m\u001B[38;5;241m.\u001B[39mindex_col:\n\u001B[1;32m--> 402\u001B[0m     i \u001B[38;5;241m=\u001B[39m ix(idx)\n\u001B[0;32m    403\u001B[0m     to_remove\u001B[38;5;241m.\u001B[39mappend(i)\n\u001B[0;32m    404\u001B[0m     index\u001B[38;5;241m.\u001B[39mappend(data[i])\n",
      "File \u001B[1;32m~\\anaconda3\\envs\\ADA\\Lib\\site-packages\\pandas\\io\\parsers\\base_parser.py:397\u001B[0m, in \u001B[0;36mParserBase._get_simple_index.<locals>.ix\u001B[1;34m(col)\u001B[0m\n\u001B[0;32m    395\u001B[0m \u001B[38;5;28;01mif\u001B[39;00m \u001B[38;5;129;01mnot\u001B[39;00m \u001B[38;5;28misinstance\u001B[39m(col, \u001B[38;5;28mstr\u001B[39m):\n\u001B[0;32m    396\u001B[0m     \u001B[38;5;28;01mreturn\u001B[39;00m col\n\u001B[1;32m--> 397\u001B[0m \u001B[38;5;28;01mraise\u001B[39;00m \u001B[38;5;167;01mValueError\u001B[39;00m(\u001B[38;5;124mf\u001B[39m\u001B[38;5;124m\"\u001B[39m\u001B[38;5;124mIndex \u001B[39m\u001B[38;5;132;01m{\u001B[39;00mcol\u001B[38;5;132;01m}\u001B[39;00m\u001B[38;5;124m invalid\u001B[39m\u001B[38;5;124m\"\u001B[39m)\n",
      "\u001B[1;31mValueError\u001B[0m: Index Patient invalid"
     ]
    }
   ],
   "source": [
    "pd.read_csv(\"01 - Handling data/Data/microbiome.csv\",\n",
    "            header=None, #Don't use the first line of the csv as column index\n",
    "            sep='\\s+',#separator are whitespaces\n",
    "            index_col=['Patient','Taxon'], #use Patient and Taxon as index\n",
    "            skiprows=[3,4,6],#Don't load those line from csv\n",
    "            nrows=10,#Only load 10 first rows of csv\n",
    "            na_values=['?', -99999], #specify the char ? and number -99999 to be considered as NA\n",
    "            )"
   ],
   "metadata": {
    "collapsed": false,
    "ExecuteTime": {
     "end_time": "2024-01-04T15:14:31.705762800Z",
     "start_time": "2024-01-04T15:14:31.606283500Z"
    }
   }
  },
  {
   "cell_type": "markdown",
   "source": [
    "### Load Excel"
   ],
   "metadata": {
    "collapsed": false
   }
  },
  {
   "cell_type": "code",
   "execution_count": 42,
   "outputs": [],
   "source": [
    "df = pd.read_excel('01 - Handling data/Data/microbiome_MID2.xls', sheet_name='Sheet 1', header=None)"
   ],
   "metadata": {
    "collapsed": false,
    "ExecuteTime": {
     "end_time": "2024-01-04T15:14:36.894207500Z",
     "start_time": "2024-01-04T15:14:36.827197800Z"
    }
   }
  },
  {
   "cell_type": "markdown",
   "source": [
    "### Check if index is unique"
   ],
   "metadata": {
    "collapsed": false
   }
  },
  {
   "cell_type": "code",
   "execution_count": 43,
   "outputs": [
    {
     "data": {
      "text/plain": "True"
     },
     "execution_count": 43,
     "metadata": {},
     "output_type": "execute_result"
    }
   ],
   "source": [
    "df.index.is_unique"
   ],
   "metadata": {
    "collapsed": false,
    "ExecuteTime": {
     "end_time": "2024-01-04T15:14:38.107421300Z",
     "start_time": "2024-01-04T15:14:38.051767100Z"
    }
   }
  },
  {
   "cell_type": "markdown",
   "source": [
    "### Query a DF"
   ],
   "metadata": {
    "collapsed": false
   }
  },
  {
   "cell_type": "code",
   "execution_count": 44,
   "outputs": [
    {
     "ename": "NameError",
     "evalue": "name 'pokemon_df' is not defined",
     "output_type": "error",
     "traceback": [
      "\u001B[1;31m---------------------------------------------------------------------------\u001B[0m",
      "\u001B[1;31mNameError\u001B[0m                                 Traceback (most recent call last)",
      "Cell \u001B[1;32mIn[44], line 4\u001B[0m\n\u001B[0;32m      1\u001B[0m min_ab \u001B[38;5;241m=\u001B[39m \u001B[38;5;241m500\u001B[39m\n\u001B[0;32m      3\u001B[0m baseball\u001B[38;5;241m.\u001B[39mquery(\u001B[38;5;124m'\u001B[39m\u001B[38;5;124mab > @min_ab\u001B[39m\u001B[38;5;124m'\u001B[39m)\n\u001B[1;32m----> 4\u001B[0m grass_pokemon \u001B[38;5;241m=\u001B[39m pokemon_df\u001B[38;5;241m.\u001B[39mquery(\u001B[38;5;124m\"\u001B[39m\u001B[38;5;124m(`Class 1` == \u001B[39m\u001B[38;5;124m'\u001B[39m\u001B[38;5;124mGrass\u001B[39m\u001B[38;5;124m'\u001B[39m\u001B[38;5;124m & `Class 2` != \u001B[39m\u001B[38;5;124m'\u001B[39m\u001B[38;5;124mRock\u001B[39m\u001B[38;5;124m'\u001B[39m\u001B[38;5;124m) | (`Class 2` == \u001B[39m\u001B[38;5;124m'\u001B[39m\u001B[38;5;124mGrass\u001B[39m\u001B[38;5;124m'\u001B[39m\u001B[38;5;124m & `Class 1` != \u001B[39m\u001B[38;5;124m'\u001B[39m\u001B[38;5;124mRock\u001B[39m\u001B[38;5;124m'\u001B[39m\u001B[38;5;124m)\u001B[39m\u001B[38;5;124m\"\u001B[39m )\n",
      "\u001B[1;31mNameError\u001B[0m: name 'pokemon_df' is not defined"
     ]
    }
   ],
   "source": [
    "min_ab = 500\n",
    "\n",
    "baseball.query('ab > @min_ab')\n",
    "grass_pokemon = pokemon_df.query(\"(`Class 1` == 'Grass' & `Class 2` != 'Rock') | (`Class 2` == 'Grass' & `Class 1` != 'Rock')\" )"
   ],
   "metadata": {
    "collapsed": false,
    "ExecuteTime": {
     "end_time": "2024-01-04T15:14:39.035422700Z",
     "start_time": "2024-01-04T15:14:38.986471600Z"
    }
   }
  },
  {
   "cell_type": "markdown",
   "source": [
    "### Operations"
   ],
   "metadata": {
    "collapsed": false
   }
  },
  {
   "cell_type": "code",
   "execution_count": 45,
   "outputs": [
    {
     "data": {
      "text/plain": "15"
     },
     "execution_count": 45,
     "metadata": {},
     "output_type": "execute_result"
    }
   ],
   "source": [
    "len(baseball[baseball.team.isin(['LAN', 'SFN'])])"
   ],
   "metadata": {
    "collapsed": false,
    "ExecuteTime": {
     "end_time": "2024-01-04T15:14:41.907066700Z",
     "start_time": "2024-01-04T15:14:41.898366200Z"
    }
   }
  },
  {
   "cell_type": "code",
   "execution_count": 46,
   "outputs": [
    {
     "data": {
      "text/plain": "id\n89177     0\n89178     1\n89330    10\n89333     0\n89334     1\n         ..\n89525     0\n89526     0\n89530     3\n89533    13\n89534     0\nName: hr, Length: 92, dtype: int64"
     },
     "execution_count": 46,
     "metadata": {},
     "output_type": "execute_result"
    }
   ],
   "source": [
    "hr2007 = baseball.loc[baseball.year==2007, 'hr']\n",
    "hr2007[hr2007.notnull()]"
   ],
   "metadata": {
    "collapsed": false,
    "ExecuteTime": {
     "end_time": "2024-01-04T15:14:42.307323900Z",
     "start_time": "2024-01-04T15:14:42.284788500Z"
    }
   }
  },
  {
   "cell_type": "code",
   "execution_count": 47,
   "outputs": [
    {
     "data": {
      "text/plain": "id\n88641     1.0\n88643     0.0\n88645     0.0\n88649     0.0\n88650     0.0\n88652     6.0\n88653    15.0\n88662     0.0\n89177     0.0\n89178     1.0\n89330    10.0\n89333     0.0\n89334     1.0\n89335     0.0\n89336     0.0\n89337     4.0\n89338     0.0\n89339     0.0\n89340     0.0\n89341     0.0\nName: hr, dtype: float64"
     },
     "execution_count": 47,
     "metadata": {},
     "output_type": "execute_result"
    }
   ],
   "source": [
    "hr2006 = baseball.loc[baseball.year==2006, 'hr']\n",
    "hr2007.add(hr2006, fill_value=0).head(20) # Fill Nan value as 0.0"
   ],
   "metadata": {
    "collapsed": false,
    "ExecuteTime": {
     "end_time": "2024-01-04T15:14:42.601679500Z",
     "start_time": "2024-01-04T15:14:42.598632300Z"
    }
   }
  },
  {
   "cell_type": "code",
   "execution_count": 48,
   "outputs": [
    {
     "data": {
      "text/plain": "id\n88641   -34\n88643   -35\n88645   -35\n88649   -35\n88650   -35\n88652   -29\n88653   -20\n88662   -35\n89177   -35\n89178   -34\n89330   -25\n89333   -35\n89334   -34\n89335   -35\n89336   -35\n89337   -31\n89338   -35\n89339   -35\n89340   -35\n89341   -35\nName: hr, dtype: int64"
     },
     "execution_count": 48,
     "metadata": {},
     "output_type": "execute_result"
    }
   ],
   "source": [
    "(baseball.hr - baseball.hr.max()).head(20)"
   ],
   "metadata": {
    "collapsed": false,
    "ExecuteTime": {
     "end_time": "2024-01-04T15:14:43.154616200Z",
     "start_time": "2024-01-04T15:14:43.112047900Z"
    }
   }
  },
  {
   "cell_type": "code",
   "execution_count": 49,
   "outputs": [],
   "source": [
    "baseball['obp']=baseball.apply(lambda p: (p.h+p.bb+p.hbp)/(p.ab+p.bb+p.hbp+p.sf) if (p.ab+p.bb+p.hbp+p.sf) != 0.0 else 0.0, axis=1)"
   ],
   "metadata": {
    "collapsed": false,
    "ExecuteTime": {
     "end_time": "2024-01-04T15:14:43.514843600Z",
     "start_time": "2024-01-04T15:14:43.482794Z"
    }
   }
  },
  {
   "cell_type": "code",
   "execution_count": 50,
   "outputs": [
    {
     "data": {
      "text/plain": "Firmicutes         632\nProteobacteria    1638\nActinobacteria     569\nBacteroidetes      115\ndtype: int64"
     },
     "execution_count": 50,
     "metadata": {},
     "output_type": "execute_result"
    }
   ],
   "source": [
    "bacteria.fillna(0)"
   ],
   "metadata": {
    "collapsed": false,
    "ExecuteTime": {
     "end_time": "2024-01-04T15:14:43.931649400Z",
     "start_time": "2024-01-04T15:14:43.886194900Z"
    }
   }
  },
  {
   "cell_type": "code",
   "execution_count": 51,
   "outputs": [
    {
     "data": {
      "text/plain": "   value  patient          phylum  treatment\n0    632        1      Firmicutes        0.0\n1   1638        1  Proteobacteria        0.0\n2    569        1  Actinobacteria        0.0\n3    115        1   Bacteroidetes        0.0\n4    433        2      Firmicutes        1.0\n5   1130        2  Proteobacteria        1.0\n6    754        2  Actinobacteria        2.0\n7    555        2   Bacteroidetes        2.0",
      "text/html": "<div>\n<style scoped>\n    .dataframe tbody tr th:only-of-type {\n        vertical-align: middle;\n    }\n\n    .dataframe tbody tr th {\n        vertical-align: top;\n    }\n\n    .dataframe thead th {\n        text-align: right;\n    }\n</style>\n<table border=\"1\" class=\"dataframe\">\n  <thead>\n    <tr style=\"text-align: right;\">\n      <th></th>\n      <th>value</th>\n      <th>patient</th>\n      <th>phylum</th>\n      <th>treatment</th>\n    </tr>\n  </thead>\n  <tbody>\n    <tr>\n      <th>0</th>\n      <td>632</td>\n      <td>1</td>\n      <td>Firmicutes</td>\n      <td>0.0</td>\n    </tr>\n    <tr>\n      <th>1</th>\n      <td>1638</td>\n      <td>1</td>\n      <td>Proteobacteria</td>\n      <td>0.0</td>\n    </tr>\n    <tr>\n      <th>2</th>\n      <td>569</td>\n      <td>1</td>\n      <td>Actinobacteria</td>\n      <td>0.0</td>\n    </tr>\n    <tr>\n      <th>3</th>\n      <td>115</td>\n      <td>1</td>\n      <td>Bacteroidetes</td>\n      <td>0.0</td>\n    </tr>\n    <tr>\n      <th>4</th>\n      <td>433</td>\n      <td>2</td>\n      <td>Firmicutes</td>\n      <td>1.0</td>\n    </tr>\n    <tr>\n      <th>5</th>\n      <td>1130</td>\n      <td>2</td>\n      <td>Proteobacteria</td>\n      <td>1.0</td>\n    </tr>\n    <tr>\n      <th>6</th>\n      <td>754</td>\n      <td>2</td>\n      <td>Actinobacteria</td>\n      <td>2.0</td>\n    </tr>\n    <tr>\n      <th>7</th>\n      <td>555</td>\n      <td>2</td>\n      <td>Bacteroidetes</td>\n      <td>2.0</td>\n    </tr>\n  </tbody>\n</table>\n</div>"
     },
     "execution_count": 51,
     "metadata": {},
     "output_type": "execute_result"
    }
   ],
   "source": [
    "data.fillna({'year': 2013, 'treatment':2})"
   ],
   "metadata": {
    "collapsed": false,
    "ExecuteTime": {
     "end_time": "2024-01-04T15:14:44.204700Z",
     "start_time": "2024-01-04T15:14:44.169865400Z"
    }
   }
  },
  {
   "cell_type": "code",
   "execution_count": 52,
   "outputs": [
    {
     "data": {
      "text/plain": "   value  patient          phylum  treatment\n0    632        1      Firmicutes        0.0\n1   1638        1  Proteobacteria        0.0\n2    569        1  Actinobacteria        0.0\n3    115        1   Bacteroidetes        0.0\n4    433        2      Firmicutes        1.0\n5   1130        2  Proteobacteria        1.0\n6    754        2  Actinobacteria        2.0\n7    555        2   Bacteroidetes        2.0",
      "text/html": "<div>\n<style scoped>\n    .dataframe tbody tr th:only-of-type {\n        vertical-align: middle;\n    }\n\n    .dataframe tbody tr th {\n        vertical-align: top;\n    }\n\n    .dataframe thead th {\n        text-align: right;\n    }\n</style>\n<table border=\"1\" class=\"dataframe\">\n  <thead>\n    <tr style=\"text-align: right;\">\n      <th></th>\n      <th>value</th>\n      <th>patient</th>\n      <th>phylum</th>\n      <th>treatment</th>\n    </tr>\n  </thead>\n  <tbody>\n    <tr>\n      <th>0</th>\n      <td>632</td>\n      <td>1</td>\n      <td>Firmicutes</td>\n      <td>0.0</td>\n    </tr>\n    <tr>\n      <th>1</th>\n      <td>1638</td>\n      <td>1</td>\n      <td>Proteobacteria</td>\n      <td>0.0</td>\n    </tr>\n    <tr>\n      <th>2</th>\n      <td>569</td>\n      <td>1</td>\n      <td>Actinobacteria</td>\n      <td>0.0</td>\n    </tr>\n    <tr>\n      <th>3</th>\n      <td>115</td>\n      <td>1</td>\n      <td>Bacteroidetes</td>\n      <td>0.0</td>\n    </tr>\n    <tr>\n      <th>4</th>\n      <td>433</td>\n      <td>2</td>\n      <td>Firmicutes</td>\n      <td>1.0</td>\n    </tr>\n    <tr>\n      <th>5</th>\n      <td>1130</td>\n      <td>2</td>\n      <td>Proteobacteria</td>\n      <td>1.0</td>\n    </tr>\n    <tr>\n      <th>6</th>\n      <td>754</td>\n      <td>2</td>\n      <td>Actinobacteria</td>\n      <td>2.0</td>\n    </tr>\n    <tr>\n      <th>7</th>\n      <td>555</td>\n      <td>2</td>\n      <td>Bacteroidetes</td>\n      <td>2.0</td>\n    </tr>\n  </tbody>\n</table>\n</div>"
     },
     "execution_count": 52,
     "metadata": {},
     "output_type": "execute_result"
    }
   ],
   "source": [
    "data['treatment'].fillna(2, inplace=True)\n",
    "data"
   ],
   "metadata": {
    "collapsed": false,
    "ExecuteTime": {
     "end_time": "2024-01-04T15:14:44.683346100Z",
     "start_time": "2024-01-04T15:14:44.660471800Z"
    }
   }
  },
  {
   "cell_type": "code",
   "execution_count": 53,
   "outputs": [
    {
     "name": "stderr",
     "output_type": "stream",
     "text": [
      "C:\\Users\\xagao\\AppData\\Local\\Temp\\ipykernel_27628\\2655686349.py:1: FutureWarning: Series.fillna with 'method' is deprecated and will raise in a future version. Use obj.ffill() or obj.bfill() instead.\n",
      "  bacteria.fillna(method='bfill') #Fill by interpolation\n"
     ]
    },
    {
     "data": {
      "text/plain": "Firmicutes         632\nProteobacteria    1638\nActinobacteria     569\nBacteroidetes      115\ndtype: int64"
     },
     "execution_count": 53,
     "metadata": {},
     "output_type": "execute_result"
    }
   ],
   "source": [
    "bacteria.fillna(method='bfill') #Fill by interpolation"
   ],
   "metadata": {
    "collapsed": false,
    "ExecuteTime": {
     "end_time": "2024-01-04T15:14:44.974907500Z",
     "start_time": "2024-01-04T15:14:44.875992400Z"
    }
   }
  },
  {
   "cell_type": "markdown",
   "source": [
    "### Sorting"
   ],
   "metadata": {
    "collapsed": false
   }
  },
  {
   "cell_type": "code",
   "execution_count": 54,
   "outputs": [
    {
     "data": {
      "text/plain": "       year team  stint    so   sh   sf   sb   rbi   r     player  ...  hr  \\\nid                                                                 ...       \n88641  2006  CHN      2   4.0  3.0  0.0  1.0   2.0   6  womacto01  ...   1   \n88643  2006  BOS      1   1.0  0.0  0.0  0.0   0.0   0  schilcu01  ...   0   \n88645  2006  NYA      1   0.0  0.0  0.0  0.0   0.0   0  myersmi01  ...   0   \n88649  2006  MIL      1   2.0  0.0  0.0  0.0   0.0   0  helliri01  ...   0   \n88650  2006  NYA      1   4.0  0.0  0.0  0.0   0.0   0  johnsra05  ...   0   \n...     ...  ...    ...   ...  ...  ...  ...   ...  ..        ...  ...  ..   \n89525  2007  FLO      2   0.0  0.0  0.0  0.0   0.0   0  benitar01  ...   0   \n89526  2007  SFN      1   0.0  0.0  0.0  0.0   0.0   0  benitar01  ...   0   \n89530  2007  HOU      1  74.0  4.0  1.0  6.0  25.0  38  ausmubr01  ...   3   \n89533  2007  NYN      1  30.0  0.0  3.0  3.0  49.0  51   aloumo01  ...  13   \n89534  2007  NYN      1   3.0  0.0  0.0  0.0   0.0   1  alomasa02  ...   0   \n\n       hbp    h  gidp    g   cs  bb   ab  X3b  X2b  \nid                                                  \n88641  0.0   14   0.0   19  1.0   4   50    0    1  \n88643  0.0    1   0.0   31  0.0   0    2    0    0  \n88645  0.0    0   0.0   62  0.0   0    0    0    0  \n88649  0.0    0   0.0   20  0.0   0    3    0    0  \n88650  0.0    1   0.0   33  0.0   0    6    0    0  \n...    ...  ...   ...  ...  ...  ..  ...  ...  ...  \n89525  0.0    0   0.0   34  0.0   0    0    0    0  \n89526  0.0    0   0.0   19  0.0   0    0    0    0  \n89530  6.0   82  11.0  117  1.0  37  349    3   16  \n89533  2.0  112  13.0   87  0.0  27  328    1   19  \n89534  0.0    3   0.0    8  0.0   0   22    0    1  \n\n[100 rows x 23 columns]",
      "text/html": "<div>\n<style scoped>\n    .dataframe tbody tr th:only-of-type {\n        vertical-align: middle;\n    }\n\n    .dataframe tbody tr th {\n        vertical-align: top;\n    }\n\n    .dataframe thead th {\n        text-align: right;\n    }\n</style>\n<table border=\"1\" class=\"dataframe\">\n  <thead>\n    <tr style=\"text-align: right;\">\n      <th></th>\n      <th>year</th>\n      <th>team</th>\n      <th>stint</th>\n      <th>so</th>\n      <th>sh</th>\n      <th>sf</th>\n      <th>sb</th>\n      <th>rbi</th>\n      <th>r</th>\n      <th>player</th>\n      <th>...</th>\n      <th>hr</th>\n      <th>hbp</th>\n      <th>h</th>\n      <th>gidp</th>\n      <th>g</th>\n      <th>cs</th>\n      <th>bb</th>\n      <th>ab</th>\n      <th>X3b</th>\n      <th>X2b</th>\n    </tr>\n    <tr>\n      <th>id</th>\n      <th></th>\n      <th></th>\n      <th></th>\n      <th></th>\n      <th></th>\n      <th></th>\n      <th></th>\n      <th></th>\n      <th></th>\n      <th></th>\n      <th></th>\n      <th></th>\n      <th></th>\n      <th></th>\n      <th></th>\n      <th></th>\n      <th></th>\n      <th></th>\n      <th></th>\n      <th></th>\n      <th></th>\n    </tr>\n  </thead>\n  <tbody>\n    <tr>\n      <th>88641</th>\n      <td>2006</td>\n      <td>CHN</td>\n      <td>2</td>\n      <td>4.0</td>\n      <td>3.0</td>\n      <td>0.0</td>\n      <td>1.0</td>\n      <td>2.0</td>\n      <td>6</td>\n      <td>womacto01</td>\n      <td>...</td>\n      <td>1</td>\n      <td>0.0</td>\n      <td>14</td>\n      <td>0.0</td>\n      <td>19</td>\n      <td>1.0</td>\n      <td>4</td>\n      <td>50</td>\n      <td>0</td>\n      <td>1</td>\n    </tr>\n    <tr>\n      <th>88643</th>\n      <td>2006</td>\n      <td>BOS</td>\n      <td>1</td>\n      <td>1.0</td>\n      <td>0.0</td>\n      <td>0.0</td>\n      <td>0.0</td>\n      <td>0.0</td>\n      <td>0</td>\n      <td>schilcu01</td>\n      <td>...</td>\n      <td>0</td>\n      <td>0.0</td>\n      <td>1</td>\n      <td>0.0</td>\n      <td>31</td>\n      <td>0.0</td>\n      <td>0</td>\n      <td>2</td>\n      <td>0</td>\n      <td>0</td>\n    </tr>\n    <tr>\n      <th>88645</th>\n      <td>2006</td>\n      <td>NYA</td>\n      <td>1</td>\n      <td>0.0</td>\n      <td>0.0</td>\n      <td>0.0</td>\n      <td>0.0</td>\n      <td>0.0</td>\n      <td>0</td>\n      <td>myersmi01</td>\n      <td>...</td>\n      <td>0</td>\n      <td>0.0</td>\n      <td>0</td>\n      <td>0.0</td>\n      <td>62</td>\n      <td>0.0</td>\n      <td>0</td>\n      <td>0</td>\n      <td>0</td>\n      <td>0</td>\n    </tr>\n    <tr>\n      <th>88649</th>\n      <td>2006</td>\n      <td>MIL</td>\n      <td>1</td>\n      <td>2.0</td>\n      <td>0.0</td>\n      <td>0.0</td>\n      <td>0.0</td>\n      <td>0.0</td>\n      <td>0</td>\n      <td>helliri01</td>\n      <td>...</td>\n      <td>0</td>\n      <td>0.0</td>\n      <td>0</td>\n      <td>0.0</td>\n      <td>20</td>\n      <td>0.0</td>\n      <td>0</td>\n      <td>3</td>\n      <td>0</td>\n      <td>0</td>\n    </tr>\n    <tr>\n      <th>88650</th>\n      <td>2006</td>\n      <td>NYA</td>\n      <td>1</td>\n      <td>4.0</td>\n      <td>0.0</td>\n      <td>0.0</td>\n      <td>0.0</td>\n      <td>0.0</td>\n      <td>0</td>\n      <td>johnsra05</td>\n      <td>...</td>\n      <td>0</td>\n      <td>0.0</td>\n      <td>1</td>\n      <td>0.0</td>\n      <td>33</td>\n      <td>0.0</td>\n      <td>0</td>\n      <td>6</td>\n      <td>0</td>\n      <td>0</td>\n    </tr>\n    <tr>\n      <th>...</th>\n      <td>...</td>\n      <td>...</td>\n      <td>...</td>\n      <td>...</td>\n      <td>...</td>\n      <td>...</td>\n      <td>...</td>\n      <td>...</td>\n      <td>...</td>\n      <td>...</td>\n      <td>...</td>\n      <td>...</td>\n      <td>...</td>\n      <td>...</td>\n      <td>...</td>\n      <td>...</td>\n      <td>...</td>\n      <td>...</td>\n      <td>...</td>\n      <td>...</td>\n      <td>...</td>\n    </tr>\n    <tr>\n      <th>89525</th>\n      <td>2007</td>\n      <td>FLO</td>\n      <td>2</td>\n      <td>0.0</td>\n      <td>0.0</td>\n      <td>0.0</td>\n      <td>0.0</td>\n      <td>0.0</td>\n      <td>0</td>\n      <td>benitar01</td>\n      <td>...</td>\n      <td>0</td>\n      <td>0.0</td>\n      <td>0</td>\n      <td>0.0</td>\n      <td>34</td>\n      <td>0.0</td>\n      <td>0</td>\n      <td>0</td>\n      <td>0</td>\n      <td>0</td>\n    </tr>\n    <tr>\n      <th>89526</th>\n      <td>2007</td>\n      <td>SFN</td>\n      <td>1</td>\n      <td>0.0</td>\n      <td>0.0</td>\n      <td>0.0</td>\n      <td>0.0</td>\n      <td>0.0</td>\n      <td>0</td>\n      <td>benitar01</td>\n      <td>...</td>\n      <td>0</td>\n      <td>0.0</td>\n      <td>0</td>\n      <td>0.0</td>\n      <td>19</td>\n      <td>0.0</td>\n      <td>0</td>\n      <td>0</td>\n      <td>0</td>\n      <td>0</td>\n    </tr>\n    <tr>\n      <th>89530</th>\n      <td>2007</td>\n      <td>HOU</td>\n      <td>1</td>\n      <td>74.0</td>\n      <td>4.0</td>\n      <td>1.0</td>\n      <td>6.0</td>\n      <td>25.0</td>\n      <td>38</td>\n      <td>ausmubr01</td>\n      <td>...</td>\n      <td>3</td>\n      <td>6.0</td>\n      <td>82</td>\n      <td>11.0</td>\n      <td>117</td>\n      <td>1.0</td>\n      <td>37</td>\n      <td>349</td>\n      <td>3</td>\n      <td>16</td>\n    </tr>\n    <tr>\n      <th>89533</th>\n      <td>2007</td>\n      <td>NYN</td>\n      <td>1</td>\n      <td>30.0</td>\n      <td>0.0</td>\n      <td>3.0</td>\n      <td>3.0</td>\n      <td>49.0</td>\n      <td>51</td>\n      <td>aloumo01</td>\n      <td>...</td>\n      <td>13</td>\n      <td>2.0</td>\n      <td>112</td>\n      <td>13.0</td>\n      <td>87</td>\n      <td>0.0</td>\n      <td>27</td>\n      <td>328</td>\n      <td>1</td>\n      <td>19</td>\n    </tr>\n    <tr>\n      <th>89534</th>\n      <td>2007</td>\n      <td>NYN</td>\n      <td>1</td>\n      <td>3.0</td>\n      <td>0.0</td>\n      <td>0.0</td>\n      <td>0.0</td>\n      <td>0.0</td>\n      <td>1</td>\n      <td>alomasa02</td>\n      <td>...</td>\n      <td>0</td>\n      <td>0.0</td>\n      <td>3</td>\n      <td>0.0</td>\n      <td>8</td>\n      <td>0.0</td>\n      <td>0</td>\n      <td>22</td>\n      <td>0</td>\n      <td>1</td>\n    </tr>\n  </tbody>\n</table>\n<p>100 rows × 23 columns</p>\n</div>"
     },
     "execution_count": 54,
     "metadata": {},
     "output_type": "execute_result"
    }
   ],
   "source": [
    "baseball.sort_index(ascending=False, axis=1)"
   ],
   "metadata": {
    "collapsed": false,
    "ExecuteTime": {
     "end_time": "2024-01-04T15:14:45.344585700Z",
     "start_time": "2024-01-04T15:14:45.311562700Z"
    }
   }
  },
  {
   "cell_type": "code",
   "execution_count": 55,
   "outputs": [
    {
     "data": {
      "text/plain": "          player    sb   cs\nid                         \n89378  sheffga01  22.0  5.0\n89430  loftoke01  21.0  4.0\n89347  vizquom01  14.0  6.0\n89463  greensh01  11.0  1.0\n88652  finlest01   7.0  0.0\n89462  griffke02   6.0  1.0\n89530  ausmubr01   6.0  1.0\n89466  gonzalu01   6.0  2.0\n89521  bondsba01   5.0  0.0\n89438  kleskry01   5.0  1.0",
      "text/html": "<div>\n<style scoped>\n    .dataframe tbody tr th:only-of-type {\n        vertical-align: middle;\n    }\n\n    .dataframe tbody tr th {\n        vertical-align: top;\n    }\n\n    .dataframe thead th {\n        text-align: right;\n    }\n</style>\n<table border=\"1\" class=\"dataframe\">\n  <thead>\n    <tr style=\"text-align: right;\">\n      <th></th>\n      <th>player</th>\n      <th>sb</th>\n      <th>cs</th>\n    </tr>\n    <tr>\n      <th>id</th>\n      <th></th>\n      <th></th>\n      <th></th>\n    </tr>\n  </thead>\n  <tbody>\n    <tr>\n      <th>89378</th>\n      <td>sheffga01</td>\n      <td>22.0</td>\n      <td>5.0</td>\n    </tr>\n    <tr>\n      <th>89430</th>\n      <td>loftoke01</td>\n      <td>21.0</td>\n      <td>4.0</td>\n    </tr>\n    <tr>\n      <th>89347</th>\n      <td>vizquom01</td>\n      <td>14.0</td>\n      <td>6.0</td>\n    </tr>\n    <tr>\n      <th>89463</th>\n      <td>greensh01</td>\n      <td>11.0</td>\n      <td>1.0</td>\n    </tr>\n    <tr>\n      <th>88652</th>\n      <td>finlest01</td>\n      <td>7.0</td>\n      <td>0.0</td>\n    </tr>\n    <tr>\n      <th>89462</th>\n      <td>griffke02</td>\n      <td>6.0</td>\n      <td>1.0</td>\n    </tr>\n    <tr>\n      <th>89530</th>\n      <td>ausmubr01</td>\n      <td>6.0</td>\n      <td>1.0</td>\n    </tr>\n    <tr>\n      <th>89466</th>\n      <td>gonzalu01</td>\n      <td>6.0</td>\n      <td>2.0</td>\n    </tr>\n    <tr>\n      <th>89521</th>\n      <td>bondsba01</td>\n      <td>5.0</td>\n      <td>0.0</td>\n    </tr>\n    <tr>\n      <th>89438</th>\n      <td>kleskry01</td>\n      <td>5.0</td>\n      <td>1.0</td>\n    </tr>\n  </tbody>\n</table>\n</div>"
     },
     "execution_count": 55,
     "metadata": {},
     "output_type": "execute_result"
    }
   ],
   "source": [
    "baseball[['player','sb','cs']].sort_values(ascending=[False,True],\n",
    "                                           by=['sb', 'cs']).head(10)"
   ],
   "metadata": {
    "collapsed": false,
    "ExecuteTime": {
     "end_time": "2024-01-04T15:14:45.789640200Z",
     "start_time": "2024-01-04T15:14:45.759216300Z"
    }
   }
  },
  {
   "cell_type": "markdown",
   "source": [
    "### Summarization"
   ],
   "metadata": {
    "collapsed": false
   }
  },
  {
   "cell_type": "code",
   "execution_count": 56,
   "outputs": [
    {
     "data": {
      "text/plain": "id\n88641    105.716667\n88643    102.125000\n88645    103.450000\n88649    101.600000\n88650    102.558333\n            ...    \n89525    102.150000\n89526    101.350000\n89530    139.215903\n89533    137.569583\n89534    102.306818\nLength: 100, dtype: float64"
     },
     "execution_count": 56,
     "metadata": {},
     "output_type": "execute_result"
    }
   ],
   "source": [
    "baseball.mean(numeric_only=True, axis=1)"
   ],
   "metadata": {
    "collapsed": false,
    "ExecuteTime": {
     "end_time": "2024-01-04T15:14:46.532555300Z",
     "start_time": "2024-01-04T15:14:46.511154200Z"
    }
   }
  },
  {
   "cell_type": "code",
   "execution_count": 57,
   "outputs": [
    {
     "data": {
      "text/plain": "69.07646464646454"
     },
     "execution_count": 57,
     "metadata": {},
     "output_type": "execute_result"
    }
   ],
   "source": [
    "baseball.hr.cov(baseball.X2b)"
   ],
   "metadata": {
    "collapsed": false,
    "ExecuteTime": {
     "end_time": "2024-01-04T15:14:46.888677500Z",
     "start_time": "2024-01-04T15:14:46.828654600Z"
    }
   }
  },
  {
   "cell_type": "markdown",
   "source": [
    "### Plot"
   ],
   "metadata": {
    "collapsed": false
   }
  },
  {
   "cell_type": "code",
   "execution_count": 58,
   "outputs": [
    {
     "data": {
      "text/plain": "<Axes: >"
     },
     "execution_count": 58,
     "metadata": {},
     "output_type": "execute_result"
    },
    {
     "data": {
      "text/plain": "<Figure size 640x480 with 1 Axes>",
      "image/png": "[encoded data removed]"
     },
     "metadata": {},
     "output_type": "display_data"
    }
   ],
   "source": [
    "segments.seg_length.apply(np.log).hist(bins=500)"
   ],
   "metadata": {
    "collapsed": false,
    "ExecuteTime": {
     "end_time": "2024-01-04T15:14:47.915143700Z",
     "start_time": "2024-01-04T15:14:47.337544800Z"
    }
   }
  },
  {
   "cell_type": "markdown",
   "source": [
    "### Parse Date"
   ],
   "metadata": {
    "collapsed": false
   }
  },
  {
   "cell_type": "code",
   "execution_count": 59,
   "outputs": [],
   "source": [
    "segments = pd.read_csv(\"01 - Handling data/Data/transit_segments.csv\", parse_dates=['st_time', 'end_time'], date_format='%m/%d/%y %H:%M', nrows=1000)"
   ],
   "metadata": {
    "collapsed": false,
    "ExecuteTime": {
     "end_time": "2024-01-04T15:14:48.929750Z",
     "start_time": "2024-01-04T15:14:48.735124900Z"
    }
   }
  },
  {
   "cell_type": "markdown",
   "source": [
    "### Merge"
   ],
   "metadata": {
    "collapsed": false
   }
  },
  {
   "cell_type": "code",
   "execution_count": 60,
   "outputs": [
    {
     "data": {
      "text/plain": "   id  age     score\n0   0   30  0.093788\n1   0   30  0.737766\n2   1   30  0.304246\n3   1   30  0.909712\n4   2   29  0.457985\n5   2   29  0.862435\n6   3   28       NaN",
      "text/html": "<div>\n<style scoped>\n    .dataframe tbody tr th:only-of-type {\n        vertical-align: middle;\n    }\n\n    .dataframe tbody tr th {\n        vertical-align: top;\n    }\n\n    .dataframe thead th {\n        text-align: right;\n    }\n</style>\n<table border=\"1\" class=\"dataframe\">\n  <thead>\n    <tr style=\"text-align: right;\">\n      <th></th>\n      <th>id</th>\n      <th>age</th>\n      <th>score</th>\n    </tr>\n  </thead>\n  <tbody>\n    <tr>\n      <th>0</th>\n      <td>0</td>\n      <td>30</td>\n      <td>0.093788</td>\n    </tr>\n    <tr>\n      <th>1</th>\n      <td>0</td>\n      <td>30</td>\n      <td>0.737766</td>\n    </tr>\n    <tr>\n      <th>2</th>\n      <td>1</td>\n      <td>30</td>\n      <td>0.304246</td>\n    </tr>\n    <tr>\n      <th>3</th>\n      <td>1</td>\n      <td>30</td>\n      <td>0.909712</td>\n    </tr>\n    <tr>\n      <th>4</th>\n      <td>2</td>\n      <td>29</td>\n      <td>0.457985</td>\n    </tr>\n    <tr>\n      <th>5</th>\n      <td>2</td>\n      <td>29</td>\n      <td>0.862435</td>\n    </tr>\n    <tr>\n      <th>6</th>\n      <td>3</td>\n      <td>28</td>\n      <td>NaN</td>\n    </tr>\n  </tbody>\n</table>\n</div>"
     },
     "execution_count": 60,
     "metadata": {},
     "output_type": "execute_result"
    }
   ],
   "source": [
    "df1 = pd.DataFrame(dict(id=range(4), age=np.random.randint(18, 31, size=4)))\n",
    "df2 = pd.DataFrame(dict(id=list(range(3))+list(range(3)),\n",
    "                        score=np.random.random(size=6)))\n",
    "\n",
    "pd.merge(df1, df2, how='outer')"
   ],
   "metadata": {
    "collapsed": false,
    "ExecuteTime": {
     "end_time": "2024-01-04T15:14:49.669022800Z",
     "start_time": "2024-01-04T15:14:49.649871200Z"
    }
   }
  },
  {
   "cell_type": "markdown",
   "source": [
    "### Concatenation"
   ],
   "metadata": {
    "collapsed": false
   }
  },
  {
   "cell_type": "code",
   "execution_count": 61,
   "outputs": [
    {
     "data": {
      "text/plain": "                                                    Count  Count\nTaxon                                                           \nArchaea \"Crenarchaeota\" Thermoprotei Desulfuroc...    7.0   23.0\nArchaea \"Crenarchaeota\" Thermoprotei Desulfuroc...    2.0    2.0\nArchaea \"Crenarchaeota\" Thermoprotei Sulfolobal...    3.0   10.0\nArchaea \"Crenarchaeota\" Thermoprotei Thermoprot...    3.0    9.0\nArchaea \"Euryarchaeota\" \"Methanomicrobia\" Metha...    7.0    9.0\n...                                                   ...    ...\nBacteria \"Proteobacteria\" Gammaproteobacteria O...    NaN    1.0\nBacteria \"Proteobacteria\" Gammaproteobacteria T...    NaN    9.0\nBacteria \"Proteobacteria\" Gammaproteobacteria T...    NaN    1.0\nBacteria \"Thermodesulfobacteria\" Thermodesulfob...    NaN    3.0\nBacteria TM7    TM7_genera_incertae_sedis             NaN    2.0\n\n[438 rows x 2 columns]",
      "text/html": "<div>\n<style scoped>\n    .dataframe tbody tr th:only-of-type {\n        vertical-align: middle;\n    }\n\n    .dataframe tbody tr th {\n        vertical-align: top;\n    }\n\n    .dataframe thead th {\n        text-align: right;\n    }\n</style>\n<table border=\"1\" class=\"dataframe\">\n  <thead>\n    <tr style=\"text-align: right;\">\n      <th></th>\n      <th>Count</th>\n      <th>Count</th>\n    </tr>\n    <tr>\n      <th>Taxon</th>\n      <th></th>\n      <th></th>\n    </tr>\n  </thead>\n  <tbody>\n    <tr>\n      <th>Archaea \"Crenarchaeota\" Thermoprotei Desulfurococcales Desulfurococcaceae Ignisphaera</th>\n      <td>7.0</td>\n      <td>23.0</td>\n    </tr>\n    <tr>\n      <th>Archaea \"Crenarchaeota\" Thermoprotei Desulfurococcales Pyrodictiaceae Pyrolobus</th>\n      <td>2.0</td>\n      <td>2.0</td>\n    </tr>\n    <tr>\n      <th>Archaea \"Crenarchaeota\" Thermoprotei Sulfolobales Sulfolobaceae Stygiolobus</th>\n      <td>3.0</td>\n      <td>10.0</td>\n    </tr>\n    <tr>\n      <th>Archaea \"Crenarchaeota\" Thermoprotei Thermoproteales Thermofilaceae Thermofilum</th>\n      <td>3.0</td>\n      <td>9.0</td>\n    </tr>\n    <tr>\n      <th>Archaea \"Euryarchaeota\" \"Methanomicrobia\" Methanocellales Methanocellaceae Methanocella</th>\n      <td>7.0</td>\n      <td>9.0</td>\n    </tr>\n    <tr>\n      <th>...</th>\n      <td>...</td>\n      <td>...</td>\n    </tr>\n    <tr>\n      <th>Bacteria \"Proteobacteria\" Gammaproteobacteria Oceanospirillales Oceanospirillales_incertae_sedis Spongiispira</th>\n      <td>NaN</td>\n      <td>1.0</td>\n    </tr>\n    <tr>\n      <th>Bacteria \"Proteobacteria\" Gammaproteobacteria Thiotrichales Piscirickettsiaceae Hydrogenovibrio</th>\n      <td>NaN</td>\n      <td>9.0</td>\n    </tr>\n    <tr>\n      <th>Bacteria \"Proteobacteria\" Gammaproteobacteria Thiotrichales Piscirickettsiaceae Sulfurivirga</th>\n      <td>NaN</td>\n      <td>1.0</td>\n    </tr>\n    <tr>\n      <th>Bacteria \"Thermodesulfobacteria\" Thermodesulfobacteria Thermodesulfobacteriales Thermodesulfobacteriaceae Thermodesulfatator</th>\n      <td>NaN</td>\n      <td>3.0</td>\n    </tr>\n    <tr>\n      <th>Bacteria TM7    TM7_genera_incertae_sedis</th>\n      <td>NaN</td>\n      <td>2.0</td>\n    </tr>\n  </tbody>\n</table>\n<p>438 rows × 2 columns</p>\n</div>"
     },
     "execution_count": 61,
     "metadata": {},
     "output_type": "execute_result"
    }
   ],
   "source": [
    "mb1 = pd.read_excel('01 - Handling data/Data/microbiome_MID1.xls', 'Sheet 1', index_col=0, header=None)\n",
    "mb2 = pd.read_excel('01 - Handling data/Data/microbiome_MID2.xls', 'Sheet 1', index_col=0, header=None)\n",
    "mb1.columns = mb2.columns = ['Count']\n",
    "mb1.index.name = mb2.index.name = 'Taxon'\n",
    "\n",
    "pd.concat([mb1, mb2], axis=1) #axis = 1 -> column-wise"
   ],
   "metadata": {
    "collapsed": false,
    "ExecuteTime": {
     "end_time": "2024-01-04T15:14:50.611018400Z",
     "start_time": "2024-01-04T15:14:50.542548700Z"
    }
   }
  },
  {
   "cell_type": "markdown",
   "source": [
    "### Reshape"
   ],
   "metadata": {
    "collapsed": false
   }
  },
  {
   "cell_type": "code",
   "execution_count": 62,
   "outputs": [
    {
     "data": {
      "text/plain": "0  value                   632\n   patient                   1\n   phylum           Firmicutes\n   treatment               0.0\n1  value                  1638\n   patient                   1\n   phylum       Proteobacteria\n   treatment               0.0\n2  value                   569\n   patient                   1\n   phylum       Actinobacteria\n   treatment               0.0\n3  value                   115\n   patient                   1\n   phylum        Bacteroidetes\n   treatment               0.0\n4  value                   433\n   patient                   2\n   phylum           Firmicutes\n   treatment               1.0\n5  value                  1130\n   patient                   2\n   phylum       Proteobacteria\n   treatment               1.0\n6  value                   754\n   patient                   2\n   phylum       Actinobacteria\n   treatment               2.0\n7  value                   555\n   patient                   2\n   phylum        Bacteroidetes\n   treatment               2.0\ndtype: object"
     },
     "execution_count": 62,
     "metadata": {},
     "output_type": "execute_result"
    }
   ],
   "source": [
    "data.stack() #.unstack() to undo"
   ],
   "metadata": {
    "collapsed": false,
    "ExecuteTime": {
     "end_time": "2024-01-04T15:14:51.557208200Z",
     "start_time": "2024-01-04T15:14:51.487545500Z"
    }
   }
  },
  {
   "cell_type": "code",
   "execution_count": 63,
   "outputs": [
    {
     "data": {
      "text/plain": "   patient  obs  week  site  id  treat  age sex  twstrs\n0        1    1     0     1   1  5000U   65   F      32\n1        1    2     2     1   1  5000U   65   F      30\n2        1    3     4     1   1  5000U   65   F      24\n3        1    4     8     1   1  5000U   65   F      37\n4        1    5    12     1   1  5000U   65   F      39",
      "text/html": "<div>\n<style scoped>\n    .dataframe tbody tr th:only-of-type {\n        vertical-align: middle;\n    }\n\n    .dataframe tbody tr th {\n        vertical-align: top;\n    }\n\n    .dataframe thead th {\n        text-align: right;\n    }\n</style>\n<table border=\"1\" class=\"dataframe\">\n  <thead>\n    <tr style=\"text-align: right;\">\n      <th></th>\n      <th>patient</th>\n      <th>obs</th>\n      <th>week</th>\n      <th>site</th>\n      <th>id</th>\n      <th>treat</th>\n      <th>age</th>\n      <th>sex</th>\n      <th>twstrs</th>\n    </tr>\n  </thead>\n  <tbody>\n    <tr>\n      <th>0</th>\n      <td>1</td>\n      <td>1</td>\n      <td>0</td>\n      <td>1</td>\n      <td>1</td>\n      <td>5000U</td>\n      <td>65</td>\n      <td>F</td>\n      <td>32</td>\n    </tr>\n    <tr>\n      <th>1</th>\n      <td>1</td>\n      <td>2</td>\n      <td>2</td>\n      <td>1</td>\n      <td>1</td>\n      <td>5000U</td>\n      <td>65</td>\n      <td>F</td>\n      <td>30</td>\n    </tr>\n    <tr>\n      <th>2</th>\n      <td>1</td>\n      <td>3</td>\n      <td>4</td>\n      <td>1</td>\n      <td>1</td>\n      <td>5000U</td>\n      <td>65</td>\n      <td>F</td>\n      <td>24</td>\n    </tr>\n    <tr>\n      <th>3</th>\n      <td>1</td>\n      <td>4</td>\n      <td>8</td>\n      <td>1</td>\n      <td>1</td>\n      <td>5000U</td>\n      <td>65</td>\n      <td>F</td>\n      <td>37</td>\n    </tr>\n    <tr>\n      <th>4</th>\n      <td>1</td>\n      <td>5</td>\n      <td>12</td>\n      <td>1</td>\n      <td>1</td>\n      <td>5000U</td>\n      <td>65</td>\n      <td>F</td>\n      <td>39</td>\n    </tr>\n  </tbody>\n</table>\n</div>"
     },
     "execution_count": 63,
     "metadata": {},
     "output_type": "execute_result"
    }
   ],
   "source": [
    "cdystonia.head()"
   ],
   "metadata": {
    "collapsed": false,
    "ExecuteTime": {
     "end_time": "2024-01-04T15:14:52.158444300Z",
     "start_time": "2024-01-04T15:14:51.947657600Z"
    }
   }
  },
  {
   "cell_type": "code",
   "execution_count": 64,
   "outputs": [
    {
     "data": {
      "text/plain": "week          0   2   4   8   12  16\nsite treat                          \n1    10000U   60  41  48  49  65  67\n     5000U    44  32  34  43  42  46\n     Placebo  53  61  64  62  32  38\n2    10000U   65  60  60  64  67  66\n     5000U    67  64  65  64  62  64\n     Placebo  53  56  52  57  61  54\n3    10000U   50  43  51  46  49  56\n     5000U    52  44  47  50  50  49\n     Placebo  43  38  40  48  49  44\n4    10000U   54  52  52  54  51  57",
      "text/html": "<div>\n<style scoped>\n    .dataframe tbody tr th:only-of-type {\n        vertical-align: middle;\n    }\n\n    .dataframe tbody tr th {\n        vertical-align: top;\n    }\n\n    .dataframe thead th {\n        text-align: right;\n    }\n</style>\n<table border=\"1\" class=\"dataframe\">\n  <thead>\n    <tr style=\"text-align: right;\">\n      <th></th>\n      <th>week</th>\n      <th>0</th>\n      <th>2</th>\n      <th>4</th>\n      <th>8</th>\n      <th>12</th>\n      <th>16</th>\n    </tr>\n    <tr>\n      <th>site</th>\n      <th>treat</th>\n      <th></th>\n      <th></th>\n      <th></th>\n      <th></th>\n      <th></th>\n      <th></th>\n    </tr>\n  </thead>\n  <tbody>\n    <tr>\n      <th rowspan=\"3\" valign=\"top\">1</th>\n      <th>10000U</th>\n      <td>60</td>\n      <td>41</td>\n      <td>48</td>\n      <td>49</td>\n      <td>65</td>\n      <td>67</td>\n    </tr>\n    <tr>\n      <th>5000U</th>\n      <td>44</td>\n      <td>32</td>\n      <td>34</td>\n      <td>43</td>\n      <td>42</td>\n      <td>46</td>\n    </tr>\n    <tr>\n      <th>Placebo</th>\n      <td>53</td>\n      <td>61</td>\n      <td>64</td>\n      <td>62</td>\n      <td>32</td>\n      <td>38</td>\n    </tr>\n    <tr>\n      <th rowspan=\"3\" valign=\"top\">2</th>\n      <th>10000U</th>\n      <td>65</td>\n      <td>60</td>\n      <td>60</td>\n      <td>64</td>\n      <td>67</td>\n      <td>66</td>\n    </tr>\n    <tr>\n      <th>5000U</th>\n      <td>67</td>\n      <td>64</td>\n      <td>65</td>\n      <td>64</td>\n      <td>62</td>\n      <td>64</td>\n    </tr>\n    <tr>\n      <th>Placebo</th>\n      <td>53</td>\n      <td>56</td>\n      <td>52</td>\n      <td>57</td>\n      <td>61</td>\n      <td>54</td>\n    </tr>\n    <tr>\n      <th rowspan=\"3\" valign=\"top\">3</th>\n      <th>10000U</th>\n      <td>50</td>\n      <td>43</td>\n      <td>51</td>\n      <td>46</td>\n      <td>49</td>\n      <td>56</td>\n    </tr>\n    <tr>\n      <th>5000U</th>\n      <td>52</td>\n      <td>44</td>\n      <td>47</td>\n      <td>50</td>\n      <td>50</td>\n      <td>49</td>\n    </tr>\n    <tr>\n      <th>Placebo</th>\n      <td>43</td>\n      <td>38</td>\n      <td>40</td>\n      <td>48</td>\n      <td>49</td>\n      <td>44</td>\n    </tr>\n    <tr>\n      <th>4</th>\n      <th>10000U</th>\n      <td>54</td>\n      <td>52</td>\n      <td>52</td>\n      <td>54</td>\n      <td>51</td>\n      <td>57</td>\n    </tr>\n  </tbody>\n</table>\n</div>"
     },
     "execution_count": 64,
     "metadata": {},
     "output_type": "execute_result"
    }
   ],
   "source": [
    "cdystonia.pivot_table(index=['site', 'treat'], columns='week', values='twstrs', aggfunc=\"max\").head(10)"
   ],
   "metadata": {
    "collapsed": false,
    "ExecuteTime": {
     "end_time": "2024-01-04T15:14:52.845602400Z",
     "start_time": "2024-01-04T15:14:52.722942900Z"
    }
   }
  },
  {
   "cell_type": "code",
   "execution_count": 65,
   "outputs": [
    {
     "data": {
      "text/plain": "site   1   2   3   4   5   6   7   8   9\nsex                                     \nF     52  53  42  30  22  54  66  48  28\nM     18  29  30  18  11  33   6  58  33",
      "text/html": "<div>\n<style scoped>\n    .dataframe tbody tr th:only-of-type {\n        vertical-align: middle;\n    }\n\n    .dataframe tbody tr th {\n        vertical-align: top;\n    }\n\n    .dataframe thead th {\n        text-align: right;\n    }\n</style>\n<table border=\"1\" class=\"dataframe\">\n  <thead>\n    <tr style=\"text-align: right;\">\n      <th>site</th>\n      <th>1</th>\n      <th>2</th>\n      <th>3</th>\n      <th>4</th>\n      <th>5</th>\n      <th>6</th>\n      <th>7</th>\n      <th>8</th>\n      <th>9</th>\n    </tr>\n    <tr>\n      <th>sex</th>\n      <th></th>\n      <th></th>\n      <th></th>\n      <th></th>\n      <th></th>\n      <th></th>\n      <th></th>\n      <th></th>\n      <th></th>\n    </tr>\n  </thead>\n  <tbody>\n    <tr>\n      <th>F</th>\n      <td>52</td>\n      <td>53</td>\n      <td>42</td>\n      <td>30</td>\n      <td>22</td>\n      <td>54</td>\n      <td>66</td>\n      <td>48</td>\n      <td>28</td>\n    </tr>\n    <tr>\n      <th>M</th>\n      <td>18</td>\n      <td>29</td>\n      <td>30</td>\n      <td>18</td>\n      <td>11</td>\n      <td>33</td>\n      <td>6</td>\n      <td>58</td>\n      <td>33</td>\n    </tr>\n  </tbody>\n</table>\n</div>"
     },
     "execution_count": 65,
     "metadata": {},
     "output_type": "execute_result"
    }
   ],
   "source": [
    "pd.crosstab(cdystonia.sex, cdystonia.site)"
   ],
   "metadata": {
    "collapsed": false,
    "ExecuteTime": {
     "end_time": "2024-01-04T15:14:53.624491700Z",
     "start_time": "2024-01-04T15:14:53.398738400Z"
    }
   }
  },
  {
   "cell_type": "markdown",
   "source": [
    "### Drop Duplicated"
   ],
   "metadata": {
    "collapsed": false
   }
  },
  {
   "cell_type": "code",
   "execution_count": 66,
   "outputs": [
    {
     "ename": "KeyError",
     "evalue": "Index(['names'], dtype='object')",
     "output_type": "error",
     "traceback": [
      "\u001B[1;31m---------------------------------------------------------------------------\u001B[0m",
      "\u001B[1;31mKeyError\u001B[0m                                  Traceback (most recent call last)",
      "\u001B[1;32m~\\AppData\\Local\\Temp\\ipykernel_27628\\1706153494.py\u001B[0m in \u001B[0;36m?\u001B[1;34m()\u001B[0m\n\u001B[1;32m----> 1\u001B[1;33m \u001B[0mdf\u001B[0m\u001B[1;33m.\u001B[0m\u001B[0mdrop_duplicates\u001B[0m\u001B[1;33m(\u001B[0m\u001B[1;33m[\u001B[0m\u001B[1;34m'names'\u001B[0m\u001B[1;33m]\u001B[0m\u001B[1;33m)\u001B[0m\u001B[1;33m\u001B[0m\u001B[1;33m\u001B[0m\u001B[0m\n\u001B[0m",
      "\u001B[1;32m~\\anaconda3\\envs\\ADA\\Lib\\site-packages\\pandas\\core\\frame.py\u001B[0m in \u001B[0;36m?\u001B[1;34m(self, subset, keep, inplace, ignore_index)\u001B[0m\n\u001B[0;32m   6562\u001B[0m \u001B[1;33m\u001B[0m\u001B[0m\n\u001B[0;32m   6563\u001B[0m         \u001B[0minplace\u001B[0m \u001B[1;33m=\u001B[0m \u001B[0mvalidate_bool_kwarg\u001B[0m\u001B[1;33m(\u001B[0m\u001B[0minplace\u001B[0m\u001B[1;33m,\u001B[0m \u001B[1;34m\"inplace\"\u001B[0m\u001B[1;33m)\u001B[0m\u001B[1;33m\u001B[0m\u001B[1;33m\u001B[0m\u001B[0m\n\u001B[0;32m   6564\u001B[0m         \u001B[0mignore_index\u001B[0m \u001B[1;33m=\u001B[0m \u001B[0mvalidate_bool_kwarg\u001B[0m\u001B[1;33m(\u001B[0m\u001B[0mignore_index\u001B[0m\u001B[1;33m,\u001B[0m \u001B[1;34m\"ignore_index\"\u001B[0m\u001B[1;33m)\u001B[0m\u001B[1;33m\u001B[0m\u001B[1;33m\u001B[0m\u001B[0m\n\u001B[0;32m   6565\u001B[0m \u001B[1;33m\u001B[0m\u001B[0m\n\u001B[1;32m-> 6566\u001B[1;33m         \u001B[0mresult\u001B[0m \u001B[1;33m=\u001B[0m \u001B[0mself\u001B[0m\u001B[1;33m[\u001B[0m\u001B[1;33m-\u001B[0m\u001B[0mself\u001B[0m\u001B[1;33m.\u001B[0m\u001B[0mduplicated\u001B[0m\u001B[1;33m(\u001B[0m\u001B[0msubset\u001B[0m\u001B[1;33m,\u001B[0m \u001B[0mkeep\u001B[0m\u001B[1;33m=\u001B[0m\u001B[0mkeep\u001B[0m\u001B[1;33m)\u001B[0m\u001B[1;33m]\u001B[0m\u001B[1;33m\u001B[0m\u001B[1;33m\u001B[0m\u001B[0m\n\u001B[0m\u001B[0;32m   6567\u001B[0m         \u001B[1;32mif\u001B[0m \u001B[0mignore_index\u001B[0m\u001B[1;33m:\u001B[0m\u001B[1;33m\u001B[0m\u001B[1;33m\u001B[0m\u001B[0m\n\u001B[0;32m   6568\u001B[0m             \u001B[0mresult\u001B[0m\u001B[1;33m.\u001B[0m\u001B[0mindex\u001B[0m \u001B[1;33m=\u001B[0m \u001B[0mdefault_index\u001B[0m\u001B[1;33m(\u001B[0m\u001B[0mlen\u001B[0m\u001B[1;33m(\u001B[0m\u001B[0mresult\u001B[0m\u001B[1;33m)\u001B[0m\u001B[1;33m)\u001B[0m\u001B[1;33m\u001B[0m\u001B[1;33m\u001B[0m\u001B[0m\n\u001B[0;32m   6569\u001B[0m \u001B[1;33m\u001B[0m\u001B[0m\n",
      "\u001B[1;32m~\\anaconda3\\envs\\ADA\\Lib\\site-packages\\pandas\\core\\frame.py\u001B[0m in \u001B[0;36m?\u001B[1;34m(self, subset, keep)\u001B[0m\n\u001B[0;32m   6694\u001B[0m         \u001B[1;31m# Otherwise, raise a KeyError, same as if you try to __getitem__ with a\u001B[0m\u001B[1;33m\u001B[0m\u001B[1;33m\u001B[0m\u001B[0m\n\u001B[0;32m   6695\u001B[0m         \u001B[1;31m# key that doesn't exist.\u001B[0m\u001B[1;33m\u001B[0m\u001B[1;33m\u001B[0m\u001B[0m\n\u001B[0;32m   6696\u001B[0m         \u001B[0mdiff\u001B[0m \u001B[1;33m=\u001B[0m \u001B[0mset\u001B[0m\u001B[1;33m(\u001B[0m\u001B[0msubset\u001B[0m\u001B[1;33m)\u001B[0m \u001B[1;33m-\u001B[0m \u001B[0mset\u001B[0m\u001B[1;33m(\u001B[0m\u001B[0mself\u001B[0m\u001B[1;33m.\u001B[0m\u001B[0mcolumns\u001B[0m\u001B[1;33m)\u001B[0m\u001B[1;33m\u001B[0m\u001B[1;33m\u001B[0m\u001B[0m\n\u001B[0;32m   6697\u001B[0m         \u001B[1;32mif\u001B[0m \u001B[0mdiff\u001B[0m\u001B[1;33m:\u001B[0m\u001B[1;33m\u001B[0m\u001B[1;33m\u001B[0m\u001B[0m\n\u001B[1;32m-> 6698\u001B[1;33m             \u001B[1;32mraise\u001B[0m \u001B[0mKeyError\u001B[0m\u001B[1;33m(\u001B[0m\u001B[0mIndex\u001B[0m\u001B[1;33m(\u001B[0m\u001B[0mdiff\u001B[0m\u001B[1;33m)\u001B[0m\u001B[1;33m)\u001B[0m\u001B[1;33m\u001B[0m\u001B[1;33m\u001B[0m\u001B[0m\n\u001B[0m\u001B[0;32m   6699\u001B[0m \u001B[1;33m\u001B[0m\u001B[0m\n\u001B[0;32m   6700\u001B[0m         \u001B[1;32mif\u001B[0m \u001B[0mlen\u001B[0m\u001B[1;33m(\u001B[0m\u001B[0msubset\u001B[0m\u001B[1;33m)\u001B[0m \u001B[1;33m==\u001B[0m \u001B[1;36m1\u001B[0m \u001B[1;32mand\u001B[0m \u001B[0mself\u001B[0m\u001B[1;33m.\u001B[0m\u001B[0mcolumns\u001B[0m\u001B[1;33m.\u001B[0m\u001B[0mis_unique\u001B[0m\u001B[1;33m:\u001B[0m\u001B[1;33m\u001B[0m\u001B[1;33m\u001B[0m\u001B[0m\n\u001B[0;32m   6701\u001B[0m             \u001B[1;31m# GH#45236 This is faster than get_group_index below\u001B[0m\u001B[1;33m\u001B[0m\u001B[1;33m\u001B[0m\u001B[0m\n",
      "\u001B[1;31mKeyError\u001B[0m: Index(['names'], dtype='object')"
     ]
    }
   ],
   "source": [
    "df.drop_duplicates(['names'])"
   ],
   "metadata": {
    "collapsed": false,
    "ExecuteTime": {
     "end_time": "2024-01-04T15:14:54.500602100Z",
     "start_time": "2024-01-04T15:14:54.440576700Z"
    }
   }
  },
  {
   "cell_type": "markdown",
   "source": [
    "### Values Replacements"
   ],
   "metadata": {
    "collapsed": false
   }
  },
  {
   "cell_type": "code",
   "execution_count": 67,
   "outputs": [
    {
     "data": {
      "text/plain": "0     5000U\n1     5000U\n2     5000U\n3     5000U\n4     5000U\n5     5000U\n6    10000U\n7    10000U\n8    10000U\n9    10000U\nName: treat, dtype: object"
     },
     "execution_count": 67,
     "metadata": {},
     "output_type": "execute_result"
    }
   ],
   "source": [
    "cdystonia['treatment'] = cdystonia.treat.map({'Placebo': 0, '5000U': 1, '10000U': 2})\n",
    "cdystonia.treat.replace({0:'Placebo', 1:'5000U', 2:'10000U'}).head(10)"
   ],
   "metadata": {
    "collapsed": false,
    "ExecuteTime": {
     "end_time": "2024-01-04T15:14:55.333085100Z",
     "start_time": "2024-01-04T15:14:55.246457600Z"
    }
   }
  },
  {
   "cell_type": "markdown",
   "source": [
    "### Categorical Data"
   ],
   "metadata": {
    "collapsed": false
   }
  },
  {
   "cell_type": "code",
   "execution_count": 68,
   "outputs": [
    {
     "data": {
      "text/plain": "       Dredging/MilOps/Reserved/Towing  Other  Pleasure/Tug  Tanker/Unknown  \\\nmmsi                                                                          \n1                                 True  False         False           False   \n9                                False  False          True           False   \n21                               False  False         False           False   \n74                               False  False         False           False   \n103                              False  False         False            True   \n310                              False  False         False           False   \n3011                             False   True         False           False   \n4731                             False  False         False           False   \n15151                            False  False         False           False   \n46809                            False  False         False           False   \n\n       Towing    Tug  Unknown  \nmmsi                           \n1       False  False    False  \n9       False  False    False  \n21      False  False     True  \n74      False  False     True  \n103     False  False    False  \n310     False  False     True  \n3011    False  False    False  \n4731    False  False     True  \n15151   False   True    False  \n46809    True  False    False  ",
      "text/html": "<div>\n<style scoped>\n    .dataframe tbody tr th:only-of-type {\n        vertical-align: middle;\n    }\n\n    .dataframe tbody tr th {\n        vertical-align: top;\n    }\n\n    .dataframe thead th {\n        text-align: right;\n    }\n</style>\n<table border=\"1\" class=\"dataframe\">\n  <thead>\n    <tr style=\"text-align: right;\">\n      <th></th>\n      <th>Dredging/MilOps/Reserved/Towing</th>\n      <th>Other</th>\n      <th>Pleasure/Tug</th>\n      <th>Tanker/Unknown</th>\n      <th>Towing</th>\n      <th>Tug</th>\n      <th>Unknown</th>\n    </tr>\n    <tr>\n      <th>mmsi</th>\n      <th></th>\n      <th></th>\n      <th></th>\n      <th></th>\n      <th></th>\n      <th></th>\n      <th></th>\n    </tr>\n  </thead>\n  <tbody>\n    <tr>\n      <th>1</th>\n      <td>True</td>\n      <td>False</td>\n      <td>False</td>\n      <td>False</td>\n      <td>False</td>\n      <td>False</td>\n      <td>False</td>\n    </tr>\n    <tr>\n      <th>9</th>\n      <td>False</td>\n      <td>False</td>\n      <td>True</td>\n      <td>False</td>\n      <td>False</td>\n      <td>False</td>\n      <td>False</td>\n    </tr>\n    <tr>\n      <th>21</th>\n      <td>False</td>\n      <td>False</td>\n      <td>False</td>\n      <td>False</td>\n      <td>False</td>\n      <td>False</td>\n      <td>True</td>\n    </tr>\n    <tr>\n      <th>74</th>\n      <td>False</td>\n      <td>False</td>\n      <td>False</td>\n      <td>False</td>\n      <td>False</td>\n      <td>False</td>\n      <td>True</td>\n    </tr>\n    <tr>\n      <th>103</th>\n      <td>False</td>\n      <td>False</td>\n      <td>False</td>\n      <td>True</td>\n      <td>False</td>\n      <td>False</td>\n      <td>False</td>\n    </tr>\n    <tr>\n      <th>310</th>\n      <td>False</td>\n      <td>False</td>\n      <td>False</td>\n      <td>False</td>\n      <td>False</td>\n      <td>False</td>\n      <td>True</td>\n    </tr>\n    <tr>\n      <th>3011</th>\n      <td>False</td>\n      <td>True</td>\n      <td>False</td>\n      <td>False</td>\n      <td>False</td>\n      <td>False</td>\n      <td>False</td>\n    </tr>\n    <tr>\n      <th>4731</th>\n      <td>False</td>\n      <td>False</td>\n      <td>False</td>\n      <td>False</td>\n      <td>False</td>\n      <td>False</td>\n      <td>True</td>\n    </tr>\n    <tr>\n      <th>15151</th>\n      <td>False</td>\n      <td>False</td>\n      <td>False</td>\n      <td>False</td>\n      <td>False</td>\n      <td>True</td>\n      <td>False</td>\n    </tr>\n    <tr>\n      <th>46809</th>\n      <td>False</td>\n      <td>False</td>\n      <td>False</td>\n      <td>False</td>\n      <td>True</td>\n      <td>False</td>\n      <td>False</td>\n    </tr>\n  </tbody>\n</table>\n</div>"
     },
     "execution_count": 68,
     "metadata": {},
     "output_type": "execute_result"
    }
   ],
   "source": [
    "# Indicator Values\n",
    "pd.get_dummies(vessels.head(10).type)"
   ],
   "metadata": {
    "collapsed": false,
    "ExecuteTime": {
     "end_time": "2024-01-04T15:14:58.696694600Z",
     "start_time": "2024-01-04T15:14:58.563253600Z"
    }
   }
  },
  {
   "cell_type": "code",
   "execution_count": 69,
   "outputs": [
    {
     "data": {
      "text/plain": "['5000U', '5000U', '5000U', '5000U', '5000U', ..., '5000U', '5000U', '5000U', '5000U', '5000U']\nLength: 631\nCategories (3, object): ['10000U', '5000U', 'Placebo']"
     },
     "execution_count": 69,
     "metadata": {},
     "output_type": "execute_result"
    }
   ],
   "source": [
    "pd.Categorical(cdystonia.treat)"
   ],
   "metadata": {
    "collapsed": false,
    "ExecuteTime": {
     "end_time": "2024-01-04T15:14:59.204971600Z",
     "start_time": "2024-01-04T15:14:59.116305800Z"
    }
   }
  },
  {
   "cell_type": "code",
   "execution_count": 70,
   "outputs": [
    {
     "data": {
      "text/plain": "count        631\nunique         3\ntop       10000U\nfreq         213\nName: treat, dtype: object"
     },
     "execution_count": 70,
     "metadata": {},
     "output_type": "execute_result"
    }
   ],
   "source": [
    "cdystonia['treat'] = cdystonia.treat.astype('category')\n",
    "cdystonia.treat.describe()"
   ],
   "metadata": {
    "collapsed": false,
    "ExecuteTime": {
     "end_time": "2024-01-04T15:14:59.704395400Z",
     "start_time": "2024-01-04T15:14:59.673013200Z"
    }
   }
  },
  {
   "cell_type": "code",
   "execution_count": 71,
   "outputs": [
    {
     "data": {
      "text/plain": "0     1\n1     1\n2     1\n3     1\n4     1\n5     1\n6     0\n7     0\n8     0\n9     0\n10    0\n11    0\n12    1\n13    1\n14    1\n15    1\n16    1\n17    1\n18    2\n19    2\ndtype: int8"
     },
     "execution_count": 71,
     "metadata": {},
     "output_type": "execute_result"
    }
   ],
   "source": [
    "cdystonia.treat.cat.codes.head(20) # Category object mapped to int"
   ],
   "metadata": {
    "collapsed": false,
    "ExecuteTime": {
     "end_time": "2024-01-04T15:15:00.376001500Z",
     "start_time": "2024-01-04T15:15:00.324901700Z"
    }
   }
  },
  {
   "cell_type": "markdown",
   "source": [
    "### Discretization"
   ],
   "metadata": {
    "collapsed": false
   }
  },
  {
   "cell_type": "code",
   "execution_count": 72,
   "outputs": [
    {
     "data": {
      "text/plain": "0     (60, 70]\n1     (60, 70]\n2     (60, 70]\n3     (60, 70]\n4     (60, 70]\n5     (60, 70]\n6     (60, 70]\n7     (60, 70]\n8     (60, 70]\n9     (60, 70]\n10    (60, 70]\n11    (60, 70]\n12    (60, 70]\n13    (60, 70]\n14    (60, 70]\n15    (60, 70]\n16    (60, 70]\n17    (60, 70]\n18    (50, 60]\n19    (50, 60]\nName: age, dtype: category\nCategories (7, interval[int64, right]): [(20, 30] < (30, 40] < (40, 50] < (50, 60] < (60, 70] < (70, 80] < (80, 90]]"
     },
     "execution_count": 72,
     "metadata": {},
     "output_type": "execute_result"
    }
   ],
   "source": [
    "pd.cut(cdystonia.age, [20,30,40,50,60,70,80,90])[:20]"
   ],
   "metadata": {
    "collapsed": false,
    "ExecuteTime": {
     "end_time": "2024-01-04T15:15:01.430746Z",
     "start_time": "2024-01-04T15:15:01.391999700Z"
    }
   }
  },
  {
   "cell_type": "code",
   "execution_count": 73,
   "outputs": [
    {
     "data": {
      "text/plain": "0     [60, 70)\n1     [60, 70)\n2     [60, 70)\n3     [60, 70)\n4     [60, 70)\n5     [60, 70)\n6     [70, 80)\n7     [70, 80)\n8     [70, 80)\n9     [70, 80)\n10    [70, 80)\n11    [70, 80)\n12    [60, 70)\n13    [60, 70)\n14    [60, 70)\n15    [60, 70)\n16    [60, 70)\n17    [60, 70)\n18    [50, 60)\n19    [50, 60)\nName: age, dtype: category\nCategories (7, interval[int64, left]): [[20, 30) < [30, 40) < [40, 50) < [50, 60) < [60, 70) < [70, 80) < [80, 90)]"
     },
     "execution_count": 73,
     "metadata": {},
     "output_type": "execute_result"
    }
   ],
   "source": [
    "pd.cut(cdystonia.age, [20,30,40,50,60,70,80,90], right=False)[:20] #specify where to open interval"
   ],
   "metadata": {
    "collapsed": false,
    "ExecuteTime": {
     "end_time": "2024-01-04T15:15:01.905359600Z",
     "start_time": "2024-01-04T15:15:01.884781200Z"
    }
   }
  },
  {
   "cell_type": "code",
   "execution_count": 74,
   "outputs": [
    {
     "data": {
      "text/plain": "0             old\n1             old\n2             old\n3             old\n4             old\n5             old\n6             old\n7             old\n8             old\n9             old\n10            old\n11            old\n12            old\n13            old\n14            old\n15            old\n16            old\n17            old\n18    middle-aged\n19    middle-aged\nName: age, dtype: category\nCategories (4, object): ['young' < 'middle-aged' < 'old' < 'really old']"
     },
     "execution_count": 74,
     "metadata": {},
     "output_type": "execute_result"
    }
   ],
   "source": [
    "pd.cut(cdystonia.age, [20,40,60,80,90], labels=['young','middle-aged','old','really old'])[:20]"
   ],
   "metadata": {
    "collapsed": false,
    "ExecuteTime": {
     "end_time": "2024-01-04T15:15:02.636430400Z",
     "start_time": "2024-01-04T15:15:02.605509200Z"
    }
   }
  },
  {
   "cell_type": "code",
   "execution_count": 75,
   "outputs": [
    {
     "data": {
      "text/plain": "0     (56.0, 65.0]\n1     (56.0, 65.0]\n2     (56.0, 65.0]\n3     (56.0, 65.0]\n4     (56.0, 65.0]\n5     (56.0, 65.0]\n6     (65.0, 83.0]\n7     (65.0, 83.0]\n8     (65.0, 83.0]\n9     (65.0, 83.0]\n10    (65.0, 83.0]\n11    (65.0, 83.0]\n12    (56.0, 65.0]\n13    (56.0, 65.0]\n14    (56.0, 65.0]\n15    (56.0, 65.0]\n16    (56.0, 65.0]\n17    (56.0, 65.0]\n18    (56.0, 65.0]\n19    (56.0, 65.0]\nName: age, dtype: category\nCategories (4, interval[float64, right]): [(25.999, 46.0] < (46.0, 56.0] < (56.0, 65.0] < (65.0, 83.0]]"
     },
     "execution_count": 75,
     "metadata": {},
     "output_type": "execute_result"
    }
   ],
   "source": [
    "pd.qcut(cdystonia.age, 4)[:20] #4 quantiles"
   ],
   "metadata": {
    "collapsed": false,
    "ExecuteTime": {
     "end_time": "2024-01-04T15:15:03.336526Z",
     "start_time": "2024-01-04T15:15:03.309326900Z"
    }
   }
  },
  {
   "cell_type": "code",
   "execution_count": 76,
   "outputs": [
    {
     "data": {
      "text/plain": "0     (1.7, 455.8]\n1     (1.7, 455.8]\n2     (1.7, 455.8]\n3     (1.7, 455.8]\n4     (1.7, 455.8]\n5     (1.7, 455.8]\n6     (1.7, 455.8]\n7     (1.7, 455.8]\n8     (1.7, 455.8]\n9     (1.7, 455.8]\n10    (1.7, 455.8]\n11    (1.7, 455.8]\n12    (1.7, 455.8]\n13    (1.7, 455.8]\n14    (1.7, 455.8]\n15    (1.7, 455.8]\n16    (1.7, 455.8]\n17    (1.7, 455.8]\n18    (1.7, 455.8]\n19    (1.7, 455.8]\nName: seg_length, dtype: category\nCategories (5, interval[float64, right]): [(0.999, 1.1] < (1.1, 1.7] < (1.7, 455.8] < (455.8, 456.801] < (456.801, 701.6]]"
     },
     "execution_count": 76,
     "metadata": {},
     "output_type": "execute_result"
    }
   ],
   "source": [
    "quantiles = pd.qcut(segments.seg_length, [0, 0.01, 0.05, 0.95, 0.99, 1]) #custom quantiles\n",
    "quantiles[:20]"
   ],
   "metadata": {
    "collapsed": false,
    "ExecuteTime": {
     "end_time": "2024-01-04T15:15:03.903570500Z",
     "start_time": "2024-01-04T15:15:03.822781700Z"
    }
   }
  },
  {
   "cell_type": "markdown",
   "source": [
    "### Take random samples"
   ],
   "metadata": {
    "collapsed": false
   }
  },
  {
   "cell_type": "code",
   "execution_count": 77,
   "outputs": [
    {
     "data": {
      "text/plain": "           num_names                       names sov  \\\nmmsi                                                   \n210021000          2  Mv Pontoklydon/Pontoklydon   N   \n371671000          1                Grand Legacy   N   \n319166000          1                   Ice River   N   \n356771000          1                   Boronia K   N   \n376623000          1              Palanga Spirit   N   \n367026030          1           Isabel Mcallister   N   \n353090000          1            Marianne Stoeger   N   \n357827000          1               Lotus Express   N   \n310438000          1                Sun Princess   N   \n309401000          1                    Seacross   N   \n\n                                        flag flag_type  num_loas          loa  \\\nmmsi                                                                            \n210021000              Cyprus (Republic of)    Foreign         1        169.0   \n371671000              Panama (Republic of)    Foreign         1        199.0   \n319166000                    Cayman Islands    Foreign         1        145.0   \n356771000              Panama (Republic of)    Foreign         1        180.0   \n376623000  Saint Vincent and the Grenadines    Foreign         1         99.0   \n367026030          United States of America   Domestic         1         30.0   \n353090000              Panama (Republic of)    Foreign         1        229.0   \n357827000              Panama (Republic of)    Foreign         2  179.0/180.0   \n310438000                           Bermuda    Foreign         1        261.0   \n309401000     Bahamas (Commonwealth of the)    Foreign         1        274.0   \n\n           max_loa  num_types        type  \nmmsi                                       \n210021000    169.0          1       Cargo  \n371671000    199.0          1       Cargo  \n319166000    145.0          1       Cargo  \n356771000    180.0          1       Cargo  \n376623000     99.0          1       Cargo  \n367026030     30.0          2  Towing/Tug  \n353090000    229.0          1       Cargo  \n357827000    180.0          1      Tanker  \n310438000    261.0          1   Passenger  \n309401000    274.0          1      Tanker  ",
      "text/html": "<div>\n<style scoped>\n    .dataframe tbody tr th:only-of-type {\n        vertical-align: middle;\n    }\n\n    .dataframe tbody tr th {\n        vertical-align: top;\n    }\n\n    .dataframe thead th {\n        text-align: right;\n    }\n</style>\n<table border=\"1\" class=\"dataframe\">\n  <thead>\n    <tr style=\"text-align: right;\">\n      <th></th>\n      <th>num_names</th>\n      <th>names</th>\n      <th>sov</th>\n      <th>flag</th>\n      <th>flag_type</th>\n      <th>num_loas</th>\n      <th>loa</th>\n      <th>max_loa</th>\n      <th>num_types</th>\n      <th>type</th>\n    </tr>\n    <tr>\n      <th>mmsi</th>\n      <th></th>\n      <th></th>\n      <th></th>\n      <th></th>\n      <th></th>\n      <th></th>\n      <th></th>\n      <th></th>\n      <th></th>\n      <th></th>\n    </tr>\n  </thead>\n  <tbody>\n    <tr>\n      <th>210021000</th>\n      <td>2</td>\n      <td>Mv Pontoklydon/Pontoklydon</td>\n      <td>N</td>\n      <td>Cyprus (Republic of)</td>\n      <td>Foreign</td>\n      <td>1</td>\n      <td>169.0</td>\n      <td>169.0</td>\n      <td>1</td>\n      <td>Cargo</td>\n    </tr>\n    <tr>\n      <th>371671000</th>\n      <td>1</td>\n      <td>Grand Legacy</td>\n      <td>N</td>\n      <td>Panama (Republic of)</td>\n      <td>Foreign</td>\n      <td>1</td>\n      <td>199.0</td>\n      <td>199.0</td>\n      <td>1</td>\n      <td>Cargo</td>\n    </tr>\n    <tr>\n      <th>319166000</th>\n      <td>1</td>\n      <td>Ice River</td>\n      <td>N</td>\n      <td>Cayman Islands</td>\n      <td>Foreign</td>\n      <td>1</td>\n      <td>145.0</td>\n      <td>145.0</td>\n      <td>1</td>\n      <td>Cargo</td>\n    </tr>\n    <tr>\n      <th>356771000</th>\n      <td>1</td>\n      <td>Boronia K</td>\n      <td>N</td>\n      <td>Panama (Republic of)</td>\n      <td>Foreign</td>\n      <td>1</td>\n      <td>180.0</td>\n      <td>180.0</td>\n      <td>1</td>\n      <td>Cargo</td>\n    </tr>\n    <tr>\n      <th>376623000</th>\n      <td>1</td>\n      <td>Palanga Spirit</td>\n      <td>N</td>\n      <td>Saint Vincent and the Grenadines</td>\n      <td>Foreign</td>\n      <td>1</td>\n      <td>99.0</td>\n      <td>99.0</td>\n      <td>1</td>\n      <td>Cargo</td>\n    </tr>\n    <tr>\n      <th>367026030</th>\n      <td>1</td>\n      <td>Isabel Mcallister</td>\n      <td>N</td>\n      <td>United States of America</td>\n      <td>Domestic</td>\n      <td>1</td>\n      <td>30.0</td>\n      <td>30.0</td>\n      <td>2</td>\n      <td>Towing/Tug</td>\n    </tr>\n    <tr>\n      <th>353090000</th>\n      <td>1</td>\n      <td>Marianne Stoeger</td>\n      <td>N</td>\n      <td>Panama (Republic of)</td>\n      <td>Foreign</td>\n      <td>1</td>\n      <td>229.0</td>\n      <td>229.0</td>\n      <td>1</td>\n      <td>Cargo</td>\n    </tr>\n    <tr>\n      <th>357827000</th>\n      <td>1</td>\n      <td>Lotus Express</td>\n      <td>N</td>\n      <td>Panama (Republic of)</td>\n      <td>Foreign</td>\n      <td>2</td>\n      <td>179.0/180.0</td>\n      <td>180.0</td>\n      <td>1</td>\n      <td>Tanker</td>\n    </tr>\n    <tr>\n      <th>310438000</th>\n      <td>1</td>\n      <td>Sun Princess</td>\n      <td>N</td>\n      <td>Bermuda</td>\n      <td>Foreign</td>\n      <td>1</td>\n      <td>261.0</td>\n      <td>261.0</td>\n      <td>1</td>\n      <td>Passenger</td>\n    </tr>\n    <tr>\n      <th>309401000</th>\n      <td>1</td>\n      <td>Seacross</td>\n      <td>N</td>\n      <td>Bahamas (Commonwealth of the)</td>\n      <td>Foreign</td>\n      <td>1</td>\n      <td>274.0</td>\n      <td>274.0</td>\n      <td>1</td>\n      <td>Tanker</td>\n    </tr>\n  </tbody>\n</table>\n</div>"
     },
     "execution_count": 77,
     "metadata": {},
     "output_type": "execute_result"
    }
   ],
   "source": [
    "vessels.sample(n=10, replace=True) #weights = df['TotalPop'] can sample with weight"
   ],
   "metadata": {
    "collapsed": false,
    "ExecuteTime": {
     "end_time": "2024-01-04T15:15:05.482493200Z",
     "start_time": "2024-01-04T15:15:05.430459900Z"
    }
   }
  },
  {
   "cell_type": "markdown",
   "source": [
    "### Aggregate and GroupBy"
   ],
   "metadata": {
    "collapsed": false
   }
  },
  {
   "cell_type": "code",
   "execution_count": 78,
   "outputs": [
    {
     "data": {
      "text/plain": "         patient_mean  obs_mean  week_mean  site_mean  id_mean  age_mean  \\\npatient                                                                    \n1                 1.0       3.5        7.0        1.0      1.0      65.0   \n2                 2.0       3.5        7.0        1.0      2.0      70.0   \n3                 3.0       3.5        7.0        1.0      3.0      64.0   \n4                 4.0       2.5        3.5        1.0      4.0      59.0   \n5                 5.0       3.5        7.0        1.0      5.0      76.0   \n\n         twstrs_mean  treatment_mean  \npatient                               \n1          33.000000             1.0  \n2          47.666667             2.0  \n3          30.500000             1.0  \n4          60.000000             0.0  \n5          46.166667             2.0  ",
      "text/html": "<div>\n<style scoped>\n    .dataframe tbody tr th:only-of-type {\n        vertical-align: middle;\n    }\n\n    .dataframe tbody tr th {\n        vertical-align: top;\n    }\n\n    .dataframe thead th {\n        text-align: right;\n    }\n</style>\n<table border=\"1\" class=\"dataframe\">\n  <thead>\n    <tr style=\"text-align: right;\">\n      <th></th>\n      <th>patient_mean</th>\n      <th>obs_mean</th>\n      <th>week_mean</th>\n      <th>site_mean</th>\n      <th>id_mean</th>\n      <th>age_mean</th>\n      <th>twstrs_mean</th>\n      <th>treatment_mean</th>\n    </tr>\n    <tr>\n      <th>patient</th>\n      <th></th>\n      <th></th>\n      <th></th>\n      <th></th>\n      <th></th>\n      <th></th>\n      <th></th>\n      <th></th>\n    </tr>\n  </thead>\n  <tbody>\n    <tr>\n      <th>1</th>\n      <td>1.0</td>\n      <td>3.5</td>\n      <td>7.0</td>\n      <td>1.0</td>\n      <td>1.0</td>\n      <td>65.0</td>\n      <td>33.000000</td>\n      <td>1.0</td>\n    </tr>\n    <tr>\n      <th>2</th>\n      <td>2.0</td>\n      <td>3.5</td>\n      <td>7.0</td>\n      <td>1.0</td>\n      <td>2.0</td>\n      <td>70.0</td>\n      <td>47.666667</td>\n      <td>2.0</td>\n    </tr>\n    <tr>\n      <th>3</th>\n      <td>3.0</td>\n      <td>3.5</td>\n      <td>7.0</td>\n      <td>1.0</td>\n      <td>3.0</td>\n      <td>64.0</td>\n      <td>30.500000</td>\n      <td>1.0</td>\n    </tr>\n    <tr>\n      <th>4</th>\n      <td>4.0</td>\n      <td>2.5</td>\n      <td>3.5</td>\n      <td>1.0</td>\n      <td>4.0</td>\n      <td>59.0</td>\n      <td>60.000000</td>\n      <td>0.0</td>\n    </tr>\n    <tr>\n      <th>5</th>\n      <td>5.0</td>\n      <td>3.5</td>\n      <td>7.0</td>\n      <td>1.0</td>\n      <td>5.0</td>\n      <td>76.0</td>\n      <td>46.166667</td>\n      <td>2.0</td>\n    </tr>\n  </tbody>\n</table>\n</div>"
     },
     "execution_count": 78,
     "metadata": {},
     "output_type": "execute_result"
    }
   ],
   "source": [
    "cdystonia_grouped = cdystonia.drop(columns=['treat', 'sex']).groupby(cdystonia.patient)\n",
    "cdystonia_grouped.agg('mean').head()\n",
    "cdystonia_grouped.mean().head() #equivalent\n",
    "cdystonia_grouped.mean().add_suffix('_mean').head()"
   ],
   "metadata": {
    "collapsed": false,
    "ExecuteTime": {
     "end_time": "2024-01-04T15:15:09.941355300Z",
     "start_time": "2024-01-04T15:15:09.913697700Z"
    }
   }
  },
  {
   "cell_type": "code",
   "execution_count": 79,
   "outputs": [
    {
     "data": {
      "text/plain": "patient\n1     34.0\n2     50.5\n3     30.5\n4     61.5\n5     48.5\n6     48.0\n7     42.0\n8     32.5\n9     35.5\n10    20.5\nName: twstrs, dtype: float64"
     },
     "execution_count": 79,
     "metadata": {},
     "output_type": "execute_result"
    }
   ],
   "source": [
    "# The median of the `twstrs` variable\n",
    "cdystonia_grouped['twstrs'].quantile(0.5).head(10)"
   ],
   "metadata": {
    "collapsed": false,
    "ExecuteTime": {
     "end_time": "2024-01-04T15:15:10.587139Z",
     "start_time": "2024-01-04T15:15:10.553924500Z"
    }
   }
  },
  {
   "cell_type": "code",
   "execution_count": 80,
   "outputs": [
    {
     "data": {
      "text/plain": "           patient  obs   id        age     twstrs  treatment\nweek site                                                    \n0    1         6.5  1.0  6.5  59.000000  43.083333   1.000000\n     2        19.5  1.0  7.5  53.928571  51.857143   0.928571\n     3        32.5  1.0  6.5  51.500000  38.750000   1.000000\n     4        42.5  1.0  4.5  59.250000  48.125000   1.000000\n     5        49.5  1.0  3.5  51.833333  49.333333   1.000000",
      "text/html": "<div>\n<style scoped>\n    .dataframe tbody tr th:only-of-type {\n        vertical-align: middle;\n    }\n\n    .dataframe tbody tr th {\n        vertical-align: top;\n    }\n\n    .dataframe thead th {\n        text-align: right;\n    }\n</style>\n<table border=\"1\" class=\"dataframe\">\n  <thead>\n    <tr style=\"text-align: right;\">\n      <th></th>\n      <th></th>\n      <th>patient</th>\n      <th>obs</th>\n      <th>id</th>\n      <th>age</th>\n      <th>twstrs</th>\n      <th>treatment</th>\n    </tr>\n    <tr>\n      <th>week</th>\n      <th>site</th>\n      <th></th>\n      <th></th>\n      <th></th>\n      <th></th>\n      <th></th>\n      <th></th>\n    </tr>\n  </thead>\n  <tbody>\n    <tr>\n      <th rowspan=\"5\" valign=\"top\">0</th>\n      <th>1</th>\n      <td>6.5</td>\n      <td>1.0</td>\n      <td>6.5</td>\n      <td>59.000000</td>\n      <td>43.083333</td>\n      <td>1.000000</td>\n    </tr>\n    <tr>\n      <th>2</th>\n      <td>19.5</td>\n      <td>1.0</td>\n      <td>7.5</td>\n      <td>53.928571</td>\n      <td>51.857143</td>\n      <td>0.928571</td>\n    </tr>\n    <tr>\n      <th>3</th>\n      <td>32.5</td>\n      <td>1.0</td>\n      <td>6.5</td>\n      <td>51.500000</td>\n      <td>38.750000</td>\n      <td>1.000000</td>\n    </tr>\n    <tr>\n      <th>4</th>\n      <td>42.5</td>\n      <td>1.0</td>\n      <td>4.5</td>\n      <td>59.250000</td>\n      <td>48.125000</td>\n      <td>1.000000</td>\n    </tr>\n    <tr>\n      <th>5</th>\n      <td>49.5</td>\n      <td>1.0</td>\n      <td>3.5</td>\n      <td>51.833333</td>\n      <td>49.333333</td>\n      <td>1.000000</td>\n    </tr>\n  </tbody>\n</table>\n</div>"
     },
     "execution_count": 80,
     "metadata": {},
     "output_type": "execute_result"
    }
   ],
   "source": [
    "cdystonia.drop(columns=['treat', 'sex']).groupby(['week','site']).mean().head()"
   ],
   "metadata": {
    "collapsed": false,
    "ExecuteTime": {
     "end_time": "2024-01-04T15:15:10.936853800Z",
     "start_time": "2024-01-04T15:15:10.901121200Z"
    }
   }
  },
  {
   "cell_type": "code",
   "execution_count": 81,
   "outputs": [],
   "source": [
    "def top(df, column, n=5):\n",
    "    return df.sort_values(by=column, ascending=False)[:n]"
   ],
   "metadata": {
    "collapsed": false,
    "ExecuteTime": {
     "end_time": "2024-01-04T15:15:11.338872800Z",
     "start_time": "2024-01-04T15:15:11.306584100Z"
    }
   }
  },
  {
   "cell_type": "code",
   "execution_count": 82,
   "outputs": [
    {
     "data": {
      "text/plain": "                                                     names  seg_length\nmmsi                                                                  \n1    6   Bil Holman Dredge/Dredge Capt Frank/Emo/Offsho...        76.0\n     5   Bil Holman Dredge/Dredge Capt Frank/Emo/Offsho...        17.4\n     7   Bil Holman Dredge/Dredge Capt Frank/Emo/Offsho...        13.7\n9    15                         000000009/Raven/Shearwater        47.2\n     14                         000000009/Raven/Shearwater        31.4\n     13                         000000009/Raven/Shearwater        19.3\n21   16                                      Us Gov Vessel        48.7\n     25                                      Us Gov Vessel        25.3\n     30                                      Us Gov Vessel        21.7\n74   35                                  Mcfaul/Sarah Bell         7.4\n     34                                  Mcfaul/Sarah Bell         1.4\n103  37           Ron G/Us Navy Warship 103/Us Warship 103        87.5\n     41           Ron G/Us Navy Warship 103/Us Warship 103        62.6\n     43           Ron G/Us Navy Warship 103/Us Warship 103        59.1\n310  51                                           Arabella        77.4",
      "text/html": "<div>\n<style scoped>\n    .dataframe tbody tr th:only-of-type {\n        vertical-align: middle;\n    }\n\n    .dataframe tbody tr th {\n        vertical-align: top;\n    }\n\n    .dataframe thead th {\n        text-align: right;\n    }\n</style>\n<table border=\"1\" class=\"dataframe\">\n  <thead>\n    <tr style=\"text-align: right;\">\n      <th></th>\n      <th></th>\n      <th>names</th>\n      <th>seg_length</th>\n    </tr>\n    <tr>\n      <th>mmsi</th>\n      <th></th>\n      <th></th>\n      <th></th>\n    </tr>\n  </thead>\n  <tbody>\n    <tr>\n      <th rowspan=\"3\" valign=\"top\">1</th>\n      <th>6</th>\n      <td>Bil Holman Dredge/Dredge Capt Frank/Emo/Offsho...</td>\n      <td>76.0</td>\n    </tr>\n    <tr>\n      <th>5</th>\n      <td>Bil Holman Dredge/Dredge Capt Frank/Emo/Offsho...</td>\n      <td>17.4</td>\n    </tr>\n    <tr>\n      <th>7</th>\n      <td>Bil Holman Dredge/Dredge Capt Frank/Emo/Offsho...</td>\n      <td>13.7</td>\n    </tr>\n    <tr>\n      <th rowspan=\"3\" valign=\"top\">9</th>\n      <th>15</th>\n      <td>000000009/Raven/Shearwater</td>\n      <td>47.2</td>\n    </tr>\n    <tr>\n      <th>14</th>\n      <td>000000009/Raven/Shearwater</td>\n      <td>31.4</td>\n    </tr>\n    <tr>\n      <th>13</th>\n      <td>000000009/Raven/Shearwater</td>\n      <td>19.3</td>\n    </tr>\n    <tr>\n      <th rowspan=\"3\" valign=\"top\">21</th>\n      <th>16</th>\n      <td>Us Gov Vessel</td>\n      <td>48.7</td>\n    </tr>\n    <tr>\n      <th>25</th>\n      <td>Us Gov Vessel</td>\n      <td>25.3</td>\n    </tr>\n    <tr>\n      <th>30</th>\n      <td>Us Gov Vessel</td>\n      <td>21.7</td>\n    </tr>\n    <tr>\n      <th rowspan=\"2\" valign=\"top\">74</th>\n      <th>35</th>\n      <td>Mcfaul/Sarah Bell</td>\n      <td>7.4</td>\n    </tr>\n    <tr>\n      <th>34</th>\n      <td>Mcfaul/Sarah Bell</td>\n      <td>1.4</td>\n    </tr>\n    <tr>\n      <th rowspan=\"3\" valign=\"top\">103</th>\n      <th>37</th>\n      <td>Ron G/Us Navy Warship 103/Us Warship 103</td>\n      <td>87.5</td>\n    </tr>\n    <tr>\n      <th>41</th>\n      <td>Ron G/Us Navy Warship 103/Us Warship 103</td>\n      <td>62.6</td>\n    </tr>\n    <tr>\n      <th>43</th>\n      <td>Ron G/Us Navy Warship 103/Us Warship 103</td>\n      <td>59.1</td>\n    </tr>\n    <tr>\n      <th>310</th>\n      <th>51</th>\n      <td>Arabella</td>\n      <td>77.4</td>\n    </tr>\n  </tbody>\n</table>\n</div>"
     },
     "execution_count": 82,
     "metadata": {},
     "output_type": "execute_result"
    }
   ],
   "source": [
    "segments_merged = pd.merge(vessels, segments, left_index=True, right_on='mmsi')\n",
    "top3segments = segments_merged.groupby('mmsi').apply(top, column='seg_length', n=3)[['names', 'seg_length']]\n",
    "top3segments.head(15)"
   ],
   "metadata": {
    "collapsed": false,
    "ExecuteTime": {
     "end_time": "2024-01-04T15:15:12.251623200Z",
     "start_time": "2024-01-04T15:15:12.184200Z"
    }
   }
  },
  {
   "cell_type": "code",
   "execution_count": 83,
   "outputs": [
    {
     "ename": "NameError",
     "evalue": "name 'country_features' is not defined",
     "output_type": "error",
     "traceback": [
      "\u001B[1;31m---------------------------------------------------------------------------\u001B[0m",
      "\u001B[1;31mNameError\u001B[0m                                 Traceback (most recent call last)",
      "Cell \u001B[1;32mIn[83], line 1\u001B[0m\n\u001B[1;32m----> 1\u001B[0m average_by_region \u001B[38;5;241m=\u001B[39m country_features\u001B[38;5;241m.\u001B[39mgroupby(\u001B[38;5;124m\"\u001B[39m\u001B[38;5;124mworld_region\u001B[39m\u001B[38;5;124m\"\u001B[39m)[\u001B[38;5;124m'\u001B[39m\u001B[38;5;124mhappiness_score\u001B[39m\u001B[38;5;124m'\u001B[39m]\u001B[38;5;241m.\u001B[39magg([\u001B[38;5;124m'\u001B[39m\u001B[38;5;124mmean\u001B[39m\u001B[38;5;124m'\u001B[39m,\u001B[38;5;124m'\u001B[39m\u001B[38;5;124msize\u001B[39m\u001B[38;5;124m'\u001B[39m]) \u001B[38;5;66;03m#Can aggregate on multiples functions\u001B[39;00m\n\u001B[0;32m      2\u001B[0m average_by_region\u001B[38;5;241m.\u001B[39msort_values(\u001B[38;5;124m\"\u001B[39m\u001B[38;5;124mmean\u001B[39m\u001B[38;5;124m\"\u001B[39m, ascending\u001B[38;5;241m=\u001B[39m\u001B[38;5;28;01mFalse\u001B[39;00m)\n",
      "\u001B[1;31mNameError\u001B[0m: name 'country_features' is not defined"
     ]
    }
   ],
   "source": [
    "average_by_region = country_features.groupby(\"world_region\")['happiness_score'].agg(['mean','size']) #Can aggregate on multiples functions\n",
    "average_by_region.sort_values(\"mean\", ascending=False)"
   ],
   "metadata": {
    "collapsed": false,
    "ExecuteTime": {
     "end_time": "2024-01-04T15:15:12.744062700Z",
     "start_time": "2024-01-04T15:15:12.723472800Z"
    }
   }
  },
  {
   "cell_type": "code",
   "execution_count": 84,
   "outputs": [
    {
     "ename": "NameError",
     "evalue": "name 'country_features' is not defined",
     "output_type": "error",
     "traceback": [
      "\u001B[1;31m---------------------------------------------------------------------------\u001B[0m",
      "\u001B[1;31mNameError\u001B[0m                                 Traceback (most recent call last)",
      "Cell \u001B[1;32mIn[84], line 1\u001B[0m\n\u001B[1;32m----> 1\u001B[0m \u001B[38;5;28;01mfor\u001B[39;00m idx, row \u001B[38;5;129;01min\u001B[39;00m country_features[country_features\u001B[38;5;241m.\u001B[39mliteracy\u001B[38;5;241m==\u001B[39m\u001B[38;5;241m100\u001B[39m]\u001B[38;5;241m.\u001B[39miterrows(): \u001B[38;5;66;03m# iterrows super useful\u001B[39;00m\n\u001B[0;32m      2\u001B[0m     \u001B[38;5;28mprint\u001B[39m(\u001B[38;5;124m\"\u001B[39m\u001B[38;5;132;01m{}\u001B[39;00m\u001B[38;5;124m - \u001B[39m\u001B[38;5;132;01m{}\u001B[39;00m\u001B[38;5;124m (\u001B[39m\u001B[38;5;132;01m{}\u001B[39;00m\u001B[38;5;124m)\u001B[39m\u001B[38;5;124m\"\u001B[39m\u001B[38;5;241m.\u001B[39mformat(row\u001B[38;5;241m.\u001B[39mworld_region, row\u001B[38;5;241m.\u001B[39mcountry, row\u001B[38;5;241m.\u001B[39mhappiness_score))\n",
      "\u001B[1;31mNameError\u001B[0m: name 'country_features' is not defined"
     ]
    }
   ],
   "source": [
    "for idx, row in country_features[country_features.literacy==100].iterrows(): # iterrows super useful\n",
    "    print(\"{} - {} ({})\".format(row.world_region, row.country, row.happiness_score))"
   ],
   "metadata": {
    "collapsed": false,
    "ExecuteTime": {
     "end_time": "2024-01-04T15:15:13.594347400Z",
     "start_time": "2024-01-04T15:15:13.564328500Z"
    }
   }
  },
  {
   "cell_type": "markdown",
   "source": [
    "# 2 - Data from the Web"
   ],
   "metadata": {
    "collapsed": false
   }
  },
  {
   "cell_type": "code",
   "execution_count": 85,
   "outputs": [],
   "source": [
    "import requests\n",
    "import math\n",
    "from bs4 import BeautifulSoup"
   ],
   "metadata": {
    "collapsed": false,
    "ExecuteTime": {
     "end_time": "2024-01-04T15:15:14.335799400Z",
     "start_time": "2024-01-04T15:15:14.114227800Z"
    }
   }
  },
  {
   "cell_type": "code",
   "execution_count": 86,
   "outputs": [
    {
     "data": {
      "text/plain": "<h1>Herman Melville - Moby-Dick</h1>"
     },
     "execution_count": 86,
     "metadata": {},
     "output_type": "execute_result"
    }
   ],
   "source": [
    "r = requests.get('https://httpbin.org/html')\n",
    "# Extract the header\n",
    "soup = BeautifulSoup(r.text, 'html.parser')\n",
    "soup.h1"
   ],
   "metadata": {
    "collapsed": false,
    "ExecuteTime": {
     "end_time": "2024-01-04T15:15:15.777413400Z",
     "start_time": "2024-01-04T15:15:14.327412700Z"
    }
   }
  },
  {
   "cell_type": "code",
   "execution_count": 87,
   "outputs": [
    {
     "name": "stdout",
     "output_type": "stream",
     "text": [
      "The webpage cointains 0 links...\n",
      "... and 0 of them point to external websites.\n"
     ]
    }
   ],
   "source": [
    "all_links = soup.find_all('a')\n",
    "print('The webpage cointains {0} links...'.format(len(all_links)))\n",
    "external_links = 0\n",
    "for link in all_links:\n",
    "    if (link.get('href') and not link.get('href').startswith('http://dblp.uni-trier.de/')\n",
    "            and link.get('href').startswith('http')):  # just an example, you may need more checks\n",
    "        external_links += 1\n",
    "\n",
    "print('... and {0} of them point to external websites.'.format(external_links))"
   ],
   "metadata": {
    "collapsed": false,
    "ExecuteTime": {
     "end_time": "2024-01-04T15:15:15.866255600Z",
     "start_time": "2024-01-04T15:15:15.760765200Z"
    }
   }
  },
  {
   "cell_type": "markdown",
   "source": [
    "# 2 - Data Viz"
   ],
   "metadata": {
    "collapsed": false
   }
  },
  {
   "cell_type": "code",
   "execution_count": 88,
   "outputs": [],
   "source": [
    "DATA_FOLDER = '01 - Handling data/Data/'\n",
    "\n",
    "HAPPINESS_DATASET = DATA_FOLDER+\"happiness2020.csv\"\n",
    "COUNTRIES_DATASET = DATA_FOLDER+\"countries_info.csv\"\n",
    "happiness = pd.read_csv(HAPPINESS_DATASET)\n",
    "countries = pd.read_csv(COUNTRIES_DATASET)\n",
    "happiness['country_name'] = happiness['country'].apply(lambda r: r.lower())\n",
    "country_features = happiness.merge(countries, on=\"country_name\").drop(\"country_name\", axis=1)\n",
    "\n",
    "data_folder = '02 - Data viz and data from the web/Data/'\n",
    "\n",
    "\n",
    "movies = pd.read_csv(data_folder+'blockbusters.csv')\n",
    "movies['worldwide_gross'] = movies['worldwide_gross'].str.replace('$', '', regex=False).str.replace(',', '', regex=False).astype(float)\n",
    "\n",
    "commune_pop = pd.read_excel(data_folder+'communes_pop.xls',skiprows=5,skipfooter=7,\n",
    "                            sheet_name='2017',names=['commune','population_Jan',\n",
    "                                                     'birth_alive','death','natrual_increase',\n",
    "                                                     'arrivals','departure','migratory_balance',\n",
    "                                                     'divergence_statistic','population_Dec','variation_num',\n",
    "                                                     'variation_ratio'])\n",
    "\n",
    "pop_per_commune = commune_pop[[name.startswith('......') for name in commune_pop.commune]].copy()"
   ],
   "metadata": {
    "collapsed": false,
    "ExecuteTime": {
     "end_time": "2024-01-04T15:15:17.810917900Z",
     "start_time": "2024-01-04T15:15:15.785381400Z"
    }
   }
  },
  {
   "cell_type": "code",
   "execution_count": 89,
   "outputs": [
    {
     "data": {
      "text/plain": "<Axes: xlabel='happiness_score', ylabel='healthy_life_expectancy'>"
     },
     "execution_count": 89,
     "metadata": {},
     "output_type": "execute_result"
    },
    {
     "data": {
      "text/plain": "<Figure size 640x480 with 1 Axes>",
      "image/png": "[encoded data removed]"
     },
     "metadata": {},
     "output_type": "display_data"
    }
   ],
   "source": [
    "country_features.plot(x=\"happiness_score\", y=\"healthy_life_expectancy\", kind=\"scatter\")"
   ],
   "metadata": {
    "collapsed": false,
    "ExecuteTime": {
     "end_time": "2024-01-04T15:15:18.060228600Z",
     "start_time": "2024-01-04T15:15:17.802366400Z"
    }
   }
  },
  {
   "cell_type": "code",
   "execution_count": 90,
   "outputs": [
    {
     "data": {
      "text/plain": "<seaborn.axisgrid.JointGrid at 0x17e9093bec0>"
     },
     "execution_count": 90,
     "metadata": {},
     "output_type": "execute_result"
    },
    {
     "data": {
      "text/plain": "<Figure size 600x600 with 3 Axes>",
      "image/png": "[encoded data removed]"
     },
     "metadata": {},
     "output_type": "display_data"
    }
   ],
   "source": [
    "sns.jointplot(x=movies['worldwide_gross'], y=movies['imdb_rating'], kind=\"hex\")"
   ],
   "metadata": {
    "collapsed": false,
    "ExecuteTime": {
     "end_time": "2024-01-04T15:15:18.711147500Z",
     "start_time": "2024-01-04T15:15:18.060228600Z"
    }
   }
  },
  {
   "cell_type": "code",
   "execution_count": 91,
   "outputs": [
    {
     "data": {
      "text/plain": "<Figure size 640x480 with 1 Axes>",
      "image/png": "[encoded data removed]"
     },
     "metadata": {},
     "output_type": "display_data"
    }
   ],
   "source": [
    "ax = sns.barplot(x=\"Main_Genre\", y=\"worldwide_gross\",hue=\"Main_Genre\", data=movies.loc[movies['Main_Genre'].isin(['Thriller','Comedy',\n",
    "                                                                                      'Fantasy','Sci-Fi','Romance'])])"
   ],
   "metadata": {
    "collapsed": false,
    "ExecuteTime": {
     "end_time": "2024-01-04T15:15:18.981333700Z",
     "start_time": "2024-01-04T15:15:18.711147500Z"
    }
   }
  },
  {
   "cell_type": "code",
   "execution_count": 92,
   "outputs": [
    {
     "data": {
      "text/plain": "Text(0, 0.6, 'Number of movies')"
     },
     "execution_count": 92,
     "metadata": {},
     "output_type": "execute_result"
    },
    {
     "data": {
      "text/plain": "<Figure size 800x600 with 16 Axes>",
      "image/png": "[encoded data removed]"
     },
     "metadata": {},
     "output_type": "display_data"
    }
   ],
   "source": [
    "stats_by_genre = movies.groupby('Main_Genre').apply(lambda x: pd.Series({\n",
    "    'length': x['length'].values\n",
    "}))\n",
    "# Write your code to make 4x4 panel here\n",
    "\n",
    "fig, ax = plt.subplots(4, 4, figsize=(8, 6), sharey=True, sharex=True)\n",
    "\n",
    "for i in range(16):\n",
    "    sbplt = ax[i % 4, math.floor(i / 4)]\n",
    "    sbplt.hist(stats_by_genre.iloc[i].values, range=[0, 200], bins=20)\n",
    "    sbplt.set_title(stats_by_genre.index[i])\n",
    "\n",
    "fig.tight_layout()\n",
    "\n",
    "fig.text(0.4, 0, \"Movie length in minutes\")\n",
    "fig.text(0, 0.6, \"Number of movies\", rotation=90)"
   ],
   "metadata": {
    "collapsed": false,
    "ExecuteTime": {
     "end_time": "2024-01-04T15:15:22.500152900Z",
     "start_time": "2024-01-04T15:15:18.990478800Z"
    }
   }
  },
  {
   "cell_type": "markdown",
   "source": [
    "# 3 - Describing data"
   ],
   "metadata": {
    "collapsed": false
   }
  },
  {
   "cell_type": "code",
   "execution_count": 93,
   "outputs": [],
   "source": [
    "from statsmodels.stats import diagnostic\n",
    "from scipy import stats"
   ],
   "metadata": {
    "collapsed": false,
    "ExecuteTime": {
     "end_time": "2024-01-04T15:15:22.712996300Z",
     "start_time": "2024-01-04T15:15:22.508177600Z"
    }
   }
  },
  {
   "cell_type": "code",
   "execution_count": 94,
   "outputs": [],
   "source": [
    "data_folder = '03 - Describing data/data/'\n",
    "df = pd.read_csv(data_folder + 'acs2015_county_data.csv')"
   ],
   "metadata": {
    "collapsed": false,
    "ExecuteTime": {
     "end_time": "2024-01-04T15:15:22.745930800Z",
     "start_time": "2024-01-04T15:15:22.712996300Z"
    }
   }
  },
  {
   "cell_type": "markdown",
   "source": [
    "### Distribution?"
   ],
   "metadata": {
    "collapsed": false
   }
  },
  {
   "cell_type": "code",
   "execution_count": 95,
   "outputs": [
    {
     "data": {
      "text/plain": "(0.0637621121184162, 0.0009999999999998899)"
     },
     "execution_count": 95,
     "metadata": {},
     "output_type": "execute_result"
    }
   ],
   "source": [
    "# does the data come from a normal distrbution?\n",
    "diagnostic.kstest_normal(df['IncomePerCap'].values, dist = 'norm')#how about exponential? dist = 'exp'"
   ],
   "metadata": {
    "collapsed": false,
    "ExecuteTime": {
     "end_time": "2024-01-04T15:15:22.759517Z",
     "start_time": "2024-01-04T15:15:22.730025600Z"
    }
   }
  },
  {
   "cell_type": "markdown",
   "source": [
    "- p_value < 0.05 -> we can reject the null hypothesis that the data comes from a normal distribution!"
   ],
   "metadata": {
    "collapsed": false
   }
  },
  {
   "cell_type": "markdown",
   "source": [
    "### Correlation"
   ],
   "metadata": {
    "collapsed": false
   }
  },
  {
   "cell_type": "code",
   "execution_count": 96,
   "outputs": [
    {
     "data": {
      "text/plain": "PearsonRResult(statistic=0.2646136320394489, pvalue=9.942215354239015e-53)"
     },
     "execution_count": 96,
     "metadata": {},
     "output_type": "execute_result"
    }
   ],
   "source": [
    "stats.pearsonr(df['IncomePerCap'],df['Employed'])"
   ],
   "metadata": {
    "collapsed": false,
    "ExecuteTime": {
     "end_time": "2024-01-04T15:15:22.867989900Z",
     "start_time": "2024-01-04T15:15:22.745930800Z"
    }
   }
  },
  {
   "cell_type": "markdown",
   "source": [
    "There is a small (0.26), but significant (p < 0.05) positive correlation."
   ],
   "metadata": {
    "collapsed": false
   }
  },
  {
   "cell_type": "code",
   "execution_count": 97,
   "outputs": [
    {
     "data": {
      "text/plain": "SignificanceResult(statistic=0.30770631560595474, pvalue=1.415296431173735e-71)"
     },
     "execution_count": 97,
     "metadata": {},
     "output_type": "execute_result"
    }
   ],
   "source": [
    "stats.spearmanr(df['IncomePerCap'],df['Employed'])"
   ],
   "metadata": {
    "collapsed": false,
    "ExecuteTime": {
     "end_time": "2024-01-04T15:15:22.908425100Z",
     "start_time": "2024-01-04T15:15:22.831718100Z"
    }
   }
  },
  {
   "cell_type": "markdown",
   "source": [
    "significant (p < 0.05)"
   ],
   "metadata": {
    "collapsed": false
   }
  },
  {
   "cell_type": "markdown",
   "source": [
    "### Hypothesis testing"
   ],
   "metadata": {
    "collapsed": false
   }
  },
  {
   "cell_type": "code",
   "execution_count": 98,
   "outputs": [
    {
     "data": {
      "text/plain": "TtestResult(statistic=0.19788117232375713, pvalue=0.8434785239169611, df=118.0)"
     },
     "execution_count": 98,
     "metadata": {},
     "output_type": "execute_result"
    }
   ],
   "source": [
    "stats.ttest_ind(df.loc[df['State'] == 'New York']['IncomePerCap'], df.loc[df['State'] == 'California']['IncomePerCap'])"
   ],
   "metadata": {
    "collapsed": false,
    "ExecuteTime": {
     "end_time": "2024-01-04T15:15:24.602355100Z",
     "start_time": "2024-01-04T15:15:24.572729800Z"
    }
   }
  },
  {
   "cell_type": "markdown",
   "source": [
    "- p is not smaller than 0.05 -> we cannot reject the null hypothesis that the income is the same -> there is no significant difference"
   ],
   "metadata": {
    "collapsed": false
   }
  },
  {
   "cell_type": "markdown",
   "source": [
    "### Bootstrapping"
   ],
   "metadata": {
    "collapsed": false
   }
  },
  {
   "cell_type": "code",
   "execution_count": 99,
   "outputs": [],
   "source": [
    "def bootstrap_confidence_interval(data, iterations=1000):\n",
    "    \"\"\"\n",
    "    Bootstrap the 95% confidence interval for the mean of the data.\n",
    "\n",
    "    Parameters:\n",
    "    - data: An array of data\n",
    "    - iterations: The number of bootstrap samples to generate\n",
    "\n",
    "    Returns:\n",
    "    - A tuple representing the lower and upper bounds of the 95% confidence interval\n",
    "    \"\"\"\n",
    "    means = np.zeros(iterations)\n",
    "\n",
    "    for i in range(iterations):\n",
    "        bootstrap_sample = np.random.choice(data, size=len(data), replace=True)\n",
    "        means[i] = np.mean(bootstrap_sample)\n",
    "\n",
    "    lower_bound = np.percentile(means, 2.5)\n",
    "    upper_bound = np.percentile(means, 97.5)\n",
    "\n",
    "    return (lower_bound, upper_bound)"
   ],
   "metadata": {
    "collapsed": false,
    "ExecuteTime": {
     "end_time": "2024-01-04T15:15:26.746260500Z",
     "start_time": "2024-01-04T15:15:26.743845Z"
    }
   }
  },
  {
   "cell_type": "code",
   "execution_count": null,
   "outputs": [],
   "source": [],
   "metadata": {
    "collapsed": false
   }
  }
 ],
 "metadata": {
  "kernelspec": {
   "display_name": "Python 3",
   "language": "python",
   "name": "python3"
  },
  "language_info": {
   "codemirror_mode": {
    "name": "ipython",
    "version": 2
   },
   "file_extension": ".py",
   "mimetype": "text/x-python",
   "name": "python",
   "nbconvert_exporter": "python",
   "pygments_lexer": "ipython2",
   "version": "2.7.6"
  }
 },
 "nbformat": 4,
 "nbformat_minor": 0
}

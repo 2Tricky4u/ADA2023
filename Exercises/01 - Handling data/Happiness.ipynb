{
 "cells": [
  {
   "cell_type": "markdown",
   "metadata": {},
   "source": [
    "## Data from World Happiness Report\n",
    "\n",
    "The World Happiness Report is an annual publication of the United Nations Sustainable Development Solutions Network. It contains articles, and rankings of national happiness based on respondent ratings of their own lives, which the report also correlates with various life factors.\n",
    "\n",
    "In this notebook we will explore the happiness of different countries and the features associated.\n",
    "The datasets that we will use are available in *Data*: **happiness2020.pkl** and **countries_info.csv**.\n",
    "\n",
    "Although the features are self-explanatory, here a summary: \n",
    "\n",
    "**happiness2020.pkl**\n",
    "* country: *Name of the country*\n",
    "* happiness_score: *Happiness score*\n",
    "* social_support: *Social support (mitigation the effects of inequality)*\n",
    "* healthy_life_expectancy: *Healthy Life Expectancy*\n",
    "* freedom_of_choices: *Freedom to make life choices*\n",
    "* generosity: *Generosity (charity, volunteers)*\n",
    "* perception_of_corruption: *Corruption Perception*\n",
    "* world_region: *Area of the world of the country*\n",
    "\n",
    "**countries_info.csv**\n",
    "* country_name: *Name of the country*\n",
    "* area: *Area in sq mi*\n",
    "* population: *Number of people*\n",
    "* literacy: *Literacy percentage*"
   ]
  },
  {
   "cell_type": "code",
   "execution_count": 1,
   "metadata": {
    "ExecuteTime": {
     "end_time": "2023-10-02T16:37:43.051135100Z",
     "start_time": "2023-10-02T16:37:42.898271Z"
    }
   },
   "outputs": [
    {
     "name": "stdout",
     "output_type": "stream",
     "text": [
      "country_name,area,population,literacy\n",
      "afghanistan,647500,31056997,\"36,0\"\n",
      "albania,28748,3581655,\"86,5\"\n",
      "algeria,2381740,32930091,\"70,0\"\n",
      "argentina,2766890,39921833,\"97,1\"\n",
      "armenia,29800,2976372,\"98,6\"\n",
      "australia,7686850,20264082,\"100,0\"\n",
      "austria,83870,8192880,\"98,0\"\n",
      "azerbaijan,86600,7961619,\"97,0\"\n",
      "bahrain,665,698585,\"89,1\"\n"
     ]
    }
   ],
   "source": [
    "!head Data/countries_info.csv"
   ]
  },
  {
   "cell_type": "code",
   "execution_count": 2,
   "metadata": {
    "ExecuteTime": {
     "end_time": "2023-10-02T16:41:53.482312700Z",
     "start_time": "2023-10-02T16:41:53.434231600Z"
    }
   },
   "outputs": [],
   "source": [
    "import pandas as pd\n",
    "%matplotlib inline\n",
    "\n",
    "DATA_FOLDER = 'Data/'\n",
    "\n",
    "HAPPINESS_DATASET = DATA_FOLDER+\"happiness2020.csv\"\n",
    "COUNTRIES_DATASET = DATA_FOLDER+\"countries_info.csv\""
   ]
  },
  {
   "cell_type": "markdown",
   "metadata": {},
   "source": [
    "## Task 1: Load the data\n",
    "\n",
    "Load the 2 datasets in Pandas dataframes (called *happiness* and *countries*), and show the first rows.\n",
    "\n",
    "\n",
    "**Hint**: Use the correct reader and verify the data has the expected format."
   ]
  },
  {
   "cell_type": "code",
   "execution_count": 11,
   "metadata": {
    "ExecuteTime": {
     "end_time": "2023-10-02T16:45:48.788133700Z",
     "start_time": "2023-10-02T16:45:48.737017Z"
    }
   },
   "outputs": [
    {
     "name": "stdout",
     "output_type": "stream",
     "text": [
      "country                      object\n",
      "happiness_score             float64\n",
      "social_support              float64\n",
      "healthy_life_expectancy     float64\n",
      "freedom_of_choices          float64\n",
      "generosity                  float64\n",
      "perception_of_corruption    float64\n",
      "world_region                 object\n",
      "dtype: object\n"
     ]
    },
    {
     "data": {
      "text/plain": "country_name     object\narea              int64\npopulation        int64\nliteracy        float64\ndtype: object"
     },
     "execution_count": 11,
     "metadata": {},
     "output_type": "execute_result"
    }
   ],
   "source": [
    "happy = pd.read_csv(HAPPINESS_DATASET)\n",
    "countries = pd.read_csv(COUNTRIES_DATASET, decimal=\",\")\n",
    "print(happy.dtypes)\n",
    "countries.dtypes"
   ]
  },
  {
   "cell_type": "markdown",
   "metadata": {},
   "source": [
    "## Task 2: Let's merge the data\n",
    "\n",
    "Create a dataframe called *country_features* by merging *happiness* and *countries*. A row of this dataframe must describe all the features that we have about a country.\n",
    "\n",
    "**Hint**: Verify that all the rows are in the final dataframe."
   ]
  },
  {
   "cell_type": "code",
   "execution_count": 25,
   "metadata": {
    "ExecuteTime": {
     "end_time": "2023-10-02T16:52:11.059720200Z",
     "start_time": "2023-10-02T16:52:10.995651400Z"
    }
   },
   "outputs": [
    {
     "data": {
      "text/plain": "       country  happiness_score  social_support  healthy_life_expectancy  \\\n0  afghanistan           2.5669        0.470367                52.590000   \n1      albania           4.8827        0.671070                68.708138   \n2      algeria           5.0051        0.803385                65.905174   \n3    argentina           5.9747        0.900568                68.803802   \n4      armenia           4.6768        0.757479                66.750656   \n\n   freedom_of_choices  generosity  perception_of_corruption  \\\n0            0.396573   -0.096429                  0.933687   \n1            0.781994   -0.042309                  0.896304   \n2            0.466611   -0.121105                  0.735485   \n3            0.831132   -0.194914                  0.842010   \n4            0.712018   -0.138780                  0.773545   \n\n                         world_region country_name     area  population  \\\n0                          South Asia  afghanistan   647500    31056997   \n1          Central and Eastern Europe      albania    28748     3581655   \n2        Middle East and North Africa      algeria  2381740    32930091   \n3         Latin America and Caribbean    argentina  2766890    39921833   \n4  Commonwealth of Independent States      armenia    29800     2976372   \n\n   literacy  \n0      36.0  \n1      86.5  \n2      70.0  \n3      97.1  \n4      98.6  ",
      "text/html": "<div>\n<style scoped>\n    .dataframe tbody tr th:only-of-type {\n        vertical-align: middle;\n    }\n\n    .dataframe tbody tr th {\n        vertical-align: top;\n    }\n\n    .dataframe thead th {\n        text-align: right;\n    }\n</style>\n<table border=\"1\" class=\"dataframe\">\n  <thead>\n    <tr style=\"text-align: right;\">\n      <th></th>\n      <th>country</th>\n      <th>happiness_score</th>\n      <th>social_support</th>\n      <th>healthy_life_expectancy</th>\n      <th>freedom_of_choices</th>\n      <th>generosity</th>\n      <th>perception_of_corruption</th>\n      <th>world_region</th>\n      <th>country_name</th>\n      <th>area</th>\n      <th>population</th>\n      <th>literacy</th>\n    </tr>\n  </thead>\n  <tbody>\n    <tr>\n      <th>0</th>\n      <td>afghanistan</td>\n      <td>2.5669</td>\n      <td>0.470367</td>\n      <td>52.590000</td>\n      <td>0.396573</td>\n      <td>-0.096429</td>\n      <td>0.933687</td>\n      <td>South Asia</td>\n      <td>afghanistan</td>\n      <td>647500</td>\n      <td>31056997</td>\n      <td>36.0</td>\n    </tr>\n    <tr>\n      <th>1</th>\n      <td>albania</td>\n      <td>4.8827</td>\n      <td>0.671070</td>\n      <td>68.708138</td>\n      <td>0.781994</td>\n      <td>-0.042309</td>\n      <td>0.896304</td>\n      <td>Central and Eastern Europe</td>\n      <td>albania</td>\n      <td>28748</td>\n      <td>3581655</td>\n      <td>86.5</td>\n    </tr>\n    <tr>\n      <th>2</th>\n      <td>algeria</td>\n      <td>5.0051</td>\n      <td>0.803385</td>\n      <td>65.905174</td>\n      <td>0.466611</td>\n      <td>-0.121105</td>\n      <td>0.735485</td>\n      <td>Middle East and North Africa</td>\n      <td>algeria</td>\n      <td>2381740</td>\n      <td>32930091</td>\n      <td>70.0</td>\n    </tr>\n    <tr>\n      <th>3</th>\n      <td>argentina</td>\n      <td>5.9747</td>\n      <td>0.900568</td>\n      <td>68.803802</td>\n      <td>0.831132</td>\n      <td>-0.194914</td>\n      <td>0.842010</td>\n      <td>Latin America and Caribbean</td>\n      <td>argentina</td>\n      <td>2766890</td>\n      <td>39921833</td>\n      <td>97.1</td>\n    </tr>\n    <tr>\n      <th>4</th>\n      <td>armenia</td>\n      <td>4.6768</td>\n      <td>0.757479</td>\n      <td>66.750656</td>\n      <td>0.712018</td>\n      <td>-0.138780</td>\n      <td>0.773545</td>\n      <td>Commonwealth of Independent States</td>\n      <td>armenia</td>\n      <td>29800</td>\n      <td>2976372</td>\n      <td>98.6</td>\n    </tr>\n  </tbody>\n</table>\n</div>"
     },
     "execution_count": 25,
     "metadata": {},
     "output_type": "execute_result"
    }
   ],
   "source": [
    "happy['country'] = happy['country'].apply(lambda x : x.lower())\n",
    "country_features = happy.merge(countries, right_on=\"country_name\", left_on=\"country\", how=\"outer\")\n",
    "country_features.head()"
   ]
  },
  {
   "cell_type": "code",
   "execution_count": 44,
   "outputs": [
    {
     "name": "stdout",
     "output_type": "stream",
     "text": [
      "happy = 135\n",
      "countries = 135\n",
      "features = 135\n"
     ]
    }
   ],
   "source": [
    "print(\"happy = {}\".format(len(happy)))\n",
    "print(\"countries = {}\".format(len(countries)))\n",
    "print(\"features = {}\".format(len(country_features)))"
   ],
   "metadata": {
    "collapsed": false,
    "ExecuteTime": {
     "end_time": "2023-10-02T17:05:29.904534600Z",
     "start_time": "2023-10-02T17:05:29.801894500Z"
    }
   }
  },
  {
   "cell_type": "markdown",
   "metadata": {},
   "source": [
    "## Task 3: Where are people happier?\n",
    "\n",
    "Print the top 10 countries based on their happiness score (higher is better)."
   ]
  },
  {
   "cell_type": "code",
   "execution_count": 47,
   "metadata": {
    "ExecuteTime": {
     "end_time": "2023-10-02T17:06:20.874969500Z",
     "start_time": "2023-10-02T17:06:20.778704200Z"
    }
   },
   "outputs": [
    {
     "data": {
      "text/plain": "         country  happiness_score\n38       finland           7.8087\n31       denmark           7.6456\n115  switzerland           7.5599\n50       iceland           7.5045\n92        norway           7.4880\n87   netherlands           7.4489\n114       sweden           7.3535\n88   new zealand           7.2996\n6        austria           7.2942\n72    luxembourg           7.2375",
      "text/html": "<div>\n<style scoped>\n    .dataframe tbody tr th:only-of-type {\n        vertical-align: middle;\n    }\n\n    .dataframe tbody tr th {\n        vertical-align: top;\n    }\n\n    .dataframe thead th {\n        text-align: right;\n    }\n</style>\n<table border=\"1\" class=\"dataframe\">\n  <thead>\n    <tr style=\"text-align: right;\">\n      <th></th>\n      <th>country</th>\n      <th>happiness_score</th>\n    </tr>\n  </thead>\n  <tbody>\n    <tr>\n      <th>38</th>\n      <td>finland</td>\n      <td>7.8087</td>\n    </tr>\n    <tr>\n      <th>31</th>\n      <td>denmark</td>\n      <td>7.6456</td>\n    </tr>\n    <tr>\n      <th>115</th>\n      <td>switzerland</td>\n      <td>7.5599</td>\n    </tr>\n    <tr>\n      <th>50</th>\n      <td>iceland</td>\n      <td>7.5045</td>\n    </tr>\n    <tr>\n      <th>92</th>\n      <td>norway</td>\n      <td>7.4880</td>\n    </tr>\n    <tr>\n      <th>87</th>\n      <td>netherlands</td>\n      <td>7.4489</td>\n    </tr>\n    <tr>\n      <th>114</th>\n      <td>sweden</td>\n      <td>7.3535</td>\n    </tr>\n    <tr>\n      <th>88</th>\n      <td>new zealand</td>\n      <td>7.2996</td>\n    </tr>\n    <tr>\n      <th>6</th>\n      <td>austria</td>\n      <td>7.2942</td>\n    </tr>\n    <tr>\n      <th>72</th>\n      <td>luxembourg</td>\n      <td>7.2375</td>\n    </tr>\n  </tbody>\n</table>\n</div>"
     },
     "execution_count": 47,
     "metadata": {},
     "output_type": "execute_result"
    }
   ],
   "source": [
    "country_features.sort_values(\"happiness_score\", ascending=False)[['country', 'happiness_score']].head(10)"
   ]
  },
  {
   "cell_type": "markdown",
   "metadata": {},
   "source": [
    "We are interested to know in what world region people are happier. \n",
    "\n",
    "Create and print a dataframe with the (1) average happiness score and (2) the number of contries for each world region.\n",
    "Sort the result to show the happiness ranking."
   ]
  },
  {
   "cell_type": "code",
   "execution_count": 49,
   "metadata": {
    "ExecuteTime": {
     "end_time": "2023-10-02T17:07:40.398541400Z",
     "start_time": "2023-10-02T17:07:40.333994600Z"
    }
   },
   "outputs": [
    {
     "name": "stdout",
     "output_type": "stream",
     "text": [
      "                                        mean  size\n",
      "world_region                                      \n",
      "Central and Eastern Europe          5.891393    14\n",
      "Commonwealth of Independent States  5.358342    12\n",
      "East Asia                           5.483633     3\n",
      "Latin America and Caribbean         5.971280    20\n",
      "Middle East and North Africa        5.269306    16\n",
      "North America and ANZ               7.173525     4\n",
      "South Asia                          4.355083     6\n",
      "Southeast Asia                      5.517788     8\n",
      "Sub-Saharan Africa                  4.393856    32\n",
      "Western Europe                      6.967405    20\n"
     ]
    }
   ],
   "source": [
    "country_features_grouped = country_features.groupby(\"world_region\")\n",
    "print(country_features_grouped['happiness_score'].agg(['mean', 'size']))\n"
   ]
  },
  {
   "cell_type": "markdown",
   "metadata": {},
   "source": [
    "The first region has only a few countries! What are them and what is their score?"
   ]
  },
  {
   "cell_type": "code",
   "execution_count": 53,
   "metadata": {
    "ExecuteTime": {
     "end_time": "2023-10-02T17:10:56.562351300Z",
     "start_time": "2023-10-02T17:10:56.497893900Z"
    }
   },
   "outputs": [
    {
     "data": {
      "text/plain": "           country  happiness_score\n5        australia           7.2228\n21          canada           7.2321\n88     new zealand           7.2996\n127  united states           6.9396",
      "text/html": "<div>\n<style scoped>\n    .dataframe tbody tr th:only-of-type {\n        vertical-align: middle;\n    }\n\n    .dataframe tbody tr th {\n        vertical-align: top;\n    }\n\n    .dataframe thead th {\n        text-align: right;\n    }\n</style>\n<table border=\"1\" class=\"dataframe\">\n  <thead>\n    <tr style=\"text-align: right;\">\n      <th></th>\n      <th>country</th>\n      <th>happiness_score</th>\n    </tr>\n  </thead>\n  <tbody>\n    <tr>\n      <th>5</th>\n      <td>australia</td>\n      <td>7.2228</td>\n    </tr>\n    <tr>\n      <th>21</th>\n      <td>canada</td>\n      <td>7.2321</td>\n    </tr>\n    <tr>\n      <th>88</th>\n      <td>new zealand</td>\n      <td>7.2996</td>\n    </tr>\n    <tr>\n      <th>127</th>\n      <td>united states</td>\n      <td>6.9396</td>\n    </tr>\n  </tbody>\n</table>\n</div>"
     },
     "execution_count": 53,
     "metadata": {},
     "output_type": "execute_result"
    }
   ],
   "source": [
    "country_features[country_features.world_region == \"North America and ANZ\"][['country', 'happiness_score']]"
   ]
  },
  {
   "cell_type": "markdown",
   "metadata": {},
   "source": [
    "## Task 4: How literate is the world?\n",
    "\n",
    "Print the names of the countries with a level of literacy of 100%. \n",
    "\n",
    "For each country, print the name and the world region in the format: *{region name} - {country name} ({happiness score})*"
   ]
  },
  {
   "cell_type": "code",
   "execution_count": 72,
   "metadata": {
    "ExecuteTime": {
     "end_time": "2023-10-02T17:24:27.972596Z",
     "start_time": "2023-10-02T17:24:27.924572100Z"
    }
   },
   "outputs": [
    {
     "name": "stdout",
     "output_type": "stream",
     "text": [
      "North America and ANZ - australia (7.222800)\n",
      "Western Europe - denmark (7.645600)\n",
      "Western Europe - finland (7.808700)\n",
      "Western Europe - luxembourg (7.237500)\n",
      "Western Europe - norway (7.488000)\n"
     ]
    }
   ],
   "source": [
    "for row in country_features[country_features.literacy == 100.].itertuples():\n",
    "    print(\"%s - %s (%f)\" % (row.world_region, row.country, row.happiness_score))\n"
   ]
  },
  {
   "cell_type": "markdown",
   "metadata": {},
   "source": [
    "What is the global average?"
   ]
  },
  {
   "cell_type": "code",
   "execution_count": 75,
   "metadata": {
    "ExecuteTime": {
     "end_time": "2023-10-02T17:25:59.799871200Z",
     "start_time": "2023-10-02T17:25:59.759256900Z"
    }
   },
   "outputs": [
    {
     "data": {
      "text/plain": "81.85112781954888"
     },
     "execution_count": 75,
     "metadata": {},
     "output_type": "execute_result"
    }
   ],
   "source": [
    "country_features.literacy.mean()"
   ]
  },
  {
   "cell_type": "markdown",
   "metadata": {},
   "source": [
    "Calculate the proportion of countries with a literacy level below 50%. Print the value in percentage, formatted with 2 decimals."
   ]
  },
  {
   "cell_type": "code",
   "execution_count": 91,
   "metadata": {
    "ExecuteTime": {
     "end_time": "2023-10-02T17:31:46.812969800Z",
     "start_time": "2023-10-02T17:31:46.763630100Z"
    }
   },
   "outputs": [
    {
     "name": "stdout",
     "output_type": "stream",
     "text": [
      "Proportion : 0.12\n"
     ]
    }
   ],
   "source": [
    "total_country = country_features.country.count()\n",
    "below_half_coun = country_features[country_features.literacy < 50.].country.count()\n",
    "print(\"Proportion : %.2f\" %(below_half_coun/total_country))"
   ]
  },
  {
   "cell_type": "markdown",
   "metadata": {},
   "source": [
    "Print the raw number and the percentage of world population that is illiterate."
   ]
  },
  {
   "cell_type": "code",
   "execution_count": 108,
   "metadata": {
    "ExecuteTime": {
     "end_time": "2023-10-02T17:40:45.317474400Z",
     "start_time": "2023-10-02T17:40:45.269326900Z"
    }
   },
   "outputs": [
    {
     "name": "stdout",
     "output_type": "stream",
     "text": [
      "The percentage of the illiterate population is 20.33 and is represented by 1249372988 peoples\n"
     ]
    }
   ],
   "source": [
    "total_population = country_features.population.sum()\n",
    "illetrates = ((100 - country_features.literacy)/100 * country_features.population).sum()\n",
    "print(\"The percentage of the illiterate population is %.2f and is represented by %i peoples\" %(illetrates/total_population*100, illetrates))"
   ]
  },
  {
   "cell_type": "markdown",
   "metadata": {},
   "source": [
    "## Task 5: Population density\n",
    "\n",
    "Add to the dataframe a new field called *population_density* computed by dividing *population* by *area*."
   ]
  },
  {
   "cell_type": "code",
   "execution_count": 110,
   "metadata": {
    "ExecuteTime": {
     "end_time": "2023-10-02T17:42:09.740183600Z",
     "start_time": "2023-10-02T17:42:09.627782400Z"
    }
   },
   "outputs": [
    {
     "data": {
      "text/plain": "         country  happiness_score  social_support  healthy_life_expectancy  \\\n0    afghanistan           2.5669        0.470367                52.590000   \n1        albania           4.8827        0.671070                68.708138   \n2        algeria           5.0051        0.803385                65.905174   \n3      argentina           5.9747        0.900568                68.803802   \n4        armenia           4.6768        0.757479                66.750656   \n..           ...              ...             ...                      ...   \n130    venezuela           5.0532        0.890408                66.505341   \n131      vietnam           5.3535        0.849987                67.952736   \n132        yemen           3.5274        0.817981                56.727283   \n133       zambia           3.7594        0.698824                55.299377   \n134     zimbabwe           3.2992        0.763093                55.617260   \n\n     freedom_of_choices  generosity  perception_of_corruption  \\\n0              0.396573   -0.096429                  0.933687   \n1              0.781994   -0.042309                  0.896304   \n2              0.466611   -0.121105                  0.735485   \n3              0.831132   -0.194914                  0.842010   \n4              0.712018   -0.138780                  0.773545   \n..                  ...         ...                       ...   \n130            0.623278   -0.169091                  0.837038   \n131            0.939593   -0.094533                  0.796421   \n132            0.599920   -0.157735                  0.800288   \n133            0.806500    0.078037                  0.801290   \n134            0.711458   -0.072064                  0.810237   \n\n                           world_region country_name     area  population  \\\n0                            South Asia  afghanistan   647500    31056997   \n1            Central and Eastern Europe      albania    28748     3581655   \n2          Middle East and North Africa      algeria  2381740    32930091   \n3           Latin America and Caribbean    argentina  2766890    39921833   \n4    Commonwealth of Independent States      armenia    29800     2976372   \n..                                  ...          ...      ...         ...   \n130         Latin America and Caribbean    venezuela   912050    25730435   \n131                      Southeast Asia      vietnam   329560    84402966   \n132        Middle East and North Africa        yemen   527970    21456188   \n133                  Sub-Saharan Africa       zambia   752614    11502010   \n134                  Sub-Saharan Africa     zimbabwe   390580    12236805   \n\n     literacy  population_densities  \n0        36.0             47.964474  \n1        86.5            124.587971  \n2        70.0             13.826065  \n3        97.1             14.428413  \n4        98.6             99.878255  \n..        ...                   ...  \n130      93.4             28.211650  \n131      90.3            256.108041  \n132      50.2             40.639029  \n133      80.6             15.282748  \n134      90.7             31.329830  \n\n[135 rows x 13 columns]",
      "text/html": "<div>\n<style scoped>\n    .dataframe tbody tr th:only-of-type {\n        vertical-align: middle;\n    }\n\n    .dataframe tbody tr th {\n        vertical-align: top;\n    }\n\n    .dataframe thead th {\n        text-align: right;\n    }\n</style>\n<table border=\"1\" class=\"dataframe\">\n  <thead>\n    <tr style=\"text-align: right;\">\n      <th></th>\n      <th>country</th>\n      <th>happiness_score</th>\n      <th>social_support</th>\n      <th>healthy_life_expectancy</th>\n      <th>freedom_of_choices</th>\n      <th>generosity</th>\n      <th>perception_of_corruption</th>\n      <th>world_region</th>\n      <th>country_name</th>\n      <th>area</th>\n      <th>population</th>\n      <th>literacy</th>\n      <th>population_densities</th>\n    </tr>\n  </thead>\n  <tbody>\n    <tr>\n      <th>0</th>\n      <td>afghanistan</td>\n      <td>2.5669</td>\n      <td>0.470367</td>\n      <td>52.590000</td>\n      <td>0.396573</td>\n      <td>-0.096429</td>\n      <td>0.933687</td>\n      <td>South Asia</td>\n      <td>afghanistan</td>\n      <td>647500</td>\n      <td>31056997</td>\n      <td>36.0</td>\n      <td>47.964474</td>\n    </tr>\n    <tr>\n      <th>1</th>\n      <td>albania</td>\n      <td>4.8827</td>\n      <td>0.671070</td>\n      <td>68.708138</td>\n      <td>0.781994</td>\n      <td>-0.042309</td>\n      <td>0.896304</td>\n      <td>Central and Eastern Europe</td>\n      <td>albania</td>\n      <td>28748</td>\n      <td>3581655</td>\n      <td>86.5</td>\n      <td>124.587971</td>\n    </tr>\n    <tr>\n      <th>2</th>\n      <td>algeria</td>\n      <td>5.0051</td>\n      <td>0.803385</td>\n      <td>65.905174</td>\n      <td>0.466611</td>\n      <td>-0.121105</td>\n      <td>0.735485</td>\n      <td>Middle East and North Africa</td>\n      <td>algeria</td>\n      <td>2381740</td>\n      <td>32930091</td>\n      <td>70.0</td>\n      <td>13.826065</td>\n    </tr>\n    <tr>\n      <th>3</th>\n      <td>argentina</td>\n      <td>5.9747</td>\n      <td>0.900568</td>\n      <td>68.803802</td>\n      <td>0.831132</td>\n      <td>-0.194914</td>\n      <td>0.842010</td>\n      <td>Latin America and Caribbean</td>\n      <td>argentina</td>\n      <td>2766890</td>\n      <td>39921833</td>\n      <td>97.1</td>\n      <td>14.428413</td>\n    </tr>\n    <tr>\n      <th>4</th>\n      <td>armenia</td>\n      <td>4.6768</td>\n      <td>0.757479</td>\n      <td>66.750656</td>\n      <td>0.712018</td>\n      <td>-0.138780</td>\n      <td>0.773545</td>\n      <td>Commonwealth of Independent States</td>\n      <td>armenia</td>\n      <td>29800</td>\n      <td>2976372</td>\n      <td>98.6</td>\n      <td>99.878255</td>\n    </tr>\n    <tr>\n      <th>...</th>\n      <td>...</td>\n      <td>...</td>\n      <td>...</td>\n      <td>...</td>\n      <td>...</td>\n      <td>...</td>\n      <td>...</td>\n      <td>...</td>\n      <td>...</td>\n      <td>...</td>\n      <td>...</td>\n      <td>...</td>\n      <td>...</td>\n    </tr>\n    <tr>\n      <th>130</th>\n      <td>venezuela</td>\n      <td>5.0532</td>\n      <td>0.890408</td>\n      <td>66.505341</td>\n      <td>0.623278</td>\n      <td>-0.169091</td>\n      <td>0.837038</td>\n      <td>Latin America and Caribbean</td>\n      <td>venezuela</td>\n      <td>912050</td>\n      <td>25730435</td>\n      <td>93.4</td>\n      <td>28.211650</td>\n    </tr>\n    <tr>\n      <th>131</th>\n      <td>vietnam</td>\n      <td>5.3535</td>\n      <td>0.849987</td>\n      <td>67.952736</td>\n      <td>0.939593</td>\n      <td>-0.094533</td>\n      <td>0.796421</td>\n      <td>Southeast Asia</td>\n      <td>vietnam</td>\n      <td>329560</td>\n      <td>84402966</td>\n      <td>90.3</td>\n      <td>256.108041</td>\n    </tr>\n    <tr>\n      <th>132</th>\n      <td>yemen</td>\n      <td>3.5274</td>\n      <td>0.817981</td>\n      <td>56.727283</td>\n      <td>0.599920</td>\n      <td>-0.157735</td>\n      <td>0.800288</td>\n      <td>Middle East and North Africa</td>\n      <td>yemen</td>\n      <td>527970</td>\n      <td>21456188</td>\n      <td>50.2</td>\n      <td>40.639029</td>\n    </tr>\n    <tr>\n      <th>133</th>\n      <td>zambia</td>\n      <td>3.7594</td>\n      <td>0.698824</td>\n      <td>55.299377</td>\n      <td>0.806500</td>\n      <td>0.078037</td>\n      <td>0.801290</td>\n      <td>Sub-Saharan Africa</td>\n      <td>zambia</td>\n      <td>752614</td>\n      <td>11502010</td>\n      <td>80.6</td>\n      <td>15.282748</td>\n    </tr>\n    <tr>\n      <th>134</th>\n      <td>zimbabwe</td>\n      <td>3.2992</td>\n      <td>0.763093</td>\n      <td>55.617260</td>\n      <td>0.711458</td>\n      <td>-0.072064</td>\n      <td>0.810237</td>\n      <td>Sub-Saharan Africa</td>\n      <td>zimbabwe</td>\n      <td>390580</td>\n      <td>12236805</td>\n      <td>90.7</td>\n      <td>31.329830</td>\n    </tr>\n  </tbody>\n</table>\n<p>135 rows × 13 columns</p>\n</div>"
     },
     "execution_count": 110,
     "metadata": {},
     "output_type": "execute_result"
    }
   ],
   "source": [
    "country_features['population_densities'] = country_features.population/country_features.area\n",
    "country_features"
   ]
  },
  {
   "cell_type": "markdown",
   "metadata": {},
   "source": [
    "What is the happiness score of the 3 countries with the lowest population density?"
   ]
  },
  {
   "cell_type": "code",
   "execution_count": 115,
   "metadata": {
    "ExecuteTime": {
     "end_time": "2023-10-02T17:44:29.596711900Z",
     "start_time": "2023-10-02T17:44:29.475976500Z"
    }
   },
   "outputs": [
    {
     "data": {
      "text/plain": "      country  happiness_score\n83   mongolia           5.4562\n5   australia           7.2228\n14   botswana           3.4789",
      "text/html": "<div>\n<style scoped>\n    .dataframe tbody tr th:only-of-type {\n        vertical-align: middle;\n    }\n\n    .dataframe tbody tr th {\n        vertical-align: top;\n    }\n\n    .dataframe thead th {\n        text-align: right;\n    }\n</style>\n<table border=\"1\" class=\"dataframe\">\n  <thead>\n    <tr style=\"text-align: right;\">\n      <th></th>\n      <th>country</th>\n      <th>happiness_score</th>\n    </tr>\n  </thead>\n  <tbody>\n    <tr>\n      <th>83</th>\n      <td>mongolia</td>\n      <td>5.4562</td>\n    </tr>\n    <tr>\n      <th>5</th>\n      <td>australia</td>\n      <td>7.2228</td>\n    </tr>\n    <tr>\n      <th>14</th>\n      <td>botswana</td>\n      <td>3.4789</td>\n    </tr>\n  </tbody>\n</table>\n</div>"
     },
     "execution_count": 115,
     "metadata": {},
     "output_type": "execute_result"
    }
   ],
   "source": [
    "country_features.sort_values('population_densities').head(3)[['country','happiness_score']]"
   ]
  },
  {
   "cell_type": "markdown",
   "metadata": {},
   "source": [
    "## Task 6: Healty and happy?\n",
    "\n",
    "Plot in a scatter plot the happiness score (x) and healty life expectancy (y)."
   ]
  },
  {
   "cell_type": "code",
   "execution_count": 118,
   "metadata": {
    "ExecuteTime": {
     "end_time": "2023-10-02T18:10:40.479552700Z",
     "start_time": "2023-10-02T18:10:40.144050300Z"
    }
   },
   "outputs": [
    {
     "data": {
      "text/plain": "<Axes: xlabel='happiness_score', ylabel='healthy_life_expectancy'>"
     },
     "execution_count": 118,
     "metadata": {},
     "output_type": "execute_result"
    },
    {
     "data": {
      "text/plain": "<Figure size 640x480 with 1 Axes>",
      "image/png": "[encoded data removed]"
     },
     "metadata": {},
     "output_type": "display_data"
    }
   ],
   "source": [
    "country_features.plot.scatter(x=\"happiness_score\", y=\"healthy_life_expectancy\")"
   ]
  },
  {
   "cell_type": "markdown",
   "metadata": {},
   "source": [
    "Feel free to continue the exploration of the dataset! We'll release the solutions next week.\n",
    "\n",
    "----\n",
    "Enjoy EPFL and be happy, next year Switzerland must be #1."
   ]
  }
 ],
 "metadata": {
  "kernelspec": {
   "display_name": "Python 3 (ipykernel)",
   "language": "python",
   "name": "python3"
  },
  "language_info": {
   "codemirror_mode": {
    "name": "ipython",
    "version": 3
   },
   "file_extension": ".py",
   "mimetype": "text/x-python",
   "name": "python",
   "nbconvert_exporter": "python",
   "pygments_lexer": "ipython3",
   "version": "3.9.18"
  }
 },
 "nbformat": 4,
 "nbformat_minor": 4
}

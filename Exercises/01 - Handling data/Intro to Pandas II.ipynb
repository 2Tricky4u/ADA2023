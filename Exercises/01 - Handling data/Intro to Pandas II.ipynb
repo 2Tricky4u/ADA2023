{
 "cells": [
  {
   "cell_type": "markdown",
   "metadata": {
    "toc": "true"
   },
   "source": [
    "<h1>Table of Contents<span class=\"tocSkip\"></span></h1>\n",
    "<div class=\"toc\"><ul class=\"toc-item\"><li><span><a href=\"#Data-Wrangling-with-Pandas\" data-toc-modified-id=\"Data-Wrangling-with-Pandas-1\">Data Wrangling with Pandas</a></span><ul class=\"toc-item\"><li><span><a href=\"#Date/Time-data-handling\" data-toc-modified-id=\"Date/Time-data-handling-1.1\">Date/Time data handling</a></span></li><li><span><a href=\"#Merging-and-joining-DataFrame-objects\" data-toc-modified-id=\"Merging-and-joining-DataFrame-objects-1.2\">Merging and joining DataFrame objects</a></span><ul class=\"toc-item\"><li><span><a href=\"#Exercise-6\" data-toc-modified-id=\"Exercise-6-1.2.1\">Exercise 6</a></span></li></ul></li><li><span><a href=\"#Concatenation\" data-toc-modified-id=\"Concatenation-1.3\">Concatenation</a></span></li><li><span><a href=\"#Reshaping-DataFrame-objects\" data-toc-modified-id=\"Reshaping-DataFrame-objects-1.4\">Reshaping DataFrame objects</a></span></li><li><span><a href=\"#Pivoting\" data-toc-modified-id=\"Pivoting-1.5\">Pivoting</a></span></li><li><span><a href=\"#Data-transformation\" data-toc-modified-id=\"Data-transformation-1.6\">Data transformation</a></span><ul class=\"toc-item\"><li><span><a href=\"#Dealing-with-duplicates\" data-toc-modified-id=\"Dealing-with-duplicates-1.6.1\">Dealing with duplicates</a></span></li><li><span><a href=\"#Value-replacement\" data-toc-modified-id=\"Value-replacement-1.6.2\">Value replacement</a></span></li><li><span><a href=\"#Inidcator-variables\" data-toc-modified-id=\"Inidcator-variables-1.6.3\">Inidcator variables</a></span></li></ul></li><li><span><a href=\"#Categorical-Data\" data-toc-modified-id=\"Categorical-Data-1.7\">Categorical Data</a></span><ul class=\"toc-item\"><li><span><a href=\"#Discretization\" data-toc-modified-id=\"Discretization-1.7.1\">Discretization</a></span></li><li><span><a href=\"#Permutation-and-sampling\" data-toc-modified-id=\"Permutation-and-sampling-1.7.2\">Permutation and sampling</a></span></li></ul></li><li><span><a href=\"#Data-aggregation-and-GroupBy-operations\" data-toc-modified-id=\"Data-aggregation-and-GroupBy-operations-1.8\">Data aggregation and GroupBy operations</a></span><ul class=\"toc-item\"><li><span><a href=\"#Apply\" data-toc-modified-id=\"Apply-1.8.1\">Apply</a></span></li></ul></li><li><span><a href=\"#References\" data-toc-modified-id=\"References-1.9\">References</a></span></li></ul></li></ul></div>"
   ]
  },
  {
   "cell_type": "markdown",
   "metadata": {},
   "source": [
    "# Data Wrangling with Pandas\n",
    "\n",
    "Now that we have been exposed to the basic functionality of Pandas, let's explore some more advanced features that will be useful when addressing more complex data management tasks.\n",
    "\n",
    "As most statisticians/data analysts will admit, often the lion's share of the time spent implementing an analysis is devoted to preparing the data itself, rather than to coding or running a particular model that uses the data. This is where Pandas and  Python's standard library are beneficial, providing high-level, flexible, and efficient tools for manipulating your data as needed.\n"
   ]
  },
  {
   "cell_type": "code",
   "execution_count": 1,
   "metadata": {
    "ExecuteTime": {
     "end_time": "2023-10-02T09:56:23.917288300Z",
     "start_time": "2023-10-02T09:56:23.833497300Z"
    }
   },
   "outputs": [],
   "source": [
    "%matplotlib inline\n",
    "import pandas as pd\n",
    "import numpy as np\n",
    "import matplotlib.pyplot as plt\n",
    "import seaborn as sns\n",
    "sns.set_context('notebook')"
   ]
  },
  {
   "cell_type": "markdown",
   "metadata": {},
   "source": [
    "## Date/Time data handling\n",
    "\n",
    "Date and time data are inherently problematic. There are an unequal number of days in every month, an unequal number of days in a year (due to leap years), and time zones that vary over space. Yet information about time is essential in many analyses, particularly in the case of time series analysis."
   ]
  },
  {
   "cell_type": "markdown",
   "metadata": {},
   "source": [
    "The `datetime` built-in library handles temporal information down to the nanosecond."
   ]
  },
  {
   "cell_type": "code",
   "execution_count": 2,
   "metadata": {
    "ExecuteTime": {
     "end_time": "2023-10-02T09:56:23.968446100Z",
     "start_time": "2023-10-02T09:56:23.917288300Z"
    }
   },
   "outputs": [],
   "source": [
    "from datetime import datetime, date, time"
   ]
  },
  {
   "cell_type": "code",
   "execution_count": 3,
   "metadata": {
    "ExecuteTime": {
     "end_time": "2023-10-02T09:56:24.038743900Z",
     "start_time": "2023-10-02T09:56:23.935169700Z"
    }
   },
   "outputs": [
    {
     "data": {
      "text/plain": "datetime.datetime(2023, 10, 2, 11, 56, 23, 935169)"
     },
     "execution_count": 3,
     "metadata": {},
     "output_type": "execute_result"
    }
   ],
   "source": [
    "now = datetime.now()\n",
    "now"
   ]
  },
  {
   "cell_type": "code",
   "execution_count": 4,
   "metadata": {
    "ExecuteTime": {
     "end_time": "2023-10-02T09:56:24.117548500Z",
     "start_time": "2023-10-02T09:56:23.964729500Z"
    }
   },
   "outputs": [
    {
     "data": {
      "text/plain": "datetime.date(1970, 9, 3)"
     },
     "execution_count": 4,
     "metadata": {},
     "output_type": "execute_result"
    }
   ],
   "source": [
    "date(1970, 9, 3)"
   ]
  },
  {
   "cell_type": "markdown",
   "metadata": {},
   "source": [
    "Having a custom data type for dates and times is convenient because we can perform operations on them easily. For example, we may want to calculate the difference between two times:"
   ]
  },
  {
   "cell_type": "code",
   "execution_count": 5,
   "metadata": {
    "ExecuteTime": {
     "end_time": "2023-10-02T10:04:58.288203500Z",
     "start_time": "2023-10-02T10:04:58.181846600Z"
    }
   },
   "outputs": [
    {
     "data": {
      "text/plain": "53.78630136986301"
     },
     "execution_count": 5,
     "metadata": {},
     "output_type": "execute_result"
    }
   ],
   "source": [
    "my_age = now - datetime(1970, 1, 1)\n",
    "my_age.days/365"
   ]
  },
  {
   "cell_type": "markdown",
   "metadata": {},
   "source": [
    "In this section, we will manipulate data collected from ocean-going vessels on the eastern seaboard. Vessel operations are monitored using the Automatic Identification System (AIS), a safety at sea navigation technology which vessels are required to maintain and that uses transponders to transmit very high frequency (VHF) radio signals containing static information including ship name, call sign, and country of origin, as well as dynamic information unique to a particular voyage such as vessel location, heading, and speed. \n",
    "\n",
    "The International Maritime Organization’s (IMO) International Convention for the Safety of Life at Sea requires functioning AIS capabilities on all vessels 300 gross tons or greater and the US Coast Guard requires AIS on nearly all vessels sailing in U.S. waters. The Coast Guard has established a national network of AIS receivers that provides coverage of nearly all U.S. waters. AIS signals are transmitted several times each minute and the network is capable of handling thousands of reports per minute and updates as often as every two seconds. Therefore, a typical voyage in our study might include the transmission of hundreds or thousands of AIS encoded signals. This provides a rich source of spatial data that includes both spatial and temporal information.\n",
    "\n",
    "For our purposes, we will use summarized data that describes the transit of a given vessel through a particular administrative area. The data includes the start and end time of the transit segment, as well as information about the speed of the vessel, how far it travelled, etc."
   ]
  },
  {
   "cell_type": "code",
   "execution_count": 6,
   "metadata": {
    "ExecuteTime": {
     "end_time": "2023-10-02T10:04:59.726346700Z",
     "start_time": "2023-10-02T10:04:59.243831Z"
    }
   },
   "outputs": [
    {
     "data": {
      "text/plain": "   mmsi               name  transit  segment  seg_length  avg_sog  min_sog  \\\n0     1        Us Govt Ves        1        1         5.1     13.2      9.2   \n1     1  Dredge Capt Frank        1        1        13.5     18.6     10.4   \n2     1      Us Gov Vessel        1        1         4.3     16.2     10.3   \n3     1      Us Gov Vessel        2        1         9.2     15.4     14.5   \n4     1  Dredge Capt Frank        2        1         9.2     15.4     14.6   \n\n   max_sog  pdgt10        st_time       end_time  \n0     14.5    96.5  2/10/09 16:03  2/10/09 16:27  \n1     20.6   100.0   4/6/09 14:31   4/6/09 15:20  \n2     20.5   100.0   4/6/09 14:36   4/6/09 14:55  \n3     16.1   100.0  4/10/09 17:58  4/10/09 18:34  \n4     16.2   100.0  4/10/09 17:59  4/10/09 18:35  ",
      "text/html": "<div>\n<style scoped>\n    .dataframe tbody tr th:only-of-type {\n        vertical-align: middle;\n    }\n\n    .dataframe tbody tr th {\n        vertical-align: top;\n    }\n\n    .dataframe thead th {\n        text-align: right;\n    }\n</style>\n<table border=\"1\" class=\"dataframe\">\n  <thead>\n    <tr style=\"text-align: right;\">\n      <th></th>\n      <th>mmsi</th>\n      <th>name</th>\n      <th>transit</th>\n      <th>segment</th>\n      <th>seg_length</th>\n      <th>avg_sog</th>\n      <th>min_sog</th>\n      <th>max_sog</th>\n      <th>pdgt10</th>\n      <th>st_time</th>\n      <th>end_time</th>\n    </tr>\n  </thead>\n  <tbody>\n    <tr>\n      <th>0</th>\n      <td>1</td>\n      <td>Us Govt Ves</td>\n      <td>1</td>\n      <td>1</td>\n      <td>5.1</td>\n      <td>13.2</td>\n      <td>9.2</td>\n      <td>14.5</td>\n      <td>96.5</td>\n      <td>2/10/09 16:03</td>\n      <td>2/10/09 16:27</td>\n    </tr>\n    <tr>\n      <th>1</th>\n      <td>1</td>\n      <td>Dredge Capt Frank</td>\n      <td>1</td>\n      <td>1</td>\n      <td>13.5</td>\n      <td>18.6</td>\n      <td>10.4</td>\n      <td>20.6</td>\n      <td>100.0</td>\n      <td>4/6/09 14:31</td>\n      <td>4/6/09 15:20</td>\n    </tr>\n    <tr>\n      <th>2</th>\n      <td>1</td>\n      <td>Us Gov Vessel</td>\n      <td>1</td>\n      <td>1</td>\n      <td>4.3</td>\n      <td>16.2</td>\n      <td>10.3</td>\n      <td>20.5</td>\n      <td>100.0</td>\n      <td>4/6/09 14:36</td>\n      <td>4/6/09 14:55</td>\n    </tr>\n    <tr>\n      <th>3</th>\n      <td>1</td>\n      <td>Us Gov Vessel</td>\n      <td>2</td>\n      <td>1</td>\n      <td>9.2</td>\n      <td>15.4</td>\n      <td>14.5</td>\n      <td>16.1</td>\n      <td>100.0</td>\n      <td>4/10/09 17:58</td>\n      <td>4/10/09 18:34</td>\n    </tr>\n    <tr>\n      <th>4</th>\n      <td>1</td>\n      <td>Dredge Capt Frank</td>\n      <td>2</td>\n      <td>1</td>\n      <td>9.2</td>\n      <td>15.4</td>\n      <td>14.6</td>\n      <td>16.2</td>\n      <td>100.0</td>\n      <td>4/10/09 17:59</td>\n      <td>4/10/09 18:35</td>\n    </tr>\n  </tbody>\n</table>\n</div>"
     },
     "execution_count": 6,
     "metadata": {},
     "output_type": "execute_result"
    }
   ],
   "source": [
    "segments = pd.read_csv(\"Data/transit_segments.csv\")\n",
    "segments.head()"
   ]
  },
  {
   "cell_type": "markdown",
   "metadata": {},
   "source": [
    "For example, we might be interested in the distribution of transit lengths, so we can plot them as a histogram:"
   ]
  },
  {
   "cell_type": "code",
   "execution_count": 7,
   "metadata": {
    "ExecuteTime": {
     "end_time": "2023-10-02T10:05:04.118621100Z",
     "start_time": "2023-10-02T10:05:03.269197100Z"
    }
   },
   "outputs": [
    {
     "data": {
      "text/plain": "<Axes: >"
     },
     "execution_count": 7,
     "metadata": {},
     "output_type": "execute_result"
    },
    {
     "data": {
      "text/plain": "<Figure size 640x480 with 1 Axes>",
      "image/png": "[encoded data removed]"
     },
     "metadata": {},
     "output_type": "display_data"
    }
   ],
   "source": [
    "segments.seg_length.hist(bins=500)"
   ]
  },
  {
   "cell_type": "markdown",
   "metadata": {},
   "source": [
    "Though most of the transits appear to be short, there are a few longer distances that make the plot difficult to read. This is where a transformation is useful:"
   ]
  },
  {
   "cell_type": "code",
   "execution_count": 8,
   "metadata": {
    "ExecuteTime": {
     "end_time": "2023-10-02T10:05:18.484638200Z",
     "start_time": "2023-10-02T10:05:17.649418500Z"
    }
   },
   "outputs": [
    {
     "data": {
      "text/plain": "<Axes: >"
     },
     "execution_count": 8,
     "metadata": {},
     "output_type": "execute_result"
    },
    {
     "data": {
      "text/plain": "<Figure size 640x480 with 1 Axes>",
      "image/png": "[encoded data removed]"
     },
     "metadata": {},
     "output_type": "display_data"
    }
   ],
   "source": [
    "segments.seg_length.apply(np.log).hist(bins=500)"
   ]
  },
  {
   "cell_type": "markdown",
   "metadata": {},
   "source": [
    "We can see that although there are date/time fields in the dataset, they are not in any specialized format, such as `datetime`."
   ]
  },
  {
   "cell_type": "markdown",
   "metadata": {},
   "source": [
    "Our first order of business will be to convert these data to `datetime`. The `strptime` method parses a string representation of a date and/or time field, according to the expected format of this information."
   ]
  },
  {
   "cell_type": "code",
   "execution_count": 9,
   "metadata": {
    "ExecuteTime": {
     "end_time": "2023-10-02T10:05:55.438362Z",
     "start_time": "2023-10-02T10:05:55.385639400Z"
    }
   },
   "outputs": [
    {
     "data": {
      "text/plain": "datetime.datetime(2009, 2, 10, 16, 3)"
     },
     "execution_count": 9,
     "metadata": {},
     "output_type": "execute_result"
    }
   ],
   "source": [
    "datetime.strptime(segments.st_time.iloc[0], '%m/%d/%y %H:%M')"
   ]
  },
  {
   "cell_type": "markdown",
   "metadata": {},
   "source": [
    "The `dateutil` package includes a parser that attempts to detect the format of the date strings, and convert them automatically."
   ]
  },
  {
   "cell_type": "code",
   "execution_count": 10,
   "metadata": {
    "ExecuteTime": {
     "end_time": "2023-10-02T10:06:21.638978800Z",
     "start_time": "2023-10-02T10:06:21.598983600Z"
    }
   },
   "outputs": [],
   "source": [
    "from dateutil.parser import parse"
   ]
  },
  {
   "cell_type": "code",
   "execution_count": 11,
   "metadata": {
    "ExecuteTime": {
     "end_time": "2023-10-02T10:06:22.184811100Z",
     "start_time": "2023-10-02T10:06:22.152036300Z"
    }
   },
   "outputs": [
    {
     "data": {
      "text/plain": "datetime.datetime(2009, 2, 10, 16, 3)"
     },
     "execution_count": 11,
     "metadata": {},
     "output_type": "execute_result"
    }
   ],
   "source": [
    "parse(segments.st_time.iloc[0])"
   ]
  },
  {
   "cell_type": "markdown",
   "metadata": {},
   "source": [
    "We can convert all the dates in a particular column by using the `apply` method."
   ]
  },
  {
   "cell_type": "code",
   "execution_count": 12,
   "metadata": {
    "ExecuteTime": {
     "end_time": "2023-10-02T10:06:47.145406Z",
     "start_time": "2023-10-02T10:06:45.085565300Z"
    }
   },
   "outputs": [
    {
     "data": {
      "text/plain": "0   2009-02-10 16:03:00\n1   2009-04-06 14:31:00\n2   2009-04-06 14:36:00\n3   2009-04-10 17:58:00\n4   2009-04-10 17:59:00\n5   2010-03-20 16:06:00\n6   2010-03-20 18:05:00\n7   2011-05-04 11:28:00\n8   2010-06-05 11:23:00\n9   2010-06-08 11:03:00\nName: st_time, dtype: datetime64[ns]"
     },
     "execution_count": 12,
     "metadata": {},
     "output_type": "execute_result"
    }
   ],
   "source": [
    "segments.st_time.apply(lambda d: datetime.strptime(d, '%m/%d/%y %H:%M')).head(10)"
   ]
  },
  {
   "cell_type": "markdown",
   "metadata": {},
   "source": [
    "As a convenience, Pandas has a `to_datetime` method that will parse and convert an entire `Series` of formatted strings into `datetime` objects."
   ]
  },
  {
   "cell_type": "code",
   "execution_count": 13,
   "metadata": {
    "ExecuteTime": {
     "end_time": "2023-10-02T10:07:01.787325200Z",
     "start_time": "2023-10-02T10:07:01.728160700Z"
    }
   },
   "outputs": [
    {
     "data": {
      "text/plain": "0   2009-02-10 16:03:00\n1   2009-04-06 14:31:00\n2   2009-04-06 14:36:00\n3   2009-04-10 17:58:00\n4   2009-04-10 17:59:00\n5   2010-03-20 16:06:00\n6   2010-03-20 18:05:00\n7   2011-05-04 11:28:00\n8   2010-06-05 11:23:00\n9   2010-06-08 11:03:00\nName: st_time, dtype: datetime64[ns]"
     },
     "execution_count": 13,
     "metadata": {},
     "output_type": "execute_result"
    }
   ],
   "source": [
    "pd.to_datetime(segments.st_time[:10], format='%m/%d/%y %H:%M')"
   ]
  },
  {
   "cell_type": "markdown",
   "metadata": {},
   "source": [
    "Pandas also has a custom NA value for missing datetime objects, `NaT`."
   ]
  },
  {
   "cell_type": "code",
   "execution_count": 14,
   "metadata": {
    "ExecuteTime": {
     "end_time": "2023-10-02T10:07:07.492968200Z",
     "start_time": "2023-10-02T10:07:07.446225Z"
    }
   },
   "outputs": [
    {
     "data": {
      "text/plain": "DatetimeIndex(['NaT'], dtype='datetime64[ns]', freq=None)"
     },
     "execution_count": 14,
     "metadata": {},
     "output_type": "execute_result"
    }
   ],
   "source": [
    "pd.to_datetime([None])"
   ]
  },
  {
   "cell_type": "markdown",
   "metadata": {},
   "source": [
    "Also, if `to_datetime()` has problems parsing any particular date/time format, you can pass the spec in using the `format=` argument."
   ]
  },
  {
   "cell_type": "markdown",
   "metadata": {},
   "source": [
    "The `read_*` functions now have an optional `parse_dates` argument that try to convert any columns passed to it into `datetime` format upon import:"
   ]
  },
  {
   "cell_type": "code",
   "execution_count": 15,
   "metadata": {
    "ExecuteTime": {
     "end_time": "2023-10-02T10:07:49.112588200Z",
     "start_time": "2023-10-02T10:07:49.039696600Z"
    }
   },
   "outputs": [],
   "source": [
    "segments = pd.read_csv(\"Data/transit_segments.csv\", parse_dates=['st_time', 'end_time'], date_format='%m/%d/%y %H:%M', nrows=1000)"
   ]
  },
  {
   "cell_type": "code",
   "execution_count": 17,
   "metadata": {
    "ExecuteTime": {
     "end_time": "2023-10-02T10:08:01.547310100Z",
     "start_time": "2023-10-02T10:08:01.496643900Z"
    }
   },
   "outputs": [
    {
     "data": {
      "text/plain": "mmsi                   int64\nname                  object\ntransit                int64\nsegment                int64\nseg_length           float64\navg_sog              float64\nmin_sog              float64\nmax_sog              float64\npdgt10               float64\nst_time       datetime64[ns]\nend_time      datetime64[ns]\ndtype: object"
     },
     "execution_count": 17,
     "metadata": {},
     "output_type": "execute_result"
    }
   ],
   "source": [
    "segments.dtypes"
   ]
  },
  {
   "cell_type": "markdown",
   "metadata": {},
   "source": [
    "Columns of the `datetime` type have an **accessor** to easily extract properties of the data type. This will return a `Series`, with the same row index as the `DataFrame`. For example:"
   ]
  },
  {
   "cell_type": "code",
   "execution_count": 18,
   "metadata": {
    "ExecuteTime": {
     "end_time": "2023-10-02T10:09:09.046021600Z",
     "start_time": "2023-10-02T10:09:08.949697400Z"
    }
   },
   "outputs": [
    {
     "data": {
      "text/plain": "0    2\n1    4\n2    4\n3    4\n4    4\nName: st_time, dtype: int32"
     },
     "execution_count": 18,
     "metadata": {},
     "output_type": "execute_result"
    }
   ],
   "source": [
    "segments.st_time.dt.month.head()"
   ]
  },
  {
   "cell_type": "markdown",
   "metadata": {},
   "source": [
    "This can be used to easily filter rows by particular temporal attributes:"
   ]
  },
  {
   "cell_type": "code",
   "execution_count": 19,
   "metadata": {
    "ExecuteTime": {
     "end_time": "2023-10-02T10:09:19.330477100Z",
     "start_time": "2023-10-02T10:09:19.204897100Z"
    }
   },
   "outputs": [
    {
     "data": {
      "text/plain": "    mmsi         name  transit  segment  seg_length  avg_sog  min_sog  \\\n0      1  Us Govt Ves        1        1         5.1     13.2      9.2   \n78  3011   Charleston       16        1        18.9      0.3      0.0   \n79  3011   Charleston       17        1        19.2      0.3      0.0   \n80  3011   Charleston       18        1        24.7      0.3      0.0   \n81  3011   Charleston       19        1        40.1      0.4      0.0   \n\n    max_sog  pdgt10             st_time            end_time  \n0      14.5    96.5 2009-02-10 16:03:00 2009-02-10 16:27:00  \n78     16.1     0.5 2010-02-07 07:26:00 2010-02-09 19:27:00  \n79      6.4     0.0 2010-02-11 16:56:00 2010-02-14 14:31:00  \n80      5.7     0.0 2010-02-19 11:53:00 2010-02-22 16:50:00  \n81     16.3     0.1 2010-02-23 15:15:00 2010-03-02 14:25:00  ",
      "text/html": "<div>\n<style scoped>\n    .dataframe tbody tr th:only-of-type {\n        vertical-align: middle;\n    }\n\n    .dataframe tbody tr th {\n        vertical-align: top;\n    }\n\n    .dataframe thead th {\n        text-align: right;\n    }\n</style>\n<table border=\"1\" class=\"dataframe\">\n  <thead>\n    <tr style=\"text-align: right;\">\n      <th></th>\n      <th>mmsi</th>\n      <th>name</th>\n      <th>transit</th>\n      <th>segment</th>\n      <th>seg_length</th>\n      <th>avg_sog</th>\n      <th>min_sog</th>\n      <th>max_sog</th>\n      <th>pdgt10</th>\n      <th>st_time</th>\n      <th>end_time</th>\n    </tr>\n  </thead>\n  <tbody>\n    <tr>\n      <th>0</th>\n      <td>1</td>\n      <td>Us Govt Ves</td>\n      <td>1</td>\n      <td>1</td>\n      <td>5.1</td>\n      <td>13.2</td>\n      <td>9.2</td>\n      <td>14.5</td>\n      <td>96.5</td>\n      <td>2009-02-10 16:03:00</td>\n      <td>2009-02-10 16:27:00</td>\n    </tr>\n    <tr>\n      <th>78</th>\n      <td>3011</td>\n      <td>Charleston</td>\n      <td>16</td>\n      <td>1</td>\n      <td>18.9</td>\n      <td>0.3</td>\n      <td>0.0</td>\n      <td>16.1</td>\n      <td>0.5</td>\n      <td>2010-02-07 07:26:00</td>\n      <td>2010-02-09 19:27:00</td>\n    </tr>\n    <tr>\n      <th>79</th>\n      <td>3011</td>\n      <td>Charleston</td>\n      <td>17</td>\n      <td>1</td>\n      <td>19.2</td>\n      <td>0.3</td>\n      <td>0.0</td>\n      <td>6.4</td>\n      <td>0.0</td>\n      <td>2010-02-11 16:56:00</td>\n      <td>2010-02-14 14:31:00</td>\n    </tr>\n    <tr>\n      <th>80</th>\n      <td>3011</td>\n      <td>Charleston</td>\n      <td>18</td>\n      <td>1</td>\n      <td>24.7</td>\n      <td>0.3</td>\n      <td>0.0</td>\n      <td>5.7</td>\n      <td>0.0</td>\n      <td>2010-02-19 11:53:00</td>\n      <td>2010-02-22 16:50:00</td>\n    </tr>\n    <tr>\n      <th>81</th>\n      <td>3011</td>\n      <td>Charleston</td>\n      <td>19</td>\n      <td>1</td>\n      <td>40.1</td>\n      <td>0.4</td>\n      <td>0.0</td>\n      <td>16.3</td>\n      <td>0.1</td>\n      <td>2010-02-23 15:15:00</td>\n      <td>2010-03-02 14:25:00</td>\n    </tr>\n  </tbody>\n</table>\n</div>"
     },
     "execution_count": 19,
     "metadata": {},
     "output_type": "execute_result"
    }
   ],
   "source": [
    "segments[segments.st_time.dt.month==2].head()"
   ]
  },
  {
   "cell_type": "markdown",
   "metadata": {},
   "source": [
    "## Merging and joining DataFrame objects"
   ]
  },
  {
   "cell_type": "markdown",
   "metadata": {},
   "source": [
    "Now that we have the vessel transit information as we need it, we may want a little more information regarding the vessels themselves. In the `data/AIS` folder there is a second table that contains information about each of the ships that traveled the segments in the `segments` table."
   ]
  },
  {
   "cell_type": "code",
   "execution_count": 20,
   "metadata": {
    "ExecuteTime": {
     "end_time": "2023-10-02T10:09:45.435615300Z",
     "start_time": "2023-10-02T10:09:45.319659500Z"
    }
   },
   "outputs": [
    {
     "data": {
      "text/plain": "      num_names                                              names sov  \\\nmmsi                                                                     \n1             8  Bil Holman Dredge/Dredge Capt Frank/Emo/Offsho...   Y   \n9             3                         000000009/Raven/Shearwater   N   \n21            1                                      Us Gov Vessel   Y   \n74            2                                  Mcfaul/Sarah Bell   N   \n103           3           Ron G/Us Navy Warship 103/Us Warship 103   Y   \n\n         flag flag_type  num_loas                                    loa  \\\nmmsi                                                                       \n1     Unknown   Unknown         7  42.0/48.0/57.0/90.0/138.0/154.0/156.0   \n9     Unknown   Unknown         2                              50.0/62.0   \n21    Unknown   Unknown         1                                  208.0   \n74    Unknown   Unknown         1                                  155.0   \n103   Unknown   Unknown         2                             26.0/155.0   \n\n      max_loa  num_types                             type  \nmmsi                                                       \n1       156.0          4  Dredging/MilOps/Reserved/Towing  \n9        62.0          2                     Pleasure/Tug  \n21      208.0          1                          Unknown  \n74      155.0          1                          Unknown  \n103     155.0          2                   Tanker/Unknown  ",
      "text/html": "<div>\n<style scoped>\n    .dataframe tbody tr th:only-of-type {\n        vertical-align: middle;\n    }\n\n    .dataframe tbody tr th {\n        vertical-align: top;\n    }\n\n    .dataframe thead th {\n        text-align: right;\n    }\n</style>\n<table border=\"1\" class=\"dataframe\">\n  <thead>\n    <tr style=\"text-align: right;\">\n      <th></th>\n      <th>num_names</th>\n      <th>names</th>\n      <th>sov</th>\n      <th>flag</th>\n      <th>flag_type</th>\n      <th>num_loas</th>\n      <th>loa</th>\n      <th>max_loa</th>\n      <th>num_types</th>\n      <th>type</th>\n    </tr>\n    <tr>\n      <th>mmsi</th>\n      <th></th>\n      <th></th>\n      <th></th>\n      <th></th>\n      <th></th>\n      <th></th>\n      <th></th>\n      <th></th>\n      <th></th>\n      <th></th>\n    </tr>\n  </thead>\n  <tbody>\n    <tr>\n      <th>1</th>\n      <td>8</td>\n      <td>Bil Holman Dredge/Dredge Capt Frank/Emo/Offsho...</td>\n      <td>Y</td>\n      <td>Unknown</td>\n      <td>Unknown</td>\n      <td>7</td>\n      <td>42.0/48.0/57.0/90.0/138.0/154.0/156.0</td>\n      <td>156.0</td>\n      <td>4</td>\n      <td>Dredging/MilOps/Reserved/Towing</td>\n    </tr>\n    <tr>\n      <th>9</th>\n      <td>3</td>\n      <td>000000009/Raven/Shearwater</td>\n      <td>N</td>\n      <td>Unknown</td>\n      <td>Unknown</td>\n      <td>2</td>\n      <td>50.0/62.0</td>\n      <td>62.0</td>\n      <td>2</td>\n      <td>Pleasure/Tug</td>\n    </tr>\n    <tr>\n      <th>21</th>\n      <td>1</td>\n      <td>Us Gov Vessel</td>\n      <td>Y</td>\n      <td>Unknown</td>\n      <td>Unknown</td>\n      <td>1</td>\n      <td>208.0</td>\n      <td>208.0</td>\n      <td>1</td>\n      <td>Unknown</td>\n    </tr>\n    <tr>\n      <th>74</th>\n      <td>2</td>\n      <td>Mcfaul/Sarah Bell</td>\n      <td>N</td>\n      <td>Unknown</td>\n      <td>Unknown</td>\n      <td>1</td>\n      <td>155.0</td>\n      <td>155.0</td>\n      <td>1</td>\n      <td>Unknown</td>\n    </tr>\n    <tr>\n      <th>103</th>\n      <td>3</td>\n      <td>Ron G/Us Navy Warship 103/Us Warship 103</td>\n      <td>Y</td>\n      <td>Unknown</td>\n      <td>Unknown</td>\n      <td>2</td>\n      <td>26.0/155.0</td>\n      <td>155.0</td>\n      <td>2</td>\n      <td>Tanker/Unknown</td>\n    </tr>\n  </tbody>\n</table>\n</div>"
     },
     "execution_count": 20,
     "metadata": {},
     "output_type": "execute_result"
    }
   ],
   "source": [
    "vessels = pd.read_csv(\"Data/vessel_information.csv\", index_col='mmsi')\n",
    "vessels.head()"
   ]
  },
  {
   "cell_type": "markdown",
   "metadata": {},
   "source": [
    "The challenge is that several ships have travelled multiple segments, so there is not a one-to-one relationship between the rows of the two tables. **The table of vessel information has a *one-to-many* relationship with the segments**.\n",
    "\n",
    "In Pandas, we can combine tables according to the value of one or more *keys* that are used to identify rows, much like an index. Using a trivial example:"
   ]
  },
  {
   "cell_type": "code",
   "execution_count": 21,
   "metadata": {
    "ExecuteTime": {
     "end_time": "2023-10-02T10:10:28.117761700Z",
     "start_time": "2023-10-02T10:10:28.047920700Z"
    }
   },
   "outputs": [
    {
     "data": {
      "text/plain": "   id  age\n0   0   22\n1   1   21\n2   2   26\n3   3   29",
      "text/html": "<div>\n<style scoped>\n    .dataframe tbody tr th:only-of-type {\n        vertical-align: middle;\n    }\n\n    .dataframe tbody tr th {\n        vertical-align: top;\n    }\n\n    .dataframe thead th {\n        text-align: right;\n    }\n</style>\n<table border=\"1\" class=\"dataframe\">\n  <thead>\n    <tr style=\"text-align: right;\">\n      <th></th>\n      <th>id</th>\n      <th>age</th>\n    </tr>\n  </thead>\n  <tbody>\n    <tr>\n      <th>0</th>\n      <td>0</td>\n      <td>22</td>\n    </tr>\n    <tr>\n      <th>1</th>\n      <td>1</td>\n      <td>21</td>\n    </tr>\n    <tr>\n      <th>2</th>\n      <td>2</td>\n      <td>26</td>\n    </tr>\n    <tr>\n      <th>3</th>\n      <td>3</td>\n      <td>29</td>\n    </tr>\n  </tbody>\n</table>\n</div>"
     },
     "execution_count": 21,
     "metadata": {},
     "output_type": "execute_result"
    }
   ],
   "source": [
    "df1 = pd.DataFrame(dict(id=range(4), age=np.random.randint(18, 31, size=4)))\n",
    "df2 = pd.DataFrame(dict(id=list(range(3))+list(range(3)), \n",
    "                        score=np.random.random(size=6)))\n",
    "\n",
    "df1"
   ]
  },
  {
   "cell_type": "code",
   "execution_count": 22,
   "metadata": {
    "ExecuteTime": {
     "end_time": "2023-10-02T10:11:26.463459800Z",
     "start_time": "2023-10-02T10:11:26.378562500Z"
    }
   },
   "outputs": [
    {
     "data": {
      "text/plain": "   id     score\n0   0  0.854496\n1   1  0.744275\n2   2  0.726343\n3   0  0.704769\n4   1  0.754048\n5   2  0.293003",
      "text/html": "<div>\n<style scoped>\n    .dataframe tbody tr th:only-of-type {\n        vertical-align: middle;\n    }\n\n    .dataframe tbody tr th {\n        vertical-align: top;\n    }\n\n    .dataframe thead th {\n        text-align: right;\n    }\n</style>\n<table border=\"1\" class=\"dataframe\">\n  <thead>\n    <tr style=\"text-align: right;\">\n      <th></th>\n      <th>id</th>\n      <th>score</th>\n    </tr>\n  </thead>\n  <tbody>\n    <tr>\n      <th>0</th>\n      <td>0</td>\n      <td>0.854496</td>\n    </tr>\n    <tr>\n      <th>1</th>\n      <td>1</td>\n      <td>0.744275</td>\n    </tr>\n    <tr>\n      <th>2</th>\n      <td>2</td>\n      <td>0.726343</td>\n    </tr>\n    <tr>\n      <th>3</th>\n      <td>0</td>\n      <td>0.704769</td>\n    </tr>\n    <tr>\n      <th>4</th>\n      <td>1</td>\n      <td>0.754048</td>\n    </tr>\n    <tr>\n      <th>5</th>\n      <td>2</td>\n      <td>0.293003</td>\n    </tr>\n  </tbody>\n</table>\n</div>"
     },
     "execution_count": 22,
     "metadata": {},
     "output_type": "execute_result"
    }
   ],
   "source": [
    "df2"
   ]
  },
  {
   "cell_type": "code",
   "execution_count": 23,
   "metadata": {
    "ExecuteTime": {
     "end_time": "2023-10-02T10:11:29.498863900Z",
     "start_time": "2023-10-02T10:11:29.374853800Z"
    }
   },
   "outputs": [
    {
     "data": {
      "text/plain": "   id  age     score\n0   0   22  0.854496\n1   0   22  0.704769\n2   1   21  0.744275\n3   1   21  0.754048\n4   2   26  0.726343\n5   2   26  0.293003",
      "text/html": "<div>\n<style scoped>\n    .dataframe tbody tr th:only-of-type {\n        vertical-align: middle;\n    }\n\n    .dataframe tbody tr th {\n        vertical-align: top;\n    }\n\n    .dataframe thead th {\n        text-align: right;\n    }\n</style>\n<table border=\"1\" class=\"dataframe\">\n  <thead>\n    <tr style=\"text-align: right;\">\n      <th></th>\n      <th>id</th>\n      <th>age</th>\n      <th>score</th>\n    </tr>\n  </thead>\n  <tbody>\n    <tr>\n      <th>0</th>\n      <td>0</td>\n      <td>22</td>\n      <td>0.854496</td>\n    </tr>\n    <tr>\n      <th>1</th>\n      <td>0</td>\n      <td>22</td>\n      <td>0.704769</td>\n    </tr>\n    <tr>\n      <th>2</th>\n      <td>1</td>\n      <td>21</td>\n      <td>0.744275</td>\n    </tr>\n    <tr>\n      <th>3</th>\n      <td>1</td>\n      <td>21</td>\n      <td>0.754048</td>\n    </tr>\n    <tr>\n      <th>4</th>\n      <td>2</td>\n      <td>26</td>\n      <td>0.726343</td>\n    </tr>\n    <tr>\n      <th>5</th>\n      <td>2</td>\n      <td>26</td>\n      <td>0.293003</td>\n    </tr>\n  </tbody>\n</table>\n</div>"
     },
     "execution_count": 23,
     "metadata": {},
     "output_type": "execute_result"
    }
   ],
   "source": [
    "pd.merge(df1, df2)"
   ]
  },
  {
   "cell_type": "markdown",
   "metadata": {},
   "source": [
    "Notice that without any information about which column to use as a key, Pandas did the right thing and used the `id` column in both tables. Unless specified otherwise, `merge` will used any common column names as keys for merging the tables. \n",
    "\n",
    "Notice also that `id=3` from `df1` was omitted from the merged table. This is because, by default, `merge` performs an **inner join** on the tables, meaning that the merged table represents an intersection of the two tables."
   ]
  },
  {
   "cell_type": "code",
   "execution_count": 24,
   "metadata": {
    "ExecuteTime": {
     "end_time": "2023-10-02T10:12:21.693659500Z",
     "start_time": "2023-10-02T10:12:21.610340800Z"
    }
   },
   "outputs": [
    {
     "data": {
      "text/plain": "   id  age     score\n0   0   22  0.854496\n1   0   22  0.704769\n2   1   21  0.744275\n3   1   21  0.754048\n4   2   26  0.726343\n5   2   26  0.293003\n6   3   29       NaN",
      "text/html": "<div>\n<style scoped>\n    .dataframe tbody tr th:only-of-type {\n        vertical-align: middle;\n    }\n\n    .dataframe tbody tr th {\n        vertical-align: top;\n    }\n\n    .dataframe thead th {\n        text-align: right;\n    }\n</style>\n<table border=\"1\" class=\"dataframe\">\n  <thead>\n    <tr style=\"text-align: right;\">\n      <th></th>\n      <th>id</th>\n      <th>age</th>\n      <th>score</th>\n    </tr>\n  </thead>\n  <tbody>\n    <tr>\n      <th>0</th>\n      <td>0</td>\n      <td>22</td>\n      <td>0.854496</td>\n    </tr>\n    <tr>\n      <th>1</th>\n      <td>0</td>\n      <td>22</td>\n      <td>0.704769</td>\n    </tr>\n    <tr>\n      <th>2</th>\n      <td>1</td>\n      <td>21</td>\n      <td>0.744275</td>\n    </tr>\n    <tr>\n      <th>3</th>\n      <td>1</td>\n      <td>21</td>\n      <td>0.754048</td>\n    </tr>\n    <tr>\n      <th>4</th>\n      <td>2</td>\n      <td>26</td>\n      <td>0.726343</td>\n    </tr>\n    <tr>\n      <th>5</th>\n      <td>2</td>\n      <td>26</td>\n      <td>0.293003</td>\n    </tr>\n    <tr>\n      <th>6</th>\n      <td>3</td>\n      <td>29</td>\n      <td>NaN</td>\n    </tr>\n  </tbody>\n</table>\n</div>"
     },
     "execution_count": 24,
     "metadata": {},
     "output_type": "execute_result"
    }
   ],
   "source": [
    "pd.merge(df1, df2, how='outer')"
   ]
  },
  {
   "cell_type": "markdown",
   "metadata": {},
   "source": [
    "The **outer join** above yields the union of the two tables, so all rows are represented, with missing values inserted as appropriate. One can also perform **right** and **left** joins to include all rows of the right or left table (*i.e.* first or second argument to `merge`), but not necessarily the other."
   ]
  },
  {
   "cell_type": "markdown",
   "metadata": {},
   "source": [
    "Looking at the two datasets that we wish to merge:"
   ]
  },
  {
   "cell_type": "code",
   "execution_count": 25,
   "metadata": {
    "ExecuteTime": {
     "end_time": "2023-10-02T10:12:39.346723900Z",
     "start_time": "2023-10-02T10:12:39.226580300Z"
    }
   },
   "outputs": [
    {
     "data": {
      "text/plain": "   mmsi         name  transit  segment  seg_length  avg_sog  min_sog  max_sog  \\\n0     1  Us Govt Ves        1        1         5.1     13.2      9.2     14.5   \n\n   pdgt10             st_time            end_time  \n0    96.5 2009-02-10 16:03:00 2009-02-10 16:27:00  ",
      "text/html": "<div>\n<style scoped>\n    .dataframe tbody tr th:only-of-type {\n        vertical-align: middle;\n    }\n\n    .dataframe tbody tr th {\n        vertical-align: top;\n    }\n\n    .dataframe thead th {\n        text-align: right;\n    }\n</style>\n<table border=\"1\" class=\"dataframe\">\n  <thead>\n    <tr style=\"text-align: right;\">\n      <th></th>\n      <th>mmsi</th>\n      <th>name</th>\n      <th>transit</th>\n      <th>segment</th>\n      <th>seg_length</th>\n      <th>avg_sog</th>\n      <th>min_sog</th>\n      <th>max_sog</th>\n      <th>pdgt10</th>\n      <th>st_time</th>\n      <th>end_time</th>\n    </tr>\n  </thead>\n  <tbody>\n    <tr>\n      <th>0</th>\n      <td>1</td>\n      <td>Us Govt Ves</td>\n      <td>1</td>\n      <td>1</td>\n      <td>5.1</td>\n      <td>13.2</td>\n      <td>9.2</td>\n      <td>14.5</td>\n      <td>96.5</td>\n      <td>2009-02-10 16:03:00</td>\n      <td>2009-02-10 16:27:00</td>\n    </tr>\n  </tbody>\n</table>\n</div>"
     },
     "execution_count": 25,
     "metadata": {},
     "output_type": "execute_result"
    }
   ],
   "source": [
    "segments.head(1)"
   ]
  },
  {
   "cell_type": "code",
   "execution_count": 26,
   "metadata": {
    "ExecuteTime": {
     "end_time": "2023-10-02T10:12:43.461813700Z",
     "start_time": "2023-10-02T10:12:43.363694900Z"
    }
   },
   "outputs": [
    {
     "data": {
      "text/plain": "      num_names                                              names sov  \\\nmmsi                                                                     \n1             8  Bil Holman Dredge/Dredge Capt Frank/Emo/Offsho...   Y   \n\n         flag flag_type  num_loas                                    loa  \\\nmmsi                                                                       \n1     Unknown   Unknown         7  42.0/48.0/57.0/90.0/138.0/154.0/156.0   \n\n      max_loa  num_types                             type  \nmmsi                                                       \n1       156.0          4  Dredging/MilOps/Reserved/Towing  ",
      "text/html": "<div>\n<style scoped>\n    .dataframe tbody tr th:only-of-type {\n        vertical-align: middle;\n    }\n\n    .dataframe tbody tr th {\n        vertical-align: top;\n    }\n\n    .dataframe thead th {\n        text-align: right;\n    }\n</style>\n<table border=\"1\" class=\"dataframe\">\n  <thead>\n    <tr style=\"text-align: right;\">\n      <th></th>\n      <th>num_names</th>\n      <th>names</th>\n      <th>sov</th>\n      <th>flag</th>\n      <th>flag_type</th>\n      <th>num_loas</th>\n      <th>loa</th>\n      <th>max_loa</th>\n      <th>num_types</th>\n      <th>type</th>\n    </tr>\n    <tr>\n      <th>mmsi</th>\n      <th></th>\n      <th></th>\n      <th></th>\n      <th></th>\n      <th></th>\n      <th></th>\n      <th></th>\n      <th></th>\n      <th></th>\n      <th></th>\n    </tr>\n  </thead>\n  <tbody>\n    <tr>\n      <th>1</th>\n      <td>8</td>\n      <td>Bil Holman Dredge/Dredge Capt Frank/Emo/Offsho...</td>\n      <td>Y</td>\n      <td>Unknown</td>\n      <td>Unknown</td>\n      <td>7</td>\n      <td>42.0/48.0/57.0/90.0/138.0/154.0/156.0</td>\n      <td>156.0</td>\n      <td>4</td>\n      <td>Dredging/MilOps/Reserved/Towing</td>\n    </tr>\n  </tbody>\n</table>\n</div>"
     },
     "execution_count": 26,
     "metadata": {},
     "output_type": "execute_result"
    }
   ],
   "source": [
    "vessels.head(1)"
   ]
  },
  {
   "cell_type": "markdown",
   "metadata": {},
   "source": [
    "we see that there is a `mmsi` value (a vessel identifier) in each table, but it is used as an index for the `vessels` table. In this case, we have to specify to join on the index for this table, and on the `mmsi` column for the other."
   ]
  },
  {
   "cell_type": "code",
   "execution_count": 33,
   "metadata": {
    "ExecuteTime": {
     "end_time": "2023-10-02T10:15:51.347699700Z",
     "start_time": "2023-10-02T10:15:51.200674200Z"
    }
   },
   "outputs": [],
   "source": [
    "segments_merged = pd.merge(vessels, segments, left_index=True, right_on='mmsi')"
   ]
  },
  {
   "cell_type": "code",
   "execution_count": 34,
   "metadata": {
    "ExecuteTime": {
     "end_time": "2023-10-02T10:15:52.841258600Z",
     "start_time": "2023-10-02T10:15:52.672678100Z"
    }
   },
   "outputs": [
    {
     "data": {
      "text/plain": "   num_names                                              names sov     flag  \\\n0          8  Bil Holman Dredge/Dredge Capt Frank/Emo/Offsho...   Y  Unknown   \n1          8  Bil Holman Dredge/Dredge Capt Frank/Emo/Offsho...   Y  Unknown   \n2          8  Bil Holman Dredge/Dredge Capt Frank/Emo/Offsho...   Y  Unknown   \n3          8  Bil Holman Dredge/Dredge Capt Frank/Emo/Offsho...   Y  Unknown   \n4          8  Bil Holman Dredge/Dredge Capt Frank/Emo/Offsho...   Y  Unknown   \n\n  flag_type  num_loas                                    loa  max_loa  \\\n0   Unknown         7  42.0/48.0/57.0/90.0/138.0/154.0/156.0    156.0   \n1   Unknown         7  42.0/48.0/57.0/90.0/138.0/154.0/156.0    156.0   \n2   Unknown         7  42.0/48.0/57.0/90.0/138.0/154.0/156.0    156.0   \n3   Unknown         7  42.0/48.0/57.0/90.0/138.0/154.0/156.0    156.0   \n4   Unknown         7  42.0/48.0/57.0/90.0/138.0/154.0/156.0    156.0   \n\n   num_types                             type  ...               name transit  \\\n0          4  Dredging/MilOps/Reserved/Towing  ...        Us Govt Ves       1   \n1          4  Dredging/MilOps/Reserved/Towing  ...  Dredge Capt Frank       1   \n2          4  Dredging/MilOps/Reserved/Towing  ...      Us Gov Vessel       1   \n3          4  Dredging/MilOps/Reserved/Towing  ...      Us Gov Vessel       2   \n4          4  Dredging/MilOps/Reserved/Towing  ...  Dredge Capt Frank       2   \n\n   segment  seg_length  avg_sog  min_sog  max_sog  pdgt10             st_time  \\\n0        1         5.1     13.2      9.2     14.5    96.5 2009-02-10 16:03:00   \n1        1        13.5     18.6     10.4     20.6   100.0 2009-04-06 14:31:00   \n2        1         4.3     16.2     10.3     20.5   100.0 2009-04-06 14:36:00   \n3        1         9.2     15.4     14.5     16.1   100.0 2009-04-10 17:58:00   \n4        1         9.2     15.4     14.6     16.2   100.0 2009-04-10 17:59:00   \n\n             end_time  \n0 2009-02-10 16:27:00  \n1 2009-04-06 15:20:00  \n2 2009-04-06 14:55:00  \n3 2009-04-10 18:34:00  \n4 2009-04-10 18:35:00  \n\n[5 rows x 21 columns]",
      "text/html": "<div>\n<style scoped>\n    .dataframe tbody tr th:only-of-type {\n        vertical-align: middle;\n    }\n\n    .dataframe tbody tr th {\n        vertical-align: top;\n    }\n\n    .dataframe thead th {\n        text-align: right;\n    }\n</style>\n<table border=\"1\" class=\"dataframe\">\n  <thead>\n    <tr style=\"text-align: right;\">\n      <th></th>\n      <th>num_names</th>\n      <th>names</th>\n      <th>sov</th>\n      <th>flag</th>\n      <th>flag_type</th>\n      <th>num_loas</th>\n      <th>loa</th>\n      <th>max_loa</th>\n      <th>num_types</th>\n      <th>type</th>\n      <th>...</th>\n      <th>name</th>\n      <th>transit</th>\n      <th>segment</th>\n      <th>seg_length</th>\n      <th>avg_sog</th>\n      <th>min_sog</th>\n      <th>max_sog</th>\n      <th>pdgt10</th>\n      <th>st_time</th>\n      <th>end_time</th>\n    </tr>\n  </thead>\n  <tbody>\n    <tr>\n      <th>0</th>\n      <td>8</td>\n      <td>Bil Holman Dredge/Dredge Capt Frank/Emo/Offsho...</td>\n      <td>Y</td>\n      <td>Unknown</td>\n      <td>Unknown</td>\n      <td>7</td>\n      <td>42.0/48.0/57.0/90.0/138.0/154.0/156.0</td>\n      <td>156.0</td>\n      <td>4</td>\n      <td>Dredging/MilOps/Reserved/Towing</td>\n      <td>...</td>\n      <td>Us Govt Ves</td>\n      <td>1</td>\n      <td>1</td>\n      <td>5.1</td>\n      <td>13.2</td>\n      <td>9.2</td>\n      <td>14.5</td>\n      <td>96.5</td>\n      <td>2009-02-10 16:03:00</td>\n      <td>2009-02-10 16:27:00</td>\n    </tr>\n    <tr>\n      <th>1</th>\n      <td>8</td>\n      <td>Bil Holman Dredge/Dredge Capt Frank/Emo/Offsho...</td>\n      <td>Y</td>\n      <td>Unknown</td>\n      <td>Unknown</td>\n      <td>7</td>\n      <td>42.0/48.0/57.0/90.0/138.0/154.0/156.0</td>\n      <td>156.0</td>\n      <td>4</td>\n      <td>Dredging/MilOps/Reserved/Towing</td>\n      <td>...</td>\n      <td>Dredge Capt Frank</td>\n      <td>1</td>\n      <td>1</td>\n      <td>13.5</td>\n      <td>18.6</td>\n      <td>10.4</td>\n      <td>20.6</td>\n      <td>100.0</td>\n      <td>2009-04-06 14:31:00</td>\n      <td>2009-04-06 15:20:00</td>\n    </tr>\n    <tr>\n      <th>2</th>\n      <td>8</td>\n      <td>Bil Holman Dredge/Dredge Capt Frank/Emo/Offsho...</td>\n      <td>Y</td>\n      <td>Unknown</td>\n      <td>Unknown</td>\n      <td>7</td>\n      <td>42.0/48.0/57.0/90.0/138.0/154.0/156.0</td>\n      <td>156.0</td>\n      <td>4</td>\n      <td>Dredging/MilOps/Reserved/Towing</td>\n      <td>...</td>\n      <td>Us Gov Vessel</td>\n      <td>1</td>\n      <td>1</td>\n      <td>4.3</td>\n      <td>16.2</td>\n      <td>10.3</td>\n      <td>20.5</td>\n      <td>100.0</td>\n      <td>2009-04-06 14:36:00</td>\n      <td>2009-04-06 14:55:00</td>\n    </tr>\n    <tr>\n      <th>3</th>\n      <td>8</td>\n      <td>Bil Holman Dredge/Dredge Capt Frank/Emo/Offsho...</td>\n      <td>Y</td>\n      <td>Unknown</td>\n      <td>Unknown</td>\n      <td>7</td>\n      <td>42.0/48.0/57.0/90.0/138.0/154.0/156.0</td>\n      <td>156.0</td>\n      <td>4</td>\n      <td>Dredging/MilOps/Reserved/Towing</td>\n      <td>...</td>\n      <td>Us Gov Vessel</td>\n      <td>2</td>\n      <td>1</td>\n      <td>9.2</td>\n      <td>15.4</td>\n      <td>14.5</td>\n      <td>16.1</td>\n      <td>100.0</td>\n      <td>2009-04-10 17:58:00</td>\n      <td>2009-04-10 18:34:00</td>\n    </tr>\n    <tr>\n      <th>4</th>\n      <td>8</td>\n      <td>Bil Holman Dredge/Dredge Capt Frank/Emo/Offsho...</td>\n      <td>Y</td>\n      <td>Unknown</td>\n      <td>Unknown</td>\n      <td>7</td>\n      <td>42.0/48.0/57.0/90.0/138.0/154.0/156.0</td>\n      <td>156.0</td>\n      <td>4</td>\n      <td>Dredging/MilOps/Reserved/Towing</td>\n      <td>...</td>\n      <td>Dredge Capt Frank</td>\n      <td>2</td>\n      <td>1</td>\n      <td>9.2</td>\n      <td>15.4</td>\n      <td>14.6</td>\n      <td>16.2</td>\n      <td>100.0</td>\n      <td>2009-04-10 17:59:00</td>\n      <td>2009-04-10 18:35:00</td>\n    </tr>\n  </tbody>\n</table>\n<p>5 rows × 21 columns</p>\n</div>"
     },
     "execution_count": 34,
     "metadata": {},
     "output_type": "execute_result"
    }
   ],
   "source": [
    "segments_merged.head()"
   ]
  },
  {
   "cell_type": "markdown",
   "metadata": {},
   "source": [
    "In this case, the default inner join is suitable; we are not interested in observations from either table that do not have corresponding entries in the other. \n",
    "\n",
    "Notice that `mmsi` field that was an index on the `vessels` table is no longer an index on the merged table."
   ]
  },
  {
   "cell_type": "markdown",
   "metadata": {},
   "source": [
    "Here, we used the `merge` function to perform the merge; we could also have used the `merge` *method* for either of the tables:"
   ]
  },
  {
   "cell_type": "code",
   "execution_count": 35,
   "metadata": {
    "ExecuteTime": {
     "end_time": "2023-10-02T10:16:12.168858400Z",
     "start_time": "2023-10-02T10:16:12.039098300Z"
    }
   },
   "outputs": [
    {
     "data": {
      "text/plain": "   num_names                                              names sov     flag  \\\n0          8  Bil Holman Dredge/Dredge Capt Frank/Emo/Offsho...   Y  Unknown   \n1          8  Bil Holman Dredge/Dredge Capt Frank/Emo/Offsho...   Y  Unknown   \n2          8  Bil Holman Dredge/Dredge Capt Frank/Emo/Offsho...   Y  Unknown   \n3          8  Bil Holman Dredge/Dredge Capt Frank/Emo/Offsho...   Y  Unknown   \n4          8  Bil Holman Dredge/Dredge Capt Frank/Emo/Offsho...   Y  Unknown   \n\n  flag_type  num_loas                                    loa  max_loa  \\\n0   Unknown         7  42.0/48.0/57.0/90.0/138.0/154.0/156.0    156.0   \n1   Unknown         7  42.0/48.0/57.0/90.0/138.0/154.0/156.0    156.0   \n2   Unknown         7  42.0/48.0/57.0/90.0/138.0/154.0/156.0    156.0   \n3   Unknown         7  42.0/48.0/57.0/90.0/138.0/154.0/156.0    156.0   \n4   Unknown         7  42.0/48.0/57.0/90.0/138.0/154.0/156.0    156.0   \n\n   num_types                             type  ...               name transit  \\\n0          4  Dredging/MilOps/Reserved/Towing  ...        Us Govt Ves       1   \n1          4  Dredging/MilOps/Reserved/Towing  ...  Dredge Capt Frank       1   \n2          4  Dredging/MilOps/Reserved/Towing  ...      Us Gov Vessel       1   \n3          4  Dredging/MilOps/Reserved/Towing  ...      Us Gov Vessel       2   \n4          4  Dredging/MilOps/Reserved/Towing  ...  Dredge Capt Frank       2   \n\n   segment  seg_length  avg_sog  min_sog  max_sog  pdgt10             st_time  \\\n0        1         5.1     13.2      9.2     14.5    96.5 2009-02-10 16:03:00   \n1        1        13.5     18.6     10.4     20.6   100.0 2009-04-06 14:31:00   \n2        1         4.3     16.2     10.3     20.5   100.0 2009-04-06 14:36:00   \n3        1         9.2     15.4     14.5     16.1   100.0 2009-04-10 17:58:00   \n4        1         9.2     15.4     14.6     16.2   100.0 2009-04-10 17:59:00   \n\n             end_time  \n0 2009-02-10 16:27:00  \n1 2009-04-06 15:20:00  \n2 2009-04-06 14:55:00  \n3 2009-04-10 18:34:00  \n4 2009-04-10 18:35:00  \n\n[5 rows x 21 columns]",
      "text/html": "<div>\n<style scoped>\n    .dataframe tbody tr th:only-of-type {\n        vertical-align: middle;\n    }\n\n    .dataframe tbody tr th {\n        vertical-align: top;\n    }\n\n    .dataframe thead th {\n        text-align: right;\n    }\n</style>\n<table border=\"1\" class=\"dataframe\">\n  <thead>\n    <tr style=\"text-align: right;\">\n      <th></th>\n      <th>num_names</th>\n      <th>names</th>\n      <th>sov</th>\n      <th>flag</th>\n      <th>flag_type</th>\n      <th>num_loas</th>\n      <th>loa</th>\n      <th>max_loa</th>\n      <th>num_types</th>\n      <th>type</th>\n      <th>...</th>\n      <th>name</th>\n      <th>transit</th>\n      <th>segment</th>\n      <th>seg_length</th>\n      <th>avg_sog</th>\n      <th>min_sog</th>\n      <th>max_sog</th>\n      <th>pdgt10</th>\n      <th>st_time</th>\n      <th>end_time</th>\n    </tr>\n  </thead>\n  <tbody>\n    <tr>\n      <th>0</th>\n      <td>8</td>\n      <td>Bil Holman Dredge/Dredge Capt Frank/Emo/Offsho...</td>\n      <td>Y</td>\n      <td>Unknown</td>\n      <td>Unknown</td>\n      <td>7</td>\n      <td>42.0/48.0/57.0/90.0/138.0/154.0/156.0</td>\n      <td>156.0</td>\n      <td>4</td>\n      <td>Dredging/MilOps/Reserved/Towing</td>\n      <td>...</td>\n      <td>Us Govt Ves</td>\n      <td>1</td>\n      <td>1</td>\n      <td>5.1</td>\n      <td>13.2</td>\n      <td>9.2</td>\n      <td>14.5</td>\n      <td>96.5</td>\n      <td>2009-02-10 16:03:00</td>\n      <td>2009-02-10 16:27:00</td>\n    </tr>\n    <tr>\n      <th>1</th>\n      <td>8</td>\n      <td>Bil Holman Dredge/Dredge Capt Frank/Emo/Offsho...</td>\n      <td>Y</td>\n      <td>Unknown</td>\n      <td>Unknown</td>\n      <td>7</td>\n      <td>42.0/48.0/57.0/90.0/138.0/154.0/156.0</td>\n      <td>156.0</td>\n      <td>4</td>\n      <td>Dredging/MilOps/Reserved/Towing</td>\n      <td>...</td>\n      <td>Dredge Capt Frank</td>\n      <td>1</td>\n      <td>1</td>\n      <td>13.5</td>\n      <td>18.6</td>\n      <td>10.4</td>\n      <td>20.6</td>\n      <td>100.0</td>\n      <td>2009-04-06 14:31:00</td>\n      <td>2009-04-06 15:20:00</td>\n    </tr>\n    <tr>\n      <th>2</th>\n      <td>8</td>\n      <td>Bil Holman Dredge/Dredge Capt Frank/Emo/Offsho...</td>\n      <td>Y</td>\n      <td>Unknown</td>\n      <td>Unknown</td>\n      <td>7</td>\n      <td>42.0/48.0/57.0/90.0/138.0/154.0/156.0</td>\n      <td>156.0</td>\n      <td>4</td>\n      <td>Dredging/MilOps/Reserved/Towing</td>\n      <td>...</td>\n      <td>Us Gov Vessel</td>\n      <td>1</td>\n      <td>1</td>\n      <td>4.3</td>\n      <td>16.2</td>\n      <td>10.3</td>\n      <td>20.5</td>\n      <td>100.0</td>\n      <td>2009-04-06 14:36:00</td>\n      <td>2009-04-06 14:55:00</td>\n    </tr>\n    <tr>\n      <th>3</th>\n      <td>8</td>\n      <td>Bil Holman Dredge/Dredge Capt Frank/Emo/Offsho...</td>\n      <td>Y</td>\n      <td>Unknown</td>\n      <td>Unknown</td>\n      <td>7</td>\n      <td>42.0/48.0/57.0/90.0/138.0/154.0/156.0</td>\n      <td>156.0</td>\n      <td>4</td>\n      <td>Dredging/MilOps/Reserved/Towing</td>\n      <td>...</td>\n      <td>Us Gov Vessel</td>\n      <td>2</td>\n      <td>1</td>\n      <td>9.2</td>\n      <td>15.4</td>\n      <td>14.5</td>\n      <td>16.1</td>\n      <td>100.0</td>\n      <td>2009-04-10 17:58:00</td>\n      <td>2009-04-10 18:34:00</td>\n    </tr>\n    <tr>\n      <th>4</th>\n      <td>8</td>\n      <td>Bil Holman Dredge/Dredge Capt Frank/Emo/Offsho...</td>\n      <td>Y</td>\n      <td>Unknown</td>\n      <td>Unknown</td>\n      <td>7</td>\n      <td>42.0/48.0/57.0/90.0/138.0/154.0/156.0</td>\n      <td>156.0</td>\n      <td>4</td>\n      <td>Dredging/MilOps/Reserved/Towing</td>\n      <td>...</td>\n      <td>Dredge Capt Frank</td>\n      <td>2</td>\n      <td>1</td>\n      <td>9.2</td>\n      <td>15.4</td>\n      <td>14.6</td>\n      <td>16.2</td>\n      <td>100.0</td>\n      <td>2009-04-10 17:59:00</td>\n      <td>2009-04-10 18:35:00</td>\n    </tr>\n  </tbody>\n</table>\n<p>5 rows × 21 columns</p>\n</div>"
     },
     "execution_count": 35,
     "metadata": {},
     "output_type": "execute_result"
    }
   ],
   "source": [
    "vessels.merge(segments, left_index=True, right_on='mmsi').head()"
   ]
  },
  {
   "cell_type": "markdown",
   "metadata": {},
   "source": [
    "Occasionally, there will be fields with the same in both tables that we do not wish to use to join the tables; they may contain different information, despite having the same name. In this case, Pandas will by default append suffixes `_x` and `_y` to the columns to uniquely identify them."
   ]
  },
  {
   "cell_type": "code",
   "execution_count": 36,
   "metadata": {
    "ExecuteTime": {
     "end_time": "2023-10-02T11:30:30.863782600Z",
     "start_time": "2023-10-02T11:30:30.804888100Z"
    }
   },
   "outputs": [
    {
     "data": {
      "text/plain": "   num_names                                              names sov     flag  \\\n0          8  Bil Holman Dredge/Dredge Capt Frank/Emo/Offsho...   Y  Unknown   \n1          8  Bil Holman Dredge/Dredge Capt Frank/Emo/Offsho...   Y  Unknown   \n2          8  Bil Holman Dredge/Dredge Capt Frank/Emo/Offsho...   Y  Unknown   \n3          8  Bil Holman Dredge/Dredge Capt Frank/Emo/Offsho...   Y  Unknown   \n4          8  Bil Holman Dredge/Dredge Capt Frank/Emo/Offsho...   Y  Unknown   \n\n  flag_type  num_loas                                    loa  max_loa  \\\n0   Unknown         7  42.0/48.0/57.0/90.0/138.0/154.0/156.0    156.0   \n1   Unknown         7  42.0/48.0/57.0/90.0/138.0/154.0/156.0    156.0   \n2   Unknown         7  42.0/48.0/57.0/90.0/138.0/154.0/156.0    156.0   \n3   Unknown         7  42.0/48.0/57.0/90.0/138.0/154.0/156.0    156.0   \n4   Unknown         7  42.0/48.0/57.0/90.0/138.0/154.0/156.0    156.0   \n\n   num_types                           type_x  ...  transit segment  \\\n0          4  Dredging/MilOps/Reserved/Towing  ...        1       1   \n1          4  Dredging/MilOps/Reserved/Towing  ...        1       1   \n2          4  Dredging/MilOps/Reserved/Towing  ...        1       1   \n3          4  Dredging/MilOps/Reserved/Towing  ...        2       1   \n4          4  Dredging/MilOps/Reserved/Towing  ...        2       1   \n\n   seg_length  avg_sog  min_sog  max_sog  pdgt10             st_time  \\\n0         5.1     13.2      9.2     14.5    96.5 2009-02-10 16:03:00   \n1        13.5     18.6     10.4     20.6   100.0 2009-04-06 14:31:00   \n2         4.3     16.2     10.3     20.5   100.0 2009-04-06 14:36:00   \n3         9.2     15.4     14.5     16.1   100.0 2009-04-10 17:58:00   \n4         9.2     15.4     14.6     16.2   100.0 2009-04-10 17:59:00   \n\n             end_time type_y  \n0 2009-02-10 16:27:00    foo  \n1 2009-04-06 15:20:00    foo  \n2 2009-04-06 14:55:00    foo  \n3 2009-04-10 18:34:00    foo  \n4 2009-04-10 18:35:00    foo  \n\n[5 rows x 22 columns]",
      "text/html": "<div>\n<style scoped>\n    .dataframe tbody tr th:only-of-type {\n        vertical-align: middle;\n    }\n\n    .dataframe tbody tr th {\n        vertical-align: top;\n    }\n\n    .dataframe thead th {\n        text-align: right;\n    }\n</style>\n<table border=\"1\" class=\"dataframe\">\n  <thead>\n    <tr style=\"text-align: right;\">\n      <th></th>\n      <th>num_names</th>\n      <th>names</th>\n      <th>sov</th>\n      <th>flag</th>\n      <th>flag_type</th>\n      <th>num_loas</th>\n      <th>loa</th>\n      <th>max_loa</th>\n      <th>num_types</th>\n      <th>type_x</th>\n      <th>...</th>\n      <th>transit</th>\n      <th>segment</th>\n      <th>seg_length</th>\n      <th>avg_sog</th>\n      <th>min_sog</th>\n      <th>max_sog</th>\n      <th>pdgt10</th>\n      <th>st_time</th>\n      <th>end_time</th>\n      <th>type_y</th>\n    </tr>\n  </thead>\n  <tbody>\n    <tr>\n      <th>0</th>\n      <td>8</td>\n      <td>Bil Holman Dredge/Dredge Capt Frank/Emo/Offsho...</td>\n      <td>Y</td>\n      <td>Unknown</td>\n      <td>Unknown</td>\n      <td>7</td>\n      <td>42.0/48.0/57.0/90.0/138.0/154.0/156.0</td>\n      <td>156.0</td>\n      <td>4</td>\n      <td>Dredging/MilOps/Reserved/Towing</td>\n      <td>...</td>\n      <td>1</td>\n      <td>1</td>\n      <td>5.1</td>\n      <td>13.2</td>\n      <td>9.2</td>\n      <td>14.5</td>\n      <td>96.5</td>\n      <td>2009-02-10 16:03:00</td>\n      <td>2009-02-10 16:27:00</td>\n      <td>foo</td>\n    </tr>\n    <tr>\n      <th>1</th>\n      <td>8</td>\n      <td>Bil Holman Dredge/Dredge Capt Frank/Emo/Offsho...</td>\n      <td>Y</td>\n      <td>Unknown</td>\n      <td>Unknown</td>\n      <td>7</td>\n      <td>42.0/48.0/57.0/90.0/138.0/154.0/156.0</td>\n      <td>156.0</td>\n      <td>4</td>\n      <td>Dredging/MilOps/Reserved/Towing</td>\n      <td>...</td>\n      <td>1</td>\n      <td>1</td>\n      <td>13.5</td>\n      <td>18.6</td>\n      <td>10.4</td>\n      <td>20.6</td>\n      <td>100.0</td>\n      <td>2009-04-06 14:31:00</td>\n      <td>2009-04-06 15:20:00</td>\n      <td>foo</td>\n    </tr>\n    <tr>\n      <th>2</th>\n      <td>8</td>\n      <td>Bil Holman Dredge/Dredge Capt Frank/Emo/Offsho...</td>\n      <td>Y</td>\n      <td>Unknown</td>\n      <td>Unknown</td>\n      <td>7</td>\n      <td>42.0/48.0/57.0/90.0/138.0/154.0/156.0</td>\n      <td>156.0</td>\n      <td>4</td>\n      <td>Dredging/MilOps/Reserved/Towing</td>\n      <td>...</td>\n      <td>1</td>\n      <td>1</td>\n      <td>4.3</td>\n      <td>16.2</td>\n      <td>10.3</td>\n      <td>20.5</td>\n      <td>100.0</td>\n      <td>2009-04-06 14:36:00</td>\n      <td>2009-04-06 14:55:00</td>\n      <td>foo</td>\n    </tr>\n    <tr>\n      <th>3</th>\n      <td>8</td>\n      <td>Bil Holman Dredge/Dredge Capt Frank/Emo/Offsho...</td>\n      <td>Y</td>\n      <td>Unknown</td>\n      <td>Unknown</td>\n      <td>7</td>\n      <td>42.0/48.0/57.0/90.0/138.0/154.0/156.0</td>\n      <td>156.0</td>\n      <td>4</td>\n      <td>Dredging/MilOps/Reserved/Towing</td>\n      <td>...</td>\n      <td>2</td>\n      <td>1</td>\n      <td>9.2</td>\n      <td>15.4</td>\n      <td>14.5</td>\n      <td>16.1</td>\n      <td>100.0</td>\n      <td>2009-04-10 17:58:00</td>\n      <td>2009-04-10 18:34:00</td>\n      <td>foo</td>\n    </tr>\n    <tr>\n      <th>4</th>\n      <td>8</td>\n      <td>Bil Holman Dredge/Dredge Capt Frank/Emo/Offsho...</td>\n      <td>Y</td>\n      <td>Unknown</td>\n      <td>Unknown</td>\n      <td>7</td>\n      <td>42.0/48.0/57.0/90.0/138.0/154.0/156.0</td>\n      <td>156.0</td>\n      <td>4</td>\n      <td>Dredging/MilOps/Reserved/Towing</td>\n      <td>...</td>\n      <td>2</td>\n      <td>1</td>\n      <td>9.2</td>\n      <td>15.4</td>\n      <td>14.6</td>\n      <td>16.2</td>\n      <td>100.0</td>\n      <td>2009-04-10 17:59:00</td>\n      <td>2009-04-10 18:35:00</td>\n      <td>foo</td>\n    </tr>\n  </tbody>\n</table>\n<p>5 rows × 22 columns</p>\n</div>"
     },
     "execution_count": 36,
     "metadata": {},
     "output_type": "execute_result"
    }
   ],
   "source": [
    "segments['type'] = 'foo'\n",
    "pd.merge(vessels, segments, left_index=True, right_on='mmsi').head()"
   ]
  },
  {
   "cell_type": "markdown",
   "metadata": {},
   "source": [
    "This behavior can be overridden by specifying a `suffixes` argument, containing a list of the suffixes to be used for the columns of the left and right columns, respectively."
   ]
  },
  {
   "cell_type": "markdown",
   "metadata": {},
   "source": [
    "### Exercise 6\n",
    "Fix the following `merge` in order to return a non-empty `DataFrame`."
   ]
  },
  {
   "cell_type": "code",
   "execution_count": 37,
   "metadata": {
    "ExecuteTime": {
     "end_time": "2023-10-02T11:35:01.352634700Z",
     "start_time": "2023-10-02T11:35:01.253311100Z"
    }
   },
   "outputs": [
    {
     "data": {
      "text/plain": "   mmsi               name  transit  segment  seg_length  avg_sog  min_sog  \\\n0     1        Us Govt Ves        1        1         5.1     13.2      9.2   \n1     1  Dredge Capt Frank        1        1        13.5     18.6     10.4   \n2     1      Us Gov Vessel        1        1         4.3     16.2     10.3   \n3     1      Us Gov Vessel        2        1         9.2     15.4     14.5   \n4     1  Dredge Capt Frank        2        1         9.2     15.4     14.6   \n5     1  Bil Holman Dredge        1        1        17.4     34.3     33.9   \n6     1  Bil Holman Dredge        1        2        76.0     34.4     33.8   \n7     1         S.d. Gumel        1        1        13.7      6.9      3.0   \n8     9         Shearwater        4        1        11.6      8.8      7.9   \n9     9         Shearwater        8        1        11.6      8.3      7.4   \n\n   max_sog  pdgt10             st_time  ... num_names  \\\n0     14.5    96.5 2009-02-10 16:03:00  ...         8   \n1     20.6   100.0 2009-04-06 14:31:00  ...         8   \n2     20.5   100.0 2009-04-06 14:36:00  ...         8   \n3     16.1   100.0 2009-04-10 17:58:00  ...         8   \n4     16.2   100.0 2009-04-10 17:59:00  ...         8   \n5     35.0   100.0 2010-03-20 16:06:00  ...         8   \n6     34.9   100.0 2010-03-20 18:05:00  ...         8   \n7     14.0    38.2 2011-05-04 11:28:00  ...         8   \n8     10.3     0.0 2010-06-05 11:23:00  ...         3   \n9      9.2     0.0 2010-06-08 11:03:00  ...         3   \n\n                                               names  sov     flag flag_type  \\\n0  Bil Holman Dredge/Dredge Capt Frank/Emo/Offsho...    Y  Unknown   Unknown   \n1  Bil Holman Dredge/Dredge Capt Frank/Emo/Offsho...    Y  Unknown   Unknown   \n2  Bil Holman Dredge/Dredge Capt Frank/Emo/Offsho...    Y  Unknown   Unknown   \n3  Bil Holman Dredge/Dredge Capt Frank/Emo/Offsho...    Y  Unknown   Unknown   \n4  Bil Holman Dredge/Dredge Capt Frank/Emo/Offsho...    Y  Unknown   Unknown   \n5  Bil Holman Dredge/Dredge Capt Frank/Emo/Offsho...    Y  Unknown   Unknown   \n6  Bil Holman Dredge/Dredge Capt Frank/Emo/Offsho...    Y  Unknown   Unknown   \n7  Bil Holman Dredge/Dredge Capt Frank/Emo/Offsho...    Y  Unknown   Unknown   \n8                         000000009/Raven/Shearwater    N  Unknown   Unknown   \n9                         000000009/Raven/Shearwater    N  Unknown   Unknown   \n\n  num_loas                                    loa  max_loa num_types  \\\n0        7  42.0/48.0/57.0/90.0/138.0/154.0/156.0    156.0         4   \n1        7  42.0/48.0/57.0/90.0/138.0/154.0/156.0    156.0         4   \n2        7  42.0/48.0/57.0/90.0/138.0/154.0/156.0    156.0         4   \n3        7  42.0/48.0/57.0/90.0/138.0/154.0/156.0    156.0         4   \n4        7  42.0/48.0/57.0/90.0/138.0/154.0/156.0    156.0         4   \n5        7  42.0/48.0/57.0/90.0/138.0/154.0/156.0    156.0         4   \n6        7  42.0/48.0/57.0/90.0/138.0/154.0/156.0    156.0         4   \n7        7  42.0/48.0/57.0/90.0/138.0/154.0/156.0    156.0         4   \n8        2                              50.0/62.0     62.0         2   \n9        2                              50.0/62.0     62.0         2   \n\n                            type_y  \n0  Dredging/MilOps/Reserved/Towing  \n1  Dredging/MilOps/Reserved/Towing  \n2  Dredging/MilOps/Reserved/Towing  \n3  Dredging/MilOps/Reserved/Towing  \n4  Dredging/MilOps/Reserved/Towing  \n5  Dredging/MilOps/Reserved/Towing  \n6  Dredging/MilOps/Reserved/Towing  \n7  Dredging/MilOps/Reserved/Towing  \n8                     Pleasure/Tug  \n9                     Pleasure/Tug  \n\n[10 rows x 22 columns]",
      "text/html": "<div>\n<style scoped>\n    .dataframe tbody tr th:only-of-type {\n        vertical-align: middle;\n    }\n\n    .dataframe tbody tr th {\n        vertical-align: top;\n    }\n\n    .dataframe thead th {\n        text-align: right;\n    }\n</style>\n<table border=\"1\" class=\"dataframe\">\n  <thead>\n    <tr style=\"text-align: right;\">\n      <th></th>\n      <th>mmsi</th>\n      <th>name</th>\n      <th>transit</th>\n      <th>segment</th>\n      <th>seg_length</th>\n      <th>avg_sog</th>\n      <th>min_sog</th>\n      <th>max_sog</th>\n      <th>pdgt10</th>\n      <th>st_time</th>\n      <th>...</th>\n      <th>num_names</th>\n      <th>names</th>\n      <th>sov</th>\n      <th>flag</th>\n      <th>flag_type</th>\n      <th>num_loas</th>\n      <th>loa</th>\n      <th>max_loa</th>\n      <th>num_types</th>\n      <th>type_y</th>\n    </tr>\n  </thead>\n  <tbody>\n    <tr>\n      <th>0</th>\n      <td>1</td>\n      <td>Us Govt Ves</td>\n      <td>1</td>\n      <td>1</td>\n      <td>5.1</td>\n      <td>13.2</td>\n      <td>9.2</td>\n      <td>14.5</td>\n      <td>96.5</td>\n      <td>2009-02-10 16:03:00</td>\n      <td>...</td>\n      <td>8</td>\n      <td>Bil Holman Dredge/Dredge Capt Frank/Emo/Offsho...</td>\n      <td>Y</td>\n      <td>Unknown</td>\n      <td>Unknown</td>\n      <td>7</td>\n      <td>42.0/48.0/57.0/90.0/138.0/154.0/156.0</td>\n      <td>156.0</td>\n      <td>4</td>\n      <td>Dredging/MilOps/Reserved/Towing</td>\n    </tr>\n    <tr>\n      <th>1</th>\n      <td>1</td>\n      <td>Dredge Capt Frank</td>\n      <td>1</td>\n      <td>1</td>\n      <td>13.5</td>\n      <td>18.6</td>\n      <td>10.4</td>\n      <td>20.6</td>\n      <td>100.0</td>\n      <td>2009-04-06 14:31:00</td>\n      <td>...</td>\n      <td>8</td>\n      <td>Bil Holman Dredge/Dredge Capt Frank/Emo/Offsho...</td>\n      <td>Y</td>\n      <td>Unknown</td>\n      <td>Unknown</td>\n      <td>7</td>\n      <td>42.0/48.0/57.0/90.0/138.0/154.0/156.0</td>\n      <td>156.0</td>\n      <td>4</td>\n      <td>Dredging/MilOps/Reserved/Towing</td>\n    </tr>\n    <tr>\n      <th>2</th>\n      <td>1</td>\n      <td>Us Gov Vessel</td>\n      <td>1</td>\n      <td>1</td>\n      <td>4.3</td>\n      <td>16.2</td>\n      <td>10.3</td>\n      <td>20.5</td>\n      <td>100.0</td>\n      <td>2009-04-06 14:36:00</td>\n      <td>...</td>\n      <td>8</td>\n      <td>Bil Holman Dredge/Dredge Capt Frank/Emo/Offsho...</td>\n      <td>Y</td>\n      <td>Unknown</td>\n      <td>Unknown</td>\n      <td>7</td>\n      <td>42.0/48.0/57.0/90.0/138.0/154.0/156.0</td>\n      <td>156.0</td>\n      <td>4</td>\n      <td>Dredging/MilOps/Reserved/Towing</td>\n    </tr>\n    <tr>\n      <th>3</th>\n      <td>1</td>\n      <td>Us Gov Vessel</td>\n      <td>2</td>\n      <td>1</td>\n      <td>9.2</td>\n      <td>15.4</td>\n      <td>14.5</td>\n      <td>16.1</td>\n      <td>100.0</td>\n      <td>2009-04-10 17:58:00</td>\n      <td>...</td>\n      <td>8</td>\n      <td>Bil Holman Dredge/Dredge Capt Frank/Emo/Offsho...</td>\n      <td>Y</td>\n      <td>Unknown</td>\n      <td>Unknown</td>\n      <td>7</td>\n      <td>42.0/48.0/57.0/90.0/138.0/154.0/156.0</td>\n      <td>156.0</td>\n      <td>4</td>\n      <td>Dredging/MilOps/Reserved/Towing</td>\n    </tr>\n    <tr>\n      <th>4</th>\n      <td>1</td>\n      <td>Dredge Capt Frank</td>\n      <td>2</td>\n      <td>1</td>\n      <td>9.2</td>\n      <td>15.4</td>\n      <td>14.6</td>\n      <td>16.2</td>\n      <td>100.0</td>\n      <td>2009-04-10 17:59:00</td>\n      <td>...</td>\n      <td>8</td>\n      <td>Bil Holman Dredge/Dredge Capt Frank/Emo/Offsho...</td>\n      <td>Y</td>\n      <td>Unknown</td>\n      <td>Unknown</td>\n      <td>7</td>\n      <td>42.0/48.0/57.0/90.0/138.0/154.0/156.0</td>\n      <td>156.0</td>\n      <td>4</td>\n      <td>Dredging/MilOps/Reserved/Towing</td>\n    </tr>\n    <tr>\n      <th>5</th>\n      <td>1</td>\n      <td>Bil Holman Dredge</td>\n      <td>1</td>\n      <td>1</td>\n      <td>17.4</td>\n      <td>34.3</td>\n      <td>33.9</td>\n      <td>35.0</td>\n      <td>100.0</td>\n      <td>2010-03-20 16:06:00</td>\n      <td>...</td>\n      <td>8</td>\n      <td>Bil Holman Dredge/Dredge Capt Frank/Emo/Offsho...</td>\n      <td>Y</td>\n      <td>Unknown</td>\n      <td>Unknown</td>\n      <td>7</td>\n      <td>42.0/48.0/57.0/90.0/138.0/154.0/156.0</td>\n      <td>156.0</td>\n      <td>4</td>\n      <td>Dredging/MilOps/Reserved/Towing</td>\n    </tr>\n    <tr>\n      <th>6</th>\n      <td>1</td>\n      <td>Bil Holman Dredge</td>\n      <td>1</td>\n      <td>2</td>\n      <td>76.0</td>\n      <td>34.4</td>\n      <td>33.8</td>\n      <td>34.9</td>\n      <td>100.0</td>\n      <td>2010-03-20 18:05:00</td>\n      <td>...</td>\n      <td>8</td>\n      <td>Bil Holman Dredge/Dredge Capt Frank/Emo/Offsho...</td>\n      <td>Y</td>\n      <td>Unknown</td>\n      <td>Unknown</td>\n      <td>7</td>\n      <td>42.0/48.0/57.0/90.0/138.0/154.0/156.0</td>\n      <td>156.0</td>\n      <td>4</td>\n      <td>Dredging/MilOps/Reserved/Towing</td>\n    </tr>\n    <tr>\n      <th>7</th>\n      <td>1</td>\n      <td>S.d. Gumel</td>\n      <td>1</td>\n      <td>1</td>\n      <td>13.7</td>\n      <td>6.9</td>\n      <td>3.0</td>\n      <td>14.0</td>\n      <td>38.2</td>\n      <td>2011-05-04 11:28:00</td>\n      <td>...</td>\n      <td>8</td>\n      <td>Bil Holman Dredge/Dredge Capt Frank/Emo/Offsho...</td>\n      <td>Y</td>\n      <td>Unknown</td>\n      <td>Unknown</td>\n      <td>7</td>\n      <td>42.0/48.0/57.0/90.0/138.0/154.0/156.0</td>\n      <td>156.0</td>\n      <td>4</td>\n      <td>Dredging/MilOps/Reserved/Towing</td>\n    </tr>\n    <tr>\n      <th>8</th>\n      <td>9</td>\n      <td>Shearwater</td>\n      <td>4</td>\n      <td>1</td>\n      <td>11.6</td>\n      <td>8.8</td>\n      <td>7.9</td>\n      <td>10.3</td>\n      <td>0.0</td>\n      <td>2010-06-05 11:23:00</td>\n      <td>...</td>\n      <td>3</td>\n      <td>000000009/Raven/Shearwater</td>\n      <td>N</td>\n      <td>Unknown</td>\n      <td>Unknown</td>\n      <td>2</td>\n      <td>50.0/62.0</td>\n      <td>62.0</td>\n      <td>2</td>\n      <td>Pleasure/Tug</td>\n    </tr>\n    <tr>\n      <th>9</th>\n      <td>9</td>\n      <td>Shearwater</td>\n      <td>8</td>\n      <td>1</td>\n      <td>11.6</td>\n      <td>8.3</td>\n      <td>7.4</td>\n      <td>9.2</td>\n      <td>0.0</td>\n      <td>2010-06-08 11:03:00</td>\n      <td>...</td>\n      <td>3</td>\n      <td>000000009/Raven/Shearwater</td>\n      <td>N</td>\n      <td>Unknown</td>\n      <td>Unknown</td>\n      <td>2</td>\n      <td>50.0/62.0</td>\n      <td>62.0</td>\n      <td>2</td>\n      <td>Pleasure/Tug</td>\n    </tr>\n  </tbody>\n</table>\n<p>10 rows × 22 columns</p>\n</div>"
     },
     "execution_count": 37,
     "metadata": {},
     "output_type": "execute_result"
    }
   ],
   "source": [
    "segments.merge(vessels).head(10) #empty\n",
    "segments.merge(vessels, right_index=True, left_on='mmsi').head(10) #non-empty"
   ]
  },
  {
   "cell_type": "markdown",
   "metadata": {},
   "source": [
    "## Concatenation\n",
    "\n",
    "A common data manipulation is appending rows or columns to a dataset that already conform to the dimensions of the exsiting rows or colums, respectively:"
   ]
  },
  {
   "cell_type": "code",
   "execution_count": 38,
   "metadata": {
    "ExecuteTime": {
     "end_time": "2023-10-02T11:35:19.977841600Z",
     "start_time": "2023-10-02T11:35:19.900843100Z"
    }
   },
   "outputs": [
    {
     "data": {
      "text/plain": "array([0.63850737, 0.13569001, 0.52787428, 0.02986709, 0.9304278 ,\n       0.95884423, 0.0088066 , 0.19797887, 0.11264938, 0.76597633])"
     },
     "execution_count": 38,
     "metadata": {},
     "output_type": "execute_result"
    }
   ],
   "source": [
    "np.concatenate([np.random.random(5), np.random.random(5)])"
   ]
  },
  {
   "cell_type": "markdown",
   "metadata": {},
   "source": [
    "This operation is also called *binding* or *stacking*.\n",
    "\n",
    "With Pandas' indexed data structures, there are additional considerations as the overlap in index values between two data structures affects how they are concatenate.\n",
    "\n",
    "Lets import two microbiome datasets, each consisting of counts of microorganiams from a particular patient. We will use the first column of each dataset as the index."
   ]
  },
  {
   "cell_type": "code",
   "execution_count": 39,
   "metadata": {
    "ExecuteTime": {
     "end_time": "2023-10-02T11:37:47.652160400Z",
     "start_time": "2023-10-02T11:37:47.484143800Z"
    }
   },
   "outputs": [
    {
     "data": {
      "text/plain": "((272, 1), (288, 1))"
     },
     "execution_count": 39,
     "metadata": {},
     "output_type": "execute_result"
    }
   ],
   "source": [
    "mb1 = pd.read_excel('Data/microbiome_MID1.xls', 'Sheet 1', index_col=0, header=None)\n",
    "mb2 = pd.read_excel('Data/microbiome_MID2.xls', 'Sheet 1', index_col=0, header=None)\n",
    "mb1.columns = mb2.columns = ['Count']\n",
    "mb1.index.name = mb2.index.name = 'Taxon'\n",
    "mb1.shape, mb2.shape"
   ]
  },
  {
   "cell_type": "code",
   "execution_count": 43,
   "metadata": {
    "ExecuteTime": {
     "end_time": "2023-10-02T11:40:55.157971Z",
     "start_time": "2023-10-02T11:40:55.068977600Z"
    }
   },
   "outputs": [
    {
     "data": {
      "text/plain": "                                                    Count\nTaxon                                                    \nArchaea \"Crenarchaeota\" Thermoprotei Desulfuroc...      7\nArchaea \"Crenarchaeota\" Thermoprotei Desulfuroc...      2\nArchaea \"Crenarchaeota\" Thermoprotei Sulfolobal...      3\nArchaea \"Crenarchaeota\" Thermoprotei Thermoprot...      3\nArchaea \"Euryarchaeota\" \"Methanomicrobia\" Metha...      7",
      "text/html": "<div>\n<style scoped>\n    .dataframe tbody tr th:only-of-type {\n        vertical-align: middle;\n    }\n\n    .dataframe tbody tr th {\n        vertical-align: top;\n    }\n\n    .dataframe thead th {\n        text-align: right;\n    }\n</style>\n<table border=\"1\" class=\"dataframe\">\n  <thead>\n    <tr style=\"text-align: right;\">\n      <th></th>\n      <th>Count</th>\n    </tr>\n    <tr>\n      <th>Taxon</th>\n      <th></th>\n    </tr>\n  </thead>\n  <tbody>\n    <tr>\n      <th>Archaea \"Crenarchaeota\" Thermoprotei Desulfurococcales Desulfurococcaceae Ignisphaera</th>\n      <td>7</td>\n    </tr>\n    <tr>\n      <th>Archaea \"Crenarchaeota\" Thermoprotei Desulfurococcales Pyrodictiaceae Pyrolobus</th>\n      <td>2</td>\n    </tr>\n    <tr>\n      <th>Archaea \"Crenarchaeota\" Thermoprotei Sulfolobales Sulfolobaceae Stygiolobus</th>\n      <td>3</td>\n    </tr>\n    <tr>\n      <th>Archaea \"Crenarchaeota\" Thermoprotei Thermoproteales Thermofilaceae Thermofilum</th>\n      <td>3</td>\n    </tr>\n    <tr>\n      <th>Archaea \"Euryarchaeota\" \"Methanomicrobia\" Methanocellales Methanocellaceae Methanocella</th>\n      <td>7</td>\n    </tr>\n  </tbody>\n</table>\n</div>"
     },
     "execution_count": 43,
     "metadata": {},
     "output_type": "execute_result"
    }
   ],
   "source": [
    "mb1.head()"
   ]
  },
  {
   "cell_type": "markdown",
   "metadata": {},
   "source": [
    "The index of these data is the unique biological classification of each organism, beginning with *domain*, *phylum*, *class*, and for some organisms, going all the way down to the genus level.\n",
    "\n",
    "![classification](http://upload.wikimedia.org/wikipedia/commons/thumb/a/a5/Biological_classification_L_Pengo_vflip.svg/150px-Biological_classification_L_Pengo_vflip.svg.png)"
   ]
  },
  {
   "cell_type": "code",
   "execution_count": 44,
   "metadata": {
    "ExecuteTime": {
     "end_time": "2023-10-02T11:40:59.062602700Z",
     "start_time": "2023-10-02T11:40:58.952600800Z"
    }
   },
   "outputs": [
    {
     "data": {
      "text/plain": "True"
     },
     "execution_count": 44,
     "metadata": {},
     "output_type": "execute_result"
    }
   ],
   "source": [
    "mb1.index.is_unique"
   ]
  },
  {
   "cell_type": "markdown",
   "metadata": {},
   "source": [
    "If we concatenate along `axis=0` (the default), we will obtain another data frame with the the rows concatenated:"
   ]
  },
  {
   "cell_type": "code",
   "execution_count": 50,
   "metadata": {
    "ExecuteTime": {
     "end_time": "2023-10-02T11:45:07.341599300Z",
     "start_time": "2023-10-02T11:45:07.271602100Z"
    }
   },
   "outputs": [
    {
     "data": {
      "text/plain": "                                                    Count\nTaxon                                                    \nArchaea \"Crenarchaeota\" Thermoprotei Desulfuroc...      7\nArchaea \"Crenarchaeota\" Thermoprotei Desulfuroc...      2\nArchaea \"Crenarchaeota\" Thermoprotei Sulfolobal...      3\nArchaea \"Crenarchaeota\" Thermoprotei Thermoprot...      3\nArchaea \"Euryarchaeota\" \"Methanomicrobia\" Metha...      7",
      "text/html": "<div>\n<style scoped>\n    .dataframe tbody tr th:only-of-type {\n        vertical-align: middle;\n    }\n\n    .dataframe tbody tr th {\n        vertical-align: top;\n    }\n\n    .dataframe thead th {\n        text-align: right;\n    }\n</style>\n<table border=\"1\" class=\"dataframe\">\n  <thead>\n    <tr style=\"text-align: right;\">\n      <th></th>\n      <th>Count</th>\n    </tr>\n    <tr>\n      <th>Taxon</th>\n      <th></th>\n    </tr>\n  </thead>\n  <tbody>\n    <tr>\n      <th>Archaea \"Crenarchaeota\" Thermoprotei Desulfurococcales Desulfurococcaceae Ignisphaera</th>\n      <td>7</td>\n    </tr>\n    <tr>\n      <th>Archaea \"Crenarchaeota\" Thermoprotei Desulfurococcales Pyrodictiaceae Pyrolobus</th>\n      <td>2</td>\n    </tr>\n    <tr>\n      <th>Archaea \"Crenarchaeota\" Thermoprotei Sulfolobales Sulfolobaceae Stygiolobus</th>\n      <td>3</td>\n    </tr>\n    <tr>\n      <th>Archaea \"Crenarchaeota\" Thermoprotei Thermoproteales Thermofilaceae Thermofilum</th>\n      <td>3</td>\n    </tr>\n    <tr>\n      <th>Archaea \"Euryarchaeota\" \"Methanomicrobia\" Methanocellales Methanocellaceae Methanocella</th>\n      <td>7</td>\n    </tr>\n  </tbody>\n</table>\n</div>"
     },
     "execution_count": 50,
     "metadata": {},
     "output_type": "execute_result"
    }
   ],
   "source": [
    "pd.concat([mb1, mb2], axis=0).head()"
   ]
  },
  {
   "cell_type": "markdown",
   "metadata": {},
   "source": [
    "However, the index is no longer unique, due to overlap between the two `DataFrames`."
   ]
  },
  {
   "cell_type": "code",
   "execution_count": 51,
   "metadata": {
    "ExecuteTime": {
     "end_time": "2023-10-02T11:56:02.970521600Z",
     "start_time": "2023-10-02T11:56:02.911486700Z"
    }
   },
   "outputs": [
    {
     "data": {
      "text/plain": "False"
     },
     "execution_count": 51,
     "metadata": {},
     "output_type": "execute_result"
    }
   ],
   "source": [
    "pd.concat([mb1, mb2], axis=0).index.is_unique"
   ]
  },
  {
   "cell_type": "markdown",
   "metadata": {},
   "source": [
    "Concatenating along `axis=1` will concatenate column-wise, but respecting the indices of the two `DataFrames`."
   ]
  },
  {
   "cell_type": "code",
   "execution_count": 52,
   "metadata": {
    "ExecuteTime": {
     "end_time": "2023-10-02T11:56:03.916890400Z",
     "start_time": "2023-10-02T11:56:03.819938100Z"
    }
   },
   "outputs": [
    {
     "data": {
      "text/plain": "(438, 2)"
     },
     "execution_count": 52,
     "metadata": {},
     "output_type": "execute_result"
    }
   ],
   "source": [
    "pd.concat([mb1, mb2], axis=1).shape"
   ]
  },
  {
   "cell_type": "code",
   "execution_count": 53,
   "metadata": {
    "ExecuteTime": {
     "end_time": "2023-10-02T11:56:04.302643600Z",
     "start_time": "2023-10-02T11:56:04.231659100Z"
    }
   },
   "outputs": [
    {
     "data": {
      "text/plain": "                                                    Count  Count\nTaxon                                                           \nArchaea \"Crenarchaeota\" Thermoprotei Desulfuroc...    7.0   23.0\nArchaea \"Crenarchaeota\" Thermoprotei Desulfuroc...    2.0    2.0\nArchaea \"Crenarchaeota\" Thermoprotei Sulfolobal...    3.0   10.0\nArchaea \"Crenarchaeota\" Thermoprotei Thermoprot...    3.0    9.0\nArchaea \"Euryarchaeota\" \"Methanomicrobia\" Metha...    7.0    9.0",
      "text/html": "<div>\n<style scoped>\n    .dataframe tbody tr th:only-of-type {\n        vertical-align: middle;\n    }\n\n    .dataframe tbody tr th {\n        vertical-align: top;\n    }\n\n    .dataframe thead th {\n        text-align: right;\n    }\n</style>\n<table border=\"1\" class=\"dataframe\">\n  <thead>\n    <tr style=\"text-align: right;\">\n      <th></th>\n      <th>Count</th>\n      <th>Count</th>\n    </tr>\n    <tr>\n      <th>Taxon</th>\n      <th></th>\n      <th></th>\n    </tr>\n  </thead>\n  <tbody>\n    <tr>\n      <th>Archaea \"Crenarchaeota\" Thermoprotei Desulfurococcales Desulfurococcaceae Ignisphaera</th>\n      <td>7.0</td>\n      <td>23.0</td>\n    </tr>\n    <tr>\n      <th>Archaea \"Crenarchaeota\" Thermoprotei Desulfurococcales Pyrodictiaceae Pyrolobus</th>\n      <td>2.0</td>\n      <td>2.0</td>\n    </tr>\n    <tr>\n      <th>Archaea \"Crenarchaeota\" Thermoprotei Sulfolobales Sulfolobaceae Stygiolobus</th>\n      <td>3.0</td>\n      <td>10.0</td>\n    </tr>\n    <tr>\n      <th>Archaea \"Crenarchaeota\" Thermoprotei Thermoproteales Thermofilaceae Thermofilum</th>\n      <td>3.0</td>\n      <td>9.0</td>\n    </tr>\n    <tr>\n      <th>Archaea \"Euryarchaeota\" \"Methanomicrobia\" Methanocellales Methanocellaceae Methanocella</th>\n      <td>7.0</td>\n      <td>9.0</td>\n    </tr>\n  </tbody>\n</table>\n</div>"
     },
     "execution_count": 53,
     "metadata": {},
     "output_type": "execute_result"
    }
   ],
   "source": [
    "pd.concat([mb1, mb2], axis=1).head()"
   ]
  },
  {
   "cell_type": "markdown",
   "metadata": {},
   "source": [
    "## Reshaping DataFrame objects\n",
    "\n",
    "In the context of a single DataFrame, we are often interested in re-arranging the layout of our data. "
   ]
  },
  {
   "cell_type": "markdown",
   "metadata": {},
   "source": [
    "This dataset is from Table 6.9 of [Statistical Methods for the Analysis of Repeated Measurements](http://www.amazon.com/Statistical-Methods-Analysis-Repeated-Measurements/dp/0387953701) by Charles S. Davis, pp. 161-163 (Springer, 2002). These data are from a multicenter, randomized controlled trial of botulinum toxin type B (BotB) in patients with cervical dystonia from nine U.S. sites.\n",
    "\n",
    "* Randomized to placebo (N=36), 5000 units of BotB (N=36), 10,000 units of BotB (N=37)\n",
    "* Response variable: total score on Toronto Western Spasmodic Torticollis Rating Scale (TWSTRS), measuring severity, pain, and disability of cervical dystonia (high scores mean more impairment)\n",
    "* TWSTRS measured at baseline (week 0) and weeks 2, 4, 8, 12, 16 after treatment began"
   ]
  },
  {
   "cell_type": "code",
   "execution_count": 54,
   "metadata": {
    "ExecuteTime": {
     "end_time": "2023-10-02T11:56:07.272300700Z",
     "start_time": "2023-10-02T11:56:07.213300700Z"
    }
   },
   "outputs": [
    {
     "data": {
      "text/plain": "   patient  obs  week  site  id  treat  age sex  twstrs\n0        1    1     0     1   1  5000U   65   F      32\n1        1    2     2     1   1  5000U   65   F      30\n2        1    3     4     1   1  5000U   65   F      24\n3        1    4     8     1   1  5000U   65   F      37\n4        1    5    12     1   1  5000U   65   F      39",
      "text/html": "<div>\n<style scoped>\n    .dataframe tbody tr th:only-of-type {\n        vertical-align: middle;\n    }\n\n    .dataframe tbody tr th {\n        vertical-align: top;\n    }\n\n    .dataframe thead th {\n        text-align: right;\n    }\n</style>\n<table border=\"1\" class=\"dataframe\">\n  <thead>\n    <tr style=\"text-align: right;\">\n      <th></th>\n      <th>patient</th>\n      <th>obs</th>\n      <th>week</th>\n      <th>site</th>\n      <th>id</th>\n      <th>treat</th>\n      <th>age</th>\n      <th>sex</th>\n      <th>twstrs</th>\n    </tr>\n  </thead>\n  <tbody>\n    <tr>\n      <th>0</th>\n      <td>1</td>\n      <td>1</td>\n      <td>0</td>\n      <td>1</td>\n      <td>1</td>\n      <td>5000U</td>\n      <td>65</td>\n      <td>F</td>\n      <td>32</td>\n    </tr>\n    <tr>\n      <th>1</th>\n      <td>1</td>\n      <td>2</td>\n      <td>2</td>\n      <td>1</td>\n      <td>1</td>\n      <td>5000U</td>\n      <td>65</td>\n      <td>F</td>\n      <td>30</td>\n    </tr>\n    <tr>\n      <th>2</th>\n      <td>1</td>\n      <td>3</td>\n      <td>4</td>\n      <td>1</td>\n      <td>1</td>\n      <td>5000U</td>\n      <td>65</td>\n      <td>F</td>\n      <td>24</td>\n    </tr>\n    <tr>\n      <th>3</th>\n      <td>1</td>\n      <td>4</td>\n      <td>8</td>\n      <td>1</td>\n      <td>1</td>\n      <td>5000U</td>\n      <td>65</td>\n      <td>F</td>\n      <td>37</td>\n    </tr>\n    <tr>\n      <th>4</th>\n      <td>1</td>\n      <td>5</td>\n      <td>12</td>\n      <td>1</td>\n      <td>1</td>\n      <td>5000U</td>\n      <td>65</td>\n      <td>F</td>\n      <td>39</td>\n    </tr>\n  </tbody>\n</table>\n</div>"
     },
     "execution_count": 54,
     "metadata": {},
     "output_type": "execute_result"
    }
   ],
   "source": [
    "cdystonia = pd.read_csv(\"Data/cdystonia.csv\", index_col=None)\n",
    "cdystonia.head()"
   ]
  },
  {
   "cell_type": "markdown",
   "metadata": {},
   "source": [
    "This dataset includes repeated measurements of the same individuals (longitudinal data). Its possible to present such information in (at least) two ways: showing each repeated measurement in their own row, or in multiple columns representing multiple measurements.\n"
   ]
  },
  {
   "cell_type": "markdown",
   "metadata": {},
   "source": [
    "The `stack` method rotates the data frame so that columns are represented in rows:"
   ]
  },
  {
   "cell_type": "code",
   "execution_count": 55,
   "metadata": {
    "ExecuteTime": {
     "end_time": "2023-10-02T12:09:49.570806700Z",
     "start_time": "2023-10-02T12:09:49.506814200Z"
    }
   },
   "outputs": [
    {
     "data": {
      "text/plain": "0  patient        1\n   obs            1\n   week           0\n   site           1\n   id             1\n   treat      5000U\n   age           65\n   sex            F\n   twstrs        32\n1  patient        1\n   obs            2\n   week           2\n   site           1\n   id             1\n   treat      5000U\ndtype: object"
     },
     "execution_count": 55,
     "metadata": {},
     "output_type": "execute_result"
    }
   ],
   "source": [
    "stacked = cdystonia.stack()\n",
    "stacked.head(15)"
   ]
  },
  {
   "cell_type": "markdown",
   "metadata": {},
   "source": [
    "To complement this, `unstack` pivots from rows back to columns."
   ]
  },
  {
   "cell_type": "code",
   "execution_count": 56,
   "metadata": {
    "ExecuteTime": {
     "end_time": "2023-10-02T12:10:13.242211900Z",
     "start_time": "2023-10-02T12:10:13.178214400Z"
    }
   },
   "outputs": [
    {
     "data": {
      "text/plain": "  patient obs week site id  treat age sex twstrs\n0       1   1    0    1  1  5000U  65   F     32\n1       1   2    2    1  1  5000U  65   F     30\n2       1   3    4    1  1  5000U  65   F     24\n3       1   4    8    1  1  5000U  65   F     37\n4       1   5   12    1  1  5000U  65   F     39",
      "text/html": "<div>\n<style scoped>\n    .dataframe tbody tr th:only-of-type {\n        vertical-align: middle;\n    }\n\n    .dataframe tbody tr th {\n        vertical-align: top;\n    }\n\n    .dataframe thead th {\n        text-align: right;\n    }\n</style>\n<table border=\"1\" class=\"dataframe\">\n  <thead>\n    <tr style=\"text-align: right;\">\n      <th></th>\n      <th>patient</th>\n      <th>obs</th>\n      <th>week</th>\n      <th>site</th>\n      <th>id</th>\n      <th>treat</th>\n      <th>age</th>\n      <th>sex</th>\n      <th>twstrs</th>\n    </tr>\n  </thead>\n  <tbody>\n    <tr>\n      <th>0</th>\n      <td>1</td>\n      <td>1</td>\n      <td>0</td>\n      <td>1</td>\n      <td>1</td>\n      <td>5000U</td>\n      <td>65</td>\n      <td>F</td>\n      <td>32</td>\n    </tr>\n    <tr>\n      <th>1</th>\n      <td>1</td>\n      <td>2</td>\n      <td>2</td>\n      <td>1</td>\n      <td>1</td>\n      <td>5000U</td>\n      <td>65</td>\n      <td>F</td>\n      <td>30</td>\n    </tr>\n    <tr>\n      <th>2</th>\n      <td>1</td>\n      <td>3</td>\n      <td>4</td>\n      <td>1</td>\n      <td>1</td>\n      <td>5000U</td>\n      <td>65</td>\n      <td>F</td>\n      <td>24</td>\n    </tr>\n    <tr>\n      <th>3</th>\n      <td>1</td>\n      <td>4</td>\n      <td>8</td>\n      <td>1</td>\n      <td>1</td>\n      <td>5000U</td>\n      <td>65</td>\n      <td>F</td>\n      <td>37</td>\n    </tr>\n    <tr>\n      <th>4</th>\n      <td>1</td>\n      <td>5</td>\n      <td>12</td>\n      <td>1</td>\n      <td>1</td>\n      <td>5000U</td>\n      <td>65</td>\n      <td>F</td>\n      <td>39</td>\n    </tr>\n  </tbody>\n</table>\n</div>"
     },
     "execution_count": 56,
     "metadata": {},
     "output_type": "execute_result"
    }
   ],
   "source": [
    "stacked.unstack().head()"
   ]
  },
  {
   "cell_type": "markdown",
   "metadata": {},
   "source": [
    "For this dataset, it makes sense to create a hierarchical index based on the patient and observation:"
   ]
  },
  {
   "cell_type": "markdown",
   "metadata": {},
   "source": [
    "## Pivoting\n",
    "\n",
    "The `pivot` method allows a DataFrame to be transformed easily between long and wide formats in the same way as a pivot table is created in a spreadsheet. It takes three arguments: `index`, `columns` and `values`, corresponding to the DataFrame index (the row headers), columns and cell values, respectively.\n",
    "\n",
    "For example, we may want the `twstrs` variable (the response variable) in wide format according to patient, as we saw with the unstacking method above:"
   ]
  },
  {
   "cell_type": "code",
   "execution_count": 57,
   "metadata": {
    "ExecuteTime": {
     "end_time": "2023-10-02T15:52:20.215078800Z",
     "start_time": "2023-10-02T15:52:20.182974200Z"
    }
   },
   "outputs": [
    {
     "data": {
      "text/plain": "obs         1     2     3     4     5     6\npatient                                    \n1        32.0  30.0  24.0  37.0  39.0  36.0\n2        60.0  26.0  27.0  41.0  65.0  67.0\n3        44.0  20.0  23.0  26.0  35.0  35.0\n4        53.0  61.0  64.0  62.0   NaN   NaN\n5        53.0  35.0  48.0  49.0  41.0  51.0",
      "text/html": "<div>\n<style scoped>\n    .dataframe tbody tr th:only-of-type {\n        vertical-align: middle;\n    }\n\n    .dataframe tbody tr th {\n        vertical-align: top;\n    }\n\n    .dataframe thead th {\n        text-align: right;\n    }\n</style>\n<table border=\"1\" class=\"dataframe\">\n  <thead>\n    <tr style=\"text-align: right;\">\n      <th>obs</th>\n      <th>1</th>\n      <th>2</th>\n      <th>3</th>\n      <th>4</th>\n      <th>5</th>\n      <th>6</th>\n    </tr>\n    <tr>\n      <th>patient</th>\n      <th></th>\n      <th></th>\n      <th></th>\n      <th></th>\n      <th></th>\n      <th></th>\n    </tr>\n  </thead>\n  <tbody>\n    <tr>\n      <th>1</th>\n      <td>32.0</td>\n      <td>30.0</td>\n      <td>24.0</td>\n      <td>37.0</td>\n      <td>39.0</td>\n      <td>36.0</td>\n    </tr>\n    <tr>\n      <th>2</th>\n      <td>60.0</td>\n      <td>26.0</td>\n      <td>27.0</td>\n      <td>41.0</td>\n      <td>65.0</td>\n      <td>67.0</td>\n    </tr>\n    <tr>\n      <th>3</th>\n      <td>44.0</td>\n      <td>20.0</td>\n      <td>23.0</td>\n      <td>26.0</td>\n      <td>35.0</td>\n      <td>35.0</td>\n    </tr>\n    <tr>\n      <th>4</th>\n      <td>53.0</td>\n      <td>61.0</td>\n      <td>64.0</td>\n      <td>62.0</td>\n      <td>NaN</td>\n      <td>NaN</td>\n    </tr>\n    <tr>\n      <th>5</th>\n      <td>53.0</td>\n      <td>35.0</td>\n      <td>48.0</td>\n      <td>49.0</td>\n      <td>41.0</td>\n      <td>51.0</td>\n    </tr>\n  </tbody>\n</table>\n</div>"
     },
     "execution_count": 57,
     "metadata": {},
     "output_type": "execute_result"
    }
   ],
   "source": [
    "twstrs_wide = cdystonia.pivot(index='patient', columns='obs', values='twstrs').head()\n",
    "twstrs_wide"
   ]
  },
  {
   "cell_type": "code",
   "execution_count": 58,
   "metadata": {
    "ExecuteTime": {
     "end_time": "2023-10-02T15:53:43.228602900Z",
     "start_time": "2023-10-02T15:53:43.068414100Z"
    }
   },
   "outputs": [
    {
     "data": {
      "text/plain": "    patient  site  id    treat  age sex     1     2     3     4     5     6\n0         1     1   1    5000U   65   F  32.0  30.0  24.0  37.0  39.0  36.0\n6         2     1   2   10000U   70   F  60.0  26.0  27.0  41.0  65.0  67.0\n12        3     1   3    5000U   64   F  44.0  20.0  23.0  26.0  35.0  35.0\n18        4     1   4  Placebo   59   F  53.0  61.0  64.0  62.0   NaN   NaN\n22        5     1   5   10000U   76   F  53.0  35.0  48.0  49.0  41.0  51.0",
      "text/html": "<div>\n<style scoped>\n    .dataframe tbody tr th:only-of-type {\n        vertical-align: middle;\n    }\n\n    .dataframe tbody tr th {\n        vertical-align: top;\n    }\n\n    .dataframe thead th {\n        text-align: right;\n    }\n</style>\n<table border=\"1\" class=\"dataframe\">\n  <thead>\n    <tr style=\"text-align: right;\">\n      <th></th>\n      <th>patient</th>\n      <th>site</th>\n      <th>id</th>\n      <th>treat</th>\n      <th>age</th>\n      <th>sex</th>\n      <th>1</th>\n      <th>2</th>\n      <th>3</th>\n      <th>4</th>\n      <th>5</th>\n      <th>6</th>\n    </tr>\n  </thead>\n  <tbody>\n    <tr>\n      <th>0</th>\n      <td>1</td>\n      <td>1</td>\n      <td>1</td>\n      <td>5000U</td>\n      <td>65</td>\n      <td>F</td>\n      <td>32.0</td>\n      <td>30.0</td>\n      <td>24.0</td>\n      <td>37.0</td>\n      <td>39.0</td>\n      <td>36.0</td>\n    </tr>\n    <tr>\n      <th>6</th>\n      <td>2</td>\n      <td>1</td>\n      <td>2</td>\n      <td>10000U</td>\n      <td>70</td>\n      <td>F</td>\n      <td>60.0</td>\n      <td>26.0</td>\n      <td>27.0</td>\n      <td>41.0</td>\n      <td>65.0</td>\n      <td>67.0</td>\n    </tr>\n    <tr>\n      <th>12</th>\n      <td>3</td>\n      <td>1</td>\n      <td>3</td>\n      <td>5000U</td>\n      <td>64</td>\n      <td>F</td>\n      <td>44.0</td>\n      <td>20.0</td>\n      <td>23.0</td>\n      <td>26.0</td>\n      <td>35.0</td>\n      <td>35.0</td>\n    </tr>\n    <tr>\n      <th>18</th>\n      <td>4</td>\n      <td>1</td>\n      <td>4</td>\n      <td>Placebo</td>\n      <td>59</td>\n      <td>F</td>\n      <td>53.0</td>\n      <td>61.0</td>\n      <td>64.0</td>\n      <td>62.0</td>\n      <td>NaN</td>\n      <td>NaN</td>\n    </tr>\n    <tr>\n      <th>22</th>\n      <td>5</td>\n      <td>1</td>\n      <td>5</td>\n      <td>10000U</td>\n      <td>76</td>\n      <td>F</td>\n      <td>53.0</td>\n      <td>35.0</td>\n      <td>48.0</td>\n      <td>49.0</td>\n      <td>41.0</td>\n      <td>51.0</td>\n    </tr>\n  </tbody>\n</table>\n</div>"
     },
     "execution_count": 58,
     "metadata": {},
     "output_type": "execute_result"
    }
   ],
   "source": [
    "cdystonia_wide = (cdystonia[['patient','site','id','treat','age','sex']]\n",
    "                  .drop_duplicates()\n",
    "                  .merge(twstrs_wide, right_index=True, left_on='patient', how='inner')\n",
    "                  .head())\n",
    "cdystonia_wide"
   ]
  },
  {
   "cell_type": "markdown",
   "metadata": {},
   "source": [
    "To convert our \"wide\" format back to long, we can use the `melt` function, appropriately parameterized. This function is useful for `DataFrame`s where one\n",
    "or more columns are identifier variables (`id_vars`), with the remaining columns being measured variables (`value_vars`). The measured variables are \"unpivoted\" to\n",
    "the row axis, leaving just two non-identifier columns, a *variable* and its corresponding *value*, which can both be renamed using optional arguments."
   ]
  },
  {
   "cell_type": "code",
   "execution_count": 59,
   "metadata": {
    "ExecuteTime": {
     "end_time": "2023-10-02T15:58:44.586654300Z",
     "start_time": "2023-10-02T15:58:44.450261600Z"
    }
   },
   "outputs": [
    {
     "data": {
      "text/plain": "   patient  site  id    treat  age sex obs  twsters\n0        1     1   1    5000U   65   F   1     32.0\n1        2     1   2   10000U   70   F   1     60.0\n2        3     1   3    5000U   64   F   1     44.0\n3        4     1   4  Placebo   59   F   1     53.0\n4        5     1   5   10000U   76   F   1     53.0",
      "text/html": "<div>\n<style scoped>\n    .dataframe tbody tr th:only-of-type {\n        vertical-align: middle;\n    }\n\n    .dataframe tbody tr th {\n        vertical-align: top;\n    }\n\n    .dataframe thead th {\n        text-align: right;\n    }\n</style>\n<table border=\"1\" class=\"dataframe\">\n  <thead>\n    <tr style=\"text-align: right;\">\n      <th></th>\n      <th>patient</th>\n      <th>site</th>\n      <th>id</th>\n      <th>treat</th>\n      <th>age</th>\n      <th>sex</th>\n      <th>obs</th>\n      <th>twsters</th>\n    </tr>\n  </thead>\n  <tbody>\n    <tr>\n      <th>0</th>\n      <td>1</td>\n      <td>1</td>\n      <td>1</td>\n      <td>5000U</td>\n      <td>65</td>\n      <td>F</td>\n      <td>1</td>\n      <td>32.0</td>\n    </tr>\n    <tr>\n      <th>1</th>\n      <td>2</td>\n      <td>1</td>\n      <td>2</td>\n      <td>10000U</td>\n      <td>70</td>\n      <td>F</td>\n      <td>1</td>\n      <td>60.0</td>\n    </tr>\n    <tr>\n      <th>2</th>\n      <td>3</td>\n      <td>1</td>\n      <td>3</td>\n      <td>5000U</td>\n      <td>64</td>\n      <td>F</td>\n      <td>1</td>\n      <td>44.0</td>\n    </tr>\n    <tr>\n      <th>3</th>\n      <td>4</td>\n      <td>1</td>\n      <td>4</td>\n      <td>Placebo</td>\n      <td>59</td>\n      <td>F</td>\n      <td>1</td>\n      <td>53.0</td>\n    </tr>\n    <tr>\n      <th>4</th>\n      <td>5</td>\n      <td>1</td>\n      <td>5</td>\n      <td>10000U</td>\n      <td>76</td>\n      <td>F</td>\n      <td>1</td>\n      <td>53.0</td>\n    </tr>\n  </tbody>\n</table>\n</div>"
     },
     "execution_count": 59,
     "metadata": {},
     "output_type": "execute_result"
    }
   ],
   "source": [
    "pd.melt(cdystonia_wide, id_vars=['patient','site','id','treat','age','sex'], var_name='obs', value_name='twsters').head()"
   ]
  },
  {
   "cell_type": "markdown",
   "metadata": {},
   "source": [
    "This illustrates the two formats for longitudinal data: **long** and **wide** formats. Its typically better to store data in long format because additional data can be included as additional rows in the database, while wide format requires that the entire database schema be altered by adding columns to every row as data are collected.\n",
    "\n",
    "The preferable format for analysis depends entirely on what is planned for the data, so it is imporant to be able to move easily between them."
   ]
  },
  {
   "cell_type": "markdown",
   "metadata": {},
   "source": [
    "A related method, `pivot_table`, creates a spreadsheet-like table with a hierarchical index, and allows the values of the table to be populated using an arbitrary aggregation function."
   ]
  },
  {
   "cell_type": "code",
   "execution_count": 60,
   "metadata": {
    "ExecuteTime": {
     "end_time": "2023-10-02T16:00:46.556228Z",
     "start_time": "2023-10-02T16:00:46.417767400Z"
    }
   },
   "outputs": [
    {
     "data": {
      "text/plain": "week          0   2   4   8   12  16\nsite treat                          \n1    10000U   60  41  48  49  65  67\n     5000U    44  32  34  43  42  46\n     Placebo  53  61  64  62  32  38\n2    10000U   65  60  60  64  67  66\n     5000U    67  64  65  64  62  64\n     Placebo  53  56  52  57  61  54\n3    10000U   50  43  51  46  49  56\n     5000U    52  44  47  50  50  49\n     Placebo  43  38  40  48  49  44\n4    10000U   54  52  52  54  51  57",
      "text/html": "<div>\n<style scoped>\n    .dataframe tbody tr th:only-of-type {\n        vertical-align: middle;\n    }\n\n    .dataframe tbody tr th {\n        vertical-align: top;\n    }\n\n    .dataframe thead th {\n        text-align: right;\n    }\n</style>\n<table border=\"1\" class=\"dataframe\">\n  <thead>\n    <tr style=\"text-align: right;\">\n      <th></th>\n      <th>week</th>\n      <th>0</th>\n      <th>2</th>\n      <th>4</th>\n      <th>8</th>\n      <th>12</th>\n      <th>16</th>\n    </tr>\n    <tr>\n      <th>site</th>\n      <th>treat</th>\n      <th></th>\n      <th></th>\n      <th></th>\n      <th></th>\n      <th></th>\n      <th></th>\n    </tr>\n  </thead>\n  <tbody>\n    <tr>\n      <th rowspan=\"3\" valign=\"top\">1</th>\n      <th>10000U</th>\n      <td>60</td>\n      <td>41</td>\n      <td>48</td>\n      <td>49</td>\n      <td>65</td>\n      <td>67</td>\n    </tr>\n    <tr>\n      <th>5000U</th>\n      <td>44</td>\n      <td>32</td>\n      <td>34</td>\n      <td>43</td>\n      <td>42</td>\n      <td>46</td>\n    </tr>\n    <tr>\n      <th>Placebo</th>\n      <td>53</td>\n      <td>61</td>\n      <td>64</td>\n      <td>62</td>\n      <td>32</td>\n      <td>38</td>\n    </tr>\n    <tr>\n      <th rowspan=\"3\" valign=\"top\">2</th>\n      <th>10000U</th>\n      <td>65</td>\n      <td>60</td>\n      <td>60</td>\n      <td>64</td>\n      <td>67</td>\n      <td>66</td>\n    </tr>\n    <tr>\n      <th>5000U</th>\n      <td>67</td>\n      <td>64</td>\n      <td>65</td>\n      <td>64</td>\n      <td>62</td>\n      <td>64</td>\n    </tr>\n    <tr>\n      <th>Placebo</th>\n      <td>53</td>\n      <td>56</td>\n      <td>52</td>\n      <td>57</td>\n      <td>61</td>\n      <td>54</td>\n    </tr>\n    <tr>\n      <th rowspan=\"3\" valign=\"top\">3</th>\n      <th>10000U</th>\n      <td>50</td>\n      <td>43</td>\n      <td>51</td>\n      <td>46</td>\n      <td>49</td>\n      <td>56</td>\n    </tr>\n    <tr>\n      <th>5000U</th>\n      <td>52</td>\n      <td>44</td>\n      <td>47</td>\n      <td>50</td>\n      <td>50</td>\n      <td>49</td>\n    </tr>\n    <tr>\n      <th>Placebo</th>\n      <td>43</td>\n      <td>38</td>\n      <td>40</td>\n      <td>48</td>\n      <td>49</td>\n      <td>44</td>\n    </tr>\n    <tr>\n      <th>4</th>\n      <th>10000U</th>\n      <td>54</td>\n      <td>52</td>\n      <td>52</td>\n      <td>54</td>\n      <td>51</td>\n      <td>57</td>\n    </tr>\n  </tbody>\n</table>\n</div>"
     },
     "execution_count": 60,
     "metadata": {},
     "output_type": "execute_result"
    }
   ],
   "source": [
    "cdystonia.pivot_table(index=['site', 'treat'], columns='week', values='twstrs', aggfunc=max).head(10)"
   ]
  },
  {
   "cell_type": "markdown",
   "metadata": {},
   "source": [
    "For a simple cross-tabulation of group frequencies, the `crosstab` function (not a method) aggregates counts of data according to factors in rows and columns. The factors may be hierarchical if desired."
   ]
  },
  {
   "cell_type": "code",
   "execution_count": 61,
   "metadata": {
    "ExecuteTime": {
     "end_time": "2023-10-02T16:02:17.460483100Z",
     "start_time": "2023-10-02T16:02:17.396197600Z"
    }
   },
   "outputs": [
    {
     "data": {
      "text/plain": "site   1   2   3   4   5   6   7   8   9\nsex                                     \nF     52  53  42  30  22  54  66  48  28\nM     18  29  30  18  11  33   6  58  33",
      "text/html": "<div>\n<style scoped>\n    .dataframe tbody tr th:only-of-type {\n        vertical-align: middle;\n    }\n\n    .dataframe tbody tr th {\n        vertical-align: top;\n    }\n\n    .dataframe thead th {\n        text-align: right;\n    }\n</style>\n<table border=\"1\" class=\"dataframe\">\n  <thead>\n    <tr style=\"text-align: right;\">\n      <th>site</th>\n      <th>1</th>\n      <th>2</th>\n      <th>3</th>\n      <th>4</th>\n      <th>5</th>\n      <th>6</th>\n      <th>7</th>\n      <th>8</th>\n      <th>9</th>\n    </tr>\n    <tr>\n      <th>sex</th>\n      <th></th>\n      <th></th>\n      <th></th>\n      <th></th>\n      <th></th>\n      <th></th>\n      <th></th>\n      <th></th>\n      <th></th>\n    </tr>\n  </thead>\n  <tbody>\n    <tr>\n      <th>F</th>\n      <td>52</td>\n      <td>53</td>\n      <td>42</td>\n      <td>30</td>\n      <td>22</td>\n      <td>54</td>\n      <td>66</td>\n      <td>48</td>\n      <td>28</td>\n    </tr>\n    <tr>\n      <th>M</th>\n      <td>18</td>\n      <td>29</td>\n      <td>30</td>\n      <td>18</td>\n      <td>11</td>\n      <td>33</td>\n      <td>6</td>\n      <td>58</td>\n      <td>33</td>\n    </tr>\n  </tbody>\n</table>\n</div>"
     },
     "execution_count": 61,
     "metadata": {},
     "output_type": "execute_result"
    }
   ],
   "source": [
    "pd.crosstab(cdystonia.sex, cdystonia.site)"
   ]
  },
  {
   "cell_type": "markdown",
   "metadata": {},
   "source": [
    "## Data transformation\n",
    "\n",
    "There are a slew of additional operations for DataFrames that we would collectively refer to as \"transformations\" which include tasks such as removing duplicate values, replacing values, and grouping values."
   ]
  },
  {
   "cell_type": "markdown",
   "metadata": {},
   "source": [
    "### Dealing with duplicates\n",
    "\n",
    "We can easily identify and remove duplicate values from `DataFrame` objects. For example, say we want to removed ships from our `vessels` dataset that have the same name:"
   ]
  },
  {
   "cell_type": "code",
   "execution_count": 66,
   "metadata": {
    "ExecuteTime": {
     "end_time": "2023-10-02T16:04:15.198550700Z",
     "start_time": "2023-10-02T16:04:15.093241300Z"
    }
   },
   "outputs": [
    {
     "data": {
      "text/plain": "mmsi\n1          False\n9          False\n21         False\n74         False\n103        False\n310        False\n3011       False\n4731       False\n15151      False\n46809      False\n80404      False\n82003      False\n298716     False\n366235     False\n439541     False\n453556     False\n505843     False\n527918     False\n565026     False\n572329     False\n587370     False\n641114     False\n642262     False\n693559     False\n883085      True\n1193046    False\n1193946    False\n1233916    False\n1239468    False\n3041300    False\ndtype: bool"
     },
     "execution_count": 66,
     "metadata": {},
     "output_type": "execute_result"
    }
   ],
   "source": [
    "vessels.duplicated(subset='names').head(30)"
   ]
  },
  {
   "cell_type": "code",
   "execution_count": 67,
   "metadata": {
    "scrolled": true,
    "ExecuteTime": {
     "end_time": "2023-10-02T16:04:20.629774300Z",
     "start_time": "2023-10-02T16:04:20.525133700Z"
    }
   },
   "outputs": [
    {
     "data": {
      "text/plain": "      num_names                                              names sov  \\\nmmsi                                                                     \n1             8  Bil Holman Dredge/Dredge Capt Frank/Emo/Offsho...   Y   \n9             3                         000000009/Raven/Shearwater   N   \n21            1                                      Us Gov Vessel   Y   \n74            2                                  Mcfaul/Sarah Bell   N   \n103           3           Ron G/Us Navy Warship 103/Us Warship 103   Y   \n\n         flag flag_type  num_loas                                    loa  \\\nmmsi                                                                       \n1     Unknown   Unknown         7  42.0/48.0/57.0/90.0/138.0/154.0/156.0   \n9     Unknown   Unknown         2                              50.0/62.0   \n21    Unknown   Unknown         1                                  208.0   \n74    Unknown   Unknown         1                                  155.0   \n103   Unknown   Unknown         2                             26.0/155.0   \n\n      max_loa  num_types                             type  \nmmsi                                                       \n1       156.0          4  Dredging/MilOps/Reserved/Towing  \n9        62.0          2                     Pleasure/Tug  \n21      208.0          1                          Unknown  \n74      155.0          1                          Unknown  \n103     155.0          2                   Tanker/Unknown  ",
      "text/html": "<div>\n<style scoped>\n    .dataframe tbody tr th:only-of-type {\n        vertical-align: middle;\n    }\n\n    .dataframe tbody tr th {\n        vertical-align: top;\n    }\n\n    .dataframe thead th {\n        text-align: right;\n    }\n</style>\n<table border=\"1\" class=\"dataframe\">\n  <thead>\n    <tr style=\"text-align: right;\">\n      <th></th>\n      <th>num_names</th>\n      <th>names</th>\n      <th>sov</th>\n      <th>flag</th>\n      <th>flag_type</th>\n      <th>num_loas</th>\n      <th>loa</th>\n      <th>max_loa</th>\n      <th>num_types</th>\n      <th>type</th>\n    </tr>\n    <tr>\n      <th>mmsi</th>\n      <th></th>\n      <th></th>\n      <th></th>\n      <th></th>\n      <th></th>\n      <th></th>\n      <th></th>\n      <th></th>\n      <th></th>\n      <th></th>\n    </tr>\n  </thead>\n  <tbody>\n    <tr>\n      <th>1</th>\n      <td>8</td>\n      <td>Bil Holman Dredge/Dredge Capt Frank/Emo/Offsho...</td>\n      <td>Y</td>\n      <td>Unknown</td>\n      <td>Unknown</td>\n      <td>7</td>\n      <td>42.0/48.0/57.0/90.0/138.0/154.0/156.0</td>\n      <td>156.0</td>\n      <td>4</td>\n      <td>Dredging/MilOps/Reserved/Towing</td>\n    </tr>\n    <tr>\n      <th>9</th>\n      <td>3</td>\n      <td>000000009/Raven/Shearwater</td>\n      <td>N</td>\n      <td>Unknown</td>\n      <td>Unknown</td>\n      <td>2</td>\n      <td>50.0/62.0</td>\n      <td>62.0</td>\n      <td>2</td>\n      <td>Pleasure/Tug</td>\n    </tr>\n    <tr>\n      <th>21</th>\n      <td>1</td>\n      <td>Us Gov Vessel</td>\n      <td>Y</td>\n      <td>Unknown</td>\n      <td>Unknown</td>\n      <td>1</td>\n      <td>208.0</td>\n      <td>208.0</td>\n      <td>1</td>\n      <td>Unknown</td>\n    </tr>\n    <tr>\n      <th>74</th>\n      <td>2</td>\n      <td>Mcfaul/Sarah Bell</td>\n      <td>N</td>\n      <td>Unknown</td>\n      <td>Unknown</td>\n      <td>1</td>\n      <td>155.0</td>\n      <td>155.0</td>\n      <td>1</td>\n      <td>Unknown</td>\n    </tr>\n    <tr>\n      <th>103</th>\n      <td>3</td>\n      <td>Ron G/Us Navy Warship 103/Us Warship 103</td>\n      <td>Y</td>\n      <td>Unknown</td>\n      <td>Unknown</td>\n      <td>2</td>\n      <td>26.0/155.0</td>\n      <td>155.0</td>\n      <td>2</td>\n      <td>Tanker/Unknown</td>\n    </tr>\n  </tbody>\n</table>\n</div>"
     },
     "execution_count": 67,
     "metadata": {},
     "output_type": "execute_result"
    }
   ],
   "source": [
    "vessels.drop_duplicates(['names']).head()"
   ]
  },
  {
   "cell_type": "markdown",
   "metadata": {},
   "source": [
    "### Value replacement\n",
    "\n",
    "Frequently, we get data columns that are encoded as strings that we wish to represent numerically for the purposes of including it in a quantitative analysis. For example, consider the treatment variable in the cervical dystonia dataset:"
   ]
  },
  {
   "cell_type": "code",
   "execution_count": 68,
   "metadata": {
    "ExecuteTime": {
     "end_time": "2023-10-02T16:05:42.756649200Z",
     "start_time": "2023-10-02T16:05:42.659484700Z"
    }
   },
   "outputs": [
    {
     "data": {
      "text/plain": "treat\n10000U     213\n5000U      211\nPlacebo    207\nName: count, dtype: int64"
     },
     "execution_count": 68,
     "metadata": {},
     "output_type": "execute_result"
    }
   ],
   "source": [
    "cdystonia.treat.value_counts()"
   ]
  },
  {
   "cell_type": "markdown",
   "metadata": {},
   "source": [
    "A logical way to specify these numerically is to change them to integer values, perhaps using \"Placebo\" as a baseline value. If we create a dict with the original values as keys and the replacements as values, we can pass it to the `map` method to implement the changes."
   ]
  },
  {
   "cell_type": "code",
   "execution_count": 69,
   "metadata": {
    "ExecuteTime": {
     "end_time": "2023-10-02T16:08:24.515748400Z",
     "start_time": "2023-10-02T16:08:24.435704500Z"
    }
   },
   "outputs": [
    {
     "data": {
      "text/plain": "0    1\n1    1\n2    1\n3    1\n4    1\n5    1\n6    2\n7    2\n8    2\n9    2\nName: treatment, dtype: int64"
     },
     "execution_count": 69,
     "metadata": {},
     "output_type": "execute_result"
    }
   ],
   "source": [
    "cdystonia['treatment'] = cdystonia.treat.map({'Placebo': 0, '5000U': 1, '10000U': 2})\n",
    "cdystonia.treatment.head(10)"
   ]
  },
  {
   "cell_type": "markdown",
   "metadata": {},
   "source": [
    "We can also perform the same replacement that we used `map` for with `replace`:"
   ]
  },
  {
   "cell_type": "code",
   "execution_count": 70,
   "metadata": {
    "ExecuteTime": {
     "end_time": "2023-10-02T16:08:44.078969500Z",
     "start_time": "2023-10-02T16:08:43.929409100Z"
    }
   },
   "outputs": [
    {
     "data": {
      "text/plain": "0     5000U\n1     5000U\n2     5000U\n3     5000U\n4     5000U\n5     5000U\n6    10000U\n7    10000U\n8    10000U\n9    10000U\nName: treat, dtype: object"
     },
     "execution_count": 70,
     "metadata": {},
     "output_type": "execute_result"
    }
   ],
   "source": [
    "cdystonia.treat.replace({0:'Placebo', 1:'5000U', 2:'10000U'}).head(10)"
   ]
  },
  {
   "cell_type": "markdown",
   "metadata": {},
   "source": [
    "### Inidcator variables\n",
    "\n",
    "For some statistical analyses (*e.g.* regression models or analyses of variance), categorical or group variables need to be converted into columns of indicators--zeros and ones--to create a so-called **design matrix**. The Pandas function `get_dummies` (indicator variables are also known as *dummy variables*) makes this transformation straightforward."
   ]
  },
  {
   "cell_type": "code",
   "execution_count": 77,
   "metadata": {
    "ExecuteTime": {
     "end_time": "2023-10-02T16:12:06.344629Z",
     "start_time": "2023-10-02T16:12:06.222954500Z"
    }
   },
   "outputs": [
    {
     "data": {
      "text/plain": "       Dredging/MilOps/Reserved/Towing  Other  Pleasure/Tug  Tanker/Unknown  \\\nmmsi                                                                          \n1                                 True  False         False           False   \n9                                False  False          True           False   \n21                               False  False         False           False   \n74                               False  False         False           False   \n103                              False  False         False            True   \n310                              False  False         False           False   \n3011                             False   True         False           False   \n4731                             False  False         False           False   \n15151                            False  False         False           False   \n46809                            False  False         False           False   \n\n       Towing    Tug  Unknown  \nmmsi                           \n1       False  False    False  \n9       False  False    False  \n21      False  False     True  \n74      False  False     True  \n103     False  False    False  \n310     False  False     True  \n3011    False  False    False  \n4731    False  False     True  \n15151   False   True    False  \n46809    True  False    False  ",
      "text/html": "<div>\n<style scoped>\n    .dataframe tbody tr th:only-of-type {\n        vertical-align: middle;\n    }\n\n    .dataframe tbody tr th {\n        vertical-align: top;\n    }\n\n    .dataframe thead th {\n        text-align: right;\n    }\n</style>\n<table border=\"1\" class=\"dataframe\">\n  <thead>\n    <tr style=\"text-align: right;\">\n      <th></th>\n      <th>Dredging/MilOps/Reserved/Towing</th>\n      <th>Other</th>\n      <th>Pleasure/Tug</th>\n      <th>Tanker/Unknown</th>\n      <th>Towing</th>\n      <th>Tug</th>\n      <th>Unknown</th>\n    </tr>\n    <tr>\n      <th>mmsi</th>\n      <th></th>\n      <th></th>\n      <th></th>\n      <th></th>\n      <th></th>\n      <th></th>\n      <th></th>\n    </tr>\n  </thead>\n  <tbody>\n    <tr>\n      <th>1</th>\n      <td>True</td>\n      <td>False</td>\n      <td>False</td>\n      <td>False</td>\n      <td>False</td>\n      <td>False</td>\n      <td>False</td>\n    </tr>\n    <tr>\n      <th>9</th>\n      <td>False</td>\n      <td>False</td>\n      <td>True</td>\n      <td>False</td>\n      <td>False</td>\n      <td>False</td>\n      <td>False</td>\n    </tr>\n    <tr>\n      <th>21</th>\n      <td>False</td>\n      <td>False</td>\n      <td>False</td>\n      <td>False</td>\n      <td>False</td>\n      <td>False</td>\n      <td>True</td>\n    </tr>\n    <tr>\n      <th>74</th>\n      <td>False</td>\n      <td>False</td>\n      <td>False</td>\n      <td>False</td>\n      <td>False</td>\n      <td>False</td>\n      <td>True</td>\n    </tr>\n    <tr>\n      <th>103</th>\n      <td>False</td>\n      <td>False</td>\n      <td>False</td>\n      <td>True</td>\n      <td>False</td>\n      <td>False</td>\n      <td>False</td>\n    </tr>\n    <tr>\n      <th>310</th>\n      <td>False</td>\n      <td>False</td>\n      <td>False</td>\n      <td>False</td>\n      <td>False</td>\n      <td>False</td>\n      <td>True</td>\n    </tr>\n    <tr>\n      <th>3011</th>\n      <td>False</td>\n      <td>True</td>\n      <td>False</td>\n      <td>False</td>\n      <td>False</td>\n      <td>False</td>\n      <td>False</td>\n    </tr>\n    <tr>\n      <th>4731</th>\n      <td>False</td>\n      <td>False</td>\n      <td>False</td>\n      <td>False</td>\n      <td>False</td>\n      <td>False</td>\n      <td>True</td>\n    </tr>\n    <tr>\n      <th>15151</th>\n      <td>False</td>\n      <td>False</td>\n      <td>False</td>\n      <td>False</td>\n      <td>False</td>\n      <td>True</td>\n      <td>False</td>\n    </tr>\n    <tr>\n      <th>46809</th>\n      <td>False</td>\n      <td>False</td>\n      <td>False</td>\n      <td>False</td>\n      <td>True</td>\n      <td>False</td>\n      <td>False</td>\n    </tr>\n  </tbody>\n</table>\n</div>"
     },
     "execution_count": 77,
     "metadata": {},
     "output_type": "execute_result"
    }
   ],
   "source": [
    "pd.get_dummies(vessels.head(10).type)"
   ]
  },
  {
   "cell_type": "code",
   "execution_count": 80,
   "outputs": [
    {
     "data": {
      "text/plain": "mmsi\n1        Dredging/MilOps/Reserved/Towing\n9                           Pleasure/Tug\n21                               Unknown\n74                               Unknown\n103                       Tanker/Unknown\n310                              Unknown\n3011                               Other\n4731                             Unknown\n15151                                Tug\n46809                             Towing\nName: type, dtype: object"
     },
     "execution_count": 80,
     "metadata": {},
     "output_type": "execute_result"
    }
   ],
   "source": [
    "vessels.head(10).type"
   ],
   "metadata": {
    "collapsed": false,
    "ExecuteTime": {
     "end_time": "2023-10-02T16:14:42.616351400Z",
     "start_time": "2023-10-02T16:14:42.455877400Z"
    }
   }
  },
  {
   "cell_type": "markdown",
   "metadata": {},
   "source": [
    "## Categorical Data\n",
    "\n",
    "Pandas provides a convenient `dtype` for reprsenting categorical (factor) data, called `category`. \n",
    "\n",
    "For example, the `treat` column in the cervical dystonia dataset represents three treatment levels in a clinical trial, and is imported by default as an `object` type, since it is a mixture of string characters."
   ]
  },
  {
   "cell_type": "code",
   "execution_count": 81,
   "metadata": {
    "ExecuteTime": {
     "end_time": "2023-10-02T16:15:24.346846600Z",
     "start_time": "2023-10-02T16:15:24.272875200Z"
    }
   },
   "outputs": [
    {
     "data": {
      "text/plain": "0    5000U\n1    5000U\n2    5000U\n3    5000U\n4    5000U\nName: treat, dtype: object"
     },
     "execution_count": 81,
     "metadata": {},
     "output_type": "execute_result"
    }
   ],
   "source": [
    "cdystonia.treat.head()"
   ]
  },
  {
   "cell_type": "markdown",
   "metadata": {},
   "source": [
    "We can convert this to a `category` type either by the `Categorical` constructor, or casting the column using `astype`:"
   ]
  },
  {
   "cell_type": "code",
   "execution_count": 83,
   "metadata": {
    "ExecuteTime": {
     "end_time": "2023-10-02T16:16:06.557578800Z",
     "start_time": "2023-10-02T16:16:06.485568600Z"
    }
   },
   "outputs": [
    {
     "data": {
      "text/plain": "['5000U', '5000U', '5000U', '5000U', '5000U', ..., '5000U', '5000U', '5000U', '5000U', '5000U']\nLength: 631\nCategories (3, object): ['10000U', '5000U', 'Placebo']"
     },
     "execution_count": 83,
     "metadata": {},
     "output_type": "execute_result"
    }
   ],
   "source": [
    "pd.Categorical(cdystonia.treat)"
   ]
  },
  {
   "cell_type": "code",
   "execution_count": 88,
   "metadata": {
    "ExecuteTime": {
     "end_time": "2023-10-02T16:16:49.832286900Z",
     "start_time": "2023-10-02T16:16:49.759939700Z"
    }
   },
   "outputs": [],
   "source": [
    "cdystonia['treat'] = cdystonia.treat.astype('category')"
   ]
  },
  {
   "cell_type": "code",
   "execution_count": 89,
   "metadata": {
    "ExecuteTime": {
     "end_time": "2023-10-02T16:16:50.578556Z",
     "start_time": "2023-10-02T16:16:50.522523700Z"
    }
   },
   "outputs": [
    {
     "data": {
      "text/plain": "count        631\nunique         3\ntop       10000U\nfreq         213\nName: treat, dtype: object"
     },
     "execution_count": 89,
     "metadata": {},
     "output_type": "execute_result"
    }
   ],
   "source": [
    "cdystonia.treat.describe()"
   ]
  },
  {
   "cell_type": "markdown",
   "metadata": {},
   "source": [
    "The important difference between the `category` type and the `object` type is that `category` is represented by an <b>underlying array of integers</b>, which is then mapped to character labels."
   ]
  },
  {
   "cell_type": "code",
   "execution_count": 91,
   "metadata": {
    "ExecuteTime": {
     "end_time": "2023-10-02T16:17:44.490871400Z",
     "start_time": "2023-10-02T16:17:44.402778Z"
    }
   },
   "outputs": [
    {
     "data": {
      "text/plain": "0     1\n1     1\n2     1\n3     1\n4     1\n5     1\n6     0\n7     0\n8     0\n9     0\n10    0\n11    0\n12    1\n13    1\n14    1\n15    1\n16    1\n17    1\n18    2\n19    2\ndtype: int8"
     },
     "execution_count": 91,
     "metadata": {},
     "output_type": "execute_result"
    }
   ],
   "source": [
    "cdystonia.treat.cat.codes.head(20)"
   ]
  },
  {
   "cell_type": "markdown",
   "metadata": {},
   "source": [
    "Notice that these are 8-bit integers, which are essentially single bytes of data, making memory usage lower.\n",
    "\n",
    "There is also a performance benefit. Consider an operation such as calculating the total segment lengths for each ship in the `segments` table (this is also a preview of pandas' `groupby` operation!):"
   ]
  },
  {
   "cell_type": "code",
   "execution_count": 95,
   "metadata": {
    "ExecuteTime": {
     "end_time": "2023-10-02T16:19:30.950425900Z",
     "start_time": "2023-10-02T16:19:30.836315800Z"
    }
   },
   "outputs": [
    {
     "name": "stdout",
     "output_type": "stream",
     "text": [
      "CPU times: total: 0 ns\n",
      "Wall time: 0 ns\n"
     ]
    },
    {
     "data": {
      "text/plain": "name\nNauticast           19190.5\nAsphalt Seminole     6528.1\nMajestic             2997.9\nNeva Belle           2737.9\nZaandam              2296.7\nName: seg_length, dtype: float64"
     },
     "execution_count": 95,
     "metadata": {},
     "output_type": "execute_result"
    }
   ],
   "source": [
    "%time segments.groupby(segments.name).seg_length.sum().sort_values(ascending=False, inplace=False).head()"
   ]
  },
  {
   "cell_type": "code",
   "execution_count": 96,
   "metadata": {
    "ExecuteTime": {
     "end_time": "2023-10-02T16:19:32.892706600Z",
     "start_time": "2023-10-02T16:19:32.844758100Z"
    }
   },
   "outputs": [],
   "source": [
    "segments['name'] = segments.name.astype('category')"
   ]
  },
  {
   "cell_type": "code",
   "execution_count": 97,
   "metadata": {
    "ExecuteTime": {
     "end_time": "2023-10-02T16:19:33.487830500Z",
     "start_time": "2023-10-02T16:19:33.391830400Z"
    }
   },
   "outputs": [
    {
     "name": "stdout",
     "output_type": "stream",
     "text": [
      "CPU times: total: 0 ns\n",
      "Wall time: 0 ns\n"
     ]
    },
    {
     "data": {
      "text/plain": "name\nNauticast           19190.5\nAsphalt Seminole     6528.1\nMajestic             2997.9\nNeva Belle           2737.9\nZaandam              2296.7\nName: seg_length, dtype: float64"
     },
     "execution_count": 97,
     "metadata": {},
     "output_type": "execute_result"
    }
   ],
   "source": [
    "%time segments.groupby(segments.name).seg_length.sum().sort_values(ascending=False, inplace=False).head()"
   ]
  },
  {
   "cell_type": "markdown",
   "metadata": {},
   "source": [
    "Hence, we get a considerable speedup simply by using the appropriate `dtype` for our data."
   ]
  },
  {
   "cell_type": "markdown",
   "metadata": {},
   "source": [
    "### Discretization\n",
    "\n",
    "Pandas' `cut` function can be used to group continuous or countable data in to bins. Discretization is generally a very **bad idea** for statistical analysis, so use this function responsibly!\n",
    "\n",
    "Lets say we want to bin the ages of the cervical dystonia patients into a smaller number of groups:"
   ]
  },
  {
   "cell_type": "code",
   "execution_count": 98,
   "metadata": {
    "ExecuteTime": {
     "end_time": "2023-10-02T16:22:24.734527Z",
     "start_time": "2023-10-02T16:22:24.693775600Z"
    }
   },
   "outputs": [
    {
     "data": {
      "text/plain": "count    631.000000\nmean      55.616482\nstd       12.123910\nmin       26.000000\n25%       46.000000\n50%       56.000000\n75%       65.000000\nmax       83.000000\nName: age, dtype: float64"
     },
     "execution_count": 98,
     "metadata": {},
     "output_type": "execute_result"
    }
   ],
   "source": [
    "cdystonia.age.describe()"
   ]
  },
  {
   "cell_type": "markdown",
   "metadata": {},
   "source": [
    "Let's transform these data into decades, beginnnig with individuals in their 20's and ending with those in their 80's:"
   ]
  },
  {
   "cell_type": "code",
   "execution_count": 99,
   "metadata": {
    "ExecuteTime": {
     "end_time": "2023-10-02T16:22:46.505276900Z",
     "start_time": "2023-10-02T16:22:46.441242900Z"
    }
   },
   "outputs": [
    {
     "data": {
      "text/plain": "0     (60, 70]\n1     (60, 70]\n2     (60, 70]\n3     (60, 70]\n4     (60, 70]\n5     (60, 70]\n6     (60, 70]\n7     (60, 70]\n8     (60, 70]\n9     (60, 70]\n10    (60, 70]\n11    (60, 70]\n12    (60, 70]\n13    (60, 70]\n14    (60, 70]\n15    (60, 70]\n16    (60, 70]\n17    (60, 70]\n18    (50, 60]\n19    (50, 60]\nName: age, dtype: category\nCategories (7, interval[int64, right]): [(20, 30] < (30, 40] < (40, 50] < (50, 60] < (60, 70] < (70, 80] < (80, 90]]"
     },
     "execution_count": 99,
     "metadata": {},
     "output_type": "execute_result"
    }
   ],
   "source": [
    "pd.cut(cdystonia.age, [20,30,40,50,60,70,80,90])[:20]"
   ]
  },
  {
   "cell_type": "markdown",
   "metadata": {},
   "source": [
    "The parentheses indicate an open interval, meaning that the interval includes values up to but *not including* the endpoint, whereas the square bracket is a closed interval, where the endpoint is included in the interval. We can switch the closure to the left side by setting the `right` flag to `False`:"
   ]
  },
  {
   "cell_type": "code",
   "execution_count": 100,
   "metadata": {
    "ExecuteTime": {
     "end_time": "2023-10-02T16:23:20.522684100Z",
     "start_time": "2023-10-02T16:23:20.458599700Z"
    }
   },
   "outputs": [
    {
     "data": {
      "text/plain": "0     [60, 70)\n1     [60, 70)\n2     [60, 70)\n3     [60, 70)\n4     [60, 70)\n5     [60, 70)\n6     [70, 80)\n7     [70, 80)\n8     [70, 80)\n9     [70, 80)\n10    [70, 80)\n11    [70, 80)\n12    [60, 70)\n13    [60, 70)\n14    [60, 70)\n15    [60, 70)\n16    [60, 70)\n17    [60, 70)\n18    [50, 60)\n19    [50, 60)\nName: age, dtype: category\nCategories (7, interval[int64, left]): [[20, 30) < [30, 40) < [40, 50) < [50, 60) < [60, 70) < [70, 80) < [80, 90)]"
     },
     "execution_count": 100,
     "metadata": {},
     "output_type": "execute_result"
    }
   ],
   "source": [
    "pd.cut(cdystonia.age, [20,30,40,50,60,70,80,90], right=False)[:20]"
   ]
  },
  {
   "cell_type": "markdown",
   "metadata": {},
   "source": [
    "Since the data are now **ordinal**, rather than numeric, we can give them labels:"
   ]
  },
  {
   "cell_type": "code",
   "execution_count": 101,
   "metadata": {
    "ExecuteTime": {
     "end_time": "2023-10-02T16:23:39.779076600Z",
     "start_time": "2023-10-02T16:23:39.690999700Z"
    }
   },
   "outputs": [
    {
     "data": {
      "text/plain": "0             old\n1             old\n2             old\n3             old\n4             old\n5             old\n6             old\n7             old\n8             old\n9             old\n10            old\n11            old\n12            old\n13            old\n14            old\n15            old\n16            old\n17            old\n18    middle-aged\n19    middle-aged\nName: age, dtype: category\nCategories (4, object): ['young' < 'middle-aged' < 'old' < 'really old']"
     },
     "execution_count": 101,
     "metadata": {},
     "output_type": "execute_result"
    }
   ],
   "source": [
    "pd.cut(cdystonia.age, [20,40,60,80,90], labels=['young','middle-aged','old','really old'])[:20]"
   ]
  },
  {
   "cell_type": "markdown",
   "metadata": {},
   "source": [
    "A related function `qcut` uses empirical quantiles to divide the data. If, for example, we want the quartiles -- (0-25%], (25-50%], (50-70%], (75-100%] -- we can just specify 4 intervals, which will be equally-spaced by default:"
   ]
  },
  {
   "cell_type": "code",
   "execution_count": 102,
   "metadata": {
    "ExecuteTime": {
     "end_time": "2023-10-02T16:24:29.228864900Z",
     "start_time": "2023-10-02T16:24:29.140876200Z"
    }
   },
   "outputs": [
    {
     "data": {
      "text/plain": "0     (56.0, 65.0]\n1     (56.0, 65.0]\n2     (56.0, 65.0]\n3     (56.0, 65.0]\n4     (56.0, 65.0]\n5     (56.0, 65.0]\n6     (65.0, 83.0]\n7     (65.0, 83.0]\n8     (65.0, 83.0]\n9     (65.0, 83.0]\n10    (65.0, 83.0]\n11    (65.0, 83.0]\n12    (56.0, 65.0]\n13    (56.0, 65.0]\n14    (56.0, 65.0]\n15    (56.0, 65.0]\n16    (56.0, 65.0]\n17    (56.0, 65.0]\n18    (56.0, 65.0]\n19    (56.0, 65.0]\nName: age, dtype: category\nCategories (4, interval[float64, right]): [(25.999, 46.0] < (46.0, 56.0] < (56.0, 65.0] < (65.0, 83.0]]"
     },
     "execution_count": 102,
     "metadata": {},
     "output_type": "execute_result"
    }
   ],
   "source": [
    "pd.qcut(cdystonia.age, 4)[:20]"
   ]
  },
  {
   "cell_type": "markdown",
   "metadata": {},
   "source": [
    "Alternatively, one can specify custom quantiles to act as cut points:"
   ]
  },
  {
   "cell_type": "code",
   "execution_count": 103,
   "metadata": {
    "ExecuteTime": {
     "end_time": "2023-10-02T16:24:50.723743800Z",
     "start_time": "2023-10-02T16:24:50.632481800Z"
    }
   },
   "outputs": [
    {
     "data": {
      "text/plain": "0     (1.7, 455.8]\n1     (1.7, 455.8]\n2     (1.7, 455.8]\n3     (1.7, 455.8]\n4     (1.7, 455.8]\n5     (1.7, 455.8]\n6     (1.7, 455.8]\n7     (1.7, 455.8]\n8     (1.7, 455.8]\n9     (1.7, 455.8]\n10    (1.7, 455.8]\n11    (1.7, 455.8]\n12    (1.7, 455.8]\n13    (1.7, 455.8]\n14    (1.7, 455.8]\n15    (1.7, 455.8]\n16    (1.7, 455.8]\n17    (1.7, 455.8]\n18    (1.7, 455.8]\n19    (1.7, 455.8]\nName: seg_length, dtype: category\nCategories (5, interval[float64, right]): [(0.999, 1.1] < (1.1, 1.7] < (1.7, 455.8] < (455.8, 456.801] < (456.801, 701.6]]"
     },
     "execution_count": 103,
     "metadata": {},
     "output_type": "execute_result"
    }
   ],
   "source": [
    "quantiles = pd.qcut(segments.seg_length, [0, 0.01, 0.05, 0.95, 0.99, 1])\n",
    "quantiles[:20]"
   ]
  },
  {
   "cell_type": "markdown",
   "metadata": {},
   "source": [
    "### Permutation and sampling\n",
    "\n",
    "For some data analysis tasks, such as simulation, we need to be able to randomly reorder our data, or draw random values from it. Calling NumPy's `permutation` function with the length of the sequence you want to permute generates an array with a permuted sequence of integers, which can be used to re-order the sequence."
   ]
  },
  {
   "cell_type": "code",
   "execution_count": 106,
   "metadata": {
    "ExecuteTime": {
     "end_time": "2023-10-02T16:26:09.970094900Z",
     "start_time": "2023-10-02T16:26:09.865078Z"
    }
   },
   "outputs": [
    {
     "data": {
      "text/plain": "array([880, 688, 493, 260, 363, 477,   6, 656, 621, 185, 598, 317, 368,\n       406, 700, 303, 748, 865, 590, 906, 763,  53, 870, 879, 676,  78,\n       882, 779, 936, 810])"
     },
     "execution_count": 106,
     "metadata": {},
     "output_type": "execute_result"
    }
   ],
   "source": [
    "new_order = np.random.permutation(len(segments))\n",
    "new_order[:30]"
   ]
  },
  {
   "cell_type": "markdown",
   "metadata": {},
   "source": [
    "Using this sequence as an argument to the `take` method results in a reordered DataFrame:"
   ]
  },
  {
   "cell_type": "code",
   "execution_count": 107,
   "metadata": {
    "ExecuteTime": {
     "end_time": "2023-10-02T16:26:12.318412900Z",
     "start_time": "2023-10-02T16:26:12.213938500Z"
    }
   },
   "outputs": [
    {
     "data": {
      "text/plain": "        mmsi               name  transit  segment  seg_length  avg_sog  \\\n880  1193046           Majestic       93        1         5.1      4.4   \n688  1193046       John Parrish       10        1        34.9      5.6   \n493   693559  Winslow C Kelsey]      130        2        25.9      9.9   \n260   572329          Alexandra       27        1        18.6      5.8   \n363   641114    Samantha Miller        9        1        24.1      7.1   \n\n     min_sog  max_sog  pdgt10             st_time            end_time type  \n880      4.0      4.6     0.0 2009-07-07 16:36:00 2009-07-07 17:59:00  foo  \n688      4.2      7.0     0.0 2009-03-04 07:23:00 2009-03-04 13:23:00  foo  \n493      9.4     10.0     0.0 2010-05-15 00:32:00 2010-05-15 03:04:00  foo  \n260      4.4      7.5     0.0 2009-09-14 12:04:00 2009-09-14 15:11:00  foo  \n363      4.9      8.4     0.0 2008-12-22 05:31:00 2008-12-22 08:33:00  foo  ",
      "text/html": "<div>\n<style scoped>\n    .dataframe tbody tr th:only-of-type {\n        vertical-align: middle;\n    }\n\n    .dataframe tbody tr th {\n        vertical-align: top;\n    }\n\n    .dataframe thead th {\n        text-align: right;\n    }\n</style>\n<table border=\"1\" class=\"dataframe\">\n  <thead>\n    <tr style=\"text-align: right;\">\n      <th></th>\n      <th>mmsi</th>\n      <th>name</th>\n      <th>transit</th>\n      <th>segment</th>\n      <th>seg_length</th>\n      <th>avg_sog</th>\n      <th>min_sog</th>\n      <th>max_sog</th>\n      <th>pdgt10</th>\n      <th>st_time</th>\n      <th>end_time</th>\n      <th>type</th>\n    </tr>\n  </thead>\n  <tbody>\n    <tr>\n      <th>880</th>\n      <td>1193046</td>\n      <td>Majestic</td>\n      <td>93</td>\n      <td>1</td>\n      <td>5.1</td>\n      <td>4.4</td>\n      <td>4.0</td>\n      <td>4.6</td>\n      <td>0.0</td>\n      <td>2009-07-07 16:36:00</td>\n      <td>2009-07-07 17:59:00</td>\n      <td>foo</td>\n    </tr>\n    <tr>\n      <th>688</th>\n      <td>1193046</td>\n      <td>John Parrish</td>\n      <td>10</td>\n      <td>1</td>\n      <td>34.9</td>\n      <td>5.6</td>\n      <td>4.2</td>\n      <td>7.0</td>\n      <td>0.0</td>\n      <td>2009-03-04 07:23:00</td>\n      <td>2009-03-04 13:23:00</td>\n      <td>foo</td>\n    </tr>\n    <tr>\n      <th>493</th>\n      <td>693559</td>\n      <td>Winslow C Kelsey]</td>\n      <td>130</td>\n      <td>2</td>\n      <td>25.9</td>\n      <td>9.9</td>\n      <td>9.4</td>\n      <td>10.0</td>\n      <td>0.0</td>\n      <td>2010-05-15 00:32:00</td>\n      <td>2010-05-15 03:04:00</td>\n      <td>foo</td>\n    </tr>\n    <tr>\n      <th>260</th>\n      <td>572329</td>\n      <td>Alexandra</td>\n      <td>27</td>\n      <td>1</td>\n      <td>18.6</td>\n      <td>5.8</td>\n      <td>4.4</td>\n      <td>7.5</td>\n      <td>0.0</td>\n      <td>2009-09-14 12:04:00</td>\n      <td>2009-09-14 15:11:00</td>\n      <td>foo</td>\n    </tr>\n    <tr>\n      <th>363</th>\n      <td>641114</td>\n      <td>Samantha Miller</td>\n      <td>9</td>\n      <td>1</td>\n      <td>24.1</td>\n      <td>7.1</td>\n      <td>4.9</td>\n      <td>8.4</td>\n      <td>0.0</td>\n      <td>2008-12-22 05:31:00</td>\n      <td>2008-12-22 08:33:00</td>\n      <td>foo</td>\n    </tr>\n  </tbody>\n</table>\n</div>"
     },
     "execution_count": 107,
     "metadata": {},
     "output_type": "execute_result"
    }
   ],
   "source": [
    "segments.take(new_order).head()"
   ]
  },
  {
   "cell_type": "markdown",
   "metadata": {},
   "source": [
    "Compare this ordering with the original:"
   ]
  },
  {
   "cell_type": "code",
   "execution_count": 108,
   "metadata": {
    "ExecuteTime": {
     "end_time": "2023-10-02T16:26:20.194229300Z",
     "start_time": "2023-10-02T16:26:20.069125600Z"
    }
   },
   "outputs": [
    {
     "data": {
      "text/plain": "   mmsi               name  transit  segment  seg_length  avg_sog  min_sog  \\\n0     1        Us Govt Ves        1        1         5.1     13.2      9.2   \n1     1  Dredge Capt Frank        1        1        13.5     18.6     10.4   \n2     1      Us Gov Vessel        1        1         4.3     16.2     10.3   \n3     1      Us Gov Vessel        2        1         9.2     15.4     14.5   \n4     1  Dredge Capt Frank        2        1         9.2     15.4     14.6   \n\n   max_sog  pdgt10             st_time            end_time type  \n0     14.5    96.5 2009-02-10 16:03:00 2009-02-10 16:27:00  foo  \n1     20.6   100.0 2009-04-06 14:31:00 2009-04-06 15:20:00  foo  \n2     20.5   100.0 2009-04-06 14:36:00 2009-04-06 14:55:00  foo  \n3     16.1   100.0 2009-04-10 17:58:00 2009-04-10 18:34:00  foo  \n4     16.2   100.0 2009-04-10 17:59:00 2009-04-10 18:35:00  foo  ",
      "text/html": "<div>\n<style scoped>\n    .dataframe tbody tr th:only-of-type {\n        vertical-align: middle;\n    }\n\n    .dataframe tbody tr th {\n        vertical-align: top;\n    }\n\n    .dataframe thead th {\n        text-align: right;\n    }\n</style>\n<table border=\"1\" class=\"dataframe\">\n  <thead>\n    <tr style=\"text-align: right;\">\n      <th></th>\n      <th>mmsi</th>\n      <th>name</th>\n      <th>transit</th>\n      <th>segment</th>\n      <th>seg_length</th>\n      <th>avg_sog</th>\n      <th>min_sog</th>\n      <th>max_sog</th>\n      <th>pdgt10</th>\n      <th>st_time</th>\n      <th>end_time</th>\n      <th>type</th>\n    </tr>\n  </thead>\n  <tbody>\n    <tr>\n      <th>0</th>\n      <td>1</td>\n      <td>Us Govt Ves</td>\n      <td>1</td>\n      <td>1</td>\n      <td>5.1</td>\n      <td>13.2</td>\n      <td>9.2</td>\n      <td>14.5</td>\n      <td>96.5</td>\n      <td>2009-02-10 16:03:00</td>\n      <td>2009-02-10 16:27:00</td>\n      <td>foo</td>\n    </tr>\n    <tr>\n      <th>1</th>\n      <td>1</td>\n      <td>Dredge Capt Frank</td>\n      <td>1</td>\n      <td>1</td>\n      <td>13.5</td>\n      <td>18.6</td>\n      <td>10.4</td>\n      <td>20.6</td>\n      <td>100.0</td>\n      <td>2009-04-06 14:31:00</td>\n      <td>2009-04-06 15:20:00</td>\n      <td>foo</td>\n    </tr>\n    <tr>\n      <th>2</th>\n      <td>1</td>\n      <td>Us Gov Vessel</td>\n      <td>1</td>\n      <td>1</td>\n      <td>4.3</td>\n      <td>16.2</td>\n      <td>10.3</td>\n      <td>20.5</td>\n      <td>100.0</td>\n      <td>2009-04-06 14:36:00</td>\n      <td>2009-04-06 14:55:00</td>\n      <td>foo</td>\n    </tr>\n    <tr>\n      <th>3</th>\n      <td>1</td>\n      <td>Us Gov Vessel</td>\n      <td>2</td>\n      <td>1</td>\n      <td>9.2</td>\n      <td>15.4</td>\n      <td>14.5</td>\n      <td>16.1</td>\n      <td>100.0</td>\n      <td>2009-04-10 17:58:00</td>\n      <td>2009-04-10 18:34:00</td>\n      <td>foo</td>\n    </tr>\n    <tr>\n      <th>4</th>\n      <td>1</td>\n      <td>Dredge Capt Frank</td>\n      <td>2</td>\n      <td>1</td>\n      <td>9.2</td>\n      <td>15.4</td>\n      <td>14.6</td>\n      <td>16.2</td>\n      <td>100.0</td>\n      <td>2009-04-10 17:59:00</td>\n      <td>2009-04-10 18:35:00</td>\n      <td>foo</td>\n    </tr>\n  </tbody>\n</table>\n</div>"
     },
     "execution_count": 108,
     "metadata": {},
     "output_type": "execute_result"
    }
   ],
   "source": [
    "segments.head()"
   ]
  },
  {
   "cell_type": "markdown",
   "metadata": {},
   "source": [
    "For random sampling, `DataFrame` and `Series` objects have a `sample` method that can be used to draw samples, with or without replacement:"
   ]
  },
  {
   "cell_type": "code",
   "execution_count": 109,
   "metadata": {
    "ExecuteTime": {
     "end_time": "2023-10-02T16:27:17.781435700Z",
     "start_time": "2023-10-02T16:27:17.637207400Z"
    }
   },
   "outputs": [
    {
     "data": {
      "text/plain": "           num_names              names sov  \\\nmmsi                                          \n338044634          1           Stiletto   N   \n368707000          1             Watson   N   \n338140041          2  338140041/Shibumi   N   \n538004022          1       Lm  Victoria   N   \n477036200          1    Atlantic Gemini   N   \n245786000          1        Giovanni Dp   N   \n258938000          1       Torm Venture   N   \n240273000          1         Dimitris S   N   \n367240000          1     Eugene Obregon   Y   \n304216000          1          Bbc Italy   N   \n\n                                                        flag flag_type  \\\nmmsi                                                                     \n338044634                          United States of America   Domestic   \n368707000                          United States of America   Domestic   \n338140041                          United States of America   Domestic   \n538004022                Marshall Islands (Republic of the)    Foreign   \n477036200  Hong Kong (Special Administrative Region of Ch...   Foreign   \n245786000                      Netherlands (Kingdom of the)    Foreign   \n258938000                                            Norway    Foreign   \n240273000                                            Greece    Foreign   \n367240000                          United States of America   Domestic   \n304216000                               Antigua and Barbuda    Foreign   \n\n           num_loas          loa  max_loa  num_types      type  \nmmsi                                                            \n338044634         2    24.0/25.0     25.0          1       HSC  \n368707000         1        290.0    290.0          1     Cargo  \n338140041         1         21.0     21.0          1  Pleasure  \n538004022         1        229.0    229.0          1     Cargo  \n477036200         2  187.0/189.0    189.0          1    Tanker  \n245786000         1        138.0    138.0          1    Tanker  \n258938000         2  222.0/228.0    228.0          1    Tanker  \n240273000         1        190.0    190.0          1     Cargo  \n367240000         2  248.0/250.0    250.0          1    MilOps  \n304216000         1        108.0    108.0          1     Cargo  ",
      "text/html": "<div>\n<style scoped>\n    .dataframe tbody tr th:only-of-type {\n        vertical-align: middle;\n    }\n\n    .dataframe tbody tr th {\n        vertical-align: top;\n    }\n\n    .dataframe thead th {\n        text-align: right;\n    }\n</style>\n<table border=\"1\" class=\"dataframe\">\n  <thead>\n    <tr style=\"text-align: right;\">\n      <th></th>\n      <th>num_names</th>\n      <th>names</th>\n      <th>sov</th>\n      <th>flag</th>\n      <th>flag_type</th>\n      <th>num_loas</th>\n      <th>loa</th>\n      <th>max_loa</th>\n      <th>num_types</th>\n      <th>type</th>\n    </tr>\n    <tr>\n      <th>mmsi</th>\n      <th></th>\n      <th></th>\n      <th></th>\n      <th></th>\n      <th></th>\n      <th></th>\n      <th></th>\n      <th></th>\n      <th></th>\n      <th></th>\n    </tr>\n  </thead>\n  <tbody>\n    <tr>\n      <th>338044634</th>\n      <td>1</td>\n      <td>Stiletto</td>\n      <td>N</td>\n      <td>United States of America</td>\n      <td>Domestic</td>\n      <td>2</td>\n      <td>24.0/25.0</td>\n      <td>25.0</td>\n      <td>1</td>\n      <td>HSC</td>\n    </tr>\n    <tr>\n      <th>368707000</th>\n      <td>1</td>\n      <td>Watson</td>\n      <td>N</td>\n      <td>United States of America</td>\n      <td>Domestic</td>\n      <td>1</td>\n      <td>290.0</td>\n      <td>290.0</td>\n      <td>1</td>\n      <td>Cargo</td>\n    </tr>\n    <tr>\n      <th>338140041</th>\n      <td>2</td>\n      <td>338140041/Shibumi</td>\n      <td>N</td>\n      <td>United States of America</td>\n      <td>Domestic</td>\n      <td>1</td>\n      <td>21.0</td>\n      <td>21.0</td>\n      <td>1</td>\n      <td>Pleasure</td>\n    </tr>\n    <tr>\n      <th>538004022</th>\n      <td>1</td>\n      <td>Lm  Victoria</td>\n      <td>N</td>\n      <td>Marshall Islands (Republic of the)</td>\n      <td>Foreign</td>\n      <td>1</td>\n      <td>229.0</td>\n      <td>229.0</td>\n      <td>1</td>\n      <td>Cargo</td>\n    </tr>\n    <tr>\n      <th>477036200</th>\n      <td>1</td>\n      <td>Atlantic Gemini</td>\n      <td>N</td>\n      <td>Hong Kong (Special Administrative Region of Ch...</td>\n      <td>Foreign</td>\n      <td>2</td>\n      <td>187.0/189.0</td>\n      <td>189.0</td>\n      <td>1</td>\n      <td>Tanker</td>\n    </tr>\n    <tr>\n      <th>245786000</th>\n      <td>1</td>\n      <td>Giovanni Dp</td>\n      <td>N</td>\n      <td>Netherlands (Kingdom of the)</td>\n      <td>Foreign</td>\n      <td>1</td>\n      <td>138.0</td>\n      <td>138.0</td>\n      <td>1</td>\n      <td>Tanker</td>\n    </tr>\n    <tr>\n      <th>258938000</th>\n      <td>1</td>\n      <td>Torm Venture</td>\n      <td>N</td>\n      <td>Norway</td>\n      <td>Foreign</td>\n      <td>2</td>\n      <td>222.0/228.0</td>\n      <td>228.0</td>\n      <td>1</td>\n      <td>Tanker</td>\n    </tr>\n    <tr>\n      <th>240273000</th>\n      <td>1</td>\n      <td>Dimitris S</td>\n      <td>N</td>\n      <td>Greece</td>\n      <td>Foreign</td>\n      <td>1</td>\n      <td>190.0</td>\n      <td>190.0</td>\n      <td>1</td>\n      <td>Cargo</td>\n    </tr>\n    <tr>\n      <th>367240000</th>\n      <td>1</td>\n      <td>Eugene Obregon</td>\n      <td>Y</td>\n      <td>United States of America</td>\n      <td>Domestic</td>\n      <td>2</td>\n      <td>248.0/250.0</td>\n      <td>250.0</td>\n      <td>1</td>\n      <td>MilOps</td>\n    </tr>\n    <tr>\n      <th>304216000</th>\n      <td>1</td>\n      <td>Bbc Italy</td>\n      <td>N</td>\n      <td>Antigua and Barbuda</td>\n      <td>Foreign</td>\n      <td>1</td>\n      <td>108.0</td>\n      <td>108.0</td>\n      <td>1</td>\n      <td>Cargo</td>\n    </tr>\n  </tbody>\n</table>\n</div>"
     },
     "execution_count": 109,
     "metadata": {},
     "output_type": "execute_result"
    }
   ],
   "source": [
    "vessels.sample(n=10)"
   ]
  },
  {
   "cell_type": "code",
   "execution_count": 110,
   "metadata": {
    "ExecuteTime": {
     "end_time": "2023-10-02T16:27:21.144095300Z",
     "start_time": "2023-10-02T16:27:20.984405600Z"
    }
   },
   "outputs": [
    {
     "data": {
      "text/plain": "           num_names                names sov  \\\nmmsi                                            \n338021498          1                 Bree   N   \n367185680          1           East Coast   N   \n565111000          1            Storm Bay   N   \n565057000          1          Hoegh Chiba   N   \n319020300          1             Cakewalk   N   \n309013000          2  M/v Rosborg/Rosborg   N   \n538004346          1            Sti Coral   N   \n367403790          1          Apl Cyprine   N   \n565716000          1   Chembulk Barcelona   N   \n240128000          1             Maroudio   N   \n\n                                          flag flag_type  num_loas  \\\nmmsi                                                                 \n338021498            United States of America   Domestic         1   \n367185680            United States of America   Domestic         2   \n565111000              Singapore (Republic of)   Foreign         1   \n565057000              Singapore (Republic of)   Foreign         1   \n319020300                      Cayman Islands    Foreign         1   \n309013000       Bahamas (Commonwealth of the)    Foreign         2   \n538004346  Marshall Islands (Republic of the)    Foreign         1   \n367403790            United States of America   Domestic         1   \n565716000              Singapore (Republic of)   Foreign         1   \n240128000                              Greece    Foreign         1   \n\n                   loa  max_loa  num_types      type  \nmmsi                                                  \n338021498         20.0     20.0          1   Unknown  \n367185680     0.0/30.0     30.0          1       Tug  \n565111000        152.0    152.0          1     Cargo  \n565057000        180.0    180.0          1     Cargo  \n319020300         86.0     86.0          1  Pleasure  \n309013000  165.0/166.0    166.0          1     Cargo  \n538004346        182.0    182.0          1    Tanker  \n367403790        275.0    275.0          1     Cargo  \n565716000        175.0    175.0          1    Tanker  \n240128000        190.0    190.0          1     Cargo  ",
      "text/html": "<div>\n<style scoped>\n    .dataframe tbody tr th:only-of-type {\n        vertical-align: middle;\n    }\n\n    .dataframe tbody tr th {\n        vertical-align: top;\n    }\n\n    .dataframe thead th {\n        text-align: right;\n    }\n</style>\n<table border=\"1\" class=\"dataframe\">\n  <thead>\n    <tr style=\"text-align: right;\">\n      <th></th>\n      <th>num_names</th>\n      <th>names</th>\n      <th>sov</th>\n      <th>flag</th>\n      <th>flag_type</th>\n      <th>num_loas</th>\n      <th>loa</th>\n      <th>max_loa</th>\n      <th>num_types</th>\n      <th>type</th>\n    </tr>\n    <tr>\n      <th>mmsi</th>\n      <th></th>\n      <th></th>\n      <th></th>\n      <th></th>\n      <th></th>\n      <th></th>\n      <th></th>\n      <th></th>\n      <th></th>\n      <th></th>\n    </tr>\n  </thead>\n  <tbody>\n    <tr>\n      <th>338021498</th>\n      <td>1</td>\n      <td>Bree</td>\n      <td>N</td>\n      <td>United States of America</td>\n      <td>Domestic</td>\n      <td>1</td>\n      <td>20.0</td>\n      <td>20.0</td>\n      <td>1</td>\n      <td>Unknown</td>\n    </tr>\n    <tr>\n      <th>367185680</th>\n      <td>1</td>\n      <td>East Coast</td>\n      <td>N</td>\n      <td>United States of America</td>\n      <td>Domestic</td>\n      <td>2</td>\n      <td>0.0/30.0</td>\n      <td>30.0</td>\n      <td>1</td>\n      <td>Tug</td>\n    </tr>\n    <tr>\n      <th>565111000</th>\n      <td>1</td>\n      <td>Storm Bay</td>\n      <td>N</td>\n      <td>Singapore (Republic of)</td>\n      <td>Foreign</td>\n      <td>1</td>\n      <td>152.0</td>\n      <td>152.0</td>\n      <td>1</td>\n      <td>Cargo</td>\n    </tr>\n    <tr>\n      <th>565057000</th>\n      <td>1</td>\n      <td>Hoegh Chiba</td>\n      <td>N</td>\n      <td>Singapore (Republic of)</td>\n      <td>Foreign</td>\n      <td>1</td>\n      <td>180.0</td>\n      <td>180.0</td>\n      <td>1</td>\n      <td>Cargo</td>\n    </tr>\n    <tr>\n      <th>319020300</th>\n      <td>1</td>\n      <td>Cakewalk</td>\n      <td>N</td>\n      <td>Cayman Islands</td>\n      <td>Foreign</td>\n      <td>1</td>\n      <td>86.0</td>\n      <td>86.0</td>\n      <td>1</td>\n      <td>Pleasure</td>\n    </tr>\n    <tr>\n      <th>309013000</th>\n      <td>2</td>\n      <td>M/v Rosborg/Rosborg</td>\n      <td>N</td>\n      <td>Bahamas (Commonwealth of the)</td>\n      <td>Foreign</td>\n      <td>2</td>\n      <td>165.0/166.0</td>\n      <td>166.0</td>\n      <td>1</td>\n      <td>Cargo</td>\n    </tr>\n    <tr>\n      <th>538004346</th>\n      <td>1</td>\n      <td>Sti Coral</td>\n      <td>N</td>\n      <td>Marshall Islands (Republic of the)</td>\n      <td>Foreign</td>\n      <td>1</td>\n      <td>182.0</td>\n      <td>182.0</td>\n      <td>1</td>\n      <td>Tanker</td>\n    </tr>\n    <tr>\n      <th>367403790</th>\n      <td>1</td>\n      <td>Apl Cyprine</td>\n      <td>N</td>\n      <td>United States of America</td>\n      <td>Domestic</td>\n      <td>1</td>\n      <td>275.0</td>\n      <td>275.0</td>\n      <td>1</td>\n      <td>Cargo</td>\n    </tr>\n    <tr>\n      <th>565716000</th>\n      <td>1</td>\n      <td>Chembulk Barcelona</td>\n      <td>N</td>\n      <td>Singapore (Republic of)</td>\n      <td>Foreign</td>\n      <td>1</td>\n      <td>175.0</td>\n      <td>175.0</td>\n      <td>1</td>\n      <td>Tanker</td>\n    </tr>\n    <tr>\n      <th>240128000</th>\n      <td>1</td>\n      <td>Maroudio</td>\n      <td>N</td>\n      <td>Greece</td>\n      <td>Foreign</td>\n      <td>1</td>\n      <td>190.0</td>\n      <td>190.0</td>\n      <td>1</td>\n      <td>Cargo</td>\n    </tr>\n  </tbody>\n</table>\n</div>"
     },
     "execution_count": 110,
     "metadata": {},
     "output_type": "execute_result"
    }
   ],
   "source": [
    "vessels.sample(n=10, replace=True)"
   ]
  },
  {
   "cell_type": "markdown",
   "metadata": {},
   "source": [
    "## Data aggregation and GroupBy operations\n",
    "\n",
    "One of the most powerful features of Pandas is its **GroupBy** functionality. On some occasions we may want to perform operations on *groups* of observations within a dataset. For example:\n",
    "\n",
    "* **aggregation**, such as computing the sum of mean of each group, which involves applying a function to each group and returning the aggregated results\n",
    "* **slicing** the DataFrame into groups and then doing something with the resulting slices (*e.g.* plotting)\n",
    "* group-wise **transformation**, such as standardization/normalization"
   ]
  },
  {
   "cell_type": "code",
   "execution_count": 111,
   "metadata": {
    "ExecuteTime": {
     "end_time": "2023-10-02T16:28:08.247940100Z",
     "start_time": "2023-10-02T16:28:08.199935400Z"
    }
   },
   "outputs": [],
   "source": [
    "cdystonia_grouped = cdystonia.groupby(cdystonia.patient)"
   ]
  },
  {
   "cell_type": "markdown",
   "metadata": {},
   "source": [
    "However, the grouping is only an intermediate step; for example, we may want to **iterate** over each of the patient groups:"
   ]
  },
  {
   "cell_type": "code",
   "execution_count": 112,
   "metadata": {
    "ExecuteTime": {
     "end_time": "2023-10-02T16:28:34.327873300Z",
     "start_time": "2023-10-02T16:28:34.142833Z"
    }
   },
   "outputs": [
    {
     "name": "stdout",
     "output_type": "stream",
     "text": [
      "patient 1\n",
      "group    patient  obs  week  site  id  treat  age sex  twstrs  treatment\n",
      "0        1    1     0     1   1  5000U   65   F      32          1\n",
      "1        1    2     2     1   1  5000U   65   F      30          1\n",
      "2        1    3     4     1   1  5000U   65   F      24          1\n",
      "3        1    4     8     1   1  5000U   65   F      37          1\n",
      "4        1    5    12     1   1  5000U   65   F      39          1\n",
      "5        1    6    16     1   1  5000U   65   F      36          1\n",
      "patient 2\n",
      "group     patient  obs  week  site  id   treat  age sex  twstrs  treatment\n",
      "6         2    1     0     1   2  10000U   70   F      60          2\n",
      "7         2    2     2     1   2  10000U   70   F      26          2\n",
      "8         2    3     4     1   2  10000U   70   F      27          2\n",
      "9         2    4     8     1   2  10000U   70   F      41          2\n",
      "10        2    5    12     1   2  10000U   70   F      65          2\n",
      "11        2    6    16     1   2  10000U   70   F      67          2\n",
      "patient 3\n",
      "group     patient  obs  week  site  id  treat  age sex  twstrs  treatment\n",
      "12        3    1     0     1   3  5000U   64   F      44          1\n",
      "13        3    2     2     1   3  5000U   64   F      20          1\n",
      "14        3    3     4     1   3  5000U   64   F      23          1\n",
      "15        3    4     8     1   3  5000U   64   F      26          1\n",
      "16        3    5    12     1   3  5000U   64   F      35          1\n",
      "17        3    6    16     1   3  5000U   64   F      35          1\n",
      "patient 4\n",
      "group     patient  obs  week  site  id    treat  age sex  twstrs  treatment\n",
      "18        4    1     0     1   4  Placebo   59   F      53          0\n",
      "19        4    2     2     1   4  Placebo   59   F      61          0\n",
      "20        4    3     4     1   4  Placebo   59   F      64          0\n",
      "21        4    4     8     1   4  Placebo   59   F      62          0\n",
      "patient 5\n",
      "group     patient  obs  week  site  id   treat  age sex  twstrs  treatment\n",
      "22        5    1     0     1   5  10000U   76   F      53          2\n",
      "23        5    2     2     1   5  10000U   76   F      35          2\n",
      "24        5    3     4     1   5  10000U   76   F      48          2\n",
      "25        5    4     8     1   5  10000U   76   F      49          2\n",
      "26        5    5    12     1   5  10000U   76   F      41          2\n",
      "27        5    6    16     1   5  10000U   76   F      51          2\n",
      "patient 6\n",
      "group     patient  obs  week  site  id   treat  age sex  twstrs  treatment\n",
      "28        6    1     0     1   6  10000U   59   F      49          2\n",
      "29        6    2     2     1   6  10000U   59   F      34          2\n",
      "30        6    3     4     1   6  10000U   59   F      43          2\n",
      "31        6    4     8     1   6  10000U   59   F      48          2\n",
      "32        6    5    12     1   6  10000U   59   F      48          2\n",
      "33        6    6    16     1   6  10000U   59   F      51          2\n",
      "patient 7\n",
      "group     patient  obs  week  site  id  treat  age sex  twstrs  treatment\n",
      "34        7    1     0     1   7  5000U   72   M      42          1\n",
      "35        7    2     2     1   7  5000U   72   M      32          1\n",
      "36        7    3     4     1   7  5000U   72   M      32          1\n",
      "37        7    4     8     1   7  5000U   72   M      43          1\n",
      "38        7    5    12     1   7  5000U   72   M      42          1\n",
      "39        7    6    16     1   7  5000U   72   M      46          1\n",
      "patient 8\n",
      "group     patient  obs  week  site  id    treat  age sex  twstrs  treatment\n",
      "40        8    1     0     1   8  Placebo   40   M      34          0\n",
      "41        8    2     2     1   8  Placebo   40   M      33          0\n",
      "42        8    3     4     1   8  Placebo   40   M      21          0\n",
      "43        8    4     8     1   8  Placebo   40   M      27          0\n",
      "44        8    5    12     1   8  Placebo   40   M      32          0\n",
      "45        8    6    16     1   8  Placebo   40   M      38          0\n",
      "patient 9\n",
      "group     patient  obs  week  site  id  treat  age sex  twstrs  treatment\n",
      "46        9    1     0     1   9  5000U   52   F      41          1\n",
      "47        9    2     2     1   9  5000U   52   F      32          1\n",
      "48        9    3     4     1   9  5000U   52   F      34          1\n",
      "49        9    4     8     1   9  5000U   52   F      35          1\n",
      "50        9    5    12     1   9  5000U   52   F      37          1\n",
      "51        9    6    16     1   9  5000U   52   F      36          1\n",
      "patient 10\n",
      "group     patient  obs  week  site  id    treat  age sex  twstrs  treatment\n",
      "52       10    1     0     1  10  Placebo   47   M      27          0\n",
      "53       10    2     2     1  10  Placebo   47   M      10          0\n",
      "54       10    3     4     1  10  Placebo   47   M      31          0\n",
      "55       10    4     8     1  10  Placebo   47   M      32          0\n",
      "56       10    5    12     1  10  Placebo   47   M       6          0\n",
      "57       10    6    16     1  10  Placebo   47   M      14          0\n",
      "patient 11\n",
      "group     patient  obs  week  site  id   treat  age sex  twstrs  treatment\n",
      "58       11    1     0     1  11  10000U   57   F      48          2\n",
      "59       11    2     2     1  11  10000U   57   F      41          2\n",
      "60       11    3     4     1  11  10000U   57   F      32          2\n",
      "61       11    4     8     1  11  10000U   57   F      35          2\n",
      "62       11    5    12     1  11  10000U   57   F      57          2\n",
      "63       11    6    16     1  11  10000U   57   F      51          2\n",
      "patient 12\n",
      "group     patient  obs  week  site  id    treat  age sex  twstrs  treatment\n",
      "64       12    1     0     1  12  Placebo   47   F      34          0\n",
      "65       12    2     2     1  12  Placebo   47   F      19          0\n",
      "66       12    3     4     1  12  Placebo   47   F      21          0\n",
      "67       12    4     8     1  12  Placebo   47   F      24          0\n",
      "68       12    5    12     1  12  Placebo   47   F      28          0\n",
      "69       12    6    16     1  12  Placebo   47   F      28          0\n",
      "patient 13\n",
      "group     patient  obs  week  site  id    treat  age sex  twstrs  treatment\n",
      "70       13    1     0     2   1  Placebo   70   F      49          0\n",
      "71       13    2     2     2   1  Placebo   70   F      47          0\n",
      "72       13    3     4     2   1  Placebo   70   F      44          0\n",
      "73       13    4     8     2   1  Placebo   70   F      48          0\n",
      "74       13    5    12     2   1  Placebo   70   F      44          0\n",
      "75       13    6    16     2   1  Placebo   70   F      44          0\n",
      "patient 14\n",
      "group     patient  obs  week  site  id  treat  age sex  twstrs  treatment\n",
      "76       14    1     0     2   2  5000U   49   F      46          1\n",
      "77       14    2     2     2   2  5000U   49   F      35          1\n",
      "78       14    3     4     2   2  5000U   49   F      45          1\n",
      "79       14    4     8     2   2  5000U   49   F      49          1\n",
      "80       14    5    12     2   2  5000U   49   F      53          1\n",
      "81       14    6    16     2   2  5000U   49   F      56          1\n",
      "patient 15\n",
      "group     patient  obs  week  site  id   treat  age sex  twstrs  treatment\n",
      "82       15    1     0     2   3  10000U   59   F      56          2\n",
      "83       15    2     2     2   3  10000U   59   F      44          2\n",
      "84       15    3     4     2   3  10000U   59   F      48          2\n",
      "85       15    4     8     2   3  10000U   59   F      54          2\n",
      "86       15    5    12     2   3  10000U   59   F      49          2\n",
      "87       15    6    16     2   3  10000U   59   F      60          2\n",
      "patient 16\n",
      "group     patient  obs  week  site  id  treat  age sex  twstrs  treatment\n",
      "88       16    1     0     2   4  5000U   64   M      59          1\n",
      "89       16    2     2     2   4  5000U   64   M      48          1\n",
      "90       16    3     4     2   4  5000U   64   M      56          1\n",
      "91       16    4     8     2   4  5000U   64   M      55          1\n",
      "92       16    5    12     2   4  5000U   64   M      57          1\n",
      "93       16    6    16     2   4  5000U   64   M      58          1\n",
      "patient 17\n",
      "group     patient  obs  week  site  id   treat  age sex  twstrs  treatment\n",
      "94       17    1     0     2   5  10000U   45   F      62          2\n",
      "95       17    2     2     2   5  10000U   45   F      60          2\n",
      "96       17    3     4     2   5  10000U   45   F      60          2\n",
      "97       17    4     8     2   5  10000U   45   F      64          2\n",
      "98       17    5    12     2   5  10000U   45   F      67          2\n",
      "99       17    6    16     2   5  10000U   45   F      66          2\n",
      "patient 18\n",
      "group      patient  obs  week  site  id    treat  age sex  twstrs  treatment\n",
      "100       18    1     0     2   6  Placebo   66   F      50          0\n",
      "101       18    2     2     2   6  Placebo   66   F      53          0\n",
      "102       18    3     4     2   6  Placebo   66   F      52          0\n",
      "103       18    4     8     2   6  Placebo   66   F      57          0\n",
      "104       18    5    12     2   6  Placebo   66   F      61          0\n",
      "105       18    6    16     2   6  Placebo   66   F      54          0\n",
      "patient 19\n",
      "group      patient  obs  week  site  id   treat  age sex  twstrs  treatment\n",
      "106       19    1     0     2   7  10000U   49   F      42          2\n",
      "107       19    2     2     2   7  10000U   49   F      42          2\n",
      "108       19    3     4     2   7  10000U   49   F      43          2\n",
      "109       19    4     8     2   7  10000U   49   F      33          2\n",
      "110       19    5    12     2   7  10000U   49   F      37          2\n",
      "111       19    6    16     2   7  10000U   49   F      43          2\n",
      "patient 20\n",
      "group      patient  obs  week  site  id    treat  age sex  twstrs  treatment\n",
      "112       20    1     0     2   8  Placebo   54   F      53          0\n",
      "113       20    2     2     2   8  Placebo   54   F      56          0\n",
      "114       20    3     4     2   8  Placebo   54   F      52          0\n",
      "115       20    4     8     2   8  Placebo   54   F      54          0\n",
      "116       20    5    12     2   8  Placebo   54   F      55          0\n",
      "117       20    6    16     2   8  Placebo   54   F      51          0\n",
      "patient 21\n",
      "group      patient  obs  week  site  id  treat  age sex  twstrs  treatment\n",
      "118       21    1     0     2   9  5000U   47   F      67          1\n",
      "119       21    2     2     2   9  5000U   47   F      64          1\n",
      "120       21    3     4     2   9  5000U   47   F      65          1\n",
      "121       21    4     8     2   9  5000U   47   F      64          1\n",
      "122       21    5    12     2   9  5000U   47   F      62          1\n",
      "123       21    6    16     2   9  5000U   47   F      64          1\n",
      "patient 22\n",
      "group      patient  obs  week  site  id    treat  age sex  twstrs  treatment\n",
      "124       22    1     0     2  10  Placebo   31   M      44          0\n",
      "125       22    2     2     2  10  Placebo   31   M      40          0\n",
      "126       22    3     4     2  10  Placebo   31   M      32          0\n",
      "127       22    4     8     2  10  Placebo   31   M      36          0\n",
      "128       22    5    12     2  10  Placebo   31   M      42          0\n",
      "129       22    6    16     2  10  Placebo   31   M      43          0\n",
      "patient 23\n",
      "group      patient  obs  week  site  id   treat  age sex  twstrs  treatment\n",
      "130       23    1     0     2  11  10000U   53   F      65          2\n",
      "131       23    2     2     2  11  10000U   53   F      58          2\n",
      "132       23    3     4     2  11  10000U   53   F      55          2\n",
      "133       23    5    12     2  11  10000U   53   F      56          2\n",
      "134       23    6    16     2  11  10000U   53   F      60          2\n",
      "patient 24\n",
      "group      patient  obs  week  site  id  treat  age sex  twstrs  treatment\n",
      "135       24    1     0     2  12  5000U   61   M      56          1\n",
      "136       24    2     2     2  12  5000U   61   M      54          1\n",
      "137       24    3     4     2  12  5000U   61   M      52          1\n",
      "138       24    4     8     2  12  5000U   61   M      48          1\n",
      "139       24    5    12     2  12  5000U   61   M      52          1\n",
      "140       24    6    16     2  12  5000U   61   M      53          1\n",
      "patient 25\n",
      "group      patient  obs  week  site  id    treat  age sex  twstrs  treatment\n",
      "141       25    1     0     2  13  Placebo   40   M      30          0\n",
      "142       25    2     2     2  13  Placebo   40   M      33          0\n",
      "143       25    3     4     2  13  Placebo   40   M      25          0\n",
      "144       25    4     8     2  13  Placebo   40   M      29          0\n",
      "145       25    5    12     2  13  Placebo   40   M      32          0\n",
      "146       25    6    16     2  13  Placebo   40   M      32          0\n",
      "patient 26\n",
      "group      patient  obs  week  site  id  treat  age sex  twstrs  treatment\n",
      "147       26    1     0     2  14  5000U   67   M      47          1\n",
      "148       26    3     4     2  14  5000U   67   M      54          1\n",
      "149       26    4     8     2  14  5000U   67   M      43          1\n",
      "150       26    5    12     2  14  5000U   67   M      46          1\n",
      "151       26    6    16     2  14  5000U   67   M      50          1\n",
      "patient 27\n",
      "group      patient  obs  week  site  id   treat  age sex  twstrs  treatment\n",
      "152       27    1     0     3   1  10000U   54   F      50          2\n",
      "153       27    2     2     3   1  10000U   54   F      43          2\n",
      "154       27    3     4     3   1  10000U   54   F      51          2\n",
      "155       27    4     8     3   1  10000U   54   F      46          2\n",
      "156       27    5    12     3   1  10000U   54   F      49          2\n",
      "157       27    6    16     3   1  10000U   54   F      53          2\n",
      "patient 28\n",
      "group      patient  obs  week  site  id    treat  age sex  twstrs  treatment\n",
      "158       28    1     0     3   2  Placebo   41   F      34          0\n",
      "159       28    2     2     3   2  Placebo   41   F      29          0\n",
      "160       28    3     4     3   2  Placebo   41   F      27          0\n",
      "161       28    4     8     3   2  Placebo   41   F      21          0\n",
      "162       28    5    12     3   2  Placebo   41   F      22          0\n",
      "163       28    6    16     3   2  Placebo   41   F      22          0\n",
      "patient 29\n",
      "group      patient  obs  week  site  id  treat  age sex  twstrs  treatment\n",
      "164       29    1     0     3   3  5000U   66   M      39          1\n",
      "165       29    2     2     3   3  5000U   66   M      41          1\n",
      "166       29    3     4     3   3  5000U   66   M      33          1\n",
      "167       29    4     8     3   3  5000U   66   M      39          1\n",
      "168       29    5    12     3   3  5000U   66   M      37          1\n",
      "169       29    6    16     3   3  5000U   66   M      37          1\n",
      "patient 30\n",
      "group      patient  obs  week  site  id    treat  age sex  twstrs  treatment\n",
      "170       30    1     0     3   4  Placebo   68   F      43          0\n",
      "171       30    2     2     3   4  Placebo   68   F      31          0\n",
      "172       30    3     4     3   4  Placebo   68   F      29          0\n",
      "173       30    4     8     3   4  Placebo   68   F      28          0\n",
      "174       30    5    12     3   4  Placebo   68   F      33          0\n",
      "175       30    6    16     3   4  Placebo   68   F      38          0\n",
      "patient 31\n",
      "group      patient  obs  week  site  id   treat  age sex  twstrs  treatment\n",
      "176       31    1     0     3   5  10000U   41   F      46          2\n",
      "177       31    2     2     3   5  10000U   41   F      26          2\n",
      "178       31    3     4     3   5  10000U   41   F      29          2\n",
      "179       31    4     8     3   5  10000U   41   F      33          2\n",
      "180       31    5    12     3   5  10000U   41   F      45          2\n",
      "181       31    6    16     3   5  10000U   41   F      56          2\n",
      "patient 32\n",
      "group      patient  obs  week  site  id  treat  age sex  twstrs  treatment\n",
      "182       32    1     0     3   6  5000U   77   M      52          1\n",
      "183       32    2     2     3   6  5000U   77   M      44          1\n",
      "184       32    3     4     3   6  5000U   77   M      47          1\n",
      "185       32    4     8     3   6  5000U   77   M      50          1\n",
      "186       32    5    12     3   6  5000U   77   M      50          1\n",
      "187       32    6    16     3   6  5000U   77   M      49          1\n",
      "patient 33\n",
      "group      patient  obs  week  site  id   treat  age sex  twstrs  treatment\n",
      "188       33    1     0     3   7  10000U   41   M      38          2\n",
      "189       33    2     2     3   7  10000U   41   M      19          2\n",
      "190       33    3     4     3   7  10000U   41   M      20          2\n",
      "191       33    4     8     3   7  10000U   41   M      27          2\n",
      "192       33    5    12     3   7  10000U   41   M      29          2\n",
      "193       33    6    16     3   7  10000U   41   M      32          2\n",
      "patient 34\n",
      "group      patient  obs  week  site  id    treat  age sex  twstrs  treatment\n",
      "194       34    1     0     3   8  Placebo   56   M      33          0\n",
      "195       34    2     2     3   8  Placebo   56   M      38          0\n",
      "196       34    3     4     3   8  Placebo   56   M      40          0\n",
      "197       34    4     8     3   8  Placebo   56   M      48          0\n",
      "198       34    5    12     3   8  Placebo   56   M      49          0\n",
      "199       34    6    16     3   8  Placebo   56   M      44          0\n",
      "patient 35\n",
      "group      patient  obs  week  site  id  treat  age sex  twstrs  treatment\n",
      "200       35    1     0     3   9  5000U   46   F      28          1\n",
      "201       35    2     2     3   9  5000U   46   F      16          1\n",
      "202       35    3     4     3   9  5000U   46   F      11          1\n",
      "203       35    4     8     3   9  5000U   46   F       7          1\n",
      "204       35    5    12     3   9  5000U   46   F      13          1\n",
      "205       35    6    16     3   9  5000U   46   F      21          1\n",
      "patient 36\n",
      "group      patient  obs  week  site  id   treat  age sex  twstrs  treatment\n",
      "206       36    1     0     3  10  10000U   46   F      34          2\n",
      "207       36    2     2     3  10  10000U   46   F      23          2\n",
      "208       36    3     4     3  10  10000U   46   F      16          2\n",
      "209       36    4     8     3  10  10000U   46   F      15          2\n",
      "210       36    5    12     3  10  10000U   46   F      17          2\n",
      "211       36    6    16     3  10  10000U   46   F      29          2\n",
      "patient 37\n",
      "group      patient  obs  week  site  id    treat  age sex  twstrs  treatment\n",
      "212       37    1     0     3  11  Placebo   47   F      39          0\n",
      "213       37    2     2     3  11  Placebo   47   F      37          0\n",
      "214       37    3     4     3  11  Placebo   47   F      39          0\n",
      "215       37    4     8     3  11  Placebo   47   F      39          0\n",
      "216       37    5    12     3  11  Placebo   47   F      45          0\n",
      "217       37    6    16     3  11  Placebo   47   F      43          0\n",
      "patient 38\n",
      "group      patient  obs  week  site  id  treat  age sex  twstrs  treatment\n",
      "218       38    1     0     3  12  5000U   35   M      29          1\n",
      "219       38    2     2     3  12  5000U   35   M      42          1\n",
      "220       38    3     4     3  12  5000U   35   M      35          1\n",
      "221       38    4     8     3  12  5000U   35   M      24          1\n",
      "222       38    5    12     3  12  5000U   35   M      29          1\n",
      "223       38    6    16     3  12  5000U   35   M      42          1\n",
      "patient 39\n",
      "group      patient  obs  week  site  id    treat  age sex  twstrs  treatment\n",
      "224       39    1     0     4   1  Placebo   58   M      52          0\n",
      "225       39    2     2     4   1  Placebo   58   M      55          0\n",
      "226       39    3     4     4   1  Placebo   58   M      51          0\n",
      "227       39    4     8     4   1  Placebo   58   M      52          0\n",
      "228       39    5    12     4   1  Placebo   58   M      54          0\n",
      "229       39    6    16     4   1  Placebo   58   M      57          0\n",
      "patient 40\n",
      "group      patient  obs  week  site  id  treat  age sex  twstrs  treatment\n",
      "230       40    1     0     4   2  5000U   62   F      52          1\n",
      "231       40    2     2     4   2  5000U   62   F      30          1\n",
      "232       40    3     4     4   2  5000U   62   F      43          1\n",
      "233       40    4     8     4   2  5000U   62   F      45          1\n",
      "234       40    5    12     4   2  5000U   62   F      47          1\n",
      "235       40    6    16     4   2  5000U   62   F      46          1\n",
      "patient 41\n",
      "group      patient  obs  week  site  id   treat  age sex  twstrs  treatment\n",
      "236       41    1     0     4   3  10000U   73   F      54          2\n",
      "237       41    2     2     4   3  10000U   73   F      52          2\n",
      "238       41    3     4     4   3  10000U   73   F      52          2\n",
      "239       41    4     8     4   3  10000U   73   F      54          2\n",
      "240       41    5    12     4   3  10000U   73   F      51          2\n",
      "241       41    6    16     4   3  10000U   73   F      57          2\n",
      "patient 42\n",
      "group      patient  obs  week  site  id   treat  age sex  twstrs  treatment\n",
      "242       42    1     0     4   4  10000U   52   F      52          2\n",
      "243       42    2     2     4   4  10000U   52   F      44          2\n",
      "244       42    3     4     4   4  10000U   52   F      33          2\n",
      "245       42    4     8     4   4  10000U   52   F      54          2\n",
      "246       42    5    12     4   4  10000U   52   F      46          2\n",
      "247       42    6    16     4   4  10000U   52   F      47          2\n",
      "patient 43\n",
      "group      patient  obs  week  site  id    treat  age sex  twstrs  treatment\n",
      "248       43    1     0     4   5  Placebo   53   F      47          0\n",
      "249       43    2     2     4   5  Placebo   53   F      45          0\n",
      "250       43    3     4     4   5  Placebo   53   F      41          0\n",
      "251       43    4     8     4   5  Placebo   53   F      45          0\n",
      "252       43    5    12     4   5  Placebo   53   F      43          0\n",
      "253       43    6    16     4   5  Placebo   53   F      41          0\n",
      "patient 44\n",
      "group      patient  obs  week  site  id  treat  age sex  twstrs  treatment\n",
      "254       44    1     0     4   6  5000U   69   M      44          1\n",
      "255       44    2     2     4   6  5000U   69   M      34          1\n",
      "256       44    3     4     4   6  5000U   69   M      29          1\n",
      "257       44    4     8     4   6  5000U   69   M      28          1\n",
      "258       44    5    12     4   6  5000U   69   M      35          1\n",
      "259       44    6    16     4   6  5000U   69   M      41          1\n",
      "patient 45\n",
      "group      patient  obs  week  site  id    treat  age sex  twstrs  treatment\n",
      "260       45    1     0     4   7  Placebo   55   M      42          0\n",
      "261       45    2     2     4   7  Placebo   55   M      39          0\n",
      "262       45    3     4     4   7  Placebo   55   M      38          0\n",
      "263       45    4     8     4   7  Placebo   55   M      47          0\n",
      "264       45    5    12     4   7  Placebo   55   M      39          0\n",
      "265       45    6    16     4   7  Placebo   55   M      39          0\n",
      "patient 46\n",
      "group      patient  obs  week  site  id   treat  age sex  twstrs  treatment\n",
      "266       46    1     0     4   8  10000U   52   F      42          2\n",
      "267       46    2     2     4   8  10000U   52   F      14          2\n",
      "268       46    3     4     4   8  10000U   52   F       9          2\n",
      "269       46    4     8     4   8  10000U   52   F       9          2\n",
      "270       46    5    12     4   8  10000U   52   F      16          2\n",
      "271       46    6    16     4   8  10000U   52   F      33          2\n",
      "patient 47\n",
      "group      patient  obs  week  site  id   treat  age sex  twstrs  treatment\n",
      "272       47    1     0     5   1  10000U   51   F      44          2\n",
      "273       47    2     2     5   1  10000U   51   F      34          2\n",
      "274       47    3     4     5   1  10000U   51   F      32          2\n",
      "275       47    4     8     5   1  10000U   51   F      35          2\n",
      "276       47    5    12     5   1  10000U   51   F      54          2\n",
      "277       47    6    16     5   1  10000U   51   F      53          2\n",
      "patient 48\n",
      "group      patient  obs  week  site  id    treat  age sex  twstrs  treatment\n",
      "278       48    1     0     5   2  Placebo   56   F      60          0\n",
      "279       48    2     2     5   2  Placebo   56   F      57          0\n",
      "280       48    3     4     5   2  Placebo   56   F      53          0\n",
      "281       48    4     8     5   2  Placebo   56   F      52          0\n",
      "282       48    5    12     5   2  Placebo   56   F      53          0\n",
      "283       48    6    16     5   2  Placebo   56   F      58          0\n",
      "patient 49\n",
      "group      patient  obs  week  site  id  treat  age sex  twstrs  treatment\n",
      "284       49    1     0     5   3  5000U   65   F      60          1\n",
      "285       49    2     2     5   3  5000U   65   F      53          1\n",
      "286       49    3     4     5   3  5000U   65   F      55          1\n",
      "287       49    4     8     5   3  5000U   65   F      62          1\n",
      "288       49    5    12     5   3  5000U   65   F      67          1\n",
      "patient 50\n",
      "group      patient  obs  week  site  id   treat  age sex  twstrs  treatment\n",
      "289       50    1     0     5   4  10000U   35   F      50          2\n",
      "290       50    2     2     5   4  10000U   35   F      50          2\n",
      "291       50    4     8     5   4  10000U   35   F      46          2\n",
      "292       50    5    12     5   4  10000U   35   F      50          2\n",
      "293       50    6    16     5   4  10000U   35   F      57          2\n",
      "patient 51\n",
      "group      patient  obs  week  site  id  treat  age sex  twstrs  treatment\n",
      "294       51    1     0     5   5  5000U   43   M      38          1\n",
      "295       51    2     2     5   5  5000U   43   M      27          1\n",
      "296       51    3     4     5   5  5000U   43   M      16          1\n",
      "297       51    4     8     5   5  5000U   43   M      19          1\n",
      "298       51    5    12     5   5  5000U   43   M      23          1\n",
      "299       51    6    16     5   5  5000U   43   M      26          1\n",
      "patient 52\n",
      "group      patient  obs  week  site  id    treat  age sex  twstrs  treatment\n",
      "300       52    1     0     5   6  Placebo   61   M      44          0\n",
      "301       52    3     4     5   6  Placebo   61   M      46          0\n",
      "302       52    4     8     5   6  Placebo   61   M      26          0\n",
      "303       52    5    12     5   6  Placebo   61   M      30          0\n",
      "304       52    6    16     5   6  Placebo   61   M      34          0\n",
      "patient 53\n",
      "group      patient  obs  week  site  id    treat  age sex  twstrs  treatment\n",
      "305       53    1     0     6   1  Placebo   43   M      54          0\n",
      "306       53    2     2     6   1  Placebo   43   M      53          0\n",
      "307       53    3     4     6   1  Placebo   43   M      51          0\n",
      "308       53    4     8     6   1  Placebo   43   M      56          0\n",
      "309       53    5    12     6   1  Placebo   43   M      39          0\n",
      "310       53    6    16     6   1  Placebo   43   M       9          0\n",
      "patient 54\n",
      "group      patient  obs  week  site  id   treat  age sex  twstrs  treatment\n",
      "311       54    1     0     6   2  10000U   64   F      54          2\n",
      "312       54    2     2     6   2  10000U   64   F      32          2\n",
      "313       54    3     4     6   2  10000U   64   F      40          2\n",
      "314       54    4     8     6   2  10000U   64   F      52          2\n",
      "315       54    5    12     6   2  10000U   64   F      42          2\n",
      "316       54    6    16     6   2  10000U   64   F      47          2\n",
      "patient 55\n",
      "group      patient  obs  week  site  id  treat  age sex  twstrs  treatment\n",
      "317       55    1     0     6   3  5000U   57   M      56          1\n",
      "318       55    2     2     6   3  5000U   57   M      55          1\n",
      "319       55    3     4     6   3  5000U   57   M      44          1\n",
      "320       55    4     8     6   3  5000U   57   M      50          1\n",
      "321       55    5    12     6   3  5000U   57   M      53          1\n",
      "322       55    6    16     6   3  5000U   57   M      52          1\n",
      "patient 56\n",
      "group      patient  obs  week  site  id  treat  age sex  twstrs  treatment\n",
      "323       56    1     0     6   4  5000U   60   F      51          1\n",
      "324       56    2     2     6   4  5000U   60   F      50          1\n",
      "325       56    3     4     6   4  5000U   60   F      50          1\n",
      "326       56    4     8     6   4  5000U   60   F      56          1\n",
      "327       56    5    12     6   4  5000U   60   F      59          1\n",
      "328       56    6    16     6   4  5000U   60   F      53          1\n",
      "patient 57\n",
      "group      patient  obs  week  site  id   treat  age sex  twstrs  treatment\n",
      "329       57    1     0     6   5  10000U   44   F      53          2\n",
      "330       57    2     2     6   5  10000U   44   F      56          2\n",
      "331       57    3     4     6   5  10000U   44   F      47          2\n",
      "332       57    4     8     6   5  10000U   44   F      53          2\n",
      "333       57    5    12     6   5  10000U   44   F      51          2\n",
      "334       57    6    16     6   5  10000U   44   F      51          2\n",
      "patient 58\n",
      "group      patient  obs  week  site  id    treat  age sex  twstrs  treatment\n",
      "335       58    1     0     6   6  Placebo   41   F      36          0\n",
      "336       58    2     2     6   6  Placebo   41   F      29          0\n",
      "337       58    3     4     6   6  Placebo   41   F      24          0\n",
      "338       58    4     8     6   6  Placebo   41   F      32          0\n",
      "339       58    5    12     6   6  Placebo   41   F      45          0\n",
      "340       58    6    16     6   6  Placebo   41   F      36          0\n",
      "patient 59\n",
      "group      patient  obs  week  site  id  treat  age sex  twstrs  treatment\n",
      "341       59    1     0     6   7  5000U   51   F      59          1\n",
      "342       59    2     2     6   7  5000U   51   F      53          1\n",
      "343       59    3     4     6   7  5000U   51   F      45          1\n",
      "344       59    4     8     6   7  5000U   51   F      44          1\n",
      "345       59    5    12     6   7  5000U   51   F      50          1\n",
      "346       59    6    16     6   7  5000U   51   F      48          1\n",
      "patient 60\n",
      "group      patient  obs  week  site  id    treat  age sex  twstrs  treatment\n",
      "347       60    1     0     6   8  Placebo   57   F      49          0\n",
      "348       60    2     2     6   8  Placebo   57   F      50          0\n",
      "349       60    3     4     6   8  Placebo   57   F      48          0\n",
      "350       60    4     8     6   8  Placebo   57   F      56          0\n",
      "351       60    5    12     6   8  Placebo   57   F      49          0\n",
      "352       60    6    16     6   8  Placebo   57   F      57          0\n",
      "patient 61\n",
      "group      patient  obs  week  site  id   treat  age sex  twstrs  treatment\n",
      "353       61    1     0     6   9  10000U   42   F      50          2\n",
      "354       61    2     2     6   9  10000U   42   F      38          2\n",
      "355       61    3     4     6   9  10000U   42   F      42          2\n",
      "356       61    4     8     6   9  10000U   42   F      43          2\n",
      "357       61    5    12     6   9  10000U   42   F      42          2\n",
      "358       61    6    16     6   9  10000U   42   F      46          2\n",
      "patient 62\n",
      "group      patient  obs  week  site  id    treat  age sex  twstrs  treatment\n",
      "359       62    1     0     6  10  Placebo   48   F      46          0\n",
      "360       62    2     2     6  10  Placebo   48   F      48          0\n",
      "361       62    3     4     6  10  Placebo   48   F      46          0\n",
      "362       62    4     8     6  10  Placebo   48   F      57          0\n",
      "363       62    5    12     6  10  Placebo   48   F      57          0\n",
      "364       62    6    16     6  10  Placebo   48   F      49          0\n",
      "patient 63\n",
      "group      patient  obs  week  site  id   treat  age sex  twstrs  treatment\n",
      "365       63    1     0     6  11  10000U   57   M      55          2\n",
      "366       63    2     2     6  11  10000U   57   M      34          2\n",
      "367       63    3     4     6  11  10000U   57   M      26          2\n",
      "368       63    4     8     6  11  10000U   57   M      40          2\n",
      "369       63    5    12     6  11  10000U   57   M      49          2\n",
      "370       63    6    16     6  11  10000U   57   M      47          2\n",
      "patient 64\n",
      "group      patient  obs  week  site  id  treat  age sex  twstrs  treatment\n",
      "371       64    1     0     6  12  5000U   39   M      46          1\n",
      "372       64    2     2     6  12  5000U   39   M      44          1\n",
      "373       64    3     4     6  12  5000U   39   M      47          1\n",
      "374       64    4     8     6  12  5000U   39   M      50          1\n",
      "375       64    5    12     6  12  5000U   39   M      46          1\n",
      "376       64    6    16     6  12  5000U   39   M      51          1\n",
      "patient 65\n",
      "group      patient  obs  week  site  id   treat  age sex  twstrs  treatment\n",
      "377       65    1     0     6  13  10000U   67   M      34          2\n",
      "378       65    2     2     6  13  10000U   67   M      31          2\n",
      "379       65    3     4     6  13  10000U   67   M      25          2\n",
      "patient 66\n",
      "group      patient  obs  week  site  id  treat  age sex  twstrs  treatment\n",
      "380       66    1     0     6  14  5000U   39   F      57          1\n",
      "381       66    2     2     6  14  5000U   39   F      48          1\n",
      "382       66    3     4     6  14  5000U   39   F      50          1\n",
      "383       66    4     8     6  14  5000U   39   F      50          1\n",
      "384       66    5    12     6  14  5000U   39   F      50          1\n",
      "385       66    6    16     6  14  5000U   39   F      49          1\n",
      "patient 67\n",
      "group      patient  obs  week  site  id    treat  age sex  twstrs  treatment\n",
      "386       67    1     0     6  15  Placebo   69   M      41          0\n",
      "387       67    2     2     6  15  Placebo   69   M      40          0\n",
      "388       67    3     4     6  15  Placebo   69   M      42          0\n",
      "389       67    4     8     6  15  Placebo   69   M      38          0\n",
      "390       67    5    12     6  15  Placebo   69   M      50          0\n",
      "391       67    6    16     6  15  Placebo   69   M      56          0\n",
      "patient 68\n",
      "group      patient  obs  week  site  id  treat  age sex  twstrs  treatment\n",
      "392       68    1     0     7   1  5000U   54   F      49          1\n",
      "393       68    2     2     7   1  5000U   54   F      25          1\n",
      "394       68    3     4     7   1  5000U   54   F      30          1\n",
      "395       68    4     8     7   1  5000U   54   F      41          1\n",
      "396       68    5    12     7   1  5000U   54   F      41          1\n",
      "397       68    6    16     7   1  5000U   54   F      31          1\n",
      "patient 69\n",
      "group      patient  obs  week  site  id    treat  age sex  twstrs  treatment\n",
      "398       69    1     0     7   2  Placebo   67   F      42          0\n",
      "399       69    2     2     7   2  Placebo   67   F      30          0\n",
      "400       69    3     4     7   2  Placebo   67   F      40          0\n",
      "401       69    4     8     7   2  Placebo   67   F      43          0\n",
      "402       69    5    12     7   2  Placebo   67   F      36          0\n",
      "403       69    6    16     7   2  Placebo   67   F      45          0\n",
      "patient 70\n",
      "group      patient  obs  week  site  id   treat  age sex  twstrs  treatment\n",
      "404       70    1     0     7   3  10000U   58   F      31          2\n",
      "405       70    2     2     7   3  10000U   58   F      18          2\n",
      "406       70    3     4     7   3  10000U   58   F      23          2\n",
      "407       70    4     8     7   3  10000U   58   F      26          2\n",
      "408       70    5    12     7   3  10000U   58   F      33          2\n",
      "409       70    6    16     7   3  10000U   58   F      41          2\n",
      "patient 71\n",
      "group      patient  obs  week  site  id    treat  age sex  twstrs  treatment\n",
      "410       71    1     0     7   4  Placebo   72   F      50          0\n",
      "411       71    2     2     7   4  Placebo   72   F      27          0\n",
      "412       71    3     4     7   4  Placebo   72   F      43          0\n",
      "413       71    4     8     7   4  Placebo   72   F      32          0\n",
      "414       71    5    12     7   4  Placebo   72   F      40          0\n",
      "415       71    6    16     7   4  Placebo   72   F      47          0\n",
      "patient 72\n",
      "group      patient  obs  week  site  id   treat  age sex  twstrs  treatment\n",
      "416       72    1     0     7   5  10000U   65   F      35          2\n",
      "417       72    2     2     7   5  10000U   65   F      24          2\n",
      "418       72    3     4     7   5  10000U   65   F      34          2\n",
      "419       72    4     8     7   5  10000U   65   F      28          2\n",
      "420       72    5    12     7   5  10000U   65   F      34          2\n",
      "421       72    6    16     7   5  10000U   65   F      28          2\n",
      "patient 73\n",
      "group      patient  obs  week  site  id  treat  age sex  twstrs  treatment\n",
      "422       73    1     0     7   6  5000U   68   F      38          1\n",
      "423       73    2     2     7   6  5000U   68   F      25          1\n",
      "424       73    3     4     7   6  5000U   68   F      21          1\n",
      "425       73    4     8     7   6  5000U   68   F      33          1\n",
      "426       73    5    12     7   6  5000U   68   F      42          1\n",
      "427       73    6    16     7   6  5000U   68   F      53          1\n",
      "patient 74\n",
      "group      patient  obs  week  site  id   treat  age sex  twstrs  treatment\n",
      "428       74    1     0     7   7  10000U   75   F      53          2\n",
      "429       74    2     2     7   7  10000U   75   F      40          2\n",
      "430       74    3     4     7   7  10000U   75   F      38          2\n",
      "431       74    4     8     7   7  10000U   75   F      44          2\n",
      "432       74    5    12     7   7  10000U   75   F      47          2\n",
      "433       74    6    16     7   7  10000U   75   F      53          2\n",
      "patient 75\n",
      "group      patient  obs  week  site  id    treat  age sex  twstrs  treatment\n",
      "434       75    1     0     7   8  Placebo   26   F      42          0\n",
      "435       75    2     2     7   8  Placebo   26   F      48          0\n",
      "436       75    3     4     7   8  Placebo   26   F      26          0\n",
      "437       75    4     8     7   8  Placebo   26   F      37          0\n",
      "438       75    5    12     7   8  Placebo   26   F      37          0\n",
      "439       75    6    16     7   8  Placebo   26   F      43          0\n",
      "patient 76\n",
      "group      patient  obs  week  site  id  treat  age sex  twstrs  treatment\n",
      "440       76    1     0     7   9  5000U   36   F      53          1\n",
      "441       76    2     2     7   9  5000U   36   F      45          1\n",
      "442       76    3     4     7   9  5000U   36   F      52          1\n",
      "443       76    4     8     7   9  5000U   36   F      51          1\n",
      "444       76    5    12     7   9  5000U   36   F      52          1\n",
      "445       76    6    16     7   9  5000U   36   F      53          1\n",
      "patient 77\n",
      "group      patient  obs  week  site  id   treat  age sex  twstrs  treatment\n",
      "446       77    1     0     7  10  10000U   72   M      46          2\n",
      "447       77    2     2     7  10  10000U   72   M      47          2\n",
      "448       77    3     4     7  10  10000U   72   M      45          2\n",
      "449       77    4     8     7  10  10000U   72   M      45          2\n",
      "450       77    5    12     7  10  10000U   72   M      50          2\n",
      "451       77    6    16     7  10  10000U   72   M      52          2\n",
      "patient 78\n",
      "group      patient  obs  week  site  id    treat  age sex  twstrs  treatment\n",
      "452       78    1     0     7  11  Placebo   54   F      50          0\n",
      "453       78    2     2     7  11  Placebo   54   F      42          0\n",
      "454       78    3     4     7  11  Placebo   54   F      52          0\n",
      "455       78    4     8     7  11  Placebo   54   F      60          0\n",
      "456       78    5    12     7  11  Placebo   54   F      54          0\n",
      "457       78    6    16     7  11  Placebo   54   F      59          0\n",
      "patient 79\n",
      "group      patient  obs  week  site  id  treat  age sex  twstrs  treatment\n",
      "458       79    1     0     7  12  5000U   64   F      43          1\n",
      "459       79    2     2     7  12  5000U   64   F      24          1\n",
      "460       79    3     4     7  12  5000U   64   F      17          1\n",
      "461       79    4     8     7  12  5000U   64   F      37          1\n",
      "462       79    5    12     7  12  5000U   64   F      36          1\n",
      "463       79    6    16     7  12  5000U   64   F      38          1\n",
      "patient 80\n",
      "group      patient  obs  week  site  id    treat  age sex  twstrs  treatment\n",
      "464       80    1     0     8   1  Placebo   39   F      46          0\n",
      "465       80    2     2     8   1  Placebo   39   F      39          0\n",
      "466       80    3     4     8   1  Placebo   39   F      25          0\n",
      "467       80    4     8     8   1  Placebo   39   F      15          0\n",
      "468       80    5    12     8   1  Placebo   39   F      21          0\n",
      "469       80    6    16     8   1  Placebo   39   F      25          0\n",
      "patient 81\n",
      "group      patient  obs  week  site  id   treat  age sex  twstrs  treatment\n",
      "470       81    1     0     8   2  10000U   54   M      41          2\n",
      "471       81    2     2     8   2  10000U   54   M      30          2\n",
      "472       81    3     4     8   2  10000U   54   M      44          2\n",
      "473       81    4     8     8   2  10000U   54   M      46          2\n",
      "474       81    5    12     8   2  10000U   54   M      46          2\n",
      "475       81    6    16     8   2  10000U   54   M      44          2\n",
      "patient 82\n",
      "group      patient  obs  week  site  id  treat  age sex  twstrs  treatment\n",
      "476       82    1     0     8   3  5000U   48   M      33          1\n",
      "477       82    2     2     8   3  5000U   48   M      27          1\n",
      "478       82    3     4     8   3  5000U   48   M      25          1\n",
      "479       82    4     8     8   3  5000U   48   M      30          1\n",
      "480       82    5    12     8   3  5000U   48   M      28          1\n",
      "481       82    6    16     8   3  5000U   48   M      30          1\n",
      "patient 83\n",
      "group      patient  obs  week  site  id  treat  age sex  twstrs  treatment\n",
      "482       83    1     0     8   4  5000U   83   F      36          1\n",
      "483       83    2     2     8   4  5000U   83   F      15          1\n",
      "484       83    3     4     8   4  5000U   83   F      16          1\n",
      "485       83    4     8     8   4  5000U   83   F      17          1\n",
      "486       83    5    12     8   4  5000U   83   F      22          1\n",
      "487       83    6    16     8   4  5000U   83   F      41          1\n",
      "patient 84\n",
      "group      patient  obs  week  site  id   treat  age sex  twstrs  treatment\n",
      "488       84    1     0     8   5  10000U   74   M      33          2\n",
      "489       84    2     2     8   5  10000U   74   M      32          2\n",
      "490       84    3     4     8   5  10000U   74   M      31          2\n",
      "491       84    4     8     8   5  10000U   74   M      27          2\n",
      "492       84    5    12     8   5  10000U   74   M      49          2\n",
      "493       84    6    16     8   5  10000U   74   M      60          2\n",
      "patient 85\n",
      "group      patient  obs  week  site  id    treat  age sex  twstrs  treatment\n",
      "494       85    1     0     8   6  Placebo   41   M      37          0\n",
      "patient 86\n",
      "group      patient  obs  week  site  id   treat  age sex  twstrs  treatment\n",
      "495       86    1     0     8   7  10000U   65   F      24          2\n",
      "496       86    2     2     8   7  10000U   65   F      29          2\n",
      "497       86    3     4     8   7  10000U   65   F      18          2\n",
      "498       86    4     8     8   7  10000U   65   F      20          2\n",
      "499       86    5    12     8   7  10000U   65   F      25          2\n",
      "500       86    6    16     8   7  10000U   65   F      41          2\n",
      "patient 87\n",
      "group      patient  obs  week  site  id  treat  age sex  twstrs  treatment\n",
      "501       87    1     0     8   8  5000U   79   M      42          1\n",
      "502       87    2     2     8   8  5000U   79   M      23          1\n",
      "503       87    3     4     8   8  5000U   79   M      30          1\n",
      "504       87    4     8     8   8  5000U   79   M      36          1\n",
      "505       87    5    12     8   8  5000U   79   M      41          1\n",
      "506       87    6    16     8   8  5000U   79   M      43          1\n",
      "patient 88\n",
      "group      patient  obs  week  site  id    treat  age sex  twstrs  treatment\n",
      "507       88    1     0     8   9  Placebo   63   M      30          0\n",
      "508       88    2     2     8   9  Placebo   63   M      22          0\n",
      "509       88    3     4     8   9  Placebo   63   M      21          0\n",
      "510       88    4     8     8   9  Placebo   63   M      25          0\n",
      "511       88    5    12     8   9  Placebo   63   M      26          0\n",
      "512       88    6    16     8   9  Placebo   63   M      33          0\n",
      "patient 89\n",
      "group      patient  obs  week  site  id    treat  age sex  twstrs  treatment\n",
      "513       89    1     0     8  10  Placebo   63   F      42          0\n",
      "514       89    2     2     8  10  Placebo   63   F      46          0\n",
      "515       89    3     4     8  10  Placebo   63   F      41          0\n",
      "516       89    4     8     8  10  Placebo   63   F      43          0\n",
      "517       89    5    12     8  10  Placebo   63   F      49          0\n",
      "518       89    6    16     8  10  Placebo   63   F      54          0\n",
      "patient 90\n",
      "group      patient  obs  week  site  id   treat  age sex  twstrs  treatment\n",
      "519       90    1     0     8  11  10000U   34   F      49          2\n",
      "520       90    2     2     8  11  10000U   34   F      25          2\n",
      "521       90    3     4     8  11  10000U   34   F      30          2\n",
      "522       90    4     8     8  11  10000U   34   F      49          2\n",
      "523       90    5    12     8  11  10000U   34   F      55          2\n",
      "524       90    6    16     8  11  10000U   34   F      58          2\n",
      "patient 91\n",
      "group      patient  obs  week  site  id  treat  age sex  twstrs  treatment\n",
      "525       91    1     0     8  12  5000U   42   M      58          1\n",
      "526       91    2     2     8  12  5000U   42   M      46          1\n",
      "527       91    3     4     8  12  5000U   42   M      46          1\n",
      "528       91    4     8     8  12  5000U   42   M      50          1\n",
      "529       91    5    12     8  12  5000U   42   M      56          1\n",
      "530       91    6    16     8  12  5000U   42   M      60          1\n",
      "patient 92\n",
      "group      patient  obs  week  site  id    treat  age sex  twstrs  treatment\n",
      "531       92    1     0     8  13  Placebo   57   M      26          0\n",
      "532       92    2     2     8  13  Placebo   57   M      26          0\n",
      "533       92    3     4     8  13  Placebo   57   M      27          0\n",
      "534       92    4     8     8  13  Placebo   57   M      22          0\n",
      "535       92    5    12     8  13  Placebo   57   M      38          0\n",
      "536       92    6    16     8  13  Placebo   57   M      35          0\n",
      "patient 93\n",
      "group      patient  obs  week  site  id  treat  age sex  twstrs  treatment\n",
      "537       93    1     0     8  14  5000U   68   M      37          1\n",
      "538       93    3     4     8  14  5000U   68   M      23          1\n",
      "539       93    4     8     8  14  5000U   68   M      18          1\n",
      "540       93    5    12     8  14  5000U   68   M      34          1\n",
      "541       93    6    16     8  14  5000U   68   M      36          1\n",
      "patient 94\n",
      "group      patient  obs  week  site  id   treat  age sex  twstrs  treatment\n",
      "542       94    1     0     8  15  10000U   51   M      40          2\n",
      "543       94    2     2     8  15  10000U   51   M      24          2\n",
      "544       94    3     4     8  15  10000U   51   M      25          2\n",
      "545       94    4     8     8  15  10000U   51   M      37          2\n",
      "546       94    6    16     8  15  10000U   51   M      38          2\n",
      "patient 95\n",
      "group      patient  obs  week  site  id  treat  age sex  twstrs  treatment\n",
      "547       95    1     0     8  16  5000U   51   F      33          1\n",
      "548       95    2     2     8  16  5000U   51   F      10          1\n",
      "549       95    3     4     8  16  5000U   51   F      13          1\n",
      "550       95    4     8     8  16  5000U   51   F      16          1\n",
      "551       95    5    12     8  16  5000U   51   F      32          1\n",
      "552       95    6    16     8  16  5000U   51   F      16          1\n",
      "patient 96\n",
      "group      patient  obs  week  site  id   treat  age sex  twstrs  treatment\n",
      "553       96    1     0     8  17  10000U   61   F      41          2\n",
      "554       96    2     2     8  17  10000U   61   F      50          2\n",
      "555       96    3     4     8  17  10000U   61   F      22          2\n",
      "556       96    4     8     8  17  10000U   61   F      28          2\n",
      "557       96    5    12     8  17  10000U   61   F      34          2\n",
      "558       96    6    16     8  17  10000U   61   F      36          2\n",
      "patient 97\n",
      "group      patient  obs  week  site  id    treat  age sex  twstrs  treatment\n",
      "559       97    1     0     8  18  Placebo   42   M      46          0\n",
      "560       97    3     4     8  18  Placebo   42   M      41          0\n",
      "561       97    4     8     8  18  Placebo   42   M      41          0\n",
      "562       97    5    12     8  18  Placebo   42   M      58          0\n",
      "563       97    6    16     8  18  Placebo   42   M      53          0\n",
      "patient 98\n",
      "group      patient  obs  week  site  id   treat  age sex  twstrs  treatment\n",
      "564       98    1     0     8  19  10000U   73   F      40          2\n",
      "565       98    2     2     8  19  10000U   73   F      28          2\n",
      "566       98    3     4     8  19  10000U   73   F      29          2\n",
      "567       98    4     8     8  19  10000U   73   F      30          2\n",
      "568       98    5    12     8  19  10000U   73   F      37          2\n",
      "569       98    6    16     8  19  10000U   73   F      44          2\n",
      "patient 99\n",
      "group      patient  obs  week  site  id   treat  age sex  twstrs  treatment\n",
      "570       99    1     0     9   1  10000U   57   M      40          2\n",
      "571       99    2     2     9   1  10000U   57   M      16          2\n",
      "572       99    3     4     9   1  10000U   57   M      18          2\n",
      "573       99    4     8     9   1  10000U   57   M      25          2\n",
      "574       99    5    12     9   1  10000U   57   M      33          2\n",
      "575       99    6    16     9   1  10000U   57   M      48          2\n",
      "patient 100\n",
      "group      patient  obs  week  site  id    treat  age sex  twstrs  treatment\n",
      "576      100    1     0     9   2  Placebo   59   M      61          0\n",
      "577      100    2     2     9   2  Placebo   59   M      52          0\n",
      "578      100    3     4     9   2  Placebo   59   M      61          0\n",
      "579      100    4     8     9   2  Placebo   59   M      68          0\n",
      "580      100    5    12     9   2  Placebo   59   M      59          0\n",
      "581      100    6    16     9   2  Placebo   59   M      71          0\n",
      "patient 101\n",
      "group      patient  obs  week  site  id  treat  age sex  twstrs  treatment\n",
      "582      101    1     0     9   3  5000U   57   M      35          1\n",
      "583      101    2     2     9   3  5000U   57   M      21          1\n",
      "584      101    3     4     9   3  5000U   57   M      29          1\n",
      "585      101    4     8     9   3  5000U   57   M      30          1\n",
      "586      101    5    12     9   3  5000U   57   M      35          1\n",
      "587      101    6    16     9   3  5000U   57   M      48          1\n",
      "patient 102\n",
      "group      patient  obs  week  site  id    treat  age sex  twstrs  treatment\n",
      "588      102    1     0     9   4  Placebo   68   F      58          0\n",
      "589      102    2     2     9   4  Placebo   68   F      38          0\n",
      "590      102    3     4     9   4  Placebo   68   F      50          0\n",
      "591      102    4     8     9   4  Placebo   68   F      53          0\n",
      "592      102    5    12     9   4  Placebo   68   F      47          0\n",
      "593      102    6    16     9   4  Placebo   68   F      59          0\n",
      "patient 103\n",
      "group      patient  obs  week  site  id  treat  age sex  twstrs  treatment\n",
      "594      103    1     0     9   5  5000U   55   F      49          1\n",
      "595      103    2     2     9   5  5000U   55   F      45          1\n",
      "596      103    3     4     9   5  5000U   55   F      36          1\n",
      "597      103    5    12     9   5  5000U   55   F      40          1\n",
      "598      103    6    16     9   5  5000U   55   F      52          1\n",
      "patient 104\n",
      "group      patient  obs  week  site  id   treat  age sex  twstrs  treatment\n",
      "599      104    1     0     9   6  10000U   46   F      52          2\n",
      "600      104    2     2     9   6  10000U   46   F      46          2\n",
      "601      104    3     4     9   6  10000U   46   F      36          2\n",
      "602      104    5    12     9   6  10000U   46   F      45          2\n",
      "603      104    6    16     9   6  10000U   46   F      54          2\n",
      "patient 105\n",
      "group      patient  obs  week  site  id    treat  age sex  twstrs  treatment\n",
      "604      105    1     0     9   7  Placebo   79   F      45          0\n",
      "605      105    2     2     9   7  Placebo   79   F      46          0\n",
      "606      105    3     4     9   7  Placebo   79   F      33          0\n",
      "607      105    4     8     9   7  Placebo   79   F      44          0\n",
      "608      105    5    12     9   7  Placebo   79   F      46          0\n",
      "609      105    6    16     9   7  Placebo   79   F      48          0\n",
      "patient 106\n",
      "group      patient  obs  week  site  id  treat  age sex  twstrs  treatment\n",
      "610      106    1     0     9   8  5000U   43   M      67          1\n",
      "611      106    2     2     9   8  5000U   43   M      63          1\n",
      "612      106    3     4     9   8  5000U   43   M      71          1\n",
      "613      106    4     8     9   8  5000U   43   M      66          1\n",
      "614      106    5    12     9   8  5000U   43   M      68          1\n",
      "615      106    6    16     9   8  5000U   43   M      71          1\n",
      "patient 107\n",
      "group      patient  obs  week  site  id   treat  age sex  twstrs  treatment\n",
      "616      107    1     0     9   9  10000U   50   M      57          2\n",
      "617      107    3     4     9   9  10000U   50   M      36          2\n",
      "618      107    4     8     9   9  10000U   50   M      23          2\n",
      "619      107    6    16     9   9  10000U   50   M      52          2\n",
      "patient 108\n",
      "group      patient  obs  week  site  id   treat  age sex  twstrs  treatment\n",
      "620      108    1     0     9  10  10000U   39   F      63          2\n",
      "621      108    2     2     9  10  10000U   39   F      51          2\n",
      "622      108    3     4     9  10  10000U   39   F      46          2\n",
      "623      108    4     8     9  10  10000U   39   F      50          2\n",
      "624      108    5    12     9  10  10000U   39   F      50          2\n",
      "625      108    6    16     9  10  10000U   39   F      54          2\n",
      "patient 109\n",
      "group      patient  obs  week  site  id  treat  age sex  twstrs  treatment\n",
      "626      109    1     0     9  11  5000U   57   M      53          1\n",
      "627      109    2     2     9  11  5000U   57   M      38          1\n",
      "628      109    4     8     9  11  5000U   57   M      33          1\n",
      "629      109    5    12     9  11  5000U   57   M      36          1\n",
      "630      109    6    16     9  11  5000U   57   M      51          1\n"
     ]
    }
   ],
   "source": [
    "for patient, group in cdystonia_grouped:\n",
    "    print('patient', patient)\n",
    "    print('group', group)"
   ]
  },
  {
   "cell_type": "markdown",
   "metadata": {},
   "source": [
    "A common data analysis procedure is the **split-apply-combine** operation, which groups subsets of data together, applies a function to each of the groups, then recombines them into a new data table.\n",
    "\n",
    "For example, we may want to aggregate our data with with some function.\n",
    "\n",
    "![split-apply-combine](http://f.cl.ly/items/0s0Z252j0X0c3k3P1M47/Screen%20Shot%202013-06-02%20at%203.04.04%20PM.png)\n",
    "\n",
    "<div align=\"right\">*(figure taken from \"Python for Data Analysis\", p.251)*</div>"
   ]
  },
  {
   "cell_type": "markdown",
   "metadata": {},
   "source": [
    "We can aggregate in Pandas using the `aggregate` (or `agg`, for short) method:"
   ]
  },
  {
   "cell_type": "code",
   "execution_count": 114,
   "metadata": {
    "ExecuteTime": {
     "end_time": "2023-10-02T16:30:50.450492Z",
     "start_time": "2023-10-02T16:30:50.322192300Z"
    }
   },
   "outputs": [
    {
     "data": {
      "text/plain": "         patient  obs  week  site   id   age     twstrs  treatment\npatient                                                           \n1            1.0  3.5   7.0   1.0  1.0  65.0  33.000000        1.0\n2            2.0  3.5   7.0   1.0  2.0  70.0  47.666667        2.0\n3            3.0  3.5   7.0   1.0  3.0  64.0  30.500000        1.0\n4            4.0  2.5   3.5   1.0  4.0  59.0  60.000000        0.0\n5            5.0  3.5   7.0   1.0  5.0  76.0  46.166667        2.0",
      "text/html": "<div>\n<style scoped>\n    .dataframe tbody tr th:only-of-type {\n        vertical-align: middle;\n    }\n\n    .dataframe tbody tr th {\n        vertical-align: top;\n    }\n\n    .dataframe thead th {\n        text-align: right;\n    }\n</style>\n<table border=\"1\" class=\"dataframe\">\n  <thead>\n    <tr style=\"text-align: right;\">\n      <th></th>\n      <th>patient</th>\n      <th>obs</th>\n      <th>week</th>\n      <th>site</th>\n      <th>id</th>\n      <th>age</th>\n      <th>twstrs</th>\n      <th>treatment</th>\n    </tr>\n    <tr>\n      <th>patient</th>\n      <th></th>\n      <th></th>\n      <th></th>\n      <th></th>\n      <th></th>\n      <th></th>\n      <th></th>\n      <th></th>\n    </tr>\n  </thead>\n  <tbody>\n    <tr>\n      <th>1</th>\n      <td>1.0</td>\n      <td>3.5</td>\n      <td>7.0</td>\n      <td>1.0</td>\n      <td>1.0</td>\n      <td>65.0</td>\n      <td>33.000000</td>\n      <td>1.0</td>\n    </tr>\n    <tr>\n      <th>2</th>\n      <td>2.0</td>\n      <td>3.5</td>\n      <td>7.0</td>\n      <td>1.0</td>\n      <td>2.0</td>\n      <td>70.0</td>\n      <td>47.666667</td>\n      <td>2.0</td>\n    </tr>\n    <tr>\n      <th>3</th>\n      <td>3.0</td>\n      <td>3.5</td>\n      <td>7.0</td>\n      <td>1.0</td>\n      <td>3.0</td>\n      <td>64.0</td>\n      <td>30.500000</td>\n      <td>1.0</td>\n    </tr>\n    <tr>\n      <th>4</th>\n      <td>4.0</td>\n      <td>2.5</td>\n      <td>3.5</td>\n      <td>1.0</td>\n      <td>4.0</td>\n      <td>59.0</td>\n      <td>60.000000</td>\n      <td>0.0</td>\n    </tr>\n    <tr>\n      <th>5</th>\n      <td>5.0</td>\n      <td>3.5</td>\n      <td>7.0</td>\n      <td>1.0</td>\n      <td>5.0</td>\n      <td>76.0</td>\n      <td>46.166667</td>\n      <td>2.0</td>\n    </tr>\n  </tbody>\n</table>\n</div>"
     },
     "execution_count": 114,
     "metadata": {},
     "output_type": "execute_result"
    }
   ],
   "source": [
    "cdystonia_grouped = cdystonia.drop(columns=['treat', 'sex']).groupby(cdystonia.patient)\n",
    "cdystonia_grouped.agg('mean').head()\n",
    "cdystonia_grouped.mean().head() #equivalent "
   ]
  },
  {
   "cell_type": "markdown",
   "metadata": {},
   "source": [
    "Since it does not make sense to aggregate string variables, we dropped the `treat` and `sex` variables and they are <b>not included in the aggregation</b>.\n",
    "\n",
    "Some aggregation functions are so common that Pandas has a convenience method for them, such as `mean`:"
   ]
  },
  {
   "cell_type": "markdown",
   "metadata": {},
   "source": [
    "The `add_prefix` and `add_suffix` methods can be used to give the columns of the resulting table labels that reflect the transformation:"
   ]
  },
  {
   "cell_type": "code",
   "execution_count": 115,
   "metadata": {
    "ExecuteTime": {
     "end_time": "2023-10-02T16:31:47.140274600Z",
     "start_time": "2023-10-02T16:31:47.032536800Z"
    }
   },
   "outputs": [
    {
     "data": {
      "text/plain": "         patient_mean  obs_mean  week_mean  site_mean  id_mean  age_mean  \\\npatient                                                                    \n1                 1.0       3.5        7.0        1.0      1.0      65.0   \n2                 2.0       3.5        7.0        1.0      2.0      70.0   \n3                 3.0       3.5        7.0        1.0      3.0      64.0   \n4                 4.0       2.5        3.5        1.0      4.0      59.0   \n5                 5.0       3.5        7.0        1.0      5.0      76.0   \n\n         twstrs_mean  treatment_mean  \npatient                               \n1          33.000000             1.0  \n2          47.666667             2.0  \n3          30.500000             1.0  \n4          60.000000             0.0  \n5          46.166667             2.0  ",
      "text/html": "<div>\n<style scoped>\n    .dataframe tbody tr th:only-of-type {\n        vertical-align: middle;\n    }\n\n    .dataframe tbody tr th {\n        vertical-align: top;\n    }\n\n    .dataframe thead th {\n        text-align: right;\n    }\n</style>\n<table border=\"1\" class=\"dataframe\">\n  <thead>\n    <tr style=\"text-align: right;\">\n      <th></th>\n      <th>patient_mean</th>\n      <th>obs_mean</th>\n      <th>week_mean</th>\n      <th>site_mean</th>\n      <th>id_mean</th>\n      <th>age_mean</th>\n      <th>twstrs_mean</th>\n      <th>treatment_mean</th>\n    </tr>\n    <tr>\n      <th>patient</th>\n      <th></th>\n      <th></th>\n      <th></th>\n      <th></th>\n      <th></th>\n      <th></th>\n      <th></th>\n      <th></th>\n    </tr>\n  </thead>\n  <tbody>\n    <tr>\n      <th>1</th>\n      <td>1.0</td>\n      <td>3.5</td>\n      <td>7.0</td>\n      <td>1.0</td>\n      <td>1.0</td>\n      <td>65.0</td>\n      <td>33.000000</td>\n      <td>1.0</td>\n    </tr>\n    <tr>\n      <th>2</th>\n      <td>2.0</td>\n      <td>3.5</td>\n      <td>7.0</td>\n      <td>1.0</td>\n      <td>2.0</td>\n      <td>70.0</td>\n      <td>47.666667</td>\n      <td>2.0</td>\n    </tr>\n    <tr>\n      <th>3</th>\n      <td>3.0</td>\n      <td>3.5</td>\n      <td>7.0</td>\n      <td>1.0</td>\n      <td>3.0</td>\n      <td>64.0</td>\n      <td>30.500000</td>\n      <td>1.0</td>\n    </tr>\n    <tr>\n      <th>4</th>\n      <td>4.0</td>\n      <td>2.5</td>\n      <td>3.5</td>\n      <td>1.0</td>\n      <td>4.0</td>\n      <td>59.0</td>\n      <td>60.000000</td>\n      <td>0.0</td>\n    </tr>\n    <tr>\n      <th>5</th>\n      <td>5.0</td>\n      <td>3.5</td>\n      <td>7.0</td>\n      <td>1.0</td>\n      <td>5.0</td>\n      <td>76.0</td>\n      <td>46.166667</td>\n      <td>2.0</td>\n    </tr>\n  </tbody>\n</table>\n</div>"
     },
     "execution_count": 115,
     "metadata": {},
     "output_type": "execute_result"
    }
   ],
   "source": [
    "cdystonia_grouped.mean().add_suffix('_mean').head()"
   ]
  },
  {
   "cell_type": "code",
   "execution_count": 116,
   "metadata": {
    "ExecuteTime": {
     "end_time": "2023-10-02T16:33:27.298735200Z",
     "start_time": "2023-10-02T16:33:27.210447900Z"
    }
   },
   "outputs": [
    {
     "data": {
      "text/plain": "patient\n1     34.0\n2     50.5\n3     30.5\n4     61.5\n5     48.5\n6     48.0\n7     42.0\n8     32.5\n9     35.5\n10    20.5\nName: twstrs, dtype: float64"
     },
     "execution_count": 116,
     "metadata": {},
     "output_type": "execute_result"
    }
   ],
   "source": [
    "# The median of the `twstrs` variable\n",
    "cdystonia_grouped['twstrs'].quantile(0.5).head(10)"
   ]
  },
  {
   "cell_type": "markdown",
   "metadata": {},
   "source": [
    "If we wish, we can easily aggregate according to multiple keys:"
   ]
  },
  {
   "cell_type": "code",
   "execution_count": 117,
   "metadata": {
    "ExecuteTime": {
     "end_time": "2023-10-02T16:33:43.800292200Z",
     "start_time": "2023-10-02T16:33:43.687312300Z"
    }
   },
   "outputs": [
    {
     "data": {
      "text/plain": "           patient  obs   id        age     twstrs  treatment\nweek site                                                    \n0    1         6.5  1.0  6.5  59.000000  43.083333   1.000000\n     2        19.5  1.0  7.5  53.928571  51.857143   0.928571\n     3        32.5  1.0  6.5  51.500000  38.750000   1.000000\n     4        42.5  1.0  4.5  59.250000  48.125000   1.000000\n     5        49.5  1.0  3.5  51.833333  49.333333   1.000000",
      "text/html": "<div>\n<style scoped>\n    .dataframe tbody tr th:only-of-type {\n        vertical-align: middle;\n    }\n\n    .dataframe tbody tr th {\n        vertical-align: top;\n    }\n\n    .dataframe thead th {\n        text-align: right;\n    }\n</style>\n<table border=\"1\" class=\"dataframe\">\n  <thead>\n    <tr style=\"text-align: right;\">\n      <th></th>\n      <th></th>\n      <th>patient</th>\n      <th>obs</th>\n      <th>id</th>\n      <th>age</th>\n      <th>twstrs</th>\n      <th>treatment</th>\n    </tr>\n    <tr>\n      <th>week</th>\n      <th>site</th>\n      <th></th>\n      <th></th>\n      <th></th>\n      <th></th>\n      <th></th>\n      <th></th>\n    </tr>\n  </thead>\n  <tbody>\n    <tr>\n      <th rowspan=\"5\" valign=\"top\">0</th>\n      <th>1</th>\n      <td>6.5</td>\n      <td>1.0</td>\n      <td>6.5</td>\n      <td>59.000000</td>\n      <td>43.083333</td>\n      <td>1.000000</td>\n    </tr>\n    <tr>\n      <th>2</th>\n      <td>19.5</td>\n      <td>1.0</td>\n      <td>7.5</td>\n      <td>53.928571</td>\n      <td>51.857143</td>\n      <td>0.928571</td>\n    </tr>\n    <tr>\n      <th>3</th>\n      <td>32.5</td>\n      <td>1.0</td>\n      <td>6.5</td>\n      <td>51.500000</td>\n      <td>38.750000</td>\n      <td>1.000000</td>\n    </tr>\n    <tr>\n      <th>4</th>\n      <td>42.5</td>\n      <td>1.0</td>\n      <td>4.5</td>\n      <td>59.250000</td>\n      <td>48.125000</td>\n      <td>1.000000</td>\n    </tr>\n    <tr>\n      <th>5</th>\n      <td>49.5</td>\n      <td>1.0</td>\n      <td>3.5</td>\n      <td>51.833333</td>\n      <td>49.333333</td>\n      <td>1.000000</td>\n    </tr>\n  </tbody>\n</table>\n</div>"
     },
     "execution_count": 117,
     "metadata": {},
     "output_type": "execute_result"
    }
   ],
   "source": [
    "cdystonia.drop(columns=['treat', 'sex']).groupby(['week','site']).mean().head()"
   ]
  },
  {
   "cell_type": "markdown",
   "metadata": {},
   "source": [
    "### Apply\n",
    "\n",
    "We can generalize the split-apply-combine methodology by using `apply` function. This allows us to invoke any function we wish on a grouped dataset and recombine them into a DataFrame."
   ]
  },
  {
   "cell_type": "markdown",
   "metadata": {},
   "source": [
    "The function below takes a DataFrame and a column name, sorts by the column, and takes the `n` largest values of that column. We can use this with `apply` to return the largest values from every group in a DataFrame in a single call. "
   ]
  },
  {
   "cell_type": "code",
   "execution_count": 118,
   "metadata": {
    "ExecuteTime": {
     "end_time": "2023-10-02T16:34:48.622076900Z",
     "start_time": "2023-10-02T16:34:48.557260600Z"
    }
   },
   "outputs": [],
   "source": [
    "def top(df, column, n=5):\n",
    "    return df.sort_values(by=column, ascending=False)[:n]"
   ]
  },
  {
   "cell_type": "markdown",
   "metadata": {},
   "source": [
    "To see this in action, consider the vessel transit segments dataset (which we merged with the vessel information to yield `segments_merged`). Say we wanted to return the 3 longest segments travelled by each ship:"
   ]
  },
  {
   "cell_type": "code",
   "execution_count": 120,
   "metadata": {
    "ExecuteTime": {
     "end_time": "2023-10-02T16:37:09.725683800Z",
     "start_time": "2023-10-02T16:37:09.661662Z"
    }
   },
   "outputs": [
    {
     "data": {
      "text/plain": "                                                     names  seg_length\nmmsi                                                                  \n1    6   Bil Holman Dredge/Dredge Capt Frank/Emo/Offsho...        76.0\n     5   Bil Holman Dredge/Dredge Capt Frank/Emo/Offsho...        17.4\n     7   Bil Holman Dredge/Dredge Capt Frank/Emo/Offsho...        13.7\n9    15                         000000009/Raven/Shearwater        47.2\n     14                         000000009/Raven/Shearwater        31.4\n     13                         000000009/Raven/Shearwater        19.3\n21   16                                      Us Gov Vessel        48.7\n     25                                      Us Gov Vessel        25.3\n     30                                      Us Gov Vessel        21.7\n74   35                                  Mcfaul/Sarah Bell         7.4\n     34                                  Mcfaul/Sarah Bell         1.4\n103  37           Ron G/Us Navy Warship 103/Us Warship 103        87.5\n     41           Ron G/Us Navy Warship 103/Us Warship 103        62.6\n     43           Ron G/Us Navy Warship 103/Us Warship 103        59.1\n310  51                                           Arabella        77.4",
      "text/html": "<div>\n<style scoped>\n    .dataframe tbody tr th:only-of-type {\n        vertical-align: middle;\n    }\n\n    .dataframe tbody tr th {\n        vertical-align: top;\n    }\n\n    .dataframe thead th {\n        text-align: right;\n    }\n</style>\n<table border=\"1\" class=\"dataframe\">\n  <thead>\n    <tr style=\"text-align: right;\">\n      <th></th>\n      <th></th>\n      <th>names</th>\n      <th>seg_length</th>\n    </tr>\n    <tr>\n      <th>mmsi</th>\n      <th></th>\n      <th></th>\n      <th></th>\n    </tr>\n  </thead>\n  <tbody>\n    <tr>\n      <th rowspan=\"3\" valign=\"top\">1</th>\n      <th>6</th>\n      <td>Bil Holman Dredge/Dredge Capt Frank/Emo/Offsho...</td>\n      <td>76.0</td>\n    </tr>\n    <tr>\n      <th>5</th>\n      <td>Bil Holman Dredge/Dredge Capt Frank/Emo/Offsho...</td>\n      <td>17.4</td>\n    </tr>\n    <tr>\n      <th>7</th>\n      <td>Bil Holman Dredge/Dredge Capt Frank/Emo/Offsho...</td>\n      <td>13.7</td>\n    </tr>\n    <tr>\n      <th rowspan=\"3\" valign=\"top\">9</th>\n      <th>15</th>\n      <td>000000009/Raven/Shearwater</td>\n      <td>47.2</td>\n    </tr>\n    <tr>\n      <th>14</th>\n      <td>000000009/Raven/Shearwater</td>\n      <td>31.4</td>\n    </tr>\n    <tr>\n      <th>13</th>\n      <td>000000009/Raven/Shearwater</td>\n      <td>19.3</td>\n    </tr>\n    <tr>\n      <th rowspan=\"3\" valign=\"top\">21</th>\n      <th>16</th>\n      <td>Us Gov Vessel</td>\n      <td>48.7</td>\n    </tr>\n    <tr>\n      <th>25</th>\n      <td>Us Gov Vessel</td>\n      <td>25.3</td>\n    </tr>\n    <tr>\n      <th>30</th>\n      <td>Us Gov Vessel</td>\n      <td>21.7</td>\n    </tr>\n    <tr>\n      <th rowspan=\"2\" valign=\"top\">74</th>\n      <th>35</th>\n      <td>Mcfaul/Sarah Bell</td>\n      <td>7.4</td>\n    </tr>\n    <tr>\n      <th>34</th>\n      <td>Mcfaul/Sarah Bell</td>\n      <td>1.4</td>\n    </tr>\n    <tr>\n      <th rowspan=\"3\" valign=\"top\">103</th>\n      <th>37</th>\n      <td>Ron G/Us Navy Warship 103/Us Warship 103</td>\n      <td>87.5</td>\n    </tr>\n    <tr>\n      <th>41</th>\n      <td>Ron G/Us Navy Warship 103/Us Warship 103</td>\n      <td>62.6</td>\n    </tr>\n    <tr>\n      <th>43</th>\n      <td>Ron G/Us Navy Warship 103/Us Warship 103</td>\n      <td>59.1</td>\n    </tr>\n    <tr>\n      <th>310</th>\n      <th>51</th>\n      <td>Arabella</td>\n      <td>77.4</td>\n    </tr>\n  </tbody>\n</table>\n</div>"
     },
     "execution_count": 120,
     "metadata": {},
     "output_type": "execute_result"
    }
   ],
   "source": [
    "top3segments = segments_merged.groupby('mmsi').apply(top, column='seg_length', n=3)[['names', 'seg_length']]\n",
    "top3segments.head(15)"
   ]
  },
  {
   "cell_type": "markdown",
   "metadata": {},
   "source": [
    "Notice that additional arguments for the applied function can be passed via `apply` after the function name. It assumes that the DataFrame is the first argument."
   ]
  },
  {
   "cell_type": "markdown",
   "metadata": {},
   "source": [
    "## References\n",
    "\n",
    "[Python for Data Analysis](http://shop.oreilly.com/product/0636920023784.do) Wes McKinney"
   ]
  },
  {
   "cell_type": "code",
   "execution_count": null,
   "outputs": [],
   "source": [],
   "metadata": {
    "collapsed": false
   }
  }
 ],
 "metadata": {
  "anaconda-cloud": {},
  "kernelspec": {
   "display_name": "Python 3 (ipykernel)",
   "language": "python",
   "name": "python3"
  },
  "language_info": {
   "codemirror_mode": {
    "name": "ipython",
    "version": 3
   },
   "file_extension": ".py",
   "mimetype": "text/x-python",
   "name": "python",
   "nbconvert_exporter": "python",
   "pygments_lexer": "ipython3",
   "version": "3.9.18"
  },
  "nav_menu": {},
  "toc": {
   "base_numbering": 1,
   "nav_menu": {},
   "number_sections": false,
   "sideBar": false,
   "skip_h1_title": false,
   "title_cell": "Table of Contents",
   "title_sidebar": "Contents",
   "toc_cell": true,
   "toc_position": {},
   "toc_section_display": "block",
   "toc_window_display": false
  },
  "varInspector": {
   "cols": {
    "lenName": 16,
    "lenType": 16,
    "lenVar": 40
   },
   "kernels_config": {
    "python": {
     "delete_cmd_postfix": "",
     "delete_cmd_prefix": "del ",
     "library": "var_list.py",
     "varRefreshCmd": "print(var_dic_list())"
    },
    "r": {
     "delete_cmd_postfix": ") ",
     "delete_cmd_prefix": "rm(",
     "library": "var_list.r",
     "varRefreshCmd": "cat(var_dic_list()) "
    }
   },
   "types_to_exclude": [
    "module",
    "function",
    "builtin_function_or_method",
    "instance",
    "_Feature"
   ],
   "window_display": false
  }
 },
 "nbformat": 4,
 "nbformat_minor": 4
}

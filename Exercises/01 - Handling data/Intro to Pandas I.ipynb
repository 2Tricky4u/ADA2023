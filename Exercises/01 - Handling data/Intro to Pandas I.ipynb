{
 "cells": [
  {
   "cell_type": "markdown",
   "metadata": {
    "toc": "true"
   },
   "source": [
    "<h1>Table of Contents<span class=\"tocSkip\"></span></h1>\n",
    "<div class=\"toc\"><ul class=\"toc-item\"><li><span><a href=\"#Introduction-to-Pandas\" data-toc-modified-id=\"Introduction-to-Pandas-1\">Introduction to Pandas</a></span><ul class=\"toc-item\"><li><span><a href=\"#Pandas-Data-Structures\" data-toc-modified-id=\"Pandas-Data-Structures-1.1\">Pandas Data Structures</a></span><ul class=\"toc-item\"><li><span><a href=\"#Series\" data-toc-modified-id=\"Series-1.1.1\">Series</a></span></li><li><span><a href=\"#DataFrame\" data-toc-modified-id=\"DataFrame-1.1.2\">DataFrame</a></span></li><li><span><a href=\"#Exercise-1\" data-toc-modified-id=\"Exercise-1-1.1.3\">Exercise 1</a></span></li><li><span><a href=\"#Exercise-2\" data-toc-modified-id=\"Exercise-2-1.1.4\">Exercise 2</a></span></li></ul></li><li><span><a href=\"#Importing-data\" data-toc-modified-id=\"Importing-data-1.2\">Importing data</a></span><ul class=\"toc-item\"><li><ul class=\"toc-item\"><li><span><a href=\"#Missing-Values\" data-toc-modified-id=\"Missing-Values-1.2.0.1\">Missing Values</a></span></li><li><span><a href=\"#Microsoft-Excel\" data-toc-modified-id=\"Microsoft-Excel-1.2.0.2\">Microsoft Excel</a></span></li></ul></li></ul></li><li><span><a href=\"#Indexing-and-Selection\" data-toc-modified-id=\"Indexing-and-Selection-1.3\">Indexing and Selection</a></span><ul class=\"toc-item\"><li><span><a href=\"#Exercise-3\" data-toc-modified-id=\"Exercise-3-1.3.1\">Exercise 3</a></span></li><li><span><a href=\"#Exercise-4\" data-toc-modified-id=\"Exercise-4-1.3.2\">Exercise 4</a></span></li></ul></li><li><span><a href=\"#Hierarchical-indexing\" data-toc-modified-id=\"Hierarchical-indexing-1.4\">Hierarchical indexing</a></span></li><li><span><a href=\"#Operations\" data-toc-modified-id=\"Operations-1.5\">Operations</a></span></li><li><span><a href=\"#Sorting\" data-toc-modified-id=\"Sorting-1.6\">Sorting</a></span><ul class=\"toc-item\"><li><span><a href=\"#Exercise-5\" data-toc-modified-id=\"Exercise-5-1.6.1\">Exercise 5</a></span></li></ul></li><li><span><a href=\"#Missing-data\" data-toc-modified-id=\"Missing-data-1.7\">Missing data</a></span></li><li><span><a href=\"#Data-summarization\" data-toc-modified-id=\"Data-summarization-1.8\">Data summarization</a></span></li><li><span><a href=\"#Plotting\" data-toc-modified-id=\"Plotting-1.9\">Plotting</a></span></li><li><span><a href=\"#Writing-Data-to-Files\" data-toc-modified-id=\"Writing-Data-to-Files-1.10\">Writing Data to Files</a></span></li><li><span><a href=\"#References\" data-toc-modified-id=\"References-1.11\">References</a></span></li></ul></li></ul></div>"
   ]
  },
  {
   "cell_type": "markdown",
   "metadata": {},
   "source": [
    "# Introduction to Pandas\n",
    "\n",
    "**pandas** is a Python package providing fast, flexible, and expressive data structures designed to work with *relational* or *labeled* data both. It is a fundamental high-level building block for doing practical, real world data analysis in Python. \n",
    "\n",
    "pandas is well suited for:\n",
    "\n",
    "- Tabular data with heterogeneously-typed columns, as in an SQL table or Excel spreadsheet\n",
    "- Ordered and unordered (not necessarily fixed-frequency) time series data.\n",
    "- Arbitrary matrix data (homogeneously typed or heterogeneous) with row and column labels\n",
    "- Any other form of observational / statistical data sets. The data actually need not be labeled at all to be placed into a pandas data structure\n",
    "\n",
    "\n",
    "Key features:\n",
    "    \n",
    "- Easy handling of **missing data**\n",
    "- **Size mutability**: columns can be inserted and deleted from DataFrame and higher dimensional objects\n",
    "- Automatic and explicit **data alignment**: objects can be explicitly aligned to a set of labels, or the data can be aligned automatically\n",
    "- Powerful, flexible **group by functionality** to perform split-apply-combine operations on data sets\n",
    "- Intelligent label-based **slicing, fancy indexing, and subsetting** of large data sets\n",
    "- Intuitive **merging and joining** data sets\n",
    "- Flexible **reshaping and pivoting** of data sets\n",
    "- **Hierarchical labeling** of axes\n",
    "- Robust **IO tools** for loading data from flat files, Excel files, databases, and HDF5\n",
    "- **Time series functionality**: date range generation and frequency conversion, moving window statistics, moving window linear regressions, date shifting and lagging, etc."
   ]
  },
  {
   "cell_type": "code",
   "execution_count": 61,
   "metadata": {
    "ExecuteTime": {
     "end_time": "2023-09-30T14:07:20.465775600Z",
     "start_time": "2023-09-30T14:07:17.996483300Z"
    }
   },
   "outputs": [],
   "source": [
    "import pandas as pd\n",
    "import numpy as np\n",
    "pd.options.mode.chained_assignment = None  # default='warn', Mutes warnings when copying a slice from a DataFrame."
   ]
  },
  {
   "cell_type": "markdown",
   "metadata": {},
   "source": [
    "## Pandas Data Structures"
   ]
  },
  {
   "cell_type": "markdown",
   "metadata": {},
   "source": [
    "### Series\n",
    "\n",
    "A **Series** is a single vector of data (like a NumPy 1-d array) with an *index* that labels each element in the vector."
   ]
  },
  {
   "cell_type": "code",
   "execution_count": 62,
   "metadata": {
    "ExecuteTime": {
     "end_time": "2023-09-30T14:07:22.212689200Z",
     "start_time": "2023-09-30T14:07:18.036440400Z"
    }
   },
   "outputs": [
    {
     "data": {
      "text/plain": "0     632\n1    1638\n2     569\n3     115\ndtype: int64"
     },
     "execution_count": 62,
     "metadata": {},
     "output_type": "execute_result"
    }
   ],
   "source": [
    "counts = pd.Series([632, 1638, 569, 115])\n",
    "counts"
   ]
  },
  {
   "cell_type": "markdown",
   "metadata": {},
   "source": [
    "If an <b>index</b> is not specified, a default sequence of integers is assigned as the index. A NumPy array comprises the values of the `Series`, while the index is a pandas `Index` object."
   ]
  },
  {
   "cell_type": "code",
   "execution_count": 63,
   "metadata": {
    "ExecuteTime": {
     "end_time": "2023-09-30T14:07:22.325169700Z",
     "start_time": "2023-09-30T14:07:18.068484200Z"
    }
   },
   "outputs": [
    {
     "data": {
      "text/plain": "array([ 632, 1638,  569,  115], dtype=int64)"
     },
     "execution_count": 63,
     "metadata": {},
     "output_type": "execute_result"
    }
   ],
   "source": [
    "counts.values"
   ]
  },
  {
   "cell_type": "code",
   "execution_count": 64,
   "metadata": {
    "ExecuteTime": {
     "end_time": "2023-09-30T14:07:22.325169700Z",
     "start_time": "2023-09-30T14:07:18.085186900Z"
    }
   },
   "outputs": [
    {
     "data": {
      "text/plain": "RangeIndex(start=0, stop=4, step=1)"
     },
     "execution_count": 64,
     "metadata": {},
     "output_type": "execute_result"
    }
   ],
   "source": [
    "counts.index"
   ]
  },
  {
   "cell_type": "markdown",
   "metadata": {},
   "source": [
    "We can assign meaningful labels to the index, if they are available:"
   ]
  },
  {
   "cell_type": "code",
   "execution_count": 65,
   "metadata": {
    "ExecuteTime": {
     "end_time": "2023-09-30T14:07:22.341325700Z",
     "start_time": "2023-09-30T14:07:18.093231100Z"
    }
   },
   "outputs": [
    {
     "data": {
      "text/plain": "Firmicutes         632\nProteobacteria    1638\nActinobacteria     569\nBacteroidetes      115\ndtype: int64"
     },
     "execution_count": 65,
     "metadata": {},
     "output_type": "execute_result"
    }
   ],
   "source": [
    "bacteria = pd.Series([632, 1638, 569, 115], \n",
    "    index=['Firmicutes', 'Proteobacteria', 'Actinobacteria', 'Bacteroidetes'])\n",
    "\n",
    "bacteria"
   ]
  },
  {
   "cell_type": "markdown",
   "metadata": {},
   "source": [
    "These labels can be used to refer to the values in the `Series`."
   ]
  },
  {
   "cell_type": "code",
   "execution_count": 66,
   "metadata": {
    "ExecuteTime": {
     "end_time": "2023-09-30T14:07:22.478189600Z",
     "start_time": "2023-09-30T14:07:18.117461200Z"
    }
   },
   "outputs": [
    {
     "data": {
      "text/plain": "569"
     },
     "execution_count": 66,
     "metadata": {},
     "output_type": "execute_result"
    }
   ],
   "source": [
    "bacteria['Actinobacteria'] #dictionary style"
   ]
  },
  {
   "cell_type": "code",
   "execution_count": 67,
   "metadata": {
    "ExecuteTime": {
     "end_time": "2023-09-30T14:07:22.518443400Z",
     "start_time": "2023-09-30T14:07:18.141188100Z"
    }
   },
   "outputs": [
    {
     "data": {
      "text/plain": "Proteobacteria    1638\nActinobacteria     569\ndtype: int64"
     },
     "execution_count": 67,
     "metadata": {},
     "output_type": "execute_result"
    }
   ],
   "source": [
    "bacteria[[name.endswith('bacteria') for name in bacteria.index]]"
   ]
  },
  {
   "cell_type": "code",
   "execution_count": 68,
   "metadata": {
    "ExecuteTime": {
     "end_time": "2023-09-30T14:07:22.542350Z",
     "start_time": "2023-09-30T14:07:18.149195400Z"
    }
   },
   "outputs": [
    {
     "data": {
      "text/plain": "[False, True, True, False]"
     },
     "execution_count": 68,
     "metadata": {},
     "output_type": "execute_result"
    }
   ],
   "source": [
    "[name.endswith('bacteria') for name in bacteria.index] #mask"
   ]
  },
  {
   "cell_type": "markdown",
   "metadata": {},
   "source": [
    "Notice that the indexing operation preserved the association between the values and the corresponding indices.\n",
    "\n",
    "We can still use <b>positional indexing</b> if we wish."
   ]
  },
  {
   "cell_type": "code",
   "execution_count": 69,
   "metadata": {
    "ExecuteTime": {
     "end_time": "2023-09-30T14:07:22.542350Z",
     "start_time": "2023-09-30T14:07:18.165190Z"
    }
   },
   "outputs": [
    {
     "data": {
      "text/plain": "632"
     },
     "execution_count": 69,
     "metadata": {},
     "output_type": "execute_result"
    }
   ],
   "source": [
    "bacteria[0]"
   ]
  },
  {
   "cell_type": "markdown",
   "metadata": {},
   "source": [
    "We can give both the array of values and the index <b>meaningful labels</b> themselves:"
   ]
  },
  {
   "cell_type": "code",
   "execution_count": 70,
   "metadata": {
    "ExecuteTime": {
     "end_time": "2023-09-30T14:07:22.542350Z",
     "start_time": "2023-09-30T14:07:18.180400600Z"
    }
   },
   "outputs": [
    {
     "data": {
      "text/plain": "phylum\nFirmicutes         632\nProteobacteria    1638\nActinobacteria     569\nBacteroidetes      115\nName: counts, dtype: int64"
     },
     "execution_count": 70,
     "metadata": {},
     "output_type": "execute_result"
    }
   ],
   "source": [
    "bacteria.name = 'counts'\n",
    "bacteria.index.name = 'phylum'\n",
    "bacteria"
   ]
  },
  {
   "cell_type": "markdown",
   "metadata": {},
   "source": [
    "NumPy's math functions and other operations can be applied to Series without losing the data structure."
   ]
  },
  {
   "cell_type": "code",
   "execution_count": 71,
   "metadata": {
    "ExecuteTime": {
     "end_time": "2023-09-30T14:07:22.622606700Z",
     "start_time": "2023-09-30T14:07:18.205523400Z"
    }
   },
   "outputs": [
    {
     "data": {
      "text/plain": "phylum\nFirmicutes        6.448889\nProteobacteria    7.401231\nActinobacteria    6.343880\nBacteroidetes     4.744932\nName: counts, dtype: float64"
     },
     "execution_count": 71,
     "metadata": {},
     "output_type": "execute_result"
    }
   ],
   "source": [
    "np.log(bacteria)"
   ]
  },
  {
   "cell_type": "code",
   "execution_count": 72,
   "metadata": {
    "ExecuteTime": {
     "end_time": "2023-09-30T14:07:22.622606700Z",
     "start_time": "2023-09-30T14:07:18.214760900Z"
    }
   },
   "outputs": [
    {
     "data": {
      "text/plain": "phylum\nFirmicutes        6.448889\nProteobacteria    7.401231\nActinobacteria    6.343880\nBacteroidetes     4.744932\nName: counts, dtype: float64"
     },
     "execution_count": 72,
     "metadata": {},
     "output_type": "execute_result"
    }
   ],
   "source": [
    "bacteria.apply(np.log)"
   ]
  },
  {
   "cell_type": "markdown",
   "metadata": {},
   "source": [
    "We can also filter according to the values in the `Series`:"
   ]
  },
  {
   "cell_type": "code",
   "execution_count": 73,
   "metadata": {
    "ExecuteTime": {
     "end_time": "2023-09-30T14:07:22.670833800Z",
     "start_time": "2023-09-30T14:07:18.239282700Z"
    }
   },
   "outputs": [
    {
     "data": {
      "text/plain": "phylum\nProteobacteria    1638\nName: counts, dtype: int64"
     },
     "execution_count": 73,
     "metadata": {},
     "output_type": "execute_result"
    }
   ],
   "source": [
    "bacteria[bacteria>1000]"
   ]
  },
  {
   "cell_type": "markdown",
   "metadata": {},
   "source": [
    "A `Series` can be thought of as an ordered key-value store. In fact, we can create one from a `dict`:"
   ]
  },
  {
   "cell_type": "code",
   "execution_count": 74,
   "metadata": {
    "ExecuteTime": {
     "end_time": "2023-09-30T14:07:22.719306Z",
     "start_time": "2023-09-30T14:07:18.271284600Z"
    }
   },
   "outputs": [
    {
     "data": {
      "text/plain": "Firmicutes         632\nProteobacteria    1638\nActinobacteria     569\nBacteroidetes      115\ndtype: int64"
     },
     "execution_count": 74,
     "metadata": {},
     "output_type": "execute_result"
    }
   ],
   "source": [
    "bacteria_dict = { 'Firmicutes': 632, \n",
    "                  'Proteobacteria': 1638, \n",
    "                  'Actinobacteria': 569,\n",
    "                  'Bacteroidetes': 115 }\n",
    "pd.Series(bacteria_dict)"
   ]
  },
  {
   "cell_type": "markdown",
   "metadata": {},
   "source": [
    "Notice that the `Series` is created in key-sorted order.\n",
    "\n",
    "If we pass a custom index to `Series`, it will select the corresponding values from the dict, and treat indices without corrsponding values as missing. Pandas uses the `NaN` (not a number) type for missing values."
   ]
  },
  {
   "cell_type": "code",
   "execution_count": 75,
   "metadata": {
    "ExecuteTime": {
     "end_time": "2023-09-30T14:07:22.775935400Z",
     "start_time": "2023-09-30T14:07:18.295283600Z"
    }
   },
   "outputs": [
    {
     "data": {
      "text/plain": "Cyanobacteria        NaN\nFirmicutes         632.0\nProteobacteria    1638.0\nActinobacteria     569.0\ndtype: float64"
     },
     "execution_count": 75,
     "metadata": {},
     "output_type": "execute_result"
    }
   ],
   "source": [
    "bacteria2 = pd.Series(bacteria_dict, \n",
    "                      index=['Cyanobacteria','Firmicutes',\n",
    "                             'Proteobacteria','Actinobacteria'])\n",
    "bacteria2"
   ]
  },
  {
   "cell_type": "code",
   "execution_count": null,
   "metadata": {
    "is_executing": true,
    "ExecuteTime": {
     "start_time": "2023-09-30T14:07:18.319751300Z"
    }
   },
   "outputs": [
    {
     "data": {
      "text/plain": "Cyanobacteria      True\nFirmicutes        False\nProteobacteria    False\nActinobacteria    False\ndtype: bool"
     },
     "execution_count": 76,
     "metadata": {},
     "output_type": "execute_result"
    },
    {
     "data": {
      "text/plain": "Cyanobacteria      True\nFirmicutes        False\nProteobacteria    False\nActinobacteria    False\ndtype: bool"
     },
     "execution_count": 76,
     "metadata": {},
     "output_type": "execute_result"
    }
   ],
   "source": [
    "bacteria2.isnull()"
   ]
  },
  {
   "cell_type": "markdown",
   "metadata": {},
   "source": [
    "Critically, the labels are used to **align data** when used in operations with other Series objects:"
   ]
  },
  {
   "cell_type": "code",
   "execution_count": null,
   "metadata": {
    "is_executing": true
   },
   "outputs": [],
   "source": [
    "bacteria + bacteria2"
   ]
  },
  {
   "cell_type": "markdown",
   "metadata": {},
   "source": [
    "Contrast this with NumPy arrays, where arrays of the same length will combine values <b>element-wise</b>; adding Series combined values with the same label in the resulting series. Notice also that the missing values were propagated by addition."
   ]
  },
  {
   "cell_type": "markdown",
   "metadata": {},
   "source": [
    "### DataFrame\n",
    "\n",
    "Inevitably, we want to be able to store, view and manipulate data that is *multivariate*, where for every index there are multiple fields or columns of data, often of varying data type.\n",
    "\n",
    "A `DataFrame` is a tabular data structure, encapsulating multiple series like columns in a spreadsheet. Data are stored internally as a 2-dimensional object, but the `DataFrame` allows us to represent and manipulate higher-dimensional data."
   ]
  },
  {
   "cell_type": "code",
   "execution_count": 78,
   "metadata": {
    "ExecuteTime": {
     "end_time": "2023-09-30T14:07:23.893613200Z",
     "start_time": "2023-09-30T14:07:18.908225300Z"
    }
   },
   "outputs": [
    {
     "data": {
      "text/plain": "   value  patient          phylum\n0    632        1      Firmicutes\n1   1638        1  Proteobacteria\n2    569        1  Actinobacteria\n3    115        1   Bacteroidetes\n4    433        2      Firmicutes\n5   1130        2  Proteobacteria\n6    754        2  Actinobacteria\n7    555        2   Bacteroidetes",
      "text/html": "<div>\n<style scoped>\n    .dataframe tbody tr th:only-of-type {\n        vertical-align: middle;\n    }\n\n    .dataframe tbody tr th {\n        vertical-align: top;\n    }\n\n    .dataframe thead th {\n        text-align: right;\n    }\n</style>\n<table border=\"1\" class=\"dataframe\">\n  <thead>\n    <tr style=\"text-align: right;\">\n      <th></th>\n      <th>value</th>\n      <th>patient</th>\n      <th>phylum</th>\n    </tr>\n  </thead>\n  <tbody>\n    <tr>\n      <th>0</th>\n      <td>632</td>\n      <td>1</td>\n      <td>Firmicutes</td>\n    </tr>\n    <tr>\n      <th>1</th>\n      <td>1638</td>\n      <td>1</td>\n      <td>Proteobacteria</td>\n    </tr>\n    <tr>\n      <th>2</th>\n      <td>569</td>\n      <td>1</td>\n      <td>Actinobacteria</td>\n    </tr>\n    <tr>\n      <th>3</th>\n      <td>115</td>\n      <td>1</td>\n      <td>Bacteroidetes</td>\n    </tr>\n    <tr>\n      <th>4</th>\n      <td>433</td>\n      <td>2</td>\n      <td>Firmicutes</td>\n    </tr>\n    <tr>\n      <th>5</th>\n      <td>1130</td>\n      <td>2</td>\n      <td>Proteobacteria</td>\n    </tr>\n    <tr>\n      <th>6</th>\n      <td>754</td>\n      <td>2</td>\n      <td>Actinobacteria</td>\n    </tr>\n    <tr>\n      <th>7</th>\n      <td>555</td>\n      <td>2</td>\n      <td>Bacteroidetes</td>\n    </tr>\n  </tbody>\n</table>\n</div>"
     },
     "execution_count": 78,
     "metadata": {},
     "output_type": "execute_result"
    }
   ],
   "source": [
    "data = pd.DataFrame({'value':[632, 1638, 569, 115, 433, 1130, 754, 555],\n",
    "                     'patient':[1, 1, 1, 1, 2, 2, 2, 2],\n",
    "                     'phylum':['Firmicutes', 'Proteobacteria', 'Actinobacteria', \n",
    "    'Bacteroidetes', 'Firmicutes', 'Proteobacteria', 'Actinobacteria', 'Bacteroidetes']})\n",
    "data"
   ]
  },
  {
   "cell_type": "markdown",
   "metadata": {},
   "source": [
    "Notice the `DataFrame` is sorted by column name. We can change the order by indexing them in the order we desire:"
   ]
  },
  {
   "cell_type": "code",
   "execution_count": 79,
   "metadata": {
    "ExecuteTime": {
     "end_time": "2023-09-30T14:07:23.917577200Z",
     "start_time": "2023-09-30T14:07:18.916377500Z"
    }
   },
   "outputs": [
    {
     "data": {
      "text/plain": "           phylum  value  patient\n0      Firmicutes    632        1\n1  Proteobacteria   1638        1\n2  Actinobacteria    569        1\n3   Bacteroidetes    115        1\n4      Firmicutes    433        2\n5  Proteobacteria   1130        2\n6  Actinobacteria    754        2\n7   Bacteroidetes    555        2",
      "text/html": "<div>\n<style scoped>\n    .dataframe tbody tr th:only-of-type {\n        vertical-align: middle;\n    }\n\n    .dataframe tbody tr th {\n        vertical-align: top;\n    }\n\n    .dataframe thead th {\n        text-align: right;\n    }\n</style>\n<table border=\"1\" class=\"dataframe\">\n  <thead>\n    <tr style=\"text-align: right;\">\n      <th></th>\n      <th>phylum</th>\n      <th>value</th>\n      <th>patient</th>\n    </tr>\n  </thead>\n  <tbody>\n    <tr>\n      <th>0</th>\n      <td>Firmicutes</td>\n      <td>632</td>\n      <td>1</td>\n    </tr>\n    <tr>\n      <th>1</th>\n      <td>Proteobacteria</td>\n      <td>1638</td>\n      <td>1</td>\n    </tr>\n    <tr>\n      <th>2</th>\n      <td>Actinobacteria</td>\n      <td>569</td>\n      <td>1</td>\n    </tr>\n    <tr>\n      <th>3</th>\n      <td>Bacteroidetes</td>\n      <td>115</td>\n      <td>1</td>\n    </tr>\n    <tr>\n      <th>4</th>\n      <td>Firmicutes</td>\n      <td>433</td>\n      <td>2</td>\n    </tr>\n    <tr>\n      <th>5</th>\n      <td>Proteobacteria</td>\n      <td>1130</td>\n      <td>2</td>\n    </tr>\n    <tr>\n      <th>6</th>\n      <td>Actinobacteria</td>\n      <td>754</td>\n      <td>2</td>\n    </tr>\n    <tr>\n      <th>7</th>\n      <td>Bacteroidetes</td>\n      <td>555</td>\n      <td>2</td>\n    </tr>\n  </tbody>\n</table>\n</div>"
     },
     "execution_count": 79,
     "metadata": {},
     "output_type": "execute_result"
    }
   ],
   "source": [
    "data[['phylum','value','patient']]"
   ]
  },
  {
   "cell_type": "markdown",
   "metadata": {},
   "source": [
    "A `DataFrame` has a second index, representing the columns:"
   ]
  },
  {
   "cell_type": "code",
   "execution_count": 80,
   "metadata": {
    "ExecuteTime": {
     "end_time": "2023-09-30T14:07:23.917577200Z",
     "start_time": "2023-09-30T14:07:18.924523600Z"
    }
   },
   "outputs": [
    {
     "data": {
      "text/plain": "RangeIndex(start=0, stop=8, step=1)"
     },
     "execution_count": 80,
     "metadata": {},
     "output_type": "execute_result"
    }
   ],
   "source": [
    "data.index"
   ]
  },
  {
   "cell_type": "markdown",
   "metadata": {},
   "source": [
    "The `dtypes` attribute reveals the data type for each column in our DataFrame. \n",
    "\n",
    "- `int64` is numeric integer values \n",
    "- `object` strings (letters and numbers)\n",
    "- `float64` floating-point values"
   ]
  },
  {
   "cell_type": "code",
   "execution_count": 81,
   "metadata": {
    "ExecuteTime": {
     "end_time": "2023-09-30T14:07:23.925611600Z",
     "start_time": "2023-09-30T14:07:18.961485200Z"
    }
   },
   "outputs": [
    {
     "data": {
      "text/plain": "value       int64\npatient     int64\nphylum     object\ndtype: object"
     },
     "execution_count": 81,
     "metadata": {},
     "output_type": "execute_result"
    }
   ],
   "source": [
    "data.dtypes"
   ]
  },
  {
   "cell_type": "markdown",
   "metadata": {},
   "source": [
    "If we wish to access columns, we can do so either by dict-like indexing or by attribute:"
   ]
  },
  {
   "cell_type": "code",
   "execution_count": 82,
   "metadata": {
    "ExecuteTime": {
     "end_time": "2023-09-30T14:07:23.958652800Z",
     "start_time": "2023-09-30T14:07:18.961485200Z"
    }
   },
   "outputs": [
    {
     "data": {
      "text/plain": "0    1\n1    1\n2    1\n3    1\n4    2\n5    2\n6    2\n7    2\nName: patient, dtype: int64"
     },
     "execution_count": 82,
     "metadata": {},
     "output_type": "execute_result"
    }
   ],
   "source": [
    "data['patient']"
   ]
  },
  {
   "cell_type": "code",
   "execution_count": 83,
   "metadata": {
    "ExecuteTime": {
     "end_time": "2023-09-30T14:07:23.966770900Z",
     "start_time": "2023-09-30T14:07:18.986019700Z"
    }
   },
   "outputs": [
    {
     "data": {
      "text/plain": "0     632\n1    1638\n2     569\n3     115\n4     433\n5    1130\n6     754\n7     555\nName: value, dtype: int64"
     },
     "execution_count": 83,
     "metadata": {},
     "output_type": "execute_result"
    }
   ],
   "source": [
    "data.value"
   ]
  },
  {
   "cell_type": "code",
   "execution_count": 84,
   "metadata": {
    "ExecuteTime": {
     "end_time": "2023-09-30T14:07:23.991087700Z",
     "start_time": "2023-09-30T14:07:19.002035500Z"
    }
   },
   "outputs": [
    {
     "data": {
      "text/plain": "   value\n0    632\n1   1638\n2    569\n3    115\n4    433\n5   1130\n6    754\n7    555",
      "text/html": "<div>\n<style scoped>\n    .dataframe tbody tr th:only-of-type {\n        vertical-align: middle;\n    }\n\n    .dataframe tbody tr th {\n        vertical-align: top;\n    }\n\n    .dataframe thead th {\n        text-align: right;\n    }\n</style>\n<table border=\"1\" class=\"dataframe\">\n  <thead>\n    <tr style=\"text-align: right;\">\n      <th></th>\n      <th>value</th>\n    </tr>\n  </thead>\n  <tbody>\n    <tr>\n      <th>0</th>\n      <td>632</td>\n    </tr>\n    <tr>\n      <th>1</th>\n      <td>1638</td>\n    </tr>\n    <tr>\n      <th>2</th>\n      <td>569</td>\n    </tr>\n    <tr>\n      <th>3</th>\n      <td>115</td>\n    </tr>\n    <tr>\n      <th>4</th>\n      <td>433</td>\n    </tr>\n    <tr>\n      <th>5</th>\n      <td>1130</td>\n    </tr>\n    <tr>\n      <th>6</th>\n      <td>754</td>\n    </tr>\n    <tr>\n      <th>7</th>\n      <td>555</td>\n    </tr>\n  </tbody>\n</table>\n</div>"
     },
     "execution_count": 84,
     "metadata": {},
     "output_type": "execute_result"
    }
   ],
   "source": [
    "data[['value']]"
   ]
  },
  {
   "cell_type": "code",
   "execution_count": 85,
   "metadata": {
    "ExecuteTime": {
     "end_time": "2023-09-30T14:07:24.031211200Z",
     "start_time": "2023-09-30T14:07:19.018046800Z"
    }
   },
   "outputs": [
    {
     "data": {
      "text/plain": "pandas.core.frame.DataFrame"
     },
     "execution_count": 85,
     "metadata": {},
     "output_type": "execute_result"
    }
   ],
   "source": [
    "type(data[['value']])"
   ]
  },
  {
   "cell_type": "code",
   "execution_count": 86,
   "metadata": {
    "ExecuteTime": {
     "end_time": "2023-09-30T14:07:24.031211200Z",
     "start_time": "2023-09-30T14:07:19.034086900Z"
    }
   },
   "outputs": [
    {
     "data": {
      "text/plain": "pandas.core.series.Series"
     },
     "execution_count": 86,
     "metadata": {},
     "output_type": "execute_result"
    }
   ],
   "source": [
    "type(data.value)"
   ]
  },
  {
   "cell_type": "markdown",
   "metadata": {},
   "source": [
    "Notice this is different than with `Series`, where dict-like indexing retrieved a particular element (row). \n",
    "\n",
    "If we want access to a row in a `DataFrame`, we index its `loc` attribute."
   ]
  },
  {
   "cell_type": "code",
   "execution_count": 87,
   "metadata": {
    "ExecuteTime": {
     "end_time": "2023-09-30T14:07:24.104713700Z",
     "start_time": "2023-09-30T14:07:19.050067300Z"
    }
   },
   "outputs": [
    {
     "data": {
      "text/plain": "value                115\npatient                1\nphylum     Bacteroidetes\nName: 3, dtype: object"
     },
     "execution_count": 87,
     "metadata": {},
     "output_type": "execute_result"
    }
   ],
   "source": [
    "data.loc[3]"
   ]
  },
  {
   "cell_type": "markdown",
   "metadata": {},
   "source": [
    "### Exercise 1\n",
    "\n",
    "Find the size of the first dimension of `data`."
   ]
  },
  {
   "cell_type": "code",
   "execution_count": 88,
   "metadata": {
    "ExecuteTime": {
     "end_time": "2023-09-30T14:07:24.144714Z",
     "start_time": "2023-09-30T14:07:19.066071500Z"
    }
   },
   "outputs": [
    {
     "data": {
      "text/plain": "8"
     },
     "execution_count": 88,
     "metadata": {},
     "output_type": "execute_result"
    }
   ],
   "source": [
    "data.shape[0]"
   ]
  },
  {
   "cell_type": "markdown",
   "metadata": {},
   "source": [
    "An alternative way of initializing a `DataFrame` is with a list of dicts:"
   ]
  },
  {
   "cell_type": "code",
   "execution_count": 89,
   "metadata": {
    "ExecuteTime": {
     "end_time": "2023-09-30T14:07:24.144714Z",
     "start_time": "2023-09-30T14:07:19.090991200Z"
    }
   },
   "outputs": [
    {
     "data": {
      "text/plain": "   patient          phylum  value\n0        1      Firmicutes    632\n1        1  Proteobacteria   1638\n2        1  Actinobacteria    569\n3        1   Bacteroidetes    115\n4        2      Firmicutes    433\n5        2  Proteobacteria   1130\n6        2  Actinobacteria    754\n7        2   Bacteroidetes    555",
      "text/html": "<div>\n<style scoped>\n    .dataframe tbody tr th:only-of-type {\n        vertical-align: middle;\n    }\n\n    .dataframe tbody tr th {\n        vertical-align: top;\n    }\n\n    .dataframe thead th {\n        text-align: right;\n    }\n</style>\n<table border=\"1\" class=\"dataframe\">\n  <thead>\n    <tr style=\"text-align: right;\">\n      <th></th>\n      <th>patient</th>\n      <th>phylum</th>\n      <th>value</th>\n    </tr>\n  </thead>\n  <tbody>\n    <tr>\n      <th>0</th>\n      <td>1</td>\n      <td>Firmicutes</td>\n      <td>632</td>\n    </tr>\n    <tr>\n      <th>1</th>\n      <td>1</td>\n      <td>Proteobacteria</td>\n      <td>1638</td>\n    </tr>\n    <tr>\n      <th>2</th>\n      <td>1</td>\n      <td>Actinobacteria</td>\n      <td>569</td>\n    </tr>\n    <tr>\n      <th>3</th>\n      <td>1</td>\n      <td>Bacteroidetes</td>\n      <td>115</td>\n    </tr>\n    <tr>\n      <th>4</th>\n      <td>2</td>\n      <td>Firmicutes</td>\n      <td>433</td>\n    </tr>\n    <tr>\n      <th>5</th>\n      <td>2</td>\n      <td>Proteobacteria</td>\n      <td>1130</td>\n    </tr>\n    <tr>\n      <th>6</th>\n      <td>2</td>\n      <td>Actinobacteria</td>\n      <td>754</td>\n    </tr>\n    <tr>\n      <th>7</th>\n      <td>2</td>\n      <td>Bacteroidetes</td>\n      <td>555</td>\n    </tr>\n  </tbody>\n</table>\n</div>"
     },
     "execution_count": 89,
     "metadata": {},
     "output_type": "execute_result"
    }
   ],
   "source": [
    "data = pd.DataFrame([{'patient': 1, 'phylum': 'Firmicutes', 'value': 632},\n",
    "                    {'patient': 1, 'phylum': 'Proteobacteria', 'value': 1638},\n",
    "                    {'patient': 1, 'phylum': 'Actinobacteria', 'value': 569},\n",
    "                    {'patient': 1, 'phylum': 'Bacteroidetes', 'value': 115},\n",
    "                    {'patient': 2, 'phylum': 'Firmicutes', 'value': 433},\n",
    "                    {'patient': 2, 'phylum': 'Proteobacteria', 'value': 1130},\n",
    "                    {'patient': 2, 'phylum': 'Actinobacteria', 'value': 754},\n",
    "                    {'patient': 2, 'phylum': 'Bacteroidetes', 'value': 555}])\n",
    "data"
   ]
  },
  {
   "cell_type": "markdown",
   "metadata": {},
   "source": [
    "It's important to note that the `Series` returned when a `DataFrame` is indexed is merely a **view** on the `DataFrame`, and not a copy of the data itself. So you must be cautious when manipulating this data:"
   ]
  },
  {
   "cell_type": "code",
   "execution_count": 90,
   "metadata": {
    "ExecuteTime": {
     "end_time": "2023-09-30T14:07:24.184702500Z",
     "start_time": "2023-09-30T14:07:19.099275Z"
    }
   },
   "outputs": [
    {
     "data": {
      "text/plain": "0     632\n1    1638\n2     569\n3     115\n4     433\n5    1130\n6     754\n7     555\nName: value, dtype: int64"
     },
     "execution_count": 90,
     "metadata": {},
     "output_type": "execute_result"
    }
   ],
   "source": [
    "vals = data.value\n",
    "vals"
   ]
  },
  {
   "cell_type": "code",
   "execution_count": 91,
   "metadata": {
    "ExecuteTime": {
     "end_time": "2023-09-30T14:07:24.225204100Z",
     "start_time": "2023-09-30T14:07:19.119870400Z"
    }
   },
   "outputs": [
    {
     "data": {
      "text/plain": "0     632\n1    1638\n2     569\n3     115\n4     433\n5       0\n6     754\n7     555\nName: value, dtype: int64"
     },
     "execution_count": 91,
     "metadata": {},
     "output_type": "execute_result"
    }
   ],
   "source": [
    "vals[5] = 0\n",
    "data.value"
   ]
  },
  {
   "cell_type": "markdown",
   "metadata": {},
   "source": [
    "If we plan on modifying an extracted Series, its a good idea to make a copy."
   ]
  },
  {
   "cell_type": "code",
   "execution_count": 92,
   "metadata": {
    "ExecuteTime": {
     "end_time": "2023-09-30T14:07:24.225204100Z",
     "start_time": "2023-09-30T14:07:19.144891500Z"
    }
   },
   "outputs": [
    {
     "data": {
      "text/plain": "0     632\n1    1638\n2     569\n3     115\n4     433\n5       0\n6     754\n7     555\nName: value, dtype: int64"
     },
     "execution_count": 92,
     "metadata": {},
     "output_type": "execute_result"
    }
   ],
   "source": [
    "vals = data.value.copy()\n",
    "vals[5] = 1000\n",
    "data.value"
   ]
  },
  {
   "cell_type": "markdown",
   "metadata": {},
   "source": [
    "We can create or modify columns by assignment:"
   ]
  },
  {
   "cell_type": "code",
   "execution_count": 93,
   "metadata": {
    "ExecuteTime": {
     "end_time": "2023-09-30T14:07:24.241250300Z",
     "start_time": "2023-09-30T14:07:19.160918100Z"
    }
   },
   "outputs": [
    {
     "data": {
      "text/plain": "   patient          phylum  value\n0        1      Firmicutes    632\n1        1  Proteobacteria   1638\n2        1  Actinobacteria    569\n3        1   Bacteroidetes     14\n4        2      Firmicutes     21\n5        2  Proteobacteria      0\n6        2  Actinobacteria      5\n7        2   Bacteroidetes    555",
      "text/html": "<div>\n<style scoped>\n    .dataframe tbody tr th:only-of-type {\n        vertical-align: middle;\n    }\n\n    .dataframe tbody tr th {\n        vertical-align: top;\n    }\n\n    .dataframe thead th {\n        text-align: right;\n    }\n</style>\n<table border=\"1\" class=\"dataframe\">\n  <thead>\n    <tr style=\"text-align: right;\">\n      <th></th>\n      <th>patient</th>\n      <th>phylum</th>\n      <th>value</th>\n    </tr>\n  </thead>\n  <tbody>\n    <tr>\n      <th>0</th>\n      <td>1</td>\n      <td>Firmicutes</td>\n      <td>632</td>\n    </tr>\n    <tr>\n      <th>1</th>\n      <td>1</td>\n      <td>Proteobacteria</td>\n      <td>1638</td>\n    </tr>\n    <tr>\n      <th>2</th>\n      <td>1</td>\n      <td>Actinobacteria</td>\n      <td>569</td>\n    </tr>\n    <tr>\n      <th>3</th>\n      <td>1</td>\n      <td>Bacteroidetes</td>\n      <td>14</td>\n    </tr>\n    <tr>\n      <th>4</th>\n      <td>2</td>\n      <td>Firmicutes</td>\n      <td>21</td>\n    </tr>\n    <tr>\n      <th>5</th>\n      <td>2</td>\n      <td>Proteobacteria</td>\n      <td>0</td>\n    </tr>\n    <tr>\n      <th>6</th>\n      <td>2</td>\n      <td>Actinobacteria</td>\n      <td>5</td>\n    </tr>\n    <tr>\n      <th>7</th>\n      <td>2</td>\n      <td>Bacteroidetes</td>\n      <td>555</td>\n    </tr>\n  </tbody>\n</table>\n</div>"
     },
     "execution_count": 93,
     "metadata": {},
     "output_type": "execute_result"
    }
   ],
   "source": [
    "data.value[[3,4,6]] = [14, 21, 5]\n",
    "data"
   ]
  },
  {
   "cell_type": "code",
   "execution_count": 94,
   "metadata": {
    "ExecuteTime": {
     "end_time": "2023-09-30T14:07:24.281450900Z",
     "start_time": "2023-09-30T14:07:19.177146300Z"
    }
   },
   "outputs": [
    {
     "data": {
      "text/plain": "   patient          phylum  value  year\n0        1      Firmicutes    632  2013\n1        1  Proteobacteria   1638  2013\n2        1  Actinobacteria    569  2013\n3        1   Bacteroidetes     14  2013\n4        2      Firmicutes     21  2013\n5        2  Proteobacteria      0  2013\n6        2  Actinobacteria      5  2013\n7        2   Bacteroidetes    555  2013",
      "text/html": "<div>\n<style scoped>\n    .dataframe tbody tr th:only-of-type {\n        vertical-align: middle;\n    }\n\n    .dataframe tbody tr th {\n        vertical-align: top;\n    }\n\n    .dataframe thead th {\n        text-align: right;\n    }\n</style>\n<table border=\"1\" class=\"dataframe\">\n  <thead>\n    <tr style=\"text-align: right;\">\n      <th></th>\n      <th>patient</th>\n      <th>phylum</th>\n      <th>value</th>\n      <th>year</th>\n    </tr>\n  </thead>\n  <tbody>\n    <tr>\n      <th>0</th>\n      <td>1</td>\n      <td>Firmicutes</td>\n      <td>632</td>\n      <td>2013</td>\n    </tr>\n    <tr>\n      <th>1</th>\n      <td>1</td>\n      <td>Proteobacteria</td>\n      <td>1638</td>\n      <td>2013</td>\n    </tr>\n    <tr>\n      <th>2</th>\n      <td>1</td>\n      <td>Actinobacteria</td>\n      <td>569</td>\n      <td>2013</td>\n    </tr>\n    <tr>\n      <th>3</th>\n      <td>1</td>\n      <td>Bacteroidetes</td>\n      <td>14</td>\n      <td>2013</td>\n    </tr>\n    <tr>\n      <th>4</th>\n      <td>2</td>\n      <td>Firmicutes</td>\n      <td>21</td>\n      <td>2013</td>\n    </tr>\n    <tr>\n      <th>5</th>\n      <td>2</td>\n      <td>Proteobacteria</td>\n      <td>0</td>\n      <td>2013</td>\n    </tr>\n    <tr>\n      <th>6</th>\n      <td>2</td>\n      <td>Actinobacteria</td>\n      <td>5</td>\n      <td>2013</td>\n    </tr>\n    <tr>\n      <th>7</th>\n      <td>2</td>\n      <td>Bacteroidetes</td>\n      <td>555</td>\n      <td>2013</td>\n    </tr>\n  </tbody>\n</table>\n</div>"
     },
     "execution_count": 94,
     "metadata": {},
     "output_type": "execute_result"
    }
   ],
   "source": [
    "data['year'] = 2013\n",
    "data"
   ]
  },
  {
   "cell_type": "markdown",
   "metadata": {},
   "source": [
    "But note we cannot use the attribute indexing method to add a new column:"
   ]
  },
  {
   "cell_type": "code",
   "execution_count": null,
   "metadata": {
    "is_executing": true,
    "ExecuteTime": {
     "start_time": "2023-09-30T14:07:19.202445100Z"
    }
   },
   "outputs": [],
   "source": [
    "data.treatment = 1\n",
    "data"
   ]
  },
  {
   "cell_type": "code",
   "execution_count": null,
   "metadata": {
    "is_executing": true
   },
   "outputs": [],
   "source": [
    "data.treatment"
   ]
  },
  {
   "cell_type": "markdown",
   "metadata": {},
   "source": [
    "### Exercise 2\n",
    "\n",
    "From the `data` table above, return all rows for which the phylum name ends in \"bacteria\" and the value is greater than 1000."
   ]
  },
  {
   "cell_type": "code",
   "execution_count": null,
   "metadata": {
    "is_executing": true
   },
   "outputs": [],
   "source": [
    "data[data['phylum'].apply(lambda x: x.endswith('bacteria')) & data['value'].apply(lambda x: x>1000)]"
   ]
  },
  {
   "cell_type": "markdown",
   "metadata": {},
   "source": [
    "Specifying a `Series` as a new column causes its values to be added according to the `DataFrame`'s index:"
   ]
  },
  {
   "cell_type": "code",
   "execution_count": null,
   "metadata": {
    "is_executing": true,
    "ExecuteTime": {
     "start_time": "2023-09-30T14:07:19.778562200Z"
    }
   },
   "outputs": [
    {
     "data": {
      "text/plain": "0    0\n1    0\n2    0\n3    0\n4    1\n5    1\ndtype: int64"
     },
     "execution_count": 98,
     "metadata": {},
     "output_type": "execute_result"
    }
   ],
   "source": [
    "treatment = pd.Series([0]*4 + [1]*2)\n",
    "treatment"
   ]
  },
  {
   "cell_type": "code",
   "execution_count": null,
   "metadata": {
    "is_executing": true,
    "ExecuteTime": {
     "start_time": "2023-09-30T14:07:19.778562200Z"
    }
   },
   "outputs": [
    {
     "data": {
      "text/plain": "   patient          phylum  value  year  treatment\n0        1      Firmicutes    632  2013        0.0\n1        1  Proteobacteria   1638  2013        0.0\n2        1  Actinobacteria    569  2013        0.0\n3        1   Bacteroidetes     14  2013        0.0\n4        2      Firmicutes     21  2013        1.0\n5        2  Proteobacteria      0  2013        1.0\n6        2  Actinobacteria      5  2013        NaN\n7        2   Bacteroidetes    555  2013        NaN",
      "text/html": "<div>\n<style scoped>\n    .dataframe tbody tr th:only-of-type {\n        vertical-align: middle;\n    }\n\n    .dataframe tbody tr th {\n        vertical-align: top;\n    }\n\n    .dataframe thead th {\n        text-align: right;\n    }\n</style>\n<table border=\"1\" class=\"dataframe\">\n  <thead>\n    <tr style=\"text-align: right;\">\n      <th></th>\n      <th>patient</th>\n      <th>phylum</th>\n      <th>value</th>\n      <th>year</th>\n      <th>treatment</th>\n    </tr>\n  </thead>\n  <tbody>\n    <tr>\n      <th>0</th>\n      <td>1</td>\n      <td>Firmicutes</td>\n      <td>632</td>\n      <td>2013</td>\n      <td>0.0</td>\n    </tr>\n    <tr>\n      <th>1</th>\n      <td>1</td>\n      <td>Proteobacteria</td>\n      <td>1638</td>\n      <td>2013</td>\n      <td>0.0</td>\n    </tr>\n    <tr>\n      <th>2</th>\n      <td>1</td>\n      <td>Actinobacteria</td>\n      <td>569</td>\n      <td>2013</td>\n      <td>0.0</td>\n    </tr>\n    <tr>\n      <th>3</th>\n      <td>1</td>\n      <td>Bacteroidetes</td>\n      <td>14</td>\n      <td>2013</td>\n      <td>0.0</td>\n    </tr>\n    <tr>\n      <th>4</th>\n      <td>2</td>\n      <td>Firmicutes</td>\n      <td>21</td>\n      <td>2013</td>\n      <td>1.0</td>\n    </tr>\n    <tr>\n      <th>5</th>\n      <td>2</td>\n      <td>Proteobacteria</td>\n      <td>0</td>\n      <td>2013</td>\n      <td>1.0</td>\n    </tr>\n    <tr>\n      <th>6</th>\n      <td>2</td>\n      <td>Actinobacteria</td>\n      <td>5</td>\n      <td>2013</td>\n      <td>NaN</td>\n    </tr>\n    <tr>\n      <th>7</th>\n      <td>2</td>\n      <td>Bacteroidetes</td>\n      <td>555</td>\n      <td>2013</td>\n      <td>NaN</td>\n    </tr>\n  </tbody>\n</table>\n</div>"
     },
     "execution_count": 99,
     "metadata": {},
     "output_type": "execute_result"
    }
   ],
   "source": [
    "data['treatment'] = treatment\n",
    "data"
   ]
  },
  {
   "cell_type": "markdown",
   "metadata": {},
   "source": [
    "We can use the `drop` method to remove rows or columns, which by <b>default drops rows</b>. We can be explicit by using the `axis` argument:"
   ]
  },
  {
   "cell_type": "code",
   "execution_count": null,
   "metadata": {
    "is_executing": true,
    "ExecuteTime": {
     "start_time": "2023-09-30T14:07:19.778562200Z"
    }
   },
   "outputs": [
    {
     "data": {
      "text/plain": "   patient          phylum  value  year\n0        1      Firmicutes    632  2013\n1        1  Proteobacteria   1638  2013\n2        1  Actinobacteria    569  2013\n3        1   Bacteroidetes     14  2013\n4        2      Firmicutes     21  2013\n5        2  Proteobacteria      0  2013\n6        2  Actinobacteria      5  2013\n7        2   Bacteroidetes    555  2013",
      "text/html": "<div>\n<style scoped>\n    .dataframe tbody tr th:only-of-type {\n        vertical-align: middle;\n    }\n\n    .dataframe tbody tr th {\n        vertical-align: top;\n    }\n\n    .dataframe thead th {\n        text-align: right;\n    }\n</style>\n<table border=\"1\" class=\"dataframe\">\n  <thead>\n    <tr style=\"text-align: right;\">\n      <th></th>\n      <th>patient</th>\n      <th>phylum</th>\n      <th>value</th>\n      <th>year</th>\n    </tr>\n  </thead>\n  <tbody>\n    <tr>\n      <th>0</th>\n      <td>1</td>\n      <td>Firmicutes</td>\n      <td>632</td>\n      <td>2013</td>\n    </tr>\n    <tr>\n      <th>1</th>\n      <td>1</td>\n      <td>Proteobacteria</td>\n      <td>1638</td>\n      <td>2013</td>\n    </tr>\n    <tr>\n      <th>2</th>\n      <td>1</td>\n      <td>Actinobacteria</td>\n      <td>569</td>\n      <td>2013</td>\n    </tr>\n    <tr>\n      <th>3</th>\n      <td>1</td>\n      <td>Bacteroidetes</td>\n      <td>14</td>\n      <td>2013</td>\n    </tr>\n    <tr>\n      <th>4</th>\n      <td>2</td>\n      <td>Firmicutes</td>\n      <td>21</td>\n      <td>2013</td>\n    </tr>\n    <tr>\n      <th>5</th>\n      <td>2</td>\n      <td>Proteobacteria</td>\n      <td>0</td>\n      <td>2013</td>\n    </tr>\n    <tr>\n      <th>6</th>\n      <td>2</td>\n      <td>Actinobacteria</td>\n      <td>5</td>\n      <td>2013</td>\n    </tr>\n    <tr>\n      <th>7</th>\n      <td>2</td>\n      <td>Bacteroidetes</td>\n      <td>555</td>\n      <td>2013</td>\n    </tr>\n  </tbody>\n</table>\n</div>"
     },
     "execution_count": 100,
     "metadata": {},
     "output_type": "execute_result"
    }
   ],
   "source": [
    "data_nomonth = data.drop('treatment', axis=1)\n",
    "data_nomonth"
   ]
  },
  {
   "cell_type": "code",
   "execution_count": null,
   "metadata": {
    "is_executing": true,
    "ExecuteTime": {
     "start_time": "2023-09-30T14:07:19.778562200Z"
    }
   },
   "outputs": [
    {
     "data": {
      "text/plain": "   patient          phylum  value  year\n1        1  Proteobacteria   1638  2013\n2        1  Actinobacteria    569  2013\n3        1   Bacteroidetes     14  2013\n4        2      Firmicutes     21  2013\n5        2  Proteobacteria      0  2013\n6        2  Actinobacteria      5  2013\n7        2   Bacteroidetes    555  2013",
      "text/html": "<div>\n<style scoped>\n    .dataframe tbody tr th:only-of-type {\n        vertical-align: middle;\n    }\n\n    .dataframe tbody tr th {\n        vertical-align: top;\n    }\n\n    .dataframe thead th {\n        text-align: right;\n    }\n</style>\n<table border=\"1\" class=\"dataframe\">\n  <thead>\n    <tr style=\"text-align: right;\">\n      <th></th>\n      <th>patient</th>\n      <th>phylum</th>\n      <th>value</th>\n      <th>year</th>\n    </tr>\n  </thead>\n  <tbody>\n    <tr>\n      <th>1</th>\n      <td>1</td>\n      <td>Proteobacteria</td>\n      <td>1638</td>\n      <td>2013</td>\n    </tr>\n    <tr>\n      <th>2</th>\n      <td>1</td>\n      <td>Actinobacteria</td>\n      <td>569</td>\n      <td>2013</td>\n    </tr>\n    <tr>\n      <th>3</th>\n      <td>1</td>\n      <td>Bacteroidetes</td>\n      <td>14</td>\n      <td>2013</td>\n    </tr>\n    <tr>\n      <th>4</th>\n      <td>2</td>\n      <td>Firmicutes</td>\n      <td>21</td>\n      <td>2013</td>\n    </tr>\n    <tr>\n      <th>5</th>\n      <td>2</td>\n      <td>Proteobacteria</td>\n      <td>0</td>\n      <td>2013</td>\n    </tr>\n    <tr>\n      <th>6</th>\n      <td>2</td>\n      <td>Actinobacteria</td>\n      <td>5</td>\n      <td>2013</td>\n    </tr>\n    <tr>\n      <th>7</th>\n      <td>2</td>\n      <td>Bacteroidetes</td>\n      <td>555</td>\n      <td>2013</td>\n    </tr>\n  </tbody>\n</table>\n</div>"
     },
     "execution_count": 101,
     "metadata": {},
     "output_type": "execute_result"
    }
   ],
   "source": [
    "data_nomonth.drop(0)"
   ]
  },
  {
   "cell_type": "markdown",
   "metadata": {},
   "source": [
    "The dtype is automatically chosen to be as general as needed to accommodate all the columns."
   ]
  },
  {
   "cell_type": "code",
   "execution_count": 120,
   "metadata": {
    "ExecuteTime": {
     "end_time": "2023-09-30T14:07:55.051983400Z",
     "start_time": "2023-09-30T14:07:54.979552200Z"
    }
   },
   "outputs": [
    {
     "data": {
      "text/plain": "array([[ 1. ,  0.4],\n       [ 2. , -1. ],\n       [ 3. ,  4.5]])"
     },
     "execution_count": 120,
     "metadata": {},
     "output_type": "execute_result"
    }
   ],
   "source": [
    "df = pd.DataFrame({'foo': [1,2,3], 'bar':[0.4, -1.0, 4.5]})\n",
    "df.values"
   ]
  },
  {
   "cell_type": "code",
   "execution_count": 121,
   "metadata": {
    "ExecuteTime": {
     "end_time": "2023-09-30T14:07:58.477357900Z",
     "start_time": "2023-09-30T14:07:58.308177300Z"
    }
   },
   "outputs": [
    {
     "data": {
      "text/plain": "dtype('float64')"
     },
     "execution_count": 121,
     "metadata": {},
     "output_type": "execute_result"
    }
   ],
   "source": [
    "df.values.dtype"
   ]
  },
  {
   "cell_type": "markdown",
   "metadata": {},
   "source": [
    "`Index` objects are **immutable**:"
   ]
  },
  {
   "cell_type": "code",
   "execution_count": 122,
   "metadata": {
    "ExecuteTime": {
     "end_time": "2023-09-30T14:07:59.537063100Z",
     "start_time": "2023-09-30T14:07:59.423852500Z"
    }
   },
   "outputs": [],
   "source": [
    "#data.index[0] = 15 #that doesn't work"
   ]
  },
  {
   "cell_type": "markdown",
   "metadata": {},
   "source": [
    "This is so that `Index` objects can be shared between data structures without fear that they will be changed."
   ]
  },
  {
   "cell_type": "code",
   "execution_count": 150,
   "metadata": {
    "ExecuteTime": {
     "end_time": "2023-09-30T15:07:24.046958200Z",
     "start_time": "2023-09-30T15:07:23.936912600Z"
    }
   },
   "outputs": [
    {
     "name": "stdout",
     "output_type": "stream",
     "text": [
      "Index(['Firmicutes', 'Proteobacteria', 'Actinobacteria', 'Bacteroidetes'], dtype='object', name='phylum')\n",
      "Index(['Firmicutes', 'Proteobacteria', 'Actinobacteria', 'Bacteroidetes'], dtype='object', name='phylum')\n"
     ]
    }
   ],
   "source": [
    "print(bacteria2.index)\n",
    "print(bacteria.index)\n",
    "bacteria2.index = bacteria.index"
   ]
  },
  {
   "cell_type": "code",
   "execution_count": 151,
   "metadata": {
    "ExecuteTime": {
     "end_time": "2023-09-30T15:07:25.320948600Z",
     "start_time": "2023-09-30T15:07:25.251866900Z"
    }
   },
   "outputs": [
    {
     "data": {
      "text/plain": "phylum\nFirmicutes           NaN\nProteobacteria     632.0\nActinobacteria    1638.0\nBacteroidetes      569.0\ndtype: float64"
     },
     "execution_count": 151,
     "metadata": {},
     "output_type": "execute_result"
    }
   ],
   "source": [
    "bacteria2"
   ]
  },
  {
   "cell_type": "markdown",
   "metadata": {},
   "source": [
    "## Importing data"
   ]
  },
  {
   "cell_type": "markdown",
   "metadata": {},
   "source": [
    "A key, but often under-appreciated, step in data analysis is importing the data that we wish to analyze. Though it is easy to load basic data structures into Python using built-in tools or those provided by packages like NumPy, it is non-trivial to import structured data well, and to easily convert this input into a robust data structure:\n",
    "\n",
    "    genes = np.loadtxt(\"genes.csv\", delimiter=\",\", dtype=[('gene', '|S10'), ('value', '<f4')])\n",
    "\n",
    "Pandas provides a convenient set of functions for importing tabular data from a number of formats directly into a `DataFrame` object. These functions include a slew of options to perform type inference, indexing, parsing, iterating and cleaning automatically as data are imported."
   ]
  },
  {
   "cell_type": "markdown",
   "metadata": {},
   "source": [
    "Let's start with some more bacteria data, stored in csv format."
   ]
  },
  {
   "cell_type": "code",
   "execution_count": 152,
   "metadata": {
    "ExecuteTime": {
     "end_time": "2023-09-30T15:07:27.266832300Z",
     "start_time": "2023-09-30T15:07:27.117781200Z"
    }
   },
   "outputs": [
    {
     "name": "stdout",
     "output_type": "stream",
     "text": [
      "Taxon,Patient,Group,Tissue,Stool\n",
      "Firmicutes,1,0,136,4182\n",
      "Firmicutes,2,1,1174,703\n",
      "Firmicutes,3,0,408,3946\n",
      "Firmicutes,4,1,831,8605\n",
      "Firmicutes,5,0,693,50\n",
      "Firmicutes,6,1,718,717\n",
      "Firmicutes,7,0,173,33\n",
      "Firmicutes,8,1,228,80\n",
      "Firmicutes,9,0,162,3196\n"
     ]
    }
   ],
   "source": [
    "!head Data/microbiome.csv"
   ]
  },
  {
   "cell_type": "markdown",
   "metadata": {},
   "source": [
    "This table can be read into a DataFrame using `read_csv`:"
   ]
  },
  {
   "cell_type": "code",
   "execution_count": 153,
   "metadata": {
    "ExecuteTime": {
     "end_time": "2023-09-30T15:07:27.723521500Z",
     "start_time": "2023-09-30T15:07:27.624453700Z"
    }
   },
   "outputs": [
    {
     "data": {
      "text/plain": "        Taxon  Patient  Group  Tissue  Stool\n0  Firmicutes        1      0     136   4182\n1  Firmicutes        2      1    1174    703\n2  Firmicutes        3      0     408   3946\n3  Firmicutes        4      1     831   8605\n4  Firmicutes        5      0     693     50",
      "text/html": "<div>\n<style scoped>\n    .dataframe tbody tr th:only-of-type {\n        vertical-align: middle;\n    }\n\n    .dataframe tbody tr th {\n        vertical-align: top;\n    }\n\n    .dataframe thead th {\n        text-align: right;\n    }\n</style>\n<table border=\"1\" class=\"dataframe\">\n  <thead>\n    <tr style=\"text-align: right;\">\n      <th></th>\n      <th>Taxon</th>\n      <th>Patient</th>\n      <th>Group</th>\n      <th>Tissue</th>\n      <th>Stool</th>\n    </tr>\n  </thead>\n  <tbody>\n    <tr>\n      <th>0</th>\n      <td>Firmicutes</td>\n      <td>1</td>\n      <td>0</td>\n      <td>136</td>\n      <td>4182</td>\n    </tr>\n    <tr>\n      <th>1</th>\n      <td>Firmicutes</td>\n      <td>2</td>\n      <td>1</td>\n      <td>1174</td>\n      <td>703</td>\n    </tr>\n    <tr>\n      <th>2</th>\n      <td>Firmicutes</td>\n      <td>3</td>\n      <td>0</td>\n      <td>408</td>\n      <td>3946</td>\n    </tr>\n    <tr>\n      <th>3</th>\n      <td>Firmicutes</td>\n      <td>4</td>\n      <td>1</td>\n      <td>831</td>\n      <td>8605</td>\n    </tr>\n    <tr>\n      <th>4</th>\n      <td>Firmicutes</td>\n      <td>5</td>\n      <td>0</td>\n      <td>693</td>\n      <td>50</td>\n    </tr>\n  </tbody>\n</table>\n</div>"
     },
     "execution_count": 153,
     "metadata": {},
     "output_type": "execute_result"
    }
   ],
   "source": [
    "mb = pd.read_csv(\"Data/microbiome.csv\", sep=',')\n",
    "mb.head()"
   ]
  },
  {
   "cell_type": "markdown",
   "metadata": {},
   "source": [
    "Notice that `read_csv` automatically considered the first row in the file to be a header row.\n",
    "\n",
    "We can override default behavior by customizing some the arguments, like `header`, `names` or `index_col`."
   ]
  },
  {
   "cell_type": "code",
   "execution_count": 154,
   "metadata": {
    "ExecuteTime": {
     "end_time": "2023-09-30T15:07:28.314072500Z",
     "start_time": "2023-09-30T15:07:28.046423200Z"
    }
   },
   "outputs": [
    {
     "data": {
      "text/plain": "            0        1      2       3      4\n0       Taxon  Patient  Group  Tissue  Stool\n1  Firmicutes        1      0     136   4182\n2  Firmicutes        2      1    1174    703\n3  Firmicutes        3      0     408   3946\n4  Firmicutes        4      1     831   8605",
      "text/html": "<div>\n<style scoped>\n    .dataframe tbody tr th:only-of-type {\n        vertical-align: middle;\n    }\n\n    .dataframe tbody tr th {\n        vertical-align: top;\n    }\n\n    .dataframe thead th {\n        text-align: right;\n    }\n</style>\n<table border=\"1\" class=\"dataframe\">\n  <thead>\n    <tr style=\"text-align: right;\">\n      <th></th>\n      <th>0</th>\n      <th>1</th>\n      <th>2</th>\n      <th>3</th>\n      <th>4</th>\n    </tr>\n  </thead>\n  <tbody>\n    <tr>\n      <th>0</th>\n      <td>Taxon</td>\n      <td>Patient</td>\n      <td>Group</td>\n      <td>Tissue</td>\n      <td>Stool</td>\n    </tr>\n    <tr>\n      <th>1</th>\n      <td>Firmicutes</td>\n      <td>1</td>\n      <td>0</td>\n      <td>136</td>\n      <td>4182</td>\n    </tr>\n    <tr>\n      <th>2</th>\n      <td>Firmicutes</td>\n      <td>2</td>\n      <td>1</td>\n      <td>1174</td>\n      <td>703</td>\n    </tr>\n    <tr>\n      <th>3</th>\n      <td>Firmicutes</td>\n      <td>3</td>\n      <td>0</td>\n      <td>408</td>\n      <td>3946</td>\n    </tr>\n    <tr>\n      <th>4</th>\n      <td>Firmicutes</td>\n      <td>4</td>\n      <td>1</td>\n      <td>831</td>\n      <td>8605</td>\n    </tr>\n  </tbody>\n</table>\n</div>"
     },
     "execution_count": 154,
     "metadata": {},
     "output_type": "execute_result"
    }
   ],
   "source": [
    "pd.read_csv(\"Data/microbiome.csv\", header=None).head()"
   ]
  },
  {
   "cell_type": "markdown",
   "metadata": {},
   "source": [
    "`read_csv` is just a convenience function for `read_table`, since csv is such a common format:"
   ]
  },
  {
   "cell_type": "code",
   "execution_count": 155,
   "metadata": {
    "ExecuteTime": {
     "end_time": "2023-09-30T15:07:28.812500800Z",
     "start_time": "2023-09-30T15:07:28.378478100Z"
    }
   },
   "outputs": [],
   "source": [
    "mb = pd.read_csv(\"Data/microbiome.csv\", sep=',')"
   ]
  },
  {
   "cell_type": "markdown",
   "metadata": {},
   "source": [
    "The `sep` argument can be customized as needed to accomodate arbitrary separators. For example, we can use a regular expression to define a variable amount of whitespace, which is unfortunately very common in some data formats: \n",
    "    \n",
    "    sep='\\s+'"
   ]
  },
  {
   "cell_type": "markdown",
   "metadata": {},
   "source": [
    "For a more useful index, we can specify the first two columns, which together provide a unique index to the data."
   ]
  },
  {
   "cell_type": "code",
   "execution_count": 156,
   "metadata": {
    "ExecuteTime": {
     "end_time": "2023-09-30T15:07:29.220269800Z",
     "start_time": "2023-09-30T15:07:28.878545400Z"
    }
   },
   "outputs": [
    {
     "data": {
      "text/plain": "                    Group  Tissue  Stool\nPatient Taxon                           \n1       Firmicutes      0     136   4182\n2       Firmicutes      1    1174    703\n3       Firmicutes      0     408   3946\n4       Firmicutes      1     831   8605\n5       Firmicutes      0     693     50",
      "text/html": "<div>\n<style scoped>\n    .dataframe tbody tr th:only-of-type {\n        vertical-align: middle;\n    }\n\n    .dataframe tbody tr th {\n        vertical-align: top;\n    }\n\n    .dataframe thead th {\n        text-align: right;\n    }\n</style>\n<table border=\"1\" class=\"dataframe\">\n  <thead>\n    <tr style=\"text-align: right;\">\n      <th></th>\n      <th></th>\n      <th>Group</th>\n      <th>Tissue</th>\n      <th>Stool</th>\n    </tr>\n    <tr>\n      <th>Patient</th>\n      <th>Taxon</th>\n      <th></th>\n      <th></th>\n      <th></th>\n    </tr>\n  </thead>\n  <tbody>\n    <tr>\n      <th>1</th>\n      <th>Firmicutes</th>\n      <td>0</td>\n      <td>136</td>\n      <td>4182</td>\n    </tr>\n    <tr>\n      <th>2</th>\n      <th>Firmicutes</th>\n      <td>1</td>\n      <td>1174</td>\n      <td>703</td>\n    </tr>\n    <tr>\n      <th>3</th>\n      <th>Firmicutes</th>\n      <td>0</td>\n      <td>408</td>\n      <td>3946</td>\n    </tr>\n    <tr>\n      <th>4</th>\n      <th>Firmicutes</th>\n      <td>1</td>\n      <td>831</td>\n      <td>8605</td>\n    </tr>\n    <tr>\n      <th>5</th>\n      <th>Firmicutes</th>\n      <td>0</td>\n      <td>693</td>\n      <td>50</td>\n    </tr>\n  </tbody>\n</table>\n</div>"
     },
     "execution_count": 156,
     "metadata": {},
     "output_type": "execute_result"
    }
   ],
   "source": [
    "mb = pd.read_csv(\"Data/microbiome.csv\", index_col=['Patient','Taxon'])\n",
    "mb.head()"
   ]
  },
  {
   "cell_type": "markdown",
   "metadata": {},
   "source": [
    "This is called a *hierarchical* index, which we will revisit later in the section."
   ]
  },
  {
   "cell_type": "markdown",
   "metadata": {},
   "source": [
    "If we have sections of data that we do not wish to import (for example, known bad data), we can populate the `skiprows` argument:"
   ]
  },
  {
   "cell_type": "code",
   "execution_count": 157,
   "metadata": {
    "ExecuteTime": {
     "end_time": "2023-09-30T15:07:29.674012400Z",
     "start_time": "2023-09-30T15:07:29.389012400Z"
    }
   },
   "outputs": [
    {
     "data": {
      "text/plain": "        Taxon  Patient  Group  Tissue  Stool\n0  Firmicutes        1      0     136   4182\n1  Firmicutes        2      1    1174    703\n2  Firmicutes        5      0     693     50\n3  Firmicutes        7      0     173     33\n4  Firmicutes        8      1     228     80",
      "text/html": "<div>\n<style scoped>\n    .dataframe tbody tr th:only-of-type {\n        vertical-align: middle;\n    }\n\n    .dataframe tbody tr th {\n        vertical-align: top;\n    }\n\n    .dataframe thead th {\n        text-align: right;\n    }\n</style>\n<table border=\"1\" class=\"dataframe\">\n  <thead>\n    <tr style=\"text-align: right;\">\n      <th></th>\n      <th>Taxon</th>\n      <th>Patient</th>\n      <th>Group</th>\n      <th>Tissue</th>\n      <th>Stool</th>\n    </tr>\n  </thead>\n  <tbody>\n    <tr>\n      <th>0</th>\n      <td>Firmicutes</td>\n      <td>1</td>\n      <td>0</td>\n      <td>136</td>\n      <td>4182</td>\n    </tr>\n    <tr>\n      <th>1</th>\n      <td>Firmicutes</td>\n      <td>2</td>\n      <td>1</td>\n      <td>1174</td>\n      <td>703</td>\n    </tr>\n    <tr>\n      <th>2</th>\n      <td>Firmicutes</td>\n      <td>5</td>\n      <td>0</td>\n      <td>693</td>\n      <td>50</td>\n    </tr>\n    <tr>\n      <th>3</th>\n      <td>Firmicutes</td>\n      <td>7</td>\n      <td>0</td>\n      <td>173</td>\n      <td>33</td>\n    </tr>\n    <tr>\n      <th>4</th>\n      <td>Firmicutes</td>\n      <td>8</td>\n      <td>1</td>\n      <td>228</td>\n      <td>80</td>\n    </tr>\n  </tbody>\n</table>\n</div>"
     },
     "execution_count": 157,
     "metadata": {},
     "output_type": "execute_result"
    }
   ],
   "source": [
    "pd.read_csv(\"Data/microbiome.csv\", skiprows=[3,4,6]).head()"
   ]
  },
  {
   "cell_type": "markdown",
   "metadata": {},
   "source": [
    "If we only want to import a small number of rows from, say, a very large data file we can use `nrows`:"
   ]
  },
  {
   "cell_type": "code",
   "execution_count": 158,
   "metadata": {
    "ExecuteTime": {
     "end_time": "2023-09-30T15:07:31.788782800Z",
     "start_time": "2023-09-30T15:07:29.986010900Z"
    }
   },
   "outputs": [
    {
     "data": {
      "text/plain": "        Taxon  Patient  Group  Tissue  Stool\n0  Firmicutes        1      0     136   4182\n1  Firmicutes        2      1    1174    703\n2  Firmicutes        3      0     408   3946\n3  Firmicutes        4      1     831   8605",
      "text/html": "<div>\n<style scoped>\n    .dataframe tbody tr th:only-of-type {\n        vertical-align: middle;\n    }\n\n    .dataframe tbody tr th {\n        vertical-align: top;\n    }\n\n    .dataframe thead th {\n        text-align: right;\n    }\n</style>\n<table border=\"1\" class=\"dataframe\">\n  <thead>\n    <tr style=\"text-align: right;\">\n      <th></th>\n      <th>Taxon</th>\n      <th>Patient</th>\n      <th>Group</th>\n      <th>Tissue</th>\n      <th>Stool</th>\n    </tr>\n  </thead>\n  <tbody>\n    <tr>\n      <th>0</th>\n      <td>Firmicutes</td>\n      <td>1</td>\n      <td>0</td>\n      <td>136</td>\n      <td>4182</td>\n    </tr>\n    <tr>\n      <th>1</th>\n      <td>Firmicutes</td>\n      <td>2</td>\n      <td>1</td>\n      <td>1174</td>\n      <td>703</td>\n    </tr>\n    <tr>\n      <th>2</th>\n      <td>Firmicutes</td>\n      <td>3</td>\n      <td>0</td>\n      <td>408</td>\n      <td>3946</td>\n    </tr>\n    <tr>\n      <th>3</th>\n      <td>Firmicutes</td>\n      <td>4</td>\n      <td>1</td>\n      <td>831</td>\n      <td>8605</td>\n    </tr>\n  </tbody>\n</table>\n</div>"
     },
     "execution_count": 158,
     "metadata": {},
     "output_type": "execute_result"
    }
   ],
   "source": [
    "pd.read_csv(\"Data/microbiome.csv\", nrows=4)"
   ]
  },
  {
   "cell_type": "markdown",
   "metadata": {},
   "source": [
    "#### Missing Values\n",
    "\n",
    "Most real-world data is incomplete, with values missing due to incomplete observation, data entry or transcription error, or other reasons. Pandas will automatically recognize and parse common missing data indicators, including `NA` and `NULL`."
   ]
  },
  {
   "cell_type": "code",
   "execution_count": 159,
   "metadata": {
    "ExecuteTime": {
     "end_time": "2023-09-30T15:07:32.505606Z",
     "start_time": "2023-09-30T15:07:30.133890400Z"
    }
   },
   "outputs": [
    {
     "name": "stdout",
     "output_type": "stream",
     "text": [
      "Taxon,Patient,Tissue,Stool\n",
      "Firmicutes,1,632,305\n",
      "Firmicutes,2,136,4182\n",
      "Firmicutes,3,,703\n",
      "Firmicutes,4,408,3946\n",
      "Firmicutes,5,831,8605\n",
      "Firmicutes,6,693,50\n",
      "Firmicutes,7,718,717\n",
      "Firmicutes,8,173,33\n",
      "Firmicutes,9,228,NA\n"
     ]
    }
   ],
   "source": [
    "!head -n 10 Data/microbiome_missing.csv"
   ]
  },
  {
   "cell_type": "code",
   "execution_count": 160,
   "metadata": {
    "ExecuteTime": {
     "end_time": "2023-09-30T15:07:32.506612200Z",
     "start_time": "2023-09-30T15:07:30.265896700Z"
    }
   },
   "outputs": [
    {
     "data": {
      "text/plain": "        Taxon  Patient Tissue   Stool\n0  Firmicutes        1    632   305.0\n1  Firmicutes        2    136  4182.0\n2  Firmicutes        3    NaN   703.0\n3  Firmicutes        4    408  3946.0\n4  Firmicutes        5    831  8605.0\n5  Firmicutes        6    693    50.0\n6  Firmicutes        7    718   717.0\n7  Firmicutes        8    173    33.0\n8  Firmicutes        9    228     NaN\n9  Firmicutes       10    162  3196.0",
      "text/html": "<div>\n<style scoped>\n    .dataframe tbody tr th:only-of-type {\n        vertical-align: middle;\n    }\n\n    .dataframe tbody tr th {\n        vertical-align: top;\n    }\n\n    .dataframe thead th {\n        text-align: right;\n    }\n</style>\n<table border=\"1\" class=\"dataframe\">\n  <thead>\n    <tr style=\"text-align: right;\">\n      <th></th>\n      <th>Taxon</th>\n      <th>Patient</th>\n      <th>Tissue</th>\n      <th>Stool</th>\n    </tr>\n  </thead>\n  <tbody>\n    <tr>\n      <th>0</th>\n      <td>Firmicutes</td>\n      <td>1</td>\n      <td>632</td>\n      <td>305.0</td>\n    </tr>\n    <tr>\n      <th>1</th>\n      <td>Firmicutes</td>\n      <td>2</td>\n      <td>136</td>\n      <td>4182.0</td>\n    </tr>\n    <tr>\n      <th>2</th>\n      <td>Firmicutes</td>\n      <td>3</td>\n      <td>NaN</td>\n      <td>703.0</td>\n    </tr>\n    <tr>\n      <th>3</th>\n      <td>Firmicutes</td>\n      <td>4</td>\n      <td>408</td>\n      <td>3946.0</td>\n    </tr>\n    <tr>\n      <th>4</th>\n      <td>Firmicutes</td>\n      <td>5</td>\n      <td>831</td>\n      <td>8605.0</td>\n    </tr>\n    <tr>\n      <th>5</th>\n      <td>Firmicutes</td>\n      <td>6</td>\n      <td>693</td>\n      <td>50.0</td>\n    </tr>\n    <tr>\n      <th>6</th>\n      <td>Firmicutes</td>\n      <td>7</td>\n      <td>718</td>\n      <td>717.0</td>\n    </tr>\n    <tr>\n      <th>7</th>\n      <td>Firmicutes</td>\n      <td>8</td>\n      <td>173</td>\n      <td>33.0</td>\n    </tr>\n    <tr>\n      <th>8</th>\n      <td>Firmicutes</td>\n      <td>9</td>\n      <td>228</td>\n      <td>NaN</td>\n    </tr>\n    <tr>\n      <th>9</th>\n      <td>Firmicutes</td>\n      <td>10</td>\n      <td>162</td>\n      <td>3196.0</td>\n    </tr>\n  </tbody>\n</table>\n</div>"
     },
     "execution_count": 160,
     "metadata": {},
     "output_type": "execute_result"
    }
   ],
   "source": [
    "pd.read_csv(\"Data/microbiome_missing.csv\").head(10)"
   ]
  },
  {
   "cell_type": "markdown",
   "metadata": {},
   "source": [
    "Above, Pandas recognized `NA` and an empty field as missing data."
   ]
  },
  {
   "cell_type": "code",
   "execution_count": 161,
   "metadata": {
    "ExecuteTime": {
     "end_time": "2023-09-30T15:07:32.547651900Z",
     "start_time": "2023-09-30T15:07:30.302891Z"
    }
   },
   "outputs": [
    {
     "data": {
      "text/plain": "   Taxon  Patient  Tissue  Stool\n0  False    False   False  False\n1  False    False   False  False\n2  False    False    True  False\n3  False    False   False  False\n4  False    False   False  False\n5  False    False   False  False\n6  False    False   False  False\n7  False    False   False  False\n8  False    False   False   True\n9  False    False   False  False",
      "text/html": "<div>\n<style scoped>\n    .dataframe tbody tr th:only-of-type {\n        vertical-align: middle;\n    }\n\n    .dataframe tbody tr th {\n        vertical-align: top;\n    }\n\n    .dataframe thead th {\n        text-align: right;\n    }\n</style>\n<table border=\"1\" class=\"dataframe\">\n  <thead>\n    <tr style=\"text-align: right;\">\n      <th></th>\n      <th>Taxon</th>\n      <th>Patient</th>\n      <th>Tissue</th>\n      <th>Stool</th>\n    </tr>\n  </thead>\n  <tbody>\n    <tr>\n      <th>0</th>\n      <td>False</td>\n      <td>False</td>\n      <td>False</td>\n      <td>False</td>\n    </tr>\n    <tr>\n      <th>1</th>\n      <td>False</td>\n      <td>False</td>\n      <td>False</td>\n      <td>False</td>\n    </tr>\n    <tr>\n      <th>2</th>\n      <td>False</td>\n      <td>False</td>\n      <td>True</td>\n      <td>False</td>\n    </tr>\n    <tr>\n      <th>3</th>\n      <td>False</td>\n      <td>False</td>\n      <td>False</td>\n      <td>False</td>\n    </tr>\n    <tr>\n      <th>4</th>\n      <td>False</td>\n      <td>False</td>\n      <td>False</td>\n      <td>False</td>\n    </tr>\n    <tr>\n      <th>5</th>\n      <td>False</td>\n      <td>False</td>\n      <td>False</td>\n      <td>False</td>\n    </tr>\n    <tr>\n      <th>6</th>\n      <td>False</td>\n      <td>False</td>\n      <td>False</td>\n      <td>False</td>\n    </tr>\n    <tr>\n      <th>7</th>\n      <td>False</td>\n      <td>False</td>\n      <td>False</td>\n      <td>False</td>\n    </tr>\n    <tr>\n      <th>8</th>\n      <td>False</td>\n      <td>False</td>\n      <td>False</td>\n      <td>True</td>\n    </tr>\n    <tr>\n      <th>9</th>\n      <td>False</td>\n      <td>False</td>\n      <td>False</td>\n      <td>False</td>\n    </tr>\n  </tbody>\n</table>\n</div>"
     },
     "execution_count": 161,
     "metadata": {},
     "output_type": "execute_result"
    }
   ],
   "source": [
    "pd.isnull(pd.read_csv(\"Data/microbiome_missing.csv\")).head(10)"
   ]
  },
  {
   "cell_type": "markdown",
   "metadata": {},
   "source": [
    "Unfortunately, there will sometimes be inconsistencies in the conventions for missing data. In this example, there is a question mark \"?\" and a large negative number where there should have been a positive integer. We can specify additional symbols with the `na_values` argument:\n",
    "   "
   ]
  },
  {
   "cell_type": "code",
   "execution_count": 162,
   "metadata": {
    "ExecuteTime": {
     "end_time": "2023-09-30T15:07:32.582636300Z",
     "start_time": "2023-09-30T15:07:30.469878800Z"
    }
   },
   "outputs": [
    {
     "data": {
      "text/plain": "        Taxon  Patient  Tissue   Stool\n0  Firmicutes        1   632.0   305.0\n1  Firmicutes        2   136.0  4182.0\n2  Firmicutes        3     NaN   703.0\n3  Firmicutes        4   408.0  3946.0\n4  Firmicutes        5   831.0  8605.0\n5  Firmicutes        6   693.0    50.0\n6  Firmicutes        7   718.0   717.0\n7  Firmicutes        8   173.0    33.0\n8  Firmicutes        9   228.0     NaN\n9  Firmicutes       10   162.0  3196.0",
      "text/html": "<div>\n<style scoped>\n    .dataframe tbody tr th:only-of-type {\n        vertical-align: middle;\n    }\n\n    .dataframe tbody tr th {\n        vertical-align: top;\n    }\n\n    .dataframe thead th {\n        text-align: right;\n    }\n</style>\n<table border=\"1\" class=\"dataframe\">\n  <thead>\n    <tr style=\"text-align: right;\">\n      <th></th>\n      <th>Taxon</th>\n      <th>Patient</th>\n      <th>Tissue</th>\n      <th>Stool</th>\n    </tr>\n  </thead>\n  <tbody>\n    <tr>\n      <th>0</th>\n      <td>Firmicutes</td>\n      <td>1</td>\n      <td>632.0</td>\n      <td>305.0</td>\n    </tr>\n    <tr>\n      <th>1</th>\n      <td>Firmicutes</td>\n      <td>2</td>\n      <td>136.0</td>\n      <td>4182.0</td>\n    </tr>\n    <tr>\n      <th>2</th>\n      <td>Firmicutes</td>\n      <td>3</td>\n      <td>NaN</td>\n      <td>703.0</td>\n    </tr>\n    <tr>\n      <th>3</th>\n      <td>Firmicutes</td>\n      <td>4</td>\n      <td>408.0</td>\n      <td>3946.0</td>\n    </tr>\n    <tr>\n      <th>4</th>\n      <td>Firmicutes</td>\n      <td>5</td>\n      <td>831.0</td>\n      <td>8605.0</td>\n    </tr>\n    <tr>\n      <th>5</th>\n      <td>Firmicutes</td>\n      <td>6</td>\n      <td>693.0</td>\n      <td>50.0</td>\n    </tr>\n    <tr>\n      <th>6</th>\n      <td>Firmicutes</td>\n      <td>7</td>\n      <td>718.0</td>\n      <td>717.0</td>\n    </tr>\n    <tr>\n      <th>7</th>\n      <td>Firmicutes</td>\n      <td>8</td>\n      <td>173.0</td>\n      <td>33.0</td>\n    </tr>\n    <tr>\n      <th>8</th>\n      <td>Firmicutes</td>\n      <td>9</td>\n      <td>228.0</td>\n      <td>NaN</td>\n    </tr>\n    <tr>\n      <th>9</th>\n      <td>Firmicutes</td>\n      <td>10</td>\n      <td>162.0</td>\n      <td>3196.0</td>\n    </tr>\n  </tbody>\n</table>\n</div>"
     },
     "execution_count": 162,
     "metadata": {},
     "output_type": "execute_result"
    }
   ],
   "source": [
    "pd.read_csv(\"Data/microbiome_missing.csv\", na_values=['?', -99999]).head(10)"
   ]
  },
  {
   "cell_type": "markdown",
   "metadata": {},
   "source": [
    "These can be specified on a column-wise basis using an appropriate dict as the argument for `na_values`."
   ]
  },
  {
   "cell_type": "markdown",
   "metadata": {},
   "source": [
    "#### Microsoft Excel\n",
    "\n",
    "Since so much financial and scientific data ends up in Excel spreadsheets (regrettably), Pandas' ability to directly import Excel spreadsheets is valuable. This support is contingent on having one or two dependencies (depending on what version of Excel file is being imported) installed: `xlrd` and `openpyxl` (these may be installed with either `pip` or `easy_install`).\n",
    "\n",
    "The `read_excel` convenience function in pandas imports a specific sheet from an Excel file"
   ]
  },
  {
   "cell_type": "code",
   "execution_count": 163,
   "metadata": {
    "ExecuteTime": {
     "end_time": "2023-09-30T15:07:32.622675700Z",
     "start_time": "2023-09-30T15:07:30.620885200Z"
    }
   },
   "outputs": [
    {
     "data": {
      "text/plain": "                                                   0   1\n0  Archaea \"Crenarchaeota\" Thermoprotei Acidiloba...   2\n1  Archaea \"Crenarchaeota\" Thermoprotei Acidiloba...  14\n2  Archaea \"Crenarchaeota\" Thermoprotei Desulfuro...  23\n3  Archaea \"Crenarchaeota\" Thermoprotei Desulfuro...   1\n4  Archaea \"Crenarchaeota\" Thermoprotei Desulfuro...   2",
      "text/html": "<div>\n<style scoped>\n    .dataframe tbody tr th:only-of-type {\n        vertical-align: middle;\n    }\n\n    .dataframe tbody tr th {\n        vertical-align: top;\n    }\n\n    .dataframe thead th {\n        text-align: right;\n    }\n</style>\n<table border=\"1\" class=\"dataframe\">\n  <thead>\n    <tr style=\"text-align: right;\">\n      <th></th>\n      <th>0</th>\n      <th>1</th>\n    </tr>\n  </thead>\n  <tbody>\n    <tr>\n      <th>0</th>\n      <td>Archaea \"Crenarchaeota\" Thermoprotei Acidiloba...</td>\n      <td>2</td>\n    </tr>\n    <tr>\n      <th>1</th>\n      <td>Archaea \"Crenarchaeota\" Thermoprotei Acidiloba...</td>\n      <td>14</td>\n    </tr>\n    <tr>\n      <th>2</th>\n      <td>Archaea \"Crenarchaeota\" Thermoprotei Desulfuro...</td>\n      <td>23</td>\n    </tr>\n    <tr>\n      <th>3</th>\n      <td>Archaea \"Crenarchaeota\" Thermoprotei Desulfuro...</td>\n      <td>1</td>\n    </tr>\n    <tr>\n      <th>4</th>\n      <td>Archaea \"Crenarchaeota\" Thermoprotei Desulfuro...</td>\n      <td>2</td>\n    </tr>\n  </tbody>\n</table>\n</div>"
     },
     "execution_count": 163,
     "metadata": {},
     "output_type": "execute_result"
    }
   ],
   "source": [
    "mb = pd.read_excel('Data/microbiome_MID2.xls', sheet_name='Sheet 1', header=None)\n",
    "mb.head()"
   ]
  },
  {
   "cell_type": "markdown",
   "metadata": {},
   "source": [
    "There are several other data formats that can be imported into Python and converted into `DataFrames`, with the help of buitl-in or third-party libraries. These include JSON, XML, HDF5, relational and non-relational databases, and various web APIs. These are beyond the scope of this tutorial, but are covered in [Python for Data Analysis](http://shop.oreilly.com/product/0636920023784.do)."
   ]
  },
  {
   "cell_type": "markdown",
   "metadata": {},
   "source": [
    "## Indexing and Selection"
   ]
  },
  {
   "cell_type": "markdown",
   "metadata": {},
   "source": [
    "This section introduces the new user to the key functionality of Pandas that is required to use the software effectively.\n",
    "\n",
    "For some variety, we will leave our digestive tract bacteria behind and employ some baseball data."
   ]
  },
  {
   "cell_type": "code",
   "execution_count": 164,
   "metadata": {
    "scrolled": true,
    "ExecuteTime": {
     "end_time": "2023-09-30T15:07:32.651638600Z",
     "start_time": "2023-09-30T15:07:30.835840600Z"
    }
   },
   "outputs": [
    {
     "data": {
      "text/plain": "          player  year  stint team  lg   g  ab  r   h  X2b  ...  rbi   sb  \\\nid                                                          ...             \n88641  womacto01  2006      2  CHN  NL  19  50  6  14    1  ...  2.0  1.0   \n88643  schilcu01  2006      1  BOS  AL  31   2  0   1    0  ...  0.0  0.0   \n88645  myersmi01  2006      1  NYA  AL  62   0  0   0    0  ...  0.0  0.0   \n88649  helliri01  2006      1  MIL  NL  20   3  0   0    0  ...  0.0  0.0   \n88650  johnsra05  2006      1  NYA  AL  33   6  0   1    0  ...  0.0  0.0   \n\n        cs  bb   so  ibb  hbp   sh   sf  gidp  \nid                                             \n88641  1.0   4  4.0  0.0  0.0  3.0  0.0   0.0  \n88643  0.0   0  1.0  0.0  0.0  0.0  0.0   0.0  \n88645  0.0   0  0.0  0.0  0.0  0.0  0.0   0.0  \n88649  0.0   0  2.0  0.0  0.0  0.0  0.0   0.0  \n88650  0.0   0  4.0  0.0  0.0  0.0  0.0   0.0  \n\n[5 rows x 22 columns]",
      "text/html": "<div>\n<style scoped>\n    .dataframe tbody tr th:only-of-type {\n        vertical-align: middle;\n    }\n\n    .dataframe tbody tr th {\n        vertical-align: top;\n    }\n\n    .dataframe thead th {\n        text-align: right;\n    }\n</style>\n<table border=\"1\" class=\"dataframe\">\n  <thead>\n    <tr style=\"text-align: right;\">\n      <th></th>\n      <th>player</th>\n      <th>year</th>\n      <th>stint</th>\n      <th>team</th>\n      <th>lg</th>\n      <th>g</th>\n      <th>ab</th>\n      <th>r</th>\n      <th>h</th>\n      <th>X2b</th>\n      <th>...</th>\n      <th>rbi</th>\n      <th>sb</th>\n      <th>cs</th>\n      <th>bb</th>\n      <th>so</th>\n      <th>ibb</th>\n      <th>hbp</th>\n      <th>sh</th>\n      <th>sf</th>\n      <th>gidp</th>\n    </tr>\n    <tr>\n      <th>id</th>\n      <th></th>\n      <th></th>\n      <th></th>\n      <th></th>\n      <th></th>\n      <th></th>\n      <th></th>\n      <th></th>\n      <th></th>\n      <th></th>\n      <th></th>\n      <th></th>\n      <th></th>\n      <th></th>\n      <th></th>\n      <th></th>\n      <th></th>\n      <th></th>\n      <th></th>\n      <th></th>\n      <th></th>\n    </tr>\n  </thead>\n  <tbody>\n    <tr>\n      <th>88641</th>\n      <td>womacto01</td>\n      <td>2006</td>\n      <td>2</td>\n      <td>CHN</td>\n      <td>NL</td>\n      <td>19</td>\n      <td>50</td>\n      <td>6</td>\n      <td>14</td>\n      <td>1</td>\n      <td>...</td>\n      <td>2.0</td>\n      <td>1.0</td>\n      <td>1.0</td>\n      <td>4</td>\n      <td>4.0</td>\n      <td>0.0</td>\n      <td>0.0</td>\n      <td>3.0</td>\n      <td>0.0</td>\n      <td>0.0</td>\n    </tr>\n    <tr>\n      <th>88643</th>\n      <td>schilcu01</td>\n      <td>2006</td>\n      <td>1</td>\n      <td>BOS</td>\n      <td>AL</td>\n      <td>31</td>\n      <td>2</td>\n      <td>0</td>\n      <td>1</td>\n      <td>0</td>\n      <td>...</td>\n      <td>0.0</td>\n      <td>0.0</td>\n      <td>0.0</td>\n      <td>0</td>\n      <td>1.0</td>\n      <td>0.0</td>\n      <td>0.0</td>\n      <td>0.0</td>\n      <td>0.0</td>\n      <td>0.0</td>\n    </tr>\n    <tr>\n      <th>88645</th>\n      <td>myersmi01</td>\n      <td>2006</td>\n      <td>1</td>\n      <td>NYA</td>\n      <td>AL</td>\n      <td>62</td>\n      <td>0</td>\n      <td>0</td>\n      <td>0</td>\n      <td>0</td>\n      <td>...</td>\n      <td>0.0</td>\n      <td>0.0</td>\n      <td>0.0</td>\n      <td>0</td>\n      <td>0.0</td>\n      <td>0.0</td>\n      <td>0.0</td>\n      <td>0.0</td>\n      <td>0.0</td>\n      <td>0.0</td>\n    </tr>\n    <tr>\n      <th>88649</th>\n      <td>helliri01</td>\n      <td>2006</td>\n      <td>1</td>\n      <td>MIL</td>\n      <td>NL</td>\n      <td>20</td>\n      <td>3</td>\n      <td>0</td>\n      <td>0</td>\n      <td>0</td>\n      <td>...</td>\n      <td>0.0</td>\n      <td>0.0</td>\n      <td>0.0</td>\n      <td>0</td>\n      <td>2.0</td>\n      <td>0.0</td>\n      <td>0.0</td>\n      <td>0.0</td>\n      <td>0.0</td>\n      <td>0.0</td>\n    </tr>\n    <tr>\n      <th>88650</th>\n      <td>johnsra05</td>\n      <td>2006</td>\n      <td>1</td>\n      <td>NYA</td>\n      <td>AL</td>\n      <td>33</td>\n      <td>6</td>\n      <td>0</td>\n      <td>1</td>\n      <td>0</td>\n      <td>...</td>\n      <td>0.0</td>\n      <td>0.0</td>\n      <td>0.0</td>\n      <td>0</td>\n      <td>4.0</td>\n      <td>0.0</td>\n      <td>0.0</td>\n      <td>0.0</td>\n      <td>0.0</td>\n      <td>0.0</td>\n    </tr>\n  </tbody>\n</table>\n<p>5 rows × 22 columns</p>\n</div>"
     },
     "execution_count": 164,
     "metadata": {},
     "output_type": "execute_result"
    }
   ],
   "source": [
    "baseball = pd.read_csv(\"Data/baseball.csv\", index_col='id')\n",
    "baseball.head()"
   ]
  },
  {
   "cell_type": "markdown",
   "metadata": {},
   "source": [
    "Notice that we specified the `id` column as the index, since it appears to be a unique identifier. We could try to create a unique index ourselves by combining `player` and `year`:"
   ]
  },
  {
   "cell_type": "code",
   "execution_count": 165,
   "metadata": {
    "ExecuteTime": {
     "end_time": "2023-09-30T15:07:32.778688300Z",
     "start_time": "2023-09-30T15:07:31.095622500Z"
    }
   },
   "outputs": [
    {
     "data": {
      "text/plain": "True"
     },
     "execution_count": 165,
     "metadata": {},
     "output_type": "execute_result"
    }
   ],
   "source": [
    "baseball.index.is_unique"
   ]
  },
  {
   "cell_type": "code",
   "execution_count": 166,
   "metadata": {
    "ExecuteTime": {
     "end_time": "2023-09-30T15:07:33.194019200Z",
     "start_time": "2023-09-30T15:07:31.109623500Z"
    }
   },
   "outputs": [
    {
     "data": {
      "text/plain": "                  player  year  stint team  lg   g  ab  r   h  X2b  ...  rbi  \\\nwomacto012006  womacto01  2006      2  CHN  NL  19  50  6  14    1  ...  2.0   \nschilcu012006  schilcu01  2006      1  BOS  AL  31   2  0   1    0  ...  0.0   \nmyersmi012006  myersmi01  2006      1  NYA  AL  62   0  0   0    0  ...  0.0   \nhelliri012006  helliri01  2006      1  MIL  NL  20   3  0   0    0  ...  0.0   \njohnsra052006  johnsra05  2006      1  NYA  AL  33   6  0   1    0  ...  0.0   \n\n                sb   cs  bb   so  ibb  hbp   sh   sf  gidp  \nwomacto012006  1.0  1.0   4  4.0  0.0  0.0  3.0  0.0   0.0  \nschilcu012006  0.0  0.0   0  1.0  0.0  0.0  0.0  0.0   0.0  \nmyersmi012006  0.0  0.0   0  0.0  0.0  0.0  0.0  0.0   0.0  \nhelliri012006  0.0  0.0   0  2.0  0.0  0.0  0.0  0.0   0.0  \njohnsra052006  0.0  0.0   0  4.0  0.0  0.0  0.0  0.0   0.0  \n\n[5 rows x 22 columns]",
      "text/html": "<div>\n<style scoped>\n    .dataframe tbody tr th:only-of-type {\n        vertical-align: middle;\n    }\n\n    .dataframe tbody tr th {\n        vertical-align: top;\n    }\n\n    .dataframe thead th {\n        text-align: right;\n    }\n</style>\n<table border=\"1\" class=\"dataframe\">\n  <thead>\n    <tr style=\"text-align: right;\">\n      <th></th>\n      <th>player</th>\n      <th>year</th>\n      <th>stint</th>\n      <th>team</th>\n      <th>lg</th>\n      <th>g</th>\n      <th>ab</th>\n      <th>r</th>\n      <th>h</th>\n      <th>X2b</th>\n      <th>...</th>\n      <th>rbi</th>\n      <th>sb</th>\n      <th>cs</th>\n      <th>bb</th>\n      <th>so</th>\n      <th>ibb</th>\n      <th>hbp</th>\n      <th>sh</th>\n      <th>sf</th>\n      <th>gidp</th>\n    </tr>\n  </thead>\n  <tbody>\n    <tr>\n      <th>womacto012006</th>\n      <td>womacto01</td>\n      <td>2006</td>\n      <td>2</td>\n      <td>CHN</td>\n      <td>NL</td>\n      <td>19</td>\n      <td>50</td>\n      <td>6</td>\n      <td>14</td>\n      <td>1</td>\n      <td>...</td>\n      <td>2.0</td>\n      <td>1.0</td>\n      <td>1.0</td>\n      <td>4</td>\n      <td>4.0</td>\n      <td>0.0</td>\n      <td>0.0</td>\n      <td>3.0</td>\n      <td>0.0</td>\n      <td>0.0</td>\n    </tr>\n    <tr>\n      <th>schilcu012006</th>\n      <td>schilcu01</td>\n      <td>2006</td>\n      <td>1</td>\n      <td>BOS</td>\n      <td>AL</td>\n      <td>31</td>\n      <td>2</td>\n      <td>0</td>\n      <td>1</td>\n      <td>0</td>\n      <td>...</td>\n      <td>0.0</td>\n      <td>0.0</td>\n      <td>0.0</td>\n      <td>0</td>\n      <td>1.0</td>\n      <td>0.0</td>\n      <td>0.0</td>\n      <td>0.0</td>\n      <td>0.0</td>\n      <td>0.0</td>\n    </tr>\n    <tr>\n      <th>myersmi012006</th>\n      <td>myersmi01</td>\n      <td>2006</td>\n      <td>1</td>\n      <td>NYA</td>\n      <td>AL</td>\n      <td>62</td>\n      <td>0</td>\n      <td>0</td>\n      <td>0</td>\n      <td>0</td>\n      <td>...</td>\n      <td>0.0</td>\n      <td>0.0</td>\n      <td>0.0</td>\n      <td>0</td>\n      <td>0.0</td>\n      <td>0.0</td>\n      <td>0.0</td>\n      <td>0.0</td>\n      <td>0.0</td>\n      <td>0.0</td>\n    </tr>\n    <tr>\n      <th>helliri012006</th>\n      <td>helliri01</td>\n      <td>2006</td>\n      <td>1</td>\n      <td>MIL</td>\n      <td>NL</td>\n      <td>20</td>\n      <td>3</td>\n      <td>0</td>\n      <td>0</td>\n      <td>0</td>\n      <td>...</td>\n      <td>0.0</td>\n      <td>0.0</td>\n      <td>0.0</td>\n      <td>0</td>\n      <td>2.0</td>\n      <td>0.0</td>\n      <td>0.0</td>\n      <td>0.0</td>\n      <td>0.0</td>\n      <td>0.0</td>\n    </tr>\n    <tr>\n      <th>johnsra052006</th>\n      <td>johnsra05</td>\n      <td>2006</td>\n      <td>1</td>\n      <td>NYA</td>\n      <td>AL</td>\n      <td>33</td>\n      <td>6</td>\n      <td>0</td>\n      <td>1</td>\n      <td>0</td>\n      <td>...</td>\n      <td>0.0</td>\n      <td>0.0</td>\n      <td>0.0</td>\n      <td>0</td>\n      <td>4.0</td>\n      <td>0.0</td>\n      <td>0.0</td>\n      <td>0.0</td>\n      <td>0.0</td>\n      <td>0.0</td>\n    </tr>\n  </tbody>\n</table>\n<p>5 rows × 22 columns</p>\n</div>"
     },
     "execution_count": 166,
     "metadata": {},
     "output_type": "execute_result"
    }
   ],
   "source": [
    "player_id = baseball.player + baseball.year.astype(str)\n",
    "baseball_newind = baseball.copy()\n",
    "baseball_newind.index = player_id\n",
    "baseball_newind.head()"
   ]
  },
  {
   "cell_type": "markdown",
   "metadata": {},
   "source": [
    "This looks okay, but let's check:"
   ]
  },
  {
   "cell_type": "code",
   "execution_count": 167,
   "metadata": {
    "ExecuteTime": {
     "end_time": "2023-09-30T15:07:33.252018900Z",
     "start_time": "2023-09-30T15:07:31.202619900Z"
    }
   },
   "outputs": [
    {
     "data": {
      "text/plain": "False"
     },
     "execution_count": 167,
     "metadata": {},
     "output_type": "execute_result"
    }
   ],
   "source": [
    "baseball_newind.index.is_unique"
   ]
  },
  {
   "cell_type": "markdown",
   "metadata": {},
   "source": [
    "So, indices need not be unique. Our choice is not unique because some players change teams within years."
   ]
  },
  {
   "cell_type": "markdown",
   "metadata": {},
   "source": [
    "The most important consequence of a non-unique index is that indexing by label will return multiple values for some labels:"
   ]
  },
  {
   "cell_type": "code",
   "execution_count": 168,
   "metadata": {
    "ExecuteTime": {
     "end_time": "2023-09-30T15:07:33.290019300Z",
     "start_time": "2023-09-30T15:07:31.356621100Z"
    }
   },
   "outputs": [
    {
     "data": {
      "text/plain": "                  player  year  stint team  lg   g  ab  r  h  X2b  ...  rbi  \\\nwickmbo012007  wickmbo01  2007      2  ARI  NL   8   0  0  0    0  ...  0.0   \nwickmbo012007  wickmbo01  2007      1  ATL  NL  47   0  0  0    0  ...  0.0   \n\n                sb   cs  bb   so  ibb  hbp   sh   sf  gidp  \nwickmbo012007  0.0  0.0   0  0.0  0.0  0.0  0.0  0.0   0.0  \nwickmbo012007  0.0  0.0   0  0.0  0.0  0.0  0.0  0.0   0.0  \n\n[2 rows x 22 columns]",
      "text/html": "<div>\n<style scoped>\n    .dataframe tbody tr th:only-of-type {\n        vertical-align: middle;\n    }\n\n    .dataframe tbody tr th {\n        vertical-align: top;\n    }\n\n    .dataframe thead th {\n        text-align: right;\n    }\n</style>\n<table border=\"1\" class=\"dataframe\">\n  <thead>\n    <tr style=\"text-align: right;\">\n      <th></th>\n      <th>player</th>\n      <th>year</th>\n      <th>stint</th>\n      <th>team</th>\n      <th>lg</th>\n      <th>g</th>\n      <th>ab</th>\n      <th>r</th>\n      <th>h</th>\n      <th>X2b</th>\n      <th>...</th>\n      <th>rbi</th>\n      <th>sb</th>\n      <th>cs</th>\n      <th>bb</th>\n      <th>so</th>\n      <th>ibb</th>\n      <th>hbp</th>\n      <th>sh</th>\n      <th>sf</th>\n      <th>gidp</th>\n    </tr>\n  </thead>\n  <tbody>\n    <tr>\n      <th>wickmbo012007</th>\n      <td>wickmbo01</td>\n      <td>2007</td>\n      <td>2</td>\n      <td>ARI</td>\n      <td>NL</td>\n      <td>8</td>\n      <td>0</td>\n      <td>0</td>\n      <td>0</td>\n      <td>0</td>\n      <td>...</td>\n      <td>0.0</td>\n      <td>0.0</td>\n      <td>0.0</td>\n      <td>0</td>\n      <td>0.0</td>\n      <td>0.0</td>\n      <td>0.0</td>\n      <td>0.0</td>\n      <td>0.0</td>\n      <td>0.0</td>\n    </tr>\n    <tr>\n      <th>wickmbo012007</th>\n      <td>wickmbo01</td>\n      <td>2007</td>\n      <td>1</td>\n      <td>ATL</td>\n      <td>NL</td>\n      <td>47</td>\n      <td>0</td>\n      <td>0</td>\n      <td>0</td>\n      <td>0</td>\n      <td>...</td>\n      <td>0.0</td>\n      <td>0.0</td>\n      <td>0.0</td>\n      <td>0</td>\n      <td>0.0</td>\n      <td>0.0</td>\n      <td>0.0</td>\n      <td>0.0</td>\n      <td>0.0</td>\n      <td>0.0</td>\n    </tr>\n  </tbody>\n</table>\n<p>2 rows × 22 columns</p>\n</div>"
     },
     "execution_count": 168,
     "metadata": {},
     "output_type": "execute_result"
    }
   ],
   "source": [
    "baseball_newind.loc['wickmbo012007']"
   ]
  },
  {
   "cell_type": "markdown",
   "metadata": {},
   "source": [
    "We will learn more about indexing below."
   ]
  },
  {
   "cell_type": "markdown",
   "metadata": {},
   "source": [
    "We can create a truly unique index by combining `player`, `team` and `year`:"
   ]
  },
  {
   "cell_type": "code",
   "execution_count": 169,
   "metadata": {
    "ExecuteTime": {
     "end_time": "2023-09-30T15:07:33.364054200Z",
     "start_time": "2023-09-30T15:07:31.565490300Z"
    }
   },
   "outputs": [
    {
     "data": {
      "text/plain": "                     player  year  stint team  lg   g  ab  r   h  X2b  ...  \\\nwomacto01CHN2006  womacto01  2006      2  CHN  NL  19  50  6  14    1  ...   \nschilcu01BOS2006  schilcu01  2006      1  BOS  AL  31   2  0   1    0  ...   \nmyersmi01NYA2006  myersmi01  2006      1  NYA  AL  62   0  0   0    0  ...   \nhelliri01MIL2006  helliri01  2006      1  MIL  NL  20   3  0   0    0  ...   \njohnsra05NYA2006  johnsra05  2006      1  NYA  AL  33   6  0   1    0  ...   \n\n                  rbi   sb   cs  bb   so  ibb  hbp   sh   sf  gidp  \nwomacto01CHN2006  2.0  1.0  1.0   4  4.0  0.0  0.0  3.0  0.0   0.0  \nschilcu01BOS2006  0.0  0.0  0.0   0  1.0  0.0  0.0  0.0  0.0   0.0  \nmyersmi01NYA2006  0.0  0.0  0.0   0  0.0  0.0  0.0  0.0  0.0   0.0  \nhelliri01MIL2006  0.0  0.0  0.0   0  2.0  0.0  0.0  0.0  0.0   0.0  \njohnsra05NYA2006  0.0  0.0  0.0   0  4.0  0.0  0.0  0.0  0.0   0.0  \n\n[5 rows x 22 columns]",
      "text/html": "<div>\n<style scoped>\n    .dataframe tbody tr th:only-of-type {\n        vertical-align: middle;\n    }\n\n    .dataframe tbody tr th {\n        vertical-align: top;\n    }\n\n    .dataframe thead th {\n        text-align: right;\n    }\n</style>\n<table border=\"1\" class=\"dataframe\">\n  <thead>\n    <tr style=\"text-align: right;\">\n      <th></th>\n      <th>player</th>\n      <th>year</th>\n      <th>stint</th>\n      <th>team</th>\n      <th>lg</th>\n      <th>g</th>\n      <th>ab</th>\n      <th>r</th>\n      <th>h</th>\n      <th>X2b</th>\n      <th>...</th>\n      <th>rbi</th>\n      <th>sb</th>\n      <th>cs</th>\n      <th>bb</th>\n      <th>so</th>\n      <th>ibb</th>\n      <th>hbp</th>\n      <th>sh</th>\n      <th>sf</th>\n      <th>gidp</th>\n    </tr>\n  </thead>\n  <tbody>\n    <tr>\n      <th>womacto01CHN2006</th>\n      <td>womacto01</td>\n      <td>2006</td>\n      <td>2</td>\n      <td>CHN</td>\n      <td>NL</td>\n      <td>19</td>\n      <td>50</td>\n      <td>6</td>\n      <td>14</td>\n      <td>1</td>\n      <td>...</td>\n      <td>2.0</td>\n      <td>1.0</td>\n      <td>1.0</td>\n      <td>4</td>\n      <td>4.0</td>\n      <td>0.0</td>\n      <td>0.0</td>\n      <td>3.0</td>\n      <td>0.0</td>\n      <td>0.0</td>\n    </tr>\n    <tr>\n      <th>schilcu01BOS2006</th>\n      <td>schilcu01</td>\n      <td>2006</td>\n      <td>1</td>\n      <td>BOS</td>\n      <td>AL</td>\n      <td>31</td>\n      <td>2</td>\n      <td>0</td>\n      <td>1</td>\n      <td>0</td>\n      <td>...</td>\n      <td>0.0</td>\n      <td>0.0</td>\n      <td>0.0</td>\n      <td>0</td>\n      <td>1.0</td>\n      <td>0.0</td>\n      <td>0.0</td>\n      <td>0.0</td>\n      <td>0.0</td>\n      <td>0.0</td>\n    </tr>\n    <tr>\n      <th>myersmi01NYA2006</th>\n      <td>myersmi01</td>\n      <td>2006</td>\n      <td>1</td>\n      <td>NYA</td>\n      <td>AL</td>\n      <td>62</td>\n      <td>0</td>\n      <td>0</td>\n      <td>0</td>\n      <td>0</td>\n      <td>...</td>\n      <td>0.0</td>\n      <td>0.0</td>\n      <td>0.0</td>\n      <td>0</td>\n      <td>0.0</td>\n      <td>0.0</td>\n      <td>0.0</td>\n      <td>0.0</td>\n      <td>0.0</td>\n      <td>0.0</td>\n    </tr>\n    <tr>\n      <th>helliri01MIL2006</th>\n      <td>helliri01</td>\n      <td>2006</td>\n      <td>1</td>\n      <td>MIL</td>\n      <td>NL</td>\n      <td>20</td>\n      <td>3</td>\n      <td>0</td>\n      <td>0</td>\n      <td>0</td>\n      <td>...</td>\n      <td>0.0</td>\n      <td>0.0</td>\n      <td>0.0</td>\n      <td>0</td>\n      <td>2.0</td>\n      <td>0.0</td>\n      <td>0.0</td>\n      <td>0.0</td>\n      <td>0.0</td>\n      <td>0.0</td>\n    </tr>\n    <tr>\n      <th>johnsra05NYA2006</th>\n      <td>johnsra05</td>\n      <td>2006</td>\n      <td>1</td>\n      <td>NYA</td>\n      <td>AL</td>\n      <td>33</td>\n      <td>6</td>\n      <td>0</td>\n      <td>1</td>\n      <td>0</td>\n      <td>...</td>\n      <td>0.0</td>\n      <td>0.0</td>\n      <td>0.0</td>\n      <td>0</td>\n      <td>4.0</td>\n      <td>0.0</td>\n      <td>0.0</td>\n      <td>0.0</td>\n      <td>0.0</td>\n      <td>0.0</td>\n    </tr>\n  </tbody>\n</table>\n<p>5 rows × 22 columns</p>\n</div>"
     },
     "execution_count": 169,
     "metadata": {},
     "output_type": "execute_result"
    }
   ],
   "source": [
    "player_unique = baseball.player + baseball.team + baseball.year.astype(str)\n",
    "baseball_newind = baseball.copy()\n",
    "baseball_newind.index = player_unique\n",
    "baseball_newind.head()"
   ]
  },
  {
   "cell_type": "code",
   "execution_count": 170,
   "metadata": {
    "ExecuteTime": {
     "end_time": "2023-09-30T15:07:33.365160400Z",
     "start_time": "2023-09-30T15:07:31.600547100Z"
    }
   },
   "outputs": [
    {
     "data": {
      "text/plain": "True"
     },
     "execution_count": 170,
     "metadata": {},
     "output_type": "execute_result"
    }
   ],
   "source": [
    "baseball_newind.index.is_unique"
   ]
  },
  {
   "cell_type": "markdown",
   "metadata": {},
   "source": [
    "We can create meaningful indices more easily using a hierarchical index; for now, we will stick with the numeric `id` field as our index."
   ]
  },
  {
   "cell_type": "markdown",
   "metadata": {},
   "source": [
    "### Exercise 3\n",
    "Build another unique index without using the same columns as `player_unique`."
   ]
  },
  {
   "cell_type": "code",
   "execution_count": 171,
   "metadata": {
    "ExecuteTime": {
     "end_time": "2023-09-30T15:07:33.400754Z",
     "start_time": "2023-09-30T15:07:31.724783100Z"
    }
   },
   "outputs": [
    {
     "data": {
      "text/plain": "True"
     },
     "execution_count": 171,
     "metadata": {},
     "output_type": "execute_result"
    }
   ],
   "source": [
    "player_unique = baseball.team + baseball.year.astype(str) + baseball.player\n",
    "player_unique.is_unique"
   ]
  },
  {
   "cell_type": "markdown",
   "metadata": {},
   "source": [
    "\n",
    "Indexing works analogously to indexing in NumPy arrays, except we can use the labels in the `Index` object to extract values in addition to arrays of integers."
   ]
  },
  {
   "cell_type": "code",
   "execution_count": 172,
   "metadata": {
    "ExecuteTime": {
     "end_time": "2023-09-30T15:07:33.443753900Z",
     "start_time": "2023-09-30T15:07:31.829782100Z"
    }
   },
   "outputs": [
    {
     "data": {
      "text/plain": "                     player  year  stint team  lg   g  ab  r   h  X2b  ...  \\\nwomacto01CHN2006  womacto01  2006      2  CHN  NL  19  50  6  14    1  ...   \nschilcu01BOS2006  schilcu01  2006      1  BOS  AL  31   2  0   1    0  ...   \nmyersmi01NYA2006  myersmi01  2006      1  NYA  AL  62   0  0   0    0  ...   \n\n                  rbi   sb   cs  bb   so  ibb  hbp   sh   sf  gidp  \nwomacto01CHN2006  2.0  1.0  1.0   4  4.0  0.0  0.0  3.0  0.0   0.0  \nschilcu01BOS2006  0.0  0.0  0.0   0  1.0  0.0  0.0  0.0  0.0   0.0  \nmyersmi01NYA2006  0.0  0.0  0.0   0  0.0  0.0  0.0  0.0  0.0   0.0  \n\n[3 rows x 22 columns]",
      "text/html": "<div>\n<style scoped>\n    .dataframe tbody tr th:only-of-type {\n        vertical-align: middle;\n    }\n\n    .dataframe tbody tr th {\n        vertical-align: top;\n    }\n\n    .dataframe thead th {\n        text-align: right;\n    }\n</style>\n<table border=\"1\" class=\"dataframe\">\n  <thead>\n    <tr style=\"text-align: right;\">\n      <th></th>\n      <th>player</th>\n      <th>year</th>\n      <th>stint</th>\n      <th>team</th>\n      <th>lg</th>\n      <th>g</th>\n      <th>ab</th>\n      <th>r</th>\n      <th>h</th>\n      <th>X2b</th>\n      <th>...</th>\n      <th>rbi</th>\n      <th>sb</th>\n      <th>cs</th>\n      <th>bb</th>\n      <th>so</th>\n      <th>ibb</th>\n      <th>hbp</th>\n      <th>sh</th>\n      <th>sf</th>\n      <th>gidp</th>\n    </tr>\n  </thead>\n  <tbody>\n    <tr>\n      <th>womacto01CHN2006</th>\n      <td>womacto01</td>\n      <td>2006</td>\n      <td>2</td>\n      <td>CHN</td>\n      <td>NL</td>\n      <td>19</td>\n      <td>50</td>\n      <td>6</td>\n      <td>14</td>\n      <td>1</td>\n      <td>...</td>\n      <td>2.0</td>\n      <td>1.0</td>\n      <td>1.0</td>\n      <td>4</td>\n      <td>4.0</td>\n      <td>0.0</td>\n      <td>0.0</td>\n      <td>3.0</td>\n      <td>0.0</td>\n      <td>0.0</td>\n    </tr>\n    <tr>\n      <th>schilcu01BOS2006</th>\n      <td>schilcu01</td>\n      <td>2006</td>\n      <td>1</td>\n      <td>BOS</td>\n      <td>AL</td>\n      <td>31</td>\n      <td>2</td>\n      <td>0</td>\n      <td>1</td>\n      <td>0</td>\n      <td>...</td>\n      <td>0.0</td>\n      <td>0.0</td>\n      <td>0.0</td>\n      <td>0</td>\n      <td>1.0</td>\n      <td>0.0</td>\n      <td>0.0</td>\n      <td>0.0</td>\n      <td>0.0</td>\n      <td>0.0</td>\n    </tr>\n    <tr>\n      <th>myersmi01NYA2006</th>\n      <td>myersmi01</td>\n      <td>2006</td>\n      <td>1</td>\n      <td>NYA</td>\n      <td>AL</td>\n      <td>62</td>\n      <td>0</td>\n      <td>0</td>\n      <td>0</td>\n      <td>0</td>\n      <td>...</td>\n      <td>0.0</td>\n      <td>0.0</td>\n      <td>0.0</td>\n      <td>0</td>\n      <td>0.0</td>\n      <td>0.0</td>\n      <td>0.0</td>\n      <td>0.0</td>\n      <td>0.0</td>\n      <td>0.0</td>\n    </tr>\n  </tbody>\n</table>\n<p>3 rows × 22 columns</p>\n</div>"
     },
     "execution_count": 172,
     "metadata": {},
     "output_type": "execute_result"
    }
   ],
   "source": [
    "# Numpy-style indexing\n",
    "baseball_newind[:3]"
   ]
  },
  {
   "cell_type": "markdown",
   "metadata": {},
   "source": [
    "We can also slice with data labels, since they have an intrinsic order within the Index:"
   ]
  },
  {
   "cell_type": "code",
   "execution_count": 173,
   "metadata": {
    "ExecuteTime": {
     "end_time": "2023-09-30T15:07:33.521752500Z",
     "start_time": "2023-09-30T15:07:31.940853200Z"
    }
   },
   "outputs": [
    {
     "data": {
      "text/plain": "                     player  year  stint team  lg    g   ab   r    h  X2b  \\\nwomacto01CHN2006  womacto01  2006      2  CHN  NL   19   50   6   14    1   \nschilcu01BOS2006  schilcu01  2006      1  BOS  AL   31    2   0    1    0   \nmyersmi01NYA2006  myersmi01  2006      1  NYA  AL   62    0   0    0    0   \nhelliri01MIL2006  helliri01  2006      1  MIL  NL   20    3   0    0    0   \njohnsra05NYA2006  johnsra05  2006      1  NYA  AL   33    6   0    1    0   \nfinlest01SFN2006  finlest01  2006      1  SFN  NL  139  426  66  105   21   \ngonzalu01ARI2006  gonzalu01  2006      1  ARI  NL  153  586  93  159   52   \n\n                  ...   rbi   sb   cs  bb    so   ibb  hbp   sh   sf  gidp  \nwomacto01CHN2006  ...   2.0  1.0  1.0   4   4.0   0.0  0.0  3.0  0.0   0.0  \nschilcu01BOS2006  ...   0.0  0.0  0.0   0   1.0   0.0  0.0  0.0  0.0   0.0  \nmyersmi01NYA2006  ...   0.0  0.0  0.0   0   0.0   0.0  0.0  0.0  0.0   0.0  \nhelliri01MIL2006  ...   0.0  0.0  0.0   0   2.0   0.0  0.0  0.0  0.0   0.0  \njohnsra05NYA2006  ...   0.0  0.0  0.0   0   4.0   0.0  0.0  0.0  0.0   0.0  \nfinlest01SFN2006  ...  40.0  7.0  0.0  46  55.0   2.0  2.0  3.0  4.0   6.0  \ngonzalu01ARI2006  ...  73.0  0.0  1.0  69  58.0  10.0  7.0  0.0  6.0  14.0  \n\n[7 rows x 22 columns]",
      "text/html": "<div>\n<style scoped>\n    .dataframe tbody tr th:only-of-type {\n        vertical-align: middle;\n    }\n\n    .dataframe tbody tr th {\n        vertical-align: top;\n    }\n\n    .dataframe thead th {\n        text-align: right;\n    }\n</style>\n<table border=\"1\" class=\"dataframe\">\n  <thead>\n    <tr style=\"text-align: right;\">\n      <th></th>\n      <th>player</th>\n      <th>year</th>\n      <th>stint</th>\n      <th>team</th>\n      <th>lg</th>\n      <th>g</th>\n      <th>ab</th>\n      <th>r</th>\n      <th>h</th>\n      <th>X2b</th>\n      <th>...</th>\n      <th>rbi</th>\n      <th>sb</th>\n      <th>cs</th>\n      <th>bb</th>\n      <th>so</th>\n      <th>ibb</th>\n      <th>hbp</th>\n      <th>sh</th>\n      <th>sf</th>\n      <th>gidp</th>\n    </tr>\n  </thead>\n  <tbody>\n    <tr>\n      <th>womacto01CHN2006</th>\n      <td>womacto01</td>\n      <td>2006</td>\n      <td>2</td>\n      <td>CHN</td>\n      <td>NL</td>\n      <td>19</td>\n      <td>50</td>\n      <td>6</td>\n      <td>14</td>\n      <td>1</td>\n      <td>...</td>\n      <td>2.0</td>\n      <td>1.0</td>\n      <td>1.0</td>\n      <td>4</td>\n      <td>4.0</td>\n      <td>0.0</td>\n      <td>0.0</td>\n      <td>3.0</td>\n      <td>0.0</td>\n      <td>0.0</td>\n    </tr>\n    <tr>\n      <th>schilcu01BOS2006</th>\n      <td>schilcu01</td>\n      <td>2006</td>\n      <td>1</td>\n      <td>BOS</td>\n      <td>AL</td>\n      <td>31</td>\n      <td>2</td>\n      <td>0</td>\n      <td>1</td>\n      <td>0</td>\n      <td>...</td>\n      <td>0.0</td>\n      <td>0.0</td>\n      <td>0.0</td>\n      <td>0</td>\n      <td>1.0</td>\n      <td>0.0</td>\n      <td>0.0</td>\n      <td>0.0</td>\n      <td>0.0</td>\n      <td>0.0</td>\n    </tr>\n    <tr>\n      <th>myersmi01NYA2006</th>\n      <td>myersmi01</td>\n      <td>2006</td>\n      <td>1</td>\n      <td>NYA</td>\n      <td>AL</td>\n      <td>62</td>\n      <td>0</td>\n      <td>0</td>\n      <td>0</td>\n      <td>0</td>\n      <td>...</td>\n      <td>0.0</td>\n      <td>0.0</td>\n      <td>0.0</td>\n      <td>0</td>\n      <td>0.0</td>\n      <td>0.0</td>\n      <td>0.0</td>\n      <td>0.0</td>\n      <td>0.0</td>\n      <td>0.0</td>\n    </tr>\n    <tr>\n      <th>helliri01MIL2006</th>\n      <td>helliri01</td>\n      <td>2006</td>\n      <td>1</td>\n      <td>MIL</td>\n      <td>NL</td>\n      <td>20</td>\n      <td>3</td>\n      <td>0</td>\n      <td>0</td>\n      <td>0</td>\n      <td>...</td>\n      <td>0.0</td>\n      <td>0.0</td>\n      <td>0.0</td>\n      <td>0</td>\n      <td>2.0</td>\n      <td>0.0</td>\n      <td>0.0</td>\n      <td>0.0</td>\n      <td>0.0</td>\n      <td>0.0</td>\n    </tr>\n    <tr>\n      <th>johnsra05NYA2006</th>\n      <td>johnsra05</td>\n      <td>2006</td>\n      <td>1</td>\n      <td>NYA</td>\n      <td>AL</td>\n      <td>33</td>\n      <td>6</td>\n      <td>0</td>\n      <td>1</td>\n      <td>0</td>\n      <td>...</td>\n      <td>0.0</td>\n      <td>0.0</td>\n      <td>0.0</td>\n      <td>0</td>\n      <td>4.0</td>\n      <td>0.0</td>\n      <td>0.0</td>\n      <td>0.0</td>\n      <td>0.0</td>\n      <td>0.0</td>\n    </tr>\n    <tr>\n      <th>finlest01SFN2006</th>\n      <td>finlest01</td>\n      <td>2006</td>\n      <td>1</td>\n      <td>SFN</td>\n      <td>NL</td>\n      <td>139</td>\n      <td>426</td>\n      <td>66</td>\n      <td>105</td>\n      <td>21</td>\n      <td>...</td>\n      <td>40.0</td>\n      <td>7.0</td>\n      <td>0.0</td>\n      <td>46</td>\n      <td>55.0</td>\n      <td>2.0</td>\n      <td>2.0</td>\n      <td>3.0</td>\n      <td>4.0</td>\n      <td>6.0</td>\n    </tr>\n    <tr>\n      <th>gonzalu01ARI2006</th>\n      <td>gonzalu01</td>\n      <td>2006</td>\n      <td>1</td>\n      <td>ARI</td>\n      <td>NL</td>\n      <td>153</td>\n      <td>586</td>\n      <td>93</td>\n      <td>159</td>\n      <td>52</td>\n      <td>...</td>\n      <td>73.0</td>\n      <td>0.0</td>\n      <td>1.0</td>\n      <td>69</td>\n      <td>58.0</td>\n      <td>10.0</td>\n      <td>7.0</td>\n      <td>0.0</td>\n      <td>6.0</td>\n      <td>14.0</td>\n    </tr>\n  </tbody>\n</table>\n<p>7 rows × 22 columns</p>\n</div>"
     },
     "execution_count": 173,
     "metadata": {},
     "output_type": "execute_result"
    }
   ],
   "source": [
    "baseball_newind['womacto01CHN2006':'gonzalu01ARI2006']"
   ]
  },
  {
   "cell_type": "code",
   "execution_count": 174,
   "metadata": {
    "ExecuteTime": {
     "end_time": "2023-09-30T15:07:33.522754300Z",
     "start_time": "2023-09-30T15:07:31.966735500Z"
    }
   },
   "outputs": [
    {
     "data": {
      "text/plain": "                     player  year  stint team  lg   g  ab  r   h  X2b  ...  \\\nwomacto01CHN2006          5     5      5    5   5   5   5  5   5    5  ...   \nschilcu01BOS2006          5     5      5    5   5   5   5  5   5    5  ...   \nmyersmi01NYA2006          5     5      5    5   5   5   5  5   5    5  ...   \nhelliri01MIL2006          5     5      5    5   5   5   5  5   5    5  ...   \njohnsra05NYA2006          5     5      5    5   5   5   5  5   5    5  ...   \nfinlest01SFN2006          5     5      5    5   5   5   5  5   5    5  ...   \ngonzalu01ARI2006          5     5      5    5   5   5   5  5   5    5  ...   \nseleaa01LAN2006    seleaa01  2006      1  LAN  NL  28  26  2   5    1  ...   \nfrancju01ATL2007  francju01  2007      2  ATL  NL  15  40  1  10    3  ...   \nfrancju01NYN2007  francju01  2007      1  NYN  NL  40  50  7  10    0  ...   \n\n                  rbi   sb   cs  bb    so  ibb  hbp   sh   sf  gidp  \nwomacto01CHN2006  5.0  5.0  5.0   5   5.0  5.0  5.0  5.0  5.0   5.0  \nschilcu01BOS2006  5.0  5.0  5.0   5   5.0  5.0  5.0  5.0  5.0   5.0  \nmyersmi01NYA2006  5.0  5.0  5.0   5   5.0  5.0  5.0  5.0  5.0   5.0  \nhelliri01MIL2006  5.0  5.0  5.0   5   5.0  5.0  5.0  5.0  5.0   5.0  \njohnsra05NYA2006  5.0  5.0  5.0   5   5.0  5.0  5.0  5.0  5.0   5.0  \nfinlest01SFN2006  5.0  5.0  5.0   5   5.0  5.0  5.0  5.0  5.0   5.0  \ngonzalu01ARI2006  5.0  5.0  5.0   5   5.0  5.0  5.0  5.0  5.0   5.0  \nseleaa01LAN2006   0.0  0.0  0.0   1   7.0  0.0  0.0  6.0  0.0   1.0  \nfrancju01ATL2007  8.0  0.0  0.0   4  10.0  1.0  0.0  0.0  1.0   1.0  \nfrancju01NYN2007  8.0  2.0  1.0  10  13.0  0.0  0.0  0.0  1.0   1.0  \n\n[10 rows x 22 columns]",
      "text/html": "<div>\n<style scoped>\n    .dataframe tbody tr th:only-of-type {\n        vertical-align: middle;\n    }\n\n    .dataframe tbody tr th {\n        vertical-align: top;\n    }\n\n    .dataframe thead th {\n        text-align: right;\n    }\n</style>\n<table border=\"1\" class=\"dataframe\">\n  <thead>\n    <tr style=\"text-align: right;\">\n      <th></th>\n      <th>player</th>\n      <th>year</th>\n      <th>stint</th>\n      <th>team</th>\n      <th>lg</th>\n      <th>g</th>\n      <th>ab</th>\n      <th>r</th>\n      <th>h</th>\n      <th>X2b</th>\n      <th>...</th>\n      <th>rbi</th>\n      <th>sb</th>\n      <th>cs</th>\n      <th>bb</th>\n      <th>so</th>\n      <th>ibb</th>\n      <th>hbp</th>\n      <th>sh</th>\n      <th>sf</th>\n      <th>gidp</th>\n    </tr>\n  </thead>\n  <tbody>\n    <tr>\n      <th>womacto01CHN2006</th>\n      <td>5</td>\n      <td>5</td>\n      <td>5</td>\n      <td>5</td>\n      <td>5</td>\n      <td>5</td>\n      <td>5</td>\n      <td>5</td>\n      <td>5</td>\n      <td>5</td>\n      <td>...</td>\n      <td>5.0</td>\n      <td>5.0</td>\n      <td>5.0</td>\n      <td>5</td>\n      <td>5.0</td>\n      <td>5.0</td>\n      <td>5.0</td>\n      <td>5.0</td>\n      <td>5.0</td>\n      <td>5.0</td>\n    </tr>\n    <tr>\n      <th>schilcu01BOS2006</th>\n      <td>5</td>\n      <td>5</td>\n      <td>5</td>\n      <td>5</td>\n      <td>5</td>\n      <td>5</td>\n      <td>5</td>\n      <td>5</td>\n      <td>5</td>\n      <td>5</td>\n      <td>...</td>\n      <td>5.0</td>\n      <td>5.0</td>\n      <td>5.0</td>\n      <td>5</td>\n      <td>5.0</td>\n      <td>5.0</td>\n      <td>5.0</td>\n      <td>5.0</td>\n      <td>5.0</td>\n      <td>5.0</td>\n    </tr>\n    <tr>\n      <th>myersmi01NYA2006</th>\n      <td>5</td>\n      <td>5</td>\n      <td>5</td>\n      <td>5</td>\n      <td>5</td>\n      <td>5</td>\n      <td>5</td>\n      <td>5</td>\n      <td>5</td>\n      <td>5</td>\n      <td>...</td>\n      <td>5.0</td>\n      <td>5.0</td>\n      <td>5.0</td>\n      <td>5</td>\n      <td>5.0</td>\n      <td>5.0</td>\n      <td>5.0</td>\n      <td>5.0</td>\n      <td>5.0</td>\n      <td>5.0</td>\n    </tr>\n    <tr>\n      <th>helliri01MIL2006</th>\n      <td>5</td>\n      <td>5</td>\n      <td>5</td>\n      <td>5</td>\n      <td>5</td>\n      <td>5</td>\n      <td>5</td>\n      <td>5</td>\n      <td>5</td>\n      <td>5</td>\n      <td>...</td>\n      <td>5.0</td>\n      <td>5.0</td>\n      <td>5.0</td>\n      <td>5</td>\n      <td>5.0</td>\n      <td>5.0</td>\n      <td>5.0</td>\n      <td>5.0</td>\n      <td>5.0</td>\n      <td>5.0</td>\n    </tr>\n    <tr>\n      <th>johnsra05NYA2006</th>\n      <td>5</td>\n      <td>5</td>\n      <td>5</td>\n      <td>5</td>\n      <td>5</td>\n      <td>5</td>\n      <td>5</td>\n      <td>5</td>\n      <td>5</td>\n      <td>5</td>\n      <td>...</td>\n      <td>5.0</td>\n      <td>5.0</td>\n      <td>5.0</td>\n      <td>5</td>\n      <td>5.0</td>\n      <td>5.0</td>\n      <td>5.0</td>\n      <td>5.0</td>\n      <td>5.0</td>\n      <td>5.0</td>\n    </tr>\n    <tr>\n      <th>finlest01SFN2006</th>\n      <td>5</td>\n      <td>5</td>\n      <td>5</td>\n      <td>5</td>\n      <td>5</td>\n      <td>5</td>\n      <td>5</td>\n      <td>5</td>\n      <td>5</td>\n      <td>5</td>\n      <td>...</td>\n      <td>5.0</td>\n      <td>5.0</td>\n      <td>5.0</td>\n      <td>5</td>\n      <td>5.0</td>\n      <td>5.0</td>\n      <td>5.0</td>\n      <td>5.0</td>\n      <td>5.0</td>\n      <td>5.0</td>\n    </tr>\n    <tr>\n      <th>gonzalu01ARI2006</th>\n      <td>5</td>\n      <td>5</td>\n      <td>5</td>\n      <td>5</td>\n      <td>5</td>\n      <td>5</td>\n      <td>5</td>\n      <td>5</td>\n      <td>5</td>\n      <td>5</td>\n      <td>...</td>\n      <td>5.0</td>\n      <td>5.0</td>\n      <td>5.0</td>\n      <td>5</td>\n      <td>5.0</td>\n      <td>5.0</td>\n      <td>5.0</td>\n      <td>5.0</td>\n      <td>5.0</td>\n      <td>5.0</td>\n    </tr>\n    <tr>\n      <th>seleaa01LAN2006</th>\n      <td>seleaa01</td>\n      <td>2006</td>\n      <td>1</td>\n      <td>LAN</td>\n      <td>NL</td>\n      <td>28</td>\n      <td>26</td>\n      <td>2</td>\n      <td>5</td>\n      <td>1</td>\n      <td>...</td>\n      <td>0.0</td>\n      <td>0.0</td>\n      <td>0.0</td>\n      <td>1</td>\n      <td>7.0</td>\n      <td>0.0</td>\n      <td>0.0</td>\n      <td>6.0</td>\n      <td>0.0</td>\n      <td>1.0</td>\n    </tr>\n    <tr>\n      <th>francju01ATL2007</th>\n      <td>francju01</td>\n      <td>2007</td>\n      <td>2</td>\n      <td>ATL</td>\n      <td>NL</td>\n      <td>15</td>\n      <td>40</td>\n      <td>1</td>\n      <td>10</td>\n      <td>3</td>\n      <td>...</td>\n      <td>8.0</td>\n      <td>0.0</td>\n      <td>0.0</td>\n      <td>4</td>\n      <td>10.0</td>\n      <td>1.0</td>\n      <td>0.0</td>\n      <td>0.0</td>\n      <td>1.0</td>\n      <td>1.0</td>\n    </tr>\n    <tr>\n      <th>francju01NYN2007</th>\n      <td>francju01</td>\n      <td>2007</td>\n      <td>1</td>\n      <td>NYN</td>\n      <td>NL</td>\n      <td>40</td>\n      <td>50</td>\n      <td>7</td>\n      <td>10</td>\n      <td>0</td>\n      <td>...</td>\n      <td>8.0</td>\n      <td>2.0</td>\n      <td>1.0</td>\n      <td>10</td>\n      <td>13.0</td>\n      <td>0.0</td>\n      <td>0.0</td>\n      <td>0.0</td>\n      <td>1.0</td>\n      <td>1.0</td>\n    </tr>\n  </tbody>\n</table>\n<p>10 rows × 22 columns</p>\n</div>"
     },
     "execution_count": 174,
     "metadata": {},
     "output_type": "execute_result"
    }
   ],
   "source": [
    "baseball_newind['womacto01CHN2006':'gonzalu01ARI2006'] = 5\n",
    "baseball_newind.head(10)"
   ]
  },
  {
   "cell_type": "markdown",
   "metadata": {},
   "source": [
    "For a more concise (and readable) syntax, we can use the new `query` method to perform selection on a `DataFrame`. Instead of having to type the fully-specified column, we can simply pass a string that describes what to select. The query above is then simply:"
   ]
  },
  {
   "cell_type": "code",
   "execution_count": 175,
   "metadata": {
    "ExecuteTime": {
     "end_time": "2023-09-30T15:07:33.581755800Z",
     "start_time": "2023-09-30T15:07:32.104931300Z"
    }
   },
   "outputs": [
    {
     "data": {
      "text/plain": "                     player  year  stint team  lg    g   ab   r    h  X2b  \\\nvizquom01SFN2007  vizquom01  2007      1  SFN  NL  145  513  54  126   18   \nthomafr04TOR2007  thomafr04  2007      1  TOR  AL  155  531  63  147   30   \nrodriiv01DET2007  rodriiv01  2007      1  DET  AL  129  502  50  141   31   \ngriffke02CIN2007  griffke02  2007      1  CIN  NL  144  528  78  146   24   \ndelgaca01NYN2007  delgaca01  2007      1  NYN  NL  139  538  71  139   30   \nbiggicr01HOU2007  biggicr01  2007      1  HOU  NL  141  517  68  130   31   \n\n                  ...   rbi    sb   cs  bb     so   ibb   hbp    sh   sf  gidp  \nvizquom01SFN2007  ...  51.0  14.0  6.0  44   48.0   6.0   1.0  14.0  3.0  14.0  \nthomafr04TOR2007  ...  95.0   0.0  0.0  81   94.0   3.0   7.0   0.0  5.0  14.0  \nrodriiv01DET2007  ...  63.0   2.0  2.0   9   96.0   1.0   1.0   1.0  2.0  16.0  \ngriffke02CIN2007  ...  93.0   6.0  1.0  85   99.0  14.0   1.0   0.0  9.0  14.0  \ndelgaca01NYN2007  ...  87.0   4.0  0.0  52  118.0   8.0  11.0   0.0  6.0  12.0  \nbiggicr01HOU2007  ...  50.0   4.0  3.0  23  112.0   0.0   3.0   7.0  5.0   5.0  \n\n[6 rows x 22 columns]",
      "text/html": "<div>\n<style scoped>\n    .dataframe tbody tr th:only-of-type {\n        vertical-align: middle;\n    }\n\n    .dataframe tbody tr th {\n        vertical-align: top;\n    }\n\n    .dataframe thead th {\n        text-align: right;\n    }\n</style>\n<table border=\"1\" class=\"dataframe\">\n  <thead>\n    <tr style=\"text-align: right;\">\n      <th></th>\n      <th>player</th>\n      <th>year</th>\n      <th>stint</th>\n      <th>team</th>\n      <th>lg</th>\n      <th>g</th>\n      <th>ab</th>\n      <th>r</th>\n      <th>h</th>\n      <th>X2b</th>\n      <th>...</th>\n      <th>rbi</th>\n      <th>sb</th>\n      <th>cs</th>\n      <th>bb</th>\n      <th>so</th>\n      <th>ibb</th>\n      <th>hbp</th>\n      <th>sh</th>\n      <th>sf</th>\n      <th>gidp</th>\n    </tr>\n  </thead>\n  <tbody>\n    <tr>\n      <th>vizquom01SFN2007</th>\n      <td>vizquom01</td>\n      <td>2007</td>\n      <td>1</td>\n      <td>SFN</td>\n      <td>NL</td>\n      <td>145</td>\n      <td>513</td>\n      <td>54</td>\n      <td>126</td>\n      <td>18</td>\n      <td>...</td>\n      <td>51.0</td>\n      <td>14.0</td>\n      <td>6.0</td>\n      <td>44</td>\n      <td>48.0</td>\n      <td>6.0</td>\n      <td>1.0</td>\n      <td>14.0</td>\n      <td>3.0</td>\n      <td>14.0</td>\n    </tr>\n    <tr>\n      <th>thomafr04TOR2007</th>\n      <td>thomafr04</td>\n      <td>2007</td>\n      <td>1</td>\n      <td>TOR</td>\n      <td>AL</td>\n      <td>155</td>\n      <td>531</td>\n      <td>63</td>\n      <td>147</td>\n      <td>30</td>\n      <td>...</td>\n      <td>95.0</td>\n      <td>0.0</td>\n      <td>0.0</td>\n      <td>81</td>\n      <td>94.0</td>\n      <td>3.0</td>\n      <td>7.0</td>\n      <td>0.0</td>\n      <td>5.0</td>\n      <td>14.0</td>\n    </tr>\n    <tr>\n      <th>rodriiv01DET2007</th>\n      <td>rodriiv01</td>\n      <td>2007</td>\n      <td>1</td>\n      <td>DET</td>\n      <td>AL</td>\n      <td>129</td>\n      <td>502</td>\n      <td>50</td>\n      <td>141</td>\n      <td>31</td>\n      <td>...</td>\n      <td>63.0</td>\n      <td>2.0</td>\n      <td>2.0</td>\n      <td>9</td>\n      <td>96.0</td>\n      <td>1.0</td>\n      <td>1.0</td>\n      <td>1.0</td>\n      <td>2.0</td>\n      <td>16.0</td>\n    </tr>\n    <tr>\n      <th>griffke02CIN2007</th>\n      <td>griffke02</td>\n      <td>2007</td>\n      <td>1</td>\n      <td>CIN</td>\n      <td>NL</td>\n      <td>144</td>\n      <td>528</td>\n      <td>78</td>\n      <td>146</td>\n      <td>24</td>\n      <td>...</td>\n      <td>93.0</td>\n      <td>6.0</td>\n      <td>1.0</td>\n      <td>85</td>\n      <td>99.0</td>\n      <td>14.0</td>\n      <td>1.0</td>\n      <td>0.0</td>\n      <td>9.0</td>\n      <td>14.0</td>\n    </tr>\n    <tr>\n      <th>delgaca01NYN2007</th>\n      <td>delgaca01</td>\n      <td>2007</td>\n      <td>1</td>\n      <td>NYN</td>\n      <td>NL</td>\n      <td>139</td>\n      <td>538</td>\n      <td>71</td>\n      <td>139</td>\n      <td>30</td>\n      <td>...</td>\n      <td>87.0</td>\n      <td>4.0</td>\n      <td>0.0</td>\n      <td>52</td>\n      <td>118.0</td>\n      <td>8.0</td>\n      <td>11.0</td>\n      <td>0.0</td>\n      <td>6.0</td>\n      <td>12.0</td>\n    </tr>\n    <tr>\n      <th>biggicr01HOU2007</th>\n      <td>biggicr01</td>\n      <td>2007</td>\n      <td>1</td>\n      <td>HOU</td>\n      <td>NL</td>\n      <td>141</td>\n      <td>517</td>\n      <td>68</td>\n      <td>130</td>\n      <td>31</td>\n      <td>...</td>\n      <td>50.0</td>\n      <td>4.0</td>\n      <td>3.0</td>\n      <td>23</td>\n      <td>112.0</td>\n      <td>0.0</td>\n      <td>3.0</td>\n      <td>7.0</td>\n      <td>5.0</td>\n      <td>5.0</td>\n    </tr>\n  </tbody>\n</table>\n<p>6 rows × 22 columns</p>\n</div>"
     },
     "execution_count": 175,
     "metadata": {},
     "output_type": "execute_result"
    }
   ],
   "source": [
    "baseball_newind.query('ab > 500')"
   ]
  },
  {
   "cell_type": "markdown",
   "metadata": {},
   "source": [
    "The `DataFrame.index` and `DataFrame.columns` are placed in the query namespace by default. If you want to refer to a variable in the current namespace, you can prefix the variable with `@`:"
   ]
  },
  {
   "cell_type": "code",
   "execution_count": 176,
   "metadata": {
    "ExecuteTime": {
     "end_time": "2023-09-30T15:07:33.618056700Z",
     "start_time": "2023-09-30T15:07:32.184923900Z"
    }
   },
   "outputs": [],
   "source": [
    "min_ab = 500"
   ]
  },
  {
   "cell_type": "code",
   "execution_count": 177,
   "metadata": {
    "ExecuteTime": {
     "end_time": "2023-09-30T15:07:33.661056700Z",
     "start_time": "2023-09-30T15:07:32.223964700Z"
    }
   },
   "outputs": [
    {
     "data": {
      "text/plain": "                     player  year  stint team  lg    g   ab   r    h  X2b  \\\nvizquom01SFN2007  vizquom01  2007      1  SFN  NL  145  513  54  126   18   \nthomafr04TOR2007  thomafr04  2007      1  TOR  AL  155  531  63  147   30   \nrodriiv01DET2007  rodriiv01  2007      1  DET  AL  129  502  50  141   31   \ngriffke02CIN2007  griffke02  2007      1  CIN  NL  144  528  78  146   24   \ndelgaca01NYN2007  delgaca01  2007      1  NYN  NL  139  538  71  139   30   \nbiggicr01HOU2007  biggicr01  2007      1  HOU  NL  141  517  68  130   31   \n\n                  ...   rbi    sb   cs  bb     so   ibb   hbp    sh   sf  gidp  \nvizquom01SFN2007  ...  51.0  14.0  6.0  44   48.0   6.0   1.0  14.0  3.0  14.0  \nthomafr04TOR2007  ...  95.0   0.0  0.0  81   94.0   3.0   7.0   0.0  5.0  14.0  \nrodriiv01DET2007  ...  63.0   2.0  2.0   9   96.0   1.0   1.0   1.0  2.0  16.0  \ngriffke02CIN2007  ...  93.0   6.0  1.0  85   99.0  14.0   1.0   0.0  9.0  14.0  \ndelgaca01NYN2007  ...  87.0   4.0  0.0  52  118.0   8.0  11.0   0.0  6.0  12.0  \nbiggicr01HOU2007  ...  50.0   4.0  3.0  23  112.0   0.0   3.0   7.0  5.0   5.0  \n\n[6 rows x 22 columns]",
      "text/html": "<div>\n<style scoped>\n    .dataframe tbody tr th:only-of-type {\n        vertical-align: middle;\n    }\n\n    .dataframe tbody tr th {\n        vertical-align: top;\n    }\n\n    .dataframe thead th {\n        text-align: right;\n    }\n</style>\n<table border=\"1\" class=\"dataframe\">\n  <thead>\n    <tr style=\"text-align: right;\">\n      <th></th>\n      <th>player</th>\n      <th>year</th>\n      <th>stint</th>\n      <th>team</th>\n      <th>lg</th>\n      <th>g</th>\n      <th>ab</th>\n      <th>r</th>\n      <th>h</th>\n      <th>X2b</th>\n      <th>...</th>\n      <th>rbi</th>\n      <th>sb</th>\n      <th>cs</th>\n      <th>bb</th>\n      <th>so</th>\n      <th>ibb</th>\n      <th>hbp</th>\n      <th>sh</th>\n      <th>sf</th>\n      <th>gidp</th>\n    </tr>\n  </thead>\n  <tbody>\n    <tr>\n      <th>vizquom01SFN2007</th>\n      <td>vizquom01</td>\n      <td>2007</td>\n      <td>1</td>\n      <td>SFN</td>\n      <td>NL</td>\n      <td>145</td>\n      <td>513</td>\n      <td>54</td>\n      <td>126</td>\n      <td>18</td>\n      <td>...</td>\n      <td>51.0</td>\n      <td>14.0</td>\n      <td>6.0</td>\n      <td>44</td>\n      <td>48.0</td>\n      <td>6.0</td>\n      <td>1.0</td>\n      <td>14.0</td>\n      <td>3.0</td>\n      <td>14.0</td>\n    </tr>\n    <tr>\n      <th>thomafr04TOR2007</th>\n      <td>thomafr04</td>\n      <td>2007</td>\n      <td>1</td>\n      <td>TOR</td>\n      <td>AL</td>\n      <td>155</td>\n      <td>531</td>\n      <td>63</td>\n      <td>147</td>\n      <td>30</td>\n      <td>...</td>\n      <td>95.0</td>\n      <td>0.0</td>\n      <td>0.0</td>\n      <td>81</td>\n      <td>94.0</td>\n      <td>3.0</td>\n      <td>7.0</td>\n      <td>0.0</td>\n      <td>5.0</td>\n      <td>14.0</td>\n    </tr>\n    <tr>\n      <th>rodriiv01DET2007</th>\n      <td>rodriiv01</td>\n      <td>2007</td>\n      <td>1</td>\n      <td>DET</td>\n      <td>AL</td>\n      <td>129</td>\n      <td>502</td>\n      <td>50</td>\n      <td>141</td>\n      <td>31</td>\n      <td>...</td>\n      <td>63.0</td>\n      <td>2.0</td>\n      <td>2.0</td>\n      <td>9</td>\n      <td>96.0</td>\n      <td>1.0</td>\n      <td>1.0</td>\n      <td>1.0</td>\n      <td>2.0</td>\n      <td>16.0</td>\n    </tr>\n    <tr>\n      <th>griffke02CIN2007</th>\n      <td>griffke02</td>\n      <td>2007</td>\n      <td>1</td>\n      <td>CIN</td>\n      <td>NL</td>\n      <td>144</td>\n      <td>528</td>\n      <td>78</td>\n      <td>146</td>\n      <td>24</td>\n      <td>...</td>\n      <td>93.0</td>\n      <td>6.0</td>\n      <td>1.0</td>\n      <td>85</td>\n      <td>99.0</td>\n      <td>14.0</td>\n      <td>1.0</td>\n      <td>0.0</td>\n      <td>9.0</td>\n      <td>14.0</td>\n    </tr>\n    <tr>\n      <th>delgaca01NYN2007</th>\n      <td>delgaca01</td>\n      <td>2007</td>\n      <td>1</td>\n      <td>NYN</td>\n      <td>NL</td>\n      <td>139</td>\n      <td>538</td>\n      <td>71</td>\n      <td>139</td>\n      <td>30</td>\n      <td>...</td>\n      <td>87.0</td>\n      <td>4.0</td>\n      <td>0.0</td>\n      <td>52</td>\n      <td>118.0</td>\n      <td>8.0</td>\n      <td>11.0</td>\n      <td>0.0</td>\n      <td>6.0</td>\n      <td>12.0</td>\n    </tr>\n    <tr>\n      <th>biggicr01HOU2007</th>\n      <td>biggicr01</td>\n      <td>2007</td>\n      <td>1</td>\n      <td>HOU</td>\n      <td>NL</td>\n      <td>141</td>\n      <td>517</td>\n      <td>68</td>\n      <td>130</td>\n      <td>31</td>\n      <td>...</td>\n      <td>50.0</td>\n      <td>4.0</td>\n      <td>3.0</td>\n      <td>23</td>\n      <td>112.0</td>\n      <td>0.0</td>\n      <td>3.0</td>\n      <td>7.0</td>\n      <td>5.0</td>\n      <td>5.0</td>\n    </tr>\n  </tbody>\n</table>\n<p>6 rows × 22 columns</p>\n</div>"
     },
     "execution_count": 177,
     "metadata": {},
     "output_type": "execute_result"
    }
   ],
   "source": [
    "baseball_newind.query('ab > @min_ab')"
   ]
  },
  {
   "cell_type": "markdown",
   "metadata": {},
   "source": [
    "The indexing field `loc` allows us to select subsets of rows and columns in an intuitive way:"
   ]
  },
  {
   "cell_type": "code",
   "execution_count": 178,
   "metadata": {
    "ExecuteTime": {
     "end_time": "2023-09-30T15:07:33.702061300Z",
     "start_time": "2023-09-30T15:07:32.412609400Z"
    }
   },
   "outputs": [
    {
     "data": {
      "text/plain": "h      5\nX2b    5\nX3b    5\nhr     5\nName: gonzalu01ARI2006, dtype: object"
     },
     "execution_count": 178,
     "metadata": {},
     "output_type": "execute_result"
    }
   ],
   "source": [
    "baseball_newind.loc['gonzalu01ARI2006', ['h','X2b', 'X3b', 'hr']]"
   ]
  },
  {
   "cell_type": "code",
   "execution_count": 179,
   "metadata": {
    "ExecuteTime": {
     "end_time": "2023-09-30T15:07:39.647300400Z",
     "start_time": "2023-09-30T15:07:39.531380500Z"
    }
   },
   "outputs": [
    {
     "data": {
      "text/plain": "womacto01CHN2006    5\nschilcu01BOS2006    5\nmyersmi01NYA2006    5\nName: hr, dtype: int64"
     },
     "execution_count": 179,
     "metadata": {},
     "output_type": "execute_result"
    }
   ],
   "source": [
    "baseball_newind.loc[:'myersmi01NYA2006', 'hr']"
   ]
  },
  {
   "cell_type": "markdown",
   "metadata": {},
   "source": [
    "In addition to using `loc` to select rows and columns by **label**, pandas also allows indexing by **position** using the `iloc` attribute.\n",
    "\n",
    "So, we can query rows and columns by absolute position, rather than by name:"
   ]
  },
  {
   "cell_type": "code",
   "execution_count": 180,
   "metadata": {
    "ExecuteTime": {
     "end_time": "2023-09-30T15:07:40.598755800Z",
     "start_time": "2023-09-30T15:07:40.388752400Z"
    }
   },
   "outputs": [
    {
     "data": {
      "text/plain": "                  g  ab  r\nwomacto01CHN2006  5   5  5\nschilcu01BOS2006  5   5  5\nmyersmi01NYA2006  5   5  5\nhelliri01MIL2006  5   5  5\njohnsra05NYA2006  5   5  5",
      "text/html": "<div>\n<style scoped>\n    .dataframe tbody tr th:only-of-type {\n        vertical-align: middle;\n    }\n\n    .dataframe tbody tr th {\n        vertical-align: top;\n    }\n\n    .dataframe thead th {\n        text-align: right;\n    }\n</style>\n<table border=\"1\" class=\"dataframe\">\n  <thead>\n    <tr style=\"text-align: right;\">\n      <th></th>\n      <th>g</th>\n      <th>ab</th>\n      <th>r</th>\n    </tr>\n  </thead>\n  <tbody>\n    <tr>\n      <th>womacto01CHN2006</th>\n      <td>5</td>\n      <td>5</td>\n      <td>5</td>\n    </tr>\n    <tr>\n      <th>schilcu01BOS2006</th>\n      <td>5</td>\n      <td>5</td>\n      <td>5</td>\n    </tr>\n    <tr>\n      <th>myersmi01NYA2006</th>\n      <td>5</td>\n      <td>5</td>\n      <td>5</td>\n    </tr>\n    <tr>\n      <th>helliri01MIL2006</th>\n      <td>5</td>\n      <td>5</td>\n      <td>5</td>\n    </tr>\n    <tr>\n      <th>johnsra05NYA2006</th>\n      <td>5</td>\n      <td>5</td>\n      <td>5</td>\n    </tr>\n  </tbody>\n</table>\n</div>"
     },
     "execution_count": 180,
     "metadata": {},
     "output_type": "execute_result"
    }
   ],
   "source": [
    "baseball_newind.iloc[:5, 5:8]"
   ]
  },
  {
   "cell_type": "markdown",
   "metadata": {},
   "source": [
    "### Exercise 4\n",
    "\n",
    "You can use the `isin` method query a DataFrame based upon a list of values as follows: \n",
    "\n",
    "    data['phylum'].isin(['Firmicutes', 'Bacteroidetes'])\n",
    "\n",
    "Use `isin` on `baseball`to find all players that played for the Los Angeles Dodgers (LAN) or the San Francisco Giants (SFN). How many records contain these values?"
   ]
  },
  {
   "cell_type": "code",
   "execution_count": 181,
   "metadata": {
    "ExecuteTime": {
     "end_time": "2023-09-30T15:07:42.905823900Z",
     "start_time": "2023-09-30T15:07:42.762832Z"
    }
   },
   "outputs": [
    {
     "data": {
      "text/plain": "15"
     },
     "execution_count": 181,
     "metadata": {},
     "output_type": "execute_result"
    }
   ],
   "source": [
    "len(baseball[baseball.team.isin(['LAN', 'SFN'])])"
   ]
  },
  {
   "cell_type": "markdown",
   "metadata": {},
   "source": [
    "## Hierarchical indexing\n",
    "\n",
    "In the baseball example, it was necessary to combine 3 fields to obtain a unique index that was not simply an integer value. A more elegant way to have done this would be to create a hierarchical index from the three fields."
   ]
  },
  {
   "cell_type": "code",
   "execution_count": 182,
   "metadata": {
    "ExecuteTime": {
     "end_time": "2023-09-30T15:08:00.630208200Z",
     "start_time": "2023-09-30T15:08:00.560136Z"
    }
   },
   "outputs": [
    {
     "data": {
      "text/plain": "                     stint  lg    g   ab   r    h  X2b  X3b  hr   rbi   sb  \\\nyear team player                                                             \n2006 CHN  womacto01      2  NL   19   50   6   14    1    0   1   2.0  1.0   \n     BOS  schilcu01      1  AL   31    2   0    1    0    0   0   0.0  0.0   \n     NYA  myersmi01      1  AL   62    0   0    0    0    0   0   0.0  0.0   \n     MIL  helliri01      1  NL   20    3   0    0    0    0   0   0.0  0.0   \n     NYA  johnsra05      1  AL   33    6   0    1    0    0   0   0.0  0.0   \n     SFN  finlest01      1  NL  139  426  66  105   21   12   6  40.0  7.0   \n     ARI  gonzalu01      1  NL  153  586  93  159   52    2  15  73.0  0.0   \n     LAN  seleaa01       1  NL   28   26   2    5    1    0   0   0.0  0.0   \n2007 ATL  francju01      2  NL   15   40   1   10    3    0   0   8.0  0.0   \n     NYN  francju01      1  NL   40   50   7   10    0    0   1   8.0  2.0   \n\n                      cs  bb    so   ibb  hbp   sh   sf  gidp  \nyear team player                                               \n2006 CHN  womacto01  1.0   4   4.0   0.0  0.0  3.0  0.0   0.0  \n     BOS  schilcu01  0.0   0   1.0   0.0  0.0  0.0  0.0   0.0  \n     NYA  myersmi01  0.0   0   0.0   0.0  0.0  0.0  0.0   0.0  \n     MIL  helliri01  0.0   0   2.0   0.0  0.0  0.0  0.0   0.0  \n     NYA  johnsra05  0.0   0   4.0   0.0  0.0  0.0  0.0   0.0  \n     SFN  finlest01  0.0  46  55.0   2.0  2.0  3.0  4.0   6.0  \n     ARI  gonzalu01  1.0  69  58.0  10.0  7.0  0.0  6.0  14.0  \n     LAN  seleaa01   0.0   1   7.0   0.0  0.0  6.0  0.0   1.0  \n2007 ATL  francju01  0.0   4  10.0   1.0  0.0  0.0  1.0   1.0  \n     NYN  francju01  1.0  10  13.0   0.0  0.0  0.0  1.0   1.0  ",
      "text/html": "<div>\n<style scoped>\n    .dataframe tbody tr th:only-of-type {\n        vertical-align: middle;\n    }\n\n    .dataframe tbody tr th {\n        vertical-align: top;\n    }\n\n    .dataframe thead th {\n        text-align: right;\n    }\n</style>\n<table border=\"1\" class=\"dataframe\">\n  <thead>\n    <tr style=\"text-align: right;\">\n      <th></th>\n      <th></th>\n      <th></th>\n      <th>stint</th>\n      <th>lg</th>\n      <th>g</th>\n      <th>ab</th>\n      <th>r</th>\n      <th>h</th>\n      <th>X2b</th>\n      <th>X3b</th>\n      <th>hr</th>\n      <th>rbi</th>\n      <th>sb</th>\n      <th>cs</th>\n      <th>bb</th>\n      <th>so</th>\n      <th>ibb</th>\n      <th>hbp</th>\n      <th>sh</th>\n      <th>sf</th>\n      <th>gidp</th>\n    </tr>\n    <tr>\n      <th>year</th>\n      <th>team</th>\n      <th>player</th>\n      <th></th>\n      <th></th>\n      <th></th>\n      <th></th>\n      <th></th>\n      <th></th>\n      <th></th>\n      <th></th>\n      <th></th>\n      <th></th>\n      <th></th>\n      <th></th>\n      <th></th>\n      <th></th>\n      <th></th>\n      <th></th>\n      <th></th>\n      <th></th>\n      <th></th>\n    </tr>\n  </thead>\n  <tbody>\n    <tr>\n      <th rowspan=\"8\" valign=\"top\">2006</th>\n      <th>CHN</th>\n      <th>womacto01</th>\n      <td>2</td>\n      <td>NL</td>\n      <td>19</td>\n      <td>50</td>\n      <td>6</td>\n      <td>14</td>\n      <td>1</td>\n      <td>0</td>\n      <td>1</td>\n      <td>2.0</td>\n      <td>1.0</td>\n      <td>1.0</td>\n      <td>4</td>\n      <td>4.0</td>\n      <td>0.0</td>\n      <td>0.0</td>\n      <td>3.0</td>\n      <td>0.0</td>\n      <td>0.0</td>\n    </tr>\n    <tr>\n      <th>BOS</th>\n      <th>schilcu01</th>\n      <td>1</td>\n      <td>AL</td>\n      <td>31</td>\n      <td>2</td>\n      <td>0</td>\n      <td>1</td>\n      <td>0</td>\n      <td>0</td>\n      <td>0</td>\n      <td>0.0</td>\n      <td>0.0</td>\n      <td>0.0</td>\n      <td>0</td>\n      <td>1.0</td>\n      <td>0.0</td>\n      <td>0.0</td>\n      <td>0.0</td>\n      <td>0.0</td>\n      <td>0.0</td>\n    </tr>\n    <tr>\n      <th>NYA</th>\n      <th>myersmi01</th>\n      <td>1</td>\n      <td>AL</td>\n      <td>62</td>\n      <td>0</td>\n      <td>0</td>\n      <td>0</td>\n      <td>0</td>\n      <td>0</td>\n      <td>0</td>\n      <td>0.0</td>\n      <td>0.0</td>\n      <td>0.0</td>\n      <td>0</td>\n      <td>0.0</td>\n      <td>0.0</td>\n      <td>0.0</td>\n      <td>0.0</td>\n      <td>0.0</td>\n      <td>0.0</td>\n    </tr>\n    <tr>\n      <th>MIL</th>\n      <th>helliri01</th>\n      <td>1</td>\n      <td>NL</td>\n      <td>20</td>\n      <td>3</td>\n      <td>0</td>\n      <td>0</td>\n      <td>0</td>\n      <td>0</td>\n      <td>0</td>\n      <td>0.0</td>\n      <td>0.0</td>\n      <td>0.0</td>\n      <td>0</td>\n      <td>2.0</td>\n      <td>0.0</td>\n      <td>0.0</td>\n      <td>0.0</td>\n      <td>0.0</td>\n      <td>0.0</td>\n    </tr>\n    <tr>\n      <th>NYA</th>\n      <th>johnsra05</th>\n      <td>1</td>\n      <td>AL</td>\n      <td>33</td>\n      <td>6</td>\n      <td>0</td>\n      <td>1</td>\n      <td>0</td>\n      <td>0</td>\n      <td>0</td>\n      <td>0.0</td>\n      <td>0.0</td>\n      <td>0.0</td>\n      <td>0</td>\n      <td>4.0</td>\n      <td>0.0</td>\n      <td>0.0</td>\n      <td>0.0</td>\n      <td>0.0</td>\n      <td>0.0</td>\n    </tr>\n    <tr>\n      <th>SFN</th>\n      <th>finlest01</th>\n      <td>1</td>\n      <td>NL</td>\n      <td>139</td>\n      <td>426</td>\n      <td>66</td>\n      <td>105</td>\n      <td>21</td>\n      <td>12</td>\n      <td>6</td>\n      <td>40.0</td>\n      <td>7.0</td>\n      <td>0.0</td>\n      <td>46</td>\n      <td>55.0</td>\n      <td>2.0</td>\n      <td>2.0</td>\n      <td>3.0</td>\n      <td>4.0</td>\n      <td>6.0</td>\n    </tr>\n    <tr>\n      <th>ARI</th>\n      <th>gonzalu01</th>\n      <td>1</td>\n      <td>NL</td>\n      <td>153</td>\n      <td>586</td>\n      <td>93</td>\n      <td>159</td>\n      <td>52</td>\n      <td>2</td>\n      <td>15</td>\n      <td>73.0</td>\n      <td>0.0</td>\n      <td>1.0</td>\n      <td>69</td>\n      <td>58.0</td>\n      <td>10.0</td>\n      <td>7.0</td>\n      <td>0.0</td>\n      <td>6.0</td>\n      <td>14.0</td>\n    </tr>\n    <tr>\n      <th>LAN</th>\n      <th>seleaa01</th>\n      <td>1</td>\n      <td>NL</td>\n      <td>28</td>\n      <td>26</td>\n      <td>2</td>\n      <td>5</td>\n      <td>1</td>\n      <td>0</td>\n      <td>0</td>\n      <td>0.0</td>\n      <td>0.0</td>\n      <td>0.0</td>\n      <td>1</td>\n      <td>7.0</td>\n      <td>0.0</td>\n      <td>0.0</td>\n      <td>6.0</td>\n      <td>0.0</td>\n      <td>1.0</td>\n    </tr>\n    <tr>\n      <th rowspan=\"2\" valign=\"top\">2007</th>\n      <th>ATL</th>\n      <th>francju01</th>\n      <td>2</td>\n      <td>NL</td>\n      <td>15</td>\n      <td>40</td>\n      <td>1</td>\n      <td>10</td>\n      <td>3</td>\n      <td>0</td>\n      <td>0</td>\n      <td>8.0</td>\n      <td>0.0</td>\n      <td>0.0</td>\n      <td>4</td>\n      <td>10.0</td>\n      <td>1.0</td>\n      <td>0.0</td>\n      <td>0.0</td>\n      <td>1.0</td>\n      <td>1.0</td>\n    </tr>\n    <tr>\n      <th>NYN</th>\n      <th>francju01</th>\n      <td>1</td>\n      <td>NL</td>\n      <td>40</td>\n      <td>50</td>\n      <td>7</td>\n      <td>10</td>\n      <td>0</td>\n      <td>0</td>\n      <td>1</td>\n      <td>8.0</td>\n      <td>2.0</td>\n      <td>1.0</td>\n      <td>10</td>\n      <td>13.0</td>\n      <td>0.0</td>\n      <td>0.0</td>\n      <td>0.0</td>\n      <td>1.0</td>\n      <td>1.0</td>\n    </tr>\n  </tbody>\n</table>\n</div>"
     },
     "execution_count": 182,
     "metadata": {},
     "output_type": "execute_result"
    }
   ],
   "source": [
    "baseball_h = baseball.set_index(['year', 'team', 'player'])\n",
    "baseball_h.head(10)"
   ]
  },
  {
   "cell_type": "code",
   "execution_count": 183,
   "metadata": {
    "ExecuteTime": {
     "end_time": "2023-09-30T15:08:15.330481200Z",
     "start_time": "2023-09-30T15:08:15.185483800Z"
    }
   },
   "outputs": [
    {
     "data": {
      "text/plain": "True"
     },
     "execution_count": 183,
     "metadata": {},
     "output_type": "execute_result"
    }
   ],
   "source": [
    "baseball_h.index.is_unique"
   ]
  },
  {
   "cell_type": "markdown",
   "metadata": {},
   "source": [
    "Try using this hierarchical index to retrieve Julio Franco (`francju01`), who played for the Atlanta Braves (`ATL`) in 2007:"
   ]
  },
  {
   "cell_type": "code",
   "execution_count": 184,
   "metadata": {
    "ExecuteTime": {
     "end_time": "2023-09-30T15:08:33.975824800Z",
     "start_time": "2023-09-30T15:08:33.839824800Z"
    }
   },
   "outputs": [
    {
     "data": {
      "text/plain": "stint       2\nlg         NL\ng          15\nab         40\nr           1\nh          10\nX2b         3\nX3b         0\nhr          0\nrbi       8.0\nsb        0.0\ncs        0.0\nbb          4\nso       10.0\nibb       1.0\nhbp       0.0\nsh        0.0\nsf        1.0\ngidp      1.0\nName: (2007, ATL, francju01), dtype: object"
     },
     "execution_count": 184,
     "metadata": {},
     "output_type": "execute_result"
    }
   ],
   "source": [
    "baseball_h.loc[(2007, 'ATL', 'francju01')]"
   ]
  },
  {
   "cell_type": "markdown",
   "metadata": {},
   "source": [
    "Recall earlier we imported some microbiome data using two index columns. This created a 2-level hierarchical index:"
   ]
  },
  {
   "cell_type": "code",
   "execution_count": 185,
   "metadata": {
    "ExecuteTime": {
     "end_time": "2023-09-30T15:08:51.809990200Z",
     "start_time": "2023-09-30T15:08:51.751988600Z"
    }
   },
   "outputs": [],
   "source": [
    "mb = pd.read_csv(\"Data/microbiome.csv\", index_col=['Taxon','Patient'])"
   ]
  },
  {
   "cell_type": "code",
   "execution_count": 186,
   "metadata": {
    "ExecuteTime": {
     "end_time": "2023-09-30T15:08:52.271028700Z",
     "start_time": "2023-09-30T15:08:52.145997900Z"
    }
   },
   "outputs": [
    {
     "data": {
      "text/plain": "                    Group  Tissue  Stool\nTaxon      Patient                      \nFirmicutes 1            0     136   4182\n           2            1    1174    703\n           3            0     408   3946\n           4            1     831   8605\n           5            0     693     50\n           6            1     718    717\n           7            0     173     33\n           8            1     228     80\n           9            0     162   3196\n           10           1     372     32",
      "text/html": "<div>\n<style scoped>\n    .dataframe tbody tr th:only-of-type {\n        vertical-align: middle;\n    }\n\n    .dataframe tbody tr th {\n        vertical-align: top;\n    }\n\n    .dataframe thead th {\n        text-align: right;\n    }\n</style>\n<table border=\"1\" class=\"dataframe\">\n  <thead>\n    <tr style=\"text-align: right;\">\n      <th></th>\n      <th></th>\n      <th>Group</th>\n      <th>Tissue</th>\n      <th>Stool</th>\n    </tr>\n    <tr>\n      <th>Taxon</th>\n      <th>Patient</th>\n      <th></th>\n      <th></th>\n      <th></th>\n    </tr>\n  </thead>\n  <tbody>\n    <tr>\n      <th rowspan=\"10\" valign=\"top\">Firmicutes</th>\n      <th>1</th>\n      <td>0</td>\n      <td>136</td>\n      <td>4182</td>\n    </tr>\n    <tr>\n      <th>2</th>\n      <td>1</td>\n      <td>1174</td>\n      <td>703</td>\n    </tr>\n    <tr>\n      <th>3</th>\n      <td>0</td>\n      <td>408</td>\n      <td>3946</td>\n    </tr>\n    <tr>\n      <th>4</th>\n      <td>1</td>\n      <td>831</td>\n      <td>8605</td>\n    </tr>\n    <tr>\n      <th>5</th>\n      <td>0</td>\n      <td>693</td>\n      <td>50</td>\n    </tr>\n    <tr>\n      <th>6</th>\n      <td>1</td>\n      <td>718</td>\n      <td>717</td>\n    </tr>\n    <tr>\n      <th>7</th>\n      <td>0</td>\n      <td>173</td>\n      <td>33</td>\n    </tr>\n    <tr>\n      <th>8</th>\n      <td>1</td>\n      <td>228</td>\n      <td>80</td>\n    </tr>\n    <tr>\n      <th>9</th>\n      <td>0</td>\n      <td>162</td>\n      <td>3196</td>\n    </tr>\n    <tr>\n      <th>10</th>\n      <td>1</td>\n      <td>372</td>\n      <td>32</td>\n    </tr>\n  </tbody>\n</table>\n</div>"
     },
     "execution_count": 186,
     "metadata": {},
     "output_type": "execute_result"
    }
   ],
   "source": [
    "mb.head(10)"
   ]
  },
  {
   "cell_type": "markdown",
   "metadata": {},
   "source": [
    "With a hierachical index, we can select subsets of the data based on a *partial* index:"
   ]
  },
  {
   "cell_type": "code",
   "execution_count": 187,
   "metadata": {
    "ExecuteTime": {
     "end_time": "2023-09-30T15:09:34.645483900Z",
     "start_time": "2023-09-30T15:09:34.542390800Z"
    }
   },
   "outputs": [
    {
     "data": {
      "text/plain": "         Group  Tissue  Stool\nPatient                      \n1            0    2469   1821\n2            1     839    661\n3            0    4414     18\n4            1   12044     83\n5            0    2310     12\n6            1    3053    547\n7            0     395   2174\n8            1    2651    767\n9            0    1195     76\n10           1    6857    795\n11           0     483    666\n12           1    2950   3994\n13           0    1541    816\n14           1    1307     53",
      "text/html": "<div>\n<style scoped>\n    .dataframe tbody tr th:only-of-type {\n        vertical-align: middle;\n    }\n\n    .dataframe tbody tr th {\n        vertical-align: top;\n    }\n\n    .dataframe thead th {\n        text-align: right;\n    }\n</style>\n<table border=\"1\" class=\"dataframe\">\n  <thead>\n    <tr style=\"text-align: right;\">\n      <th></th>\n      <th>Group</th>\n      <th>Tissue</th>\n      <th>Stool</th>\n    </tr>\n    <tr>\n      <th>Patient</th>\n      <th></th>\n      <th></th>\n      <th></th>\n    </tr>\n  </thead>\n  <tbody>\n    <tr>\n      <th>1</th>\n      <td>0</td>\n      <td>2469</td>\n      <td>1821</td>\n    </tr>\n    <tr>\n      <th>2</th>\n      <td>1</td>\n      <td>839</td>\n      <td>661</td>\n    </tr>\n    <tr>\n      <th>3</th>\n      <td>0</td>\n      <td>4414</td>\n      <td>18</td>\n    </tr>\n    <tr>\n      <th>4</th>\n      <td>1</td>\n      <td>12044</td>\n      <td>83</td>\n    </tr>\n    <tr>\n      <th>5</th>\n      <td>0</td>\n      <td>2310</td>\n      <td>12</td>\n    </tr>\n    <tr>\n      <th>6</th>\n      <td>1</td>\n      <td>3053</td>\n      <td>547</td>\n    </tr>\n    <tr>\n      <th>7</th>\n      <td>0</td>\n      <td>395</td>\n      <td>2174</td>\n    </tr>\n    <tr>\n      <th>8</th>\n      <td>1</td>\n      <td>2651</td>\n      <td>767</td>\n    </tr>\n    <tr>\n      <th>9</th>\n      <td>0</td>\n      <td>1195</td>\n      <td>76</td>\n    </tr>\n    <tr>\n      <th>10</th>\n      <td>1</td>\n      <td>6857</td>\n      <td>795</td>\n    </tr>\n    <tr>\n      <th>11</th>\n      <td>0</td>\n      <td>483</td>\n      <td>666</td>\n    </tr>\n    <tr>\n      <th>12</th>\n      <td>1</td>\n      <td>2950</td>\n      <td>3994</td>\n    </tr>\n    <tr>\n      <th>13</th>\n      <td>0</td>\n      <td>1541</td>\n      <td>816</td>\n    </tr>\n    <tr>\n      <th>14</th>\n      <td>1</td>\n      <td>1307</td>\n      <td>53</td>\n    </tr>\n  </tbody>\n</table>\n</div>"
     },
     "execution_count": 187,
     "metadata": {},
     "output_type": "execute_result"
    }
   ],
   "source": [
    "mb.loc['Proteobacteria']"
   ]
  },
  {
   "cell_type": "markdown",
   "metadata": {},
   "source": [
    "Hierarchical indices can be created on either or **both axes**. Here is a trivial example:"
   ]
  },
  {
   "cell_type": "code",
   "execution_count": 188,
   "metadata": {
    "ExecuteTime": {
     "end_time": "2023-09-30T15:10:40.030396800Z",
     "start_time": "2023-09-30T15:10:39.930396300Z"
    }
   },
   "outputs": [
    {
     "data": {
      "text/plain": "     Ohio     Colorado\n    Green Red    Green\na 1     0   1        2\n  2     3   4        5\nb 1     6   7        8\n  2     9  10       11",
      "text/html": "<div>\n<style scoped>\n    .dataframe tbody tr th:only-of-type {\n        vertical-align: middle;\n    }\n\n    .dataframe tbody tr th {\n        vertical-align: top;\n    }\n\n    .dataframe thead tr th {\n        text-align: left;\n    }\n</style>\n<table border=\"1\" class=\"dataframe\">\n  <thead>\n    <tr>\n      <th></th>\n      <th></th>\n      <th colspan=\"2\" halign=\"left\">Ohio</th>\n      <th>Colorado</th>\n    </tr>\n    <tr>\n      <th></th>\n      <th></th>\n      <th>Green</th>\n      <th>Red</th>\n      <th>Green</th>\n    </tr>\n  </thead>\n  <tbody>\n    <tr>\n      <th rowspan=\"2\" valign=\"top\">a</th>\n      <th>1</th>\n      <td>0</td>\n      <td>1</td>\n      <td>2</td>\n    </tr>\n    <tr>\n      <th>2</th>\n      <td>3</td>\n      <td>4</td>\n      <td>5</td>\n    </tr>\n    <tr>\n      <th rowspan=\"2\" valign=\"top\">b</th>\n      <th>1</th>\n      <td>6</td>\n      <td>7</td>\n      <td>8</td>\n    </tr>\n    <tr>\n      <th>2</th>\n      <td>9</td>\n      <td>10</td>\n      <td>11</td>\n    </tr>\n  </tbody>\n</table>\n</div>"
     },
     "execution_count": 188,
     "metadata": {},
     "output_type": "execute_result"
    }
   ],
   "source": [
    "frame = pd.DataFrame(np.arange(12).reshape(( 4, 3)), \n",
    "                  index =[['a', 'a', 'b', 'b'], [1, 2, 1, 2]], \n",
    "                  columns =[['Ohio', 'Ohio', 'Colorado'], ['Green', 'Red', 'Green']])\n",
    "\n",
    "frame"
   ]
  },
  {
   "cell_type": "markdown",
   "metadata": {},
   "source": [
    "If you want to get fancy, both the row and column indices themselves can be given names:"
   ]
  },
  {
   "cell_type": "code",
   "execution_count": 189,
   "metadata": {
    "ExecuteTime": {
     "end_time": "2023-09-30T15:11:29.141921700Z",
     "start_time": "2023-09-30T15:11:29.026889400Z"
    }
   },
   "outputs": [
    {
     "data": {
      "text/plain": "state      Ohio     Colorado\ncolor     Green Red    Green\nkey1 key2                   \na    1        0   1        2\n     2        3   4        5\nb    1        6   7        8\n     2        9  10       11",
      "text/html": "<div>\n<style scoped>\n    .dataframe tbody tr th:only-of-type {\n        vertical-align: middle;\n    }\n\n    .dataframe tbody tr th {\n        vertical-align: top;\n    }\n\n    .dataframe thead tr th {\n        text-align: left;\n    }\n\n    .dataframe thead tr:last-of-type th {\n        text-align: right;\n    }\n</style>\n<table border=\"1\" class=\"dataframe\">\n  <thead>\n    <tr>\n      <th></th>\n      <th>state</th>\n      <th colspan=\"2\" halign=\"left\">Ohio</th>\n      <th>Colorado</th>\n    </tr>\n    <tr>\n      <th></th>\n      <th>color</th>\n      <th>Green</th>\n      <th>Red</th>\n      <th>Green</th>\n    </tr>\n    <tr>\n      <th>key1</th>\n      <th>key2</th>\n      <th></th>\n      <th></th>\n      <th></th>\n    </tr>\n  </thead>\n  <tbody>\n    <tr>\n      <th rowspan=\"2\" valign=\"top\">a</th>\n      <th>1</th>\n      <td>0</td>\n      <td>1</td>\n      <td>2</td>\n    </tr>\n    <tr>\n      <th>2</th>\n      <td>3</td>\n      <td>4</td>\n      <td>5</td>\n    </tr>\n    <tr>\n      <th rowspan=\"2\" valign=\"top\">b</th>\n      <th>1</th>\n      <td>6</td>\n      <td>7</td>\n      <td>8</td>\n    </tr>\n    <tr>\n      <th>2</th>\n      <td>9</td>\n      <td>10</td>\n      <td>11</td>\n    </tr>\n  </tbody>\n</table>\n</div>"
     },
     "execution_count": 189,
     "metadata": {},
     "output_type": "execute_result"
    }
   ],
   "source": [
    "frame.index.names = ['key1', 'key2']\n",
    "frame.columns.names = ['state', 'color']\n",
    "frame"
   ]
  },
  {
   "cell_type": "markdown",
   "metadata": {},
   "source": [
    "Additionally, the order of the set of indices in a hierarchical `MultiIndex` can be changed by swapping them pairwise:"
   ]
  },
  {
   "cell_type": "code",
   "execution_count": 190,
   "metadata": {
    "ExecuteTime": {
     "end_time": "2023-09-30T15:11:56.365930Z",
     "start_time": "2023-09-30T15:11:56.209927100Z"
    }
   },
   "outputs": [
    {
     "data": {
      "text/plain": "color     Green  Red    Green\nstate      Ohio Ohio Colorado\nkey1 key2                    \na    1        0    1        2\n     2        3    4        5\nb    1        6    7        8\n     2        9   10       11",
      "text/html": "<div>\n<style scoped>\n    .dataframe tbody tr th:only-of-type {\n        vertical-align: middle;\n    }\n\n    .dataframe tbody tr th {\n        vertical-align: top;\n    }\n\n    .dataframe thead tr th {\n        text-align: left;\n    }\n\n    .dataframe thead tr:last-of-type th {\n        text-align: right;\n    }\n</style>\n<table border=\"1\" class=\"dataframe\">\n  <thead>\n    <tr>\n      <th></th>\n      <th>color</th>\n      <th>Green</th>\n      <th>Red</th>\n      <th>Green</th>\n    </tr>\n    <tr>\n      <th></th>\n      <th>state</th>\n      <th>Ohio</th>\n      <th>Ohio</th>\n      <th>Colorado</th>\n    </tr>\n    <tr>\n      <th>key1</th>\n      <th>key2</th>\n      <th></th>\n      <th></th>\n      <th></th>\n    </tr>\n  </thead>\n  <tbody>\n    <tr>\n      <th rowspan=\"2\" valign=\"top\">a</th>\n      <th>1</th>\n      <td>0</td>\n      <td>1</td>\n      <td>2</td>\n    </tr>\n    <tr>\n      <th>2</th>\n      <td>3</td>\n      <td>4</td>\n      <td>5</td>\n    </tr>\n    <tr>\n      <th rowspan=\"2\" valign=\"top\">b</th>\n      <th>1</th>\n      <td>6</td>\n      <td>7</td>\n      <td>8</td>\n    </tr>\n    <tr>\n      <th>2</th>\n      <td>9</td>\n      <td>10</td>\n      <td>11</td>\n    </tr>\n  </tbody>\n</table>\n</div>"
     },
     "execution_count": 190,
     "metadata": {},
     "output_type": "execute_result"
    }
   ],
   "source": [
    "frame.columns = frame.columns.swaplevel('state', 'color')\n",
    "frame"
   ]
  },
  {
   "cell_type": "markdown",
   "metadata": {},
   "source": [
    "## Operations\n",
    "\n",
    "`DataFrame` and `Series` objects allow for several operations to take place either on a single object, or between two or more objects.\n",
    "\n",
    "For example, we can perform arithmetic on the elements of two objects, such as combining baseball statistics across years. First, let's (artificially) construct two Series, consisting of home runs hit in years 2006 and 2007, respectively:"
   ]
  },
  {
   "cell_type": "code",
   "execution_count": 191,
   "metadata": {
    "ExecuteTime": {
     "end_time": "2023-09-30T15:12:42.832421700Z",
     "start_time": "2023-09-30T15:12:42.717423300Z"
    }
   },
   "outputs": [],
   "source": [
    "hr2006 = baseball.loc[baseball.year==2006, 'hr']\n",
    "hr2006.index = baseball.player[baseball.year==2006]\n",
    "\n",
    "hr2007 = baseball.loc[baseball.year==2007, 'hr']\n",
    "hr2007.index = baseball.player[baseball.year==2007]"
   ]
  },
  {
   "cell_type": "code",
   "execution_count": 192,
   "metadata": {
    "ExecuteTime": {
     "end_time": "2023-09-30T15:12:44.748813200Z",
     "start_time": "2023-09-30T15:12:44.678816800Z"
    }
   },
   "outputs": [
    {
     "data": {
      "text/plain": "player\nfrancju01     0\nfrancju01     1\nzaungr01     10\nwitasja01     0\nwilliwo02     1\nwickmbo01     0\nwickmbo01     0\nwhitero02     4\nwhiteri01     0\nwellsda01     0\nName: hr, dtype: int64"
     },
     "execution_count": 192,
     "metadata": {},
     "output_type": "execute_result"
    }
   ],
   "source": [
    "hr2007.head(10)"
   ]
  },
  {
   "cell_type": "markdown",
   "metadata": {},
   "source": [
    "Now, let's add them together, in hopes of getting 2-year home run totals:"
   ]
  },
  {
   "cell_type": "code",
   "execution_count": 193,
   "metadata": {
    "ExecuteTime": {
     "end_time": "2023-09-30T15:13:34.045033700Z",
     "start_time": "2023-09-30T15:13:33.942546600Z"
    }
   },
   "outputs": [
    {
     "data": {
      "text/plain": "player\nalomasa02    NaN\naloumo01     NaN\nausmubr01    NaN\nbenitar01    NaN\nbenitar01    NaN\nbiggicr01    NaN\nbondsba01    NaN\ncirilje01    NaN\ncirilje01    NaN\nclaytro01    NaN\nclaytro01    NaN\nclemero02    NaN\nconinje01    NaN\nconinje01    NaN\ncormirh01    NaN\ndelgaca01    NaN\neasleda01    NaN\nedmonji01    NaN\nembreal01    NaN\nfinlest01    7.0\nName: hr, dtype: float64"
     },
     "execution_count": 193,
     "metadata": {},
     "output_type": "execute_result"
    }
   ],
   "source": [
    "hr_total = hr2006 + hr2007\n",
    "hr_total.head(20)"
   ]
  },
  {
   "cell_type": "markdown",
   "metadata": {},
   "source": [
    "Pandas' data alignment places `NaN` values for labels that do not overlap in the two Series. In fact, there are only 6 players that occur in both years."
   ]
  },
  {
   "cell_type": "code",
   "execution_count": 194,
   "metadata": {
    "ExecuteTime": {
     "end_time": "2023-09-30T15:14:04.244384800Z",
     "start_time": "2023-09-30T15:14:04.123381500Z"
    }
   },
   "outputs": [
    {
     "data": {
      "text/plain": "player\nfinlest01     7.0\ngonzalu01    30.0\njohnsra05     0.0\nmyersmi01     0.0\nschilcu01     0.0\nseleaa01      0.0\nName: hr, dtype: float64"
     },
     "execution_count": 194,
     "metadata": {},
     "output_type": "execute_result"
    }
   ],
   "source": [
    "hr_total[hr_total.notnull()]"
   ]
  },
  {
   "cell_type": "markdown",
   "metadata": {},
   "source": [
    "While we do want the operation to honor the data labels in this way, we probably do not want the missing values to be filled with `NaN`. We can use the `add` method to calculate player home run totals by using the `fill_value` argument to insert a zero for home runs where labels do not overlap:"
   ]
  },
  {
   "cell_type": "code",
   "execution_count": 195,
   "metadata": {
    "ExecuteTime": {
     "end_time": "2023-09-30T15:14:34.923977400Z",
     "start_time": "2023-09-30T15:14:34.799981300Z"
    }
   },
   "outputs": [
    {
     "data": {
      "text/plain": "player\nalomasa02     0.0\naloumo01     13.0\nausmubr01     3.0\nbenitar01     0.0\nbenitar01     0.0\nbiggicr01    10.0\nbondsba01    28.0\ncirilje01     0.0\ncirilje01     2.0\nclaytro01     0.0\nclaytro01     1.0\nclemero02     0.0\nconinje01     0.0\nconinje01     6.0\ncormirh01     0.0\ndelgaca01    24.0\neasleda01    10.0\nedmonji01    12.0\nembreal01     0.0\nfinlest01     7.0\nName: hr, dtype: float64"
     },
     "execution_count": 195,
     "metadata": {},
     "output_type": "execute_result"
    }
   ],
   "source": [
    "hr2007.add(hr2006, fill_value=0).head(20)"
   ]
  },
  {
   "cell_type": "markdown",
   "metadata": {},
   "source": [
    "Operations can also be **broadcast** between rows or columns.\n",
    "\n",
    "For example, if we subtract the maximum number of home runs hit from the `hr` column, we get how many fewer than the maximum were hit by each player:"
   ]
  },
  {
   "cell_type": "code",
   "execution_count": 196,
   "metadata": {
    "ExecuteTime": {
     "end_time": "2023-09-30T15:22:54.885727Z",
     "start_time": "2023-09-30T15:22:54.836985900Z"
    }
   },
   "outputs": [
    {
     "data": {
      "text/plain": "id\n88641   -34\n88643   -35\n88645   -35\n88649   -35\n88650   -35\n88652   -29\n88653   -20\n88662   -35\n89177   -35\n89178   -34\n89330   -25\n89333   -35\n89334   -34\n89335   -35\n89336   -35\n89337   -31\n89338   -35\n89339   -35\n89340   -35\n89341   -35\nName: hr, dtype: int64"
     },
     "execution_count": 196,
     "metadata": {},
     "output_type": "execute_result"
    }
   ],
   "source": [
    "(baseball.hr - baseball.hr.max()).head(20)"
   ]
  },
  {
   "cell_type": "markdown",
   "metadata": {},
   "source": [
    "## Sorting\n",
    "\n",
    "Pandas objects include methods for re-ordering data."
   ]
  },
  {
   "cell_type": "code",
   "execution_count": 197,
   "metadata": {
    "ExecuteTime": {
     "end_time": "2023-09-30T15:23:41.246763800Z",
     "start_time": "2023-09-30T15:23:41.167593400Z"
    }
   },
   "outputs": [
    {
     "data": {
      "text/plain": "                     player  year  stint team  lg    g   ab   r    h  X2b  \\\nalomasa02NYN2007  alomasa02  2007      1  NYN  NL    8   22   1    3    1   \naloumo01NYN2007    aloumo01  2007      1  NYN  NL   87  328  51  112   19   \nausmubr01HOU2007  ausmubr01  2007      1  HOU  NL  117  349  38   82   16   \nbenitar01FLO2007  benitar01  2007      2  FLO  NL   34    0   0    0    0   \nbenitar01SFN2007  benitar01  2007      1  SFN  NL   19    0   0    0    0   \n\n                  ...   rbi   sb   cs  bb    so  ibb  hbp   sh   sf  gidp  \nalomasa02NYN2007  ...   0.0  0.0  0.0   0   3.0  0.0  0.0  0.0  0.0   0.0  \naloumo01NYN2007   ...  49.0  3.0  0.0  27  30.0  5.0  2.0  0.0  3.0  13.0  \nausmubr01HOU2007  ...  25.0  6.0  1.0  37  74.0  3.0  6.0  4.0  1.0  11.0  \nbenitar01FLO2007  ...   0.0  0.0  0.0   0   0.0  0.0  0.0  0.0  0.0   0.0  \nbenitar01SFN2007  ...   0.0  0.0  0.0   0   0.0  0.0  0.0  0.0  0.0   0.0  \n\n[5 rows x 22 columns]",
      "text/html": "<div>\n<style scoped>\n    .dataframe tbody tr th:only-of-type {\n        vertical-align: middle;\n    }\n\n    .dataframe tbody tr th {\n        vertical-align: top;\n    }\n\n    .dataframe thead th {\n        text-align: right;\n    }\n</style>\n<table border=\"1\" class=\"dataframe\">\n  <thead>\n    <tr style=\"text-align: right;\">\n      <th></th>\n      <th>player</th>\n      <th>year</th>\n      <th>stint</th>\n      <th>team</th>\n      <th>lg</th>\n      <th>g</th>\n      <th>ab</th>\n      <th>r</th>\n      <th>h</th>\n      <th>X2b</th>\n      <th>...</th>\n      <th>rbi</th>\n      <th>sb</th>\n      <th>cs</th>\n      <th>bb</th>\n      <th>so</th>\n      <th>ibb</th>\n      <th>hbp</th>\n      <th>sh</th>\n      <th>sf</th>\n      <th>gidp</th>\n    </tr>\n  </thead>\n  <tbody>\n    <tr>\n      <th>alomasa02NYN2007</th>\n      <td>alomasa02</td>\n      <td>2007</td>\n      <td>1</td>\n      <td>NYN</td>\n      <td>NL</td>\n      <td>8</td>\n      <td>22</td>\n      <td>1</td>\n      <td>3</td>\n      <td>1</td>\n      <td>...</td>\n      <td>0.0</td>\n      <td>0.0</td>\n      <td>0.0</td>\n      <td>0</td>\n      <td>3.0</td>\n      <td>0.0</td>\n      <td>0.0</td>\n      <td>0.0</td>\n      <td>0.0</td>\n      <td>0.0</td>\n    </tr>\n    <tr>\n      <th>aloumo01NYN2007</th>\n      <td>aloumo01</td>\n      <td>2007</td>\n      <td>1</td>\n      <td>NYN</td>\n      <td>NL</td>\n      <td>87</td>\n      <td>328</td>\n      <td>51</td>\n      <td>112</td>\n      <td>19</td>\n      <td>...</td>\n      <td>49.0</td>\n      <td>3.0</td>\n      <td>0.0</td>\n      <td>27</td>\n      <td>30.0</td>\n      <td>5.0</td>\n      <td>2.0</td>\n      <td>0.0</td>\n      <td>3.0</td>\n      <td>13.0</td>\n    </tr>\n    <tr>\n      <th>ausmubr01HOU2007</th>\n      <td>ausmubr01</td>\n      <td>2007</td>\n      <td>1</td>\n      <td>HOU</td>\n      <td>NL</td>\n      <td>117</td>\n      <td>349</td>\n      <td>38</td>\n      <td>82</td>\n      <td>16</td>\n      <td>...</td>\n      <td>25.0</td>\n      <td>6.0</td>\n      <td>1.0</td>\n      <td>37</td>\n      <td>74.0</td>\n      <td>3.0</td>\n      <td>6.0</td>\n      <td>4.0</td>\n      <td>1.0</td>\n      <td>11.0</td>\n    </tr>\n    <tr>\n      <th>benitar01FLO2007</th>\n      <td>benitar01</td>\n      <td>2007</td>\n      <td>2</td>\n      <td>FLO</td>\n      <td>NL</td>\n      <td>34</td>\n      <td>0</td>\n      <td>0</td>\n      <td>0</td>\n      <td>0</td>\n      <td>...</td>\n      <td>0.0</td>\n      <td>0.0</td>\n      <td>0.0</td>\n      <td>0</td>\n      <td>0.0</td>\n      <td>0.0</td>\n      <td>0.0</td>\n      <td>0.0</td>\n      <td>0.0</td>\n      <td>0.0</td>\n    </tr>\n    <tr>\n      <th>benitar01SFN2007</th>\n      <td>benitar01</td>\n      <td>2007</td>\n      <td>1</td>\n      <td>SFN</td>\n      <td>NL</td>\n      <td>19</td>\n      <td>0</td>\n      <td>0</td>\n      <td>0</td>\n      <td>0</td>\n      <td>...</td>\n      <td>0.0</td>\n      <td>0.0</td>\n      <td>0.0</td>\n      <td>0</td>\n      <td>0.0</td>\n      <td>0.0</td>\n      <td>0.0</td>\n      <td>0.0</td>\n      <td>0.0</td>\n      <td>0.0</td>\n    </tr>\n  </tbody>\n</table>\n<p>5 rows × 22 columns</p>\n</div>"
     },
     "execution_count": 197,
     "metadata": {},
     "output_type": "execute_result"
    }
   ],
   "source": [
    "baseball_newind.sort_index().head()"
   ]
  },
  {
   "cell_type": "code",
   "execution_count": 198,
   "metadata": {
    "ExecuteTime": {
     "end_time": "2023-09-30T15:23:53.481473900Z",
     "start_time": "2023-09-30T15:23:53.387476400Z"
    }
   },
   "outputs": [
    {
     "data": {
      "text/plain": "                     player  year  stint team  lg    g   ab   r   h  X2b  ...  \\\nzaungr01TOR2007    zaungr01  2007      1  TOR  AL  110  331  43  80   24  ...   \nwomacto01CHN2006          5     5      5    5   5    5    5   5   5    5  ...   \nwitasja01TBA2007  witasja01  2007      1  TBA  AL    3    0   0   0    0  ...   \nwilliwo02HOU2007  williwo02  2007      1  HOU  NL   33   59   3   6    0  ...   \nwickmbo01ATL2007  wickmbo01  2007      1  ATL  NL   47    0   0   0    0  ...   \n\n                   rbi   sb   cs  bb    so  ibb  hbp   sh   sf  gidp  \nzaungr01TOR2007   52.0  0.0  0.0  51  55.0  8.0  2.0  1.0  6.0   9.0  \nwomacto01CHN2006   5.0  5.0  5.0   5   5.0  5.0  5.0  5.0  5.0   5.0  \nwitasja01TBA2007   0.0  0.0  0.0   0   0.0  0.0  0.0  0.0  0.0   0.0  \nwilliwo02HOU2007   2.0  0.0  0.0   0  25.0  0.0  0.0  5.0  0.0   1.0  \nwickmbo01ATL2007   0.0  0.0  0.0   0   0.0  0.0  0.0  0.0  0.0   0.0  \n\n[5 rows x 22 columns]",
      "text/html": "<div>\n<style scoped>\n    .dataframe tbody tr th:only-of-type {\n        vertical-align: middle;\n    }\n\n    .dataframe tbody tr th {\n        vertical-align: top;\n    }\n\n    .dataframe thead th {\n        text-align: right;\n    }\n</style>\n<table border=\"1\" class=\"dataframe\">\n  <thead>\n    <tr style=\"text-align: right;\">\n      <th></th>\n      <th>player</th>\n      <th>year</th>\n      <th>stint</th>\n      <th>team</th>\n      <th>lg</th>\n      <th>g</th>\n      <th>ab</th>\n      <th>r</th>\n      <th>h</th>\n      <th>X2b</th>\n      <th>...</th>\n      <th>rbi</th>\n      <th>sb</th>\n      <th>cs</th>\n      <th>bb</th>\n      <th>so</th>\n      <th>ibb</th>\n      <th>hbp</th>\n      <th>sh</th>\n      <th>sf</th>\n      <th>gidp</th>\n    </tr>\n  </thead>\n  <tbody>\n    <tr>\n      <th>zaungr01TOR2007</th>\n      <td>zaungr01</td>\n      <td>2007</td>\n      <td>1</td>\n      <td>TOR</td>\n      <td>AL</td>\n      <td>110</td>\n      <td>331</td>\n      <td>43</td>\n      <td>80</td>\n      <td>24</td>\n      <td>...</td>\n      <td>52.0</td>\n      <td>0.0</td>\n      <td>0.0</td>\n      <td>51</td>\n      <td>55.0</td>\n      <td>8.0</td>\n      <td>2.0</td>\n      <td>1.0</td>\n      <td>6.0</td>\n      <td>9.0</td>\n    </tr>\n    <tr>\n      <th>womacto01CHN2006</th>\n      <td>5</td>\n      <td>5</td>\n      <td>5</td>\n      <td>5</td>\n      <td>5</td>\n      <td>5</td>\n      <td>5</td>\n      <td>5</td>\n      <td>5</td>\n      <td>5</td>\n      <td>...</td>\n      <td>5.0</td>\n      <td>5.0</td>\n      <td>5.0</td>\n      <td>5</td>\n      <td>5.0</td>\n      <td>5.0</td>\n      <td>5.0</td>\n      <td>5.0</td>\n      <td>5.0</td>\n      <td>5.0</td>\n    </tr>\n    <tr>\n      <th>witasja01TBA2007</th>\n      <td>witasja01</td>\n      <td>2007</td>\n      <td>1</td>\n      <td>TBA</td>\n      <td>AL</td>\n      <td>3</td>\n      <td>0</td>\n      <td>0</td>\n      <td>0</td>\n      <td>0</td>\n      <td>...</td>\n      <td>0.0</td>\n      <td>0.0</td>\n      <td>0.0</td>\n      <td>0</td>\n      <td>0.0</td>\n      <td>0.0</td>\n      <td>0.0</td>\n      <td>0.0</td>\n      <td>0.0</td>\n      <td>0.0</td>\n    </tr>\n    <tr>\n      <th>williwo02HOU2007</th>\n      <td>williwo02</td>\n      <td>2007</td>\n      <td>1</td>\n      <td>HOU</td>\n      <td>NL</td>\n      <td>33</td>\n      <td>59</td>\n      <td>3</td>\n      <td>6</td>\n      <td>0</td>\n      <td>...</td>\n      <td>2.0</td>\n      <td>0.0</td>\n      <td>0.0</td>\n      <td>0</td>\n      <td>25.0</td>\n      <td>0.0</td>\n      <td>0.0</td>\n      <td>5.0</td>\n      <td>0.0</td>\n      <td>1.0</td>\n    </tr>\n    <tr>\n      <th>wickmbo01ATL2007</th>\n      <td>wickmbo01</td>\n      <td>2007</td>\n      <td>1</td>\n      <td>ATL</td>\n      <td>NL</td>\n      <td>47</td>\n      <td>0</td>\n      <td>0</td>\n      <td>0</td>\n      <td>0</td>\n      <td>...</td>\n      <td>0.0</td>\n      <td>0.0</td>\n      <td>0.0</td>\n      <td>0</td>\n      <td>0.0</td>\n      <td>0.0</td>\n      <td>0.0</td>\n      <td>0.0</td>\n      <td>0.0</td>\n      <td>0.0</td>\n    </tr>\n  </tbody>\n</table>\n<p>5 rows × 22 columns</p>\n</div>"
     },
     "execution_count": 198,
     "metadata": {},
     "output_type": "execute_result"
    }
   ],
   "source": [
    "baseball_newind.sort_index(ascending=False).head()"
   ]
  },
  {
   "cell_type": "markdown",
   "metadata": {},
   "source": [
    "Try sorting the **columns** instead of the rows, in ascending order:"
   ]
  },
  {
   "cell_type": "code",
   "execution_count": 199,
   "metadata": {
    "ExecuteTime": {
     "end_time": "2023-09-30T15:23:59.732437100Z",
     "start_time": "2023-09-30T15:23:59.568436800Z"
    }
   },
   "outputs": [
    {
     "data": {
      "text/plain": "                  X2b  X3b  ab  bb   cs  g  gidp  h  hbp  hr  ...  player  r  \\\nwomacto01CHN2006    5    5   5   5  5.0  5   5.0  5  5.0   5  ...       5  5   \nschilcu01BOS2006    5    5   5   5  5.0  5   5.0  5  5.0   5  ...       5  5   \nmyersmi01NYA2006    5    5   5   5  5.0  5   5.0  5  5.0   5  ...       5  5   \nhelliri01MIL2006    5    5   5   5  5.0  5   5.0  5  5.0   5  ...       5  5   \njohnsra05NYA2006    5    5   5   5  5.0  5   5.0  5  5.0   5  ...       5  5   \n\n                  rbi   sb   sf   sh   so  stint  team  year  \nwomacto01CHN2006  5.0  5.0  5.0  5.0  5.0      5     5     5  \nschilcu01BOS2006  5.0  5.0  5.0  5.0  5.0      5     5     5  \nmyersmi01NYA2006  5.0  5.0  5.0  5.0  5.0      5     5     5  \nhelliri01MIL2006  5.0  5.0  5.0  5.0  5.0      5     5     5  \njohnsra05NYA2006  5.0  5.0  5.0  5.0  5.0      5     5     5  \n\n[5 rows x 22 columns]",
      "text/html": "<div>\n<style scoped>\n    .dataframe tbody tr th:only-of-type {\n        vertical-align: middle;\n    }\n\n    .dataframe tbody tr th {\n        vertical-align: top;\n    }\n\n    .dataframe thead th {\n        text-align: right;\n    }\n</style>\n<table border=\"1\" class=\"dataframe\">\n  <thead>\n    <tr style=\"text-align: right;\">\n      <th></th>\n      <th>X2b</th>\n      <th>X3b</th>\n      <th>ab</th>\n      <th>bb</th>\n      <th>cs</th>\n      <th>g</th>\n      <th>gidp</th>\n      <th>h</th>\n      <th>hbp</th>\n      <th>hr</th>\n      <th>...</th>\n      <th>player</th>\n      <th>r</th>\n      <th>rbi</th>\n      <th>sb</th>\n      <th>sf</th>\n      <th>sh</th>\n      <th>so</th>\n      <th>stint</th>\n      <th>team</th>\n      <th>year</th>\n    </tr>\n  </thead>\n  <tbody>\n    <tr>\n      <th>womacto01CHN2006</th>\n      <td>5</td>\n      <td>5</td>\n      <td>5</td>\n      <td>5</td>\n      <td>5.0</td>\n      <td>5</td>\n      <td>5.0</td>\n      <td>5</td>\n      <td>5.0</td>\n      <td>5</td>\n      <td>...</td>\n      <td>5</td>\n      <td>5</td>\n      <td>5.0</td>\n      <td>5.0</td>\n      <td>5.0</td>\n      <td>5.0</td>\n      <td>5.0</td>\n      <td>5</td>\n      <td>5</td>\n      <td>5</td>\n    </tr>\n    <tr>\n      <th>schilcu01BOS2006</th>\n      <td>5</td>\n      <td>5</td>\n      <td>5</td>\n      <td>5</td>\n      <td>5.0</td>\n      <td>5</td>\n      <td>5.0</td>\n      <td>5</td>\n      <td>5.0</td>\n      <td>5</td>\n      <td>...</td>\n      <td>5</td>\n      <td>5</td>\n      <td>5.0</td>\n      <td>5.0</td>\n      <td>5.0</td>\n      <td>5.0</td>\n      <td>5.0</td>\n      <td>5</td>\n      <td>5</td>\n      <td>5</td>\n    </tr>\n    <tr>\n      <th>myersmi01NYA2006</th>\n      <td>5</td>\n      <td>5</td>\n      <td>5</td>\n      <td>5</td>\n      <td>5.0</td>\n      <td>5</td>\n      <td>5.0</td>\n      <td>5</td>\n      <td>5.0</td>\n      <td>5</td>\n      <td>...</td>\n      <td>5</td>\n      <td>5</td>\n      <td>5.0</td>\n      <td>5.0</td>\n      <td>5.0</td>\n      <td>5.0</td>\n      <td>5.0</td>\n      <td>5</td>\n      <td>5</td>\n      <td>5</td>\n    </tr>\n    <tr>\n      <th>helliri01MIL2006</th>\n      <td>5</td>\n      <td>5</td>\n      <td>5</td>\n      <td>5</td>\n      <td>5.0</td>\n      <td>5</td>\n      <td>5.0</td>\n      <td>5</td>\n      <td>5.0</td>\n      <td>5</td>\n      <td>...</td>\n      <td>5</td>\n      <td>5</td>\n      <td>5.0</td>\n      <td>5.0</td>\n      <td>5.0</td>\n      <td>5.0</td>\n      <td>5.0</td>\n      <td>5</td>\n      <td>5</td>\n      <td>5</td>\n    </tr>\n    <tr>\n      <th>johnsra05NYA2006</th>\n      <td>5</td>\n      <td>5</td>\n      <td>5</td>\n      <td>5</td>\n      <td>5.0</td>\n      <td>5</td>\n      <td>5.0</td>\n      <td>5</td>\n      <td>5.0</td>\n      <td>5</td>\n      <td>...</td>\n      <td>5</td>\n      <td>5</td>\n      <td>5.0</td>\n      <td>5.0</td>\n      <td>5.0</td>\n      <td>5.0</td>\n      <td>5.0</td>\n      <td>5</td>\n      <td>5</td>\n      <td>5</td>\n    </tr>\n  </tbody>\n</table>\n<p>5 rows × 22 columns</p>\n</div>"
     },
     "execution_count": 199,
     "metadata": {},
     "output_type": "execute_result"
    }
   ],
   "source": [
    "baseball_newind.sort_index(axis=1).head()"
   ]
  },
  {
   "cell_type": "markdown",
   "metadata": {},
   "source": [
    "We can also use `sort_values` to sort a `Series` by value, rather than by label."
   ]
  },
  {
   "cell_type": "code",
   "execution_count": 200,
   "metadata": {
    "ExecuteTime": {
     "end_time": "2023-09-30T15:24:46.834529400Z",
     "start_time": "2023-09-30T15:24:46.775313300Z"
    }
   },
   "outputs": [
    {
     "data": {
      "text/plain": "id\n89360    35\n89462    30\n89521    28\n89361    26\n89378    25\n89489    24\n89374    21\n89371    21\n89396    20\n89439    20\nName: hr, dtype: int64"
     },
     "execution_count": 200,
     "metadata": {},
     "output_type": "execute_result"
    }
   ],
   "source": [
    "baseball.hr.sort_values(ascending=False).head(10)"
   ]
  },
  {
   "cell_type": "markdown",
   "metadata": {},
   "source": [
    "For a `DataFrame`, we can sort according to the values of one or more columns using the `by` argument of `sort_values`:"
   ]
  },
  {
   "cell_type": "code",
   "execution_count": 201,
   "metadata": {
    "ExecuteTime": {
     "end_time": "2023-09-30T15:25:48.567395500Z",
     "start_time": "2023-09-30T15:25:48.452780300Z"
    }
   },
   "outputs": [
    {
     "data": {
      "text/plain": "          player    sb   cs\nid                         \n89378  sheffga01  22.0  5.0\n89430  loftoke01  21.0  4.0\n89347  vizquom01  14.0  6.0\n89463  greensh01  11.0  1.0\n88652  finlest01   7.0  0.0\n89462  griffke02   6.0  1.0\n89530  ausmubr01   6.0  1.0\n89466  gonzalu01   6.0  2.0\n89521  bondsba01   5.0  0.0\n89438  kleskry01   5.0  1.0",
      "text/html": "<div>\n<style scoped>\n    .dataframe tbody tr th:only-of-type {\n        vertical-align: middle;\n    }\n\n    .dataframe tbody tr th {\n        vertical-align: top;\n    }\n\n    .dataframe thead th {\n        text-align: right;\n    }\n</style>\n<table border=\"1\" class=\"dataframe\">\n  <thead>\n    <tr style=\"text-align: right;\">\n      <th></th>\n      <th>player</th>\n      <th>sb</th>\n      <th>cs</th>\n    </tr>\n    <tr>\n      <th>id</th>\n      <th></th>\n      <th></th>\n      <th></th>\n    </tr>\n  </thead>\n  <tbody>\n    <tr>\n      <th>89378</th>\n      <td>sheffga01</td>\n      <td>22.0</td>\n      <td>5.0</td>\n    </tr>\n    <tr>\n      <th>89430</th>\n      <td>loftoke01</td>\n      <td>21.0</td>\n      <td>4.0</td>\n    </tr>\n    <tr>\n      <th>89347</th>\n      <td>vizquom01</td>\n      <td>14.0</td>\n      <td>6.0</td>\n    </tr>\n    <tr>\n      <th>89463</th>\n      <td>greensh01</td>\n      <td>11.0</td>\n      <td>1.0</td>\n    </tr>\n    <tr>\n      <th>88652</th>\n      <td>finlest01</td>\n      <td>7.0</td>\n      <td>0.0</td>\n    </tr>\n    <tr>\n      <th>89462</th>\n      <td>griffke02</td>\n      <td>6.0</td>\n      <td>1.0</td>\n    </tr>\n    <tr>\n      <th>89530</th>\n      <td>ausmubr01</td>\n      <td>6.0</td>\n      <td>1.0</td>\n    </tr>\n    <tr>\n      <th>89466</th>\n      <td>gonzalu01</td>\n      <td>6.0</td>\n      <td>2.0</td>\n    </tr>\n    <tr>\n      <th>89521</th>\n      <td>bondsba01</td>\n      <td>5.0</td>\n      <td>0.0</td>\n    </tr>\n    <tr>\n      <th>89438</th>\n      <td>kleskry01</td>\n      <td>5.0</td>\n      <td>1.0</td>\n    </tr>\n  </tbody>\n</table>\n</div>"
     },
     "execution_count": 201,
     "metadata": {},
     "output_type": "execute_result"
    }
   ],
   "source": [
    "baseball[['player','sb','cs']].sort_values(ascending=[False,True], \n",
    "                                           by=['sb', 'cs']).head(10)"
   ]
  },
  {
   "cell_type": "markdown",
   "metadata": {},
   "source": [
    "### Exercise 5\n",
    "\n",
    "Calculate **on base percentage** for each player, and return the ordered series of estimates.\n",
    "\n",
    "$$obp = \\frac{h + bb + hbp}{ab + bb + hbp + sf}$$"
   ]
  },
  {
   "cell_type": "code",
   "execution_count": 203,
   "metadata": {
    "ExecuteTime": {
     "end_time": "2023-09-30T15:27:26.384209300Z",
     "start_time": "2023-09-30T15:27:26.312517300Z"
    }
   },
   "outputs": [],
   "source": [
    "baseball['obp']=baseball.apply(lambda p: (p.h+p.bb+p.hbp)/(p.ab+p.bb+p.hbp+p.sf) if (p.ab+p.bb+p.hbp+p.sf) != 0.0 else 0.0, axis=1)"
   ]
  },
  {
   "cell_type": "markdown",
   "metadata": {},
   "source": [
    "## Missing data\n",
    "\n",
    "The occurence of missing data is so prevalent that it pays to use tools like Pandas, which seamlessly integrates missing data handling so that it can be dealt with easily, and in the manner required by the analysis at hand.\n",
    "\n",
    "Missing data are represented in `Series` and `DataFrame` objects by the `NaN` floating point value. However, `None` is also treated as missing, since it is commonly used as such in other contexts (*e.g.* NumPy)."
   ]
  },
  {
   "cell_type": "code",
   "execution_count": 204,
   "metadata": {
    "ExecuteTime": {
     "end_time": "2023-09-30T15:27:53.076273900Z",
     "start_time": "2023-09-30T15:27:52.952279900Z"
    }
   },
   "outputs": [
    {
     "data": {
      "text/plain": "0       NaN\n1        -3\n2      None\n3    foobar\ndtype: object"
     },
     "execution_count": 204,
     "metadata": {},
     "output_type": "execute_result"
    }
   ],
   "source": [
    "foo = pd.Series([np.nan, -3, None, 'foobar'])\n",
    "foo"
   ]
  },
  {
   "cell_type": "code",
   "execution_count": 205,
   "metadata": {
    "ExecuteTime": {
     "end_time": "2023-09-30T15:28:00.533203900Z",
     "start_time": "2023-09-30T15:28:00.416168100Z"
    }
   },
   "outputs": [
    {
     "data": {
      "text/plain": "0     True\n1    False\n2     True\n3    False\ndtype: bool"
     },
     "execution_count": 205,
     "metadata": {},
     "output_type": "execute_result"
    }
   ],
   "source": [
    "foo.isnull()"
   ]
  },
  {
   "cell_type": "markdown",
   "metadata": {},
   "source": [
    "Missing values may be dropped or indexed out:"
   ]
  },
  {
   "cell_type": "code",
   "execution_count": 206,
   "metadata": {
    "ExecuteTime": {
     "end_time": "2023-09-30T15:28:12.902065500Z",
     "start_time": "2023-09-30T15:28:12.815005600Z"
    }
   },
   "outputs": [
    {
     "data": {
      "text/plain": "1        -3\n3    foobar\ndtype: object"
     },
     "execution_count": 206,
     "metadata": {},
     "output_type": "execute_result"
    }
   ],
   "source": [
    "foo.dropna()"
   ]
  },
  {
   "cell_type": "code",
   "execution_count": 207,
   "metadata": {
    "ExecuteTime": {
     "end_time": "2023-09-30T15:28:16.803388800Z",
     "start_time": "2023-09-30T15:28:16.723305800Z"
    }
   },
   "outputs": [
    {
     "data": {
      "text/plain": "1        -3\n3    foobar\ndtype: object"
     },
     "execution_count": 207,
     "metadata": {},
     "output_type": "execute_result"
    }
   ],
   "source": [
    "foo[foo.notnull()]"
   ]
  },
  {
   "cell_type": "markdown",
   "metadata": {},
   "source": [
    "By default, `dropna` drops entire rows in which one or more values are missing."
   ]
  },
  {
   "cell_type": "code",
   "execution_count": 208,
   "metadata": {
    "ExecuteTime": {
     "end_time": "2023-09-30T15:28:33.102779500Z",
     "start_time": "2023-09-30T15:28:32.997825400Z"
    }
   },
   "outputs": [
    {
     "data": {
      "text/plain": "   patient          phylum  value  year  treatment\n0        1      Firmicutes    632  2013        0.0\n1        1  Proteobacteria   1638  2013        0.0\n2        1  Actinobacteria    569  2013        0.0\n3        1   Bacteroidetes     14  2013        0.0\n4        2      Firmicutes     21  2013        1.0\n5        2  Proteobacteria      0  2013        1.0",
      "text/html": "<div>\n<style scoped>\n    .dataframe tbody tr th:only-of-type {\n        vertical-align: middle;\n    }\n\n    .dataframe tbody tr th {\n        vertical-align: top;\n    }\n\n    .dataframe thead th {\n        text-align: right;\n    }\n</style>\n<table border=\"1\" class=\"dataframe\">\n  <thead>\n    <tr style=\"text-align: right;\">\n      <th></th>\n      <th>patient</th>\n      <th>phylum</th>\n      <th>value</th>\n      <th>year</th>\n      <th>treatment</th>\n    </tr>\n  </thead>\n  <tbody>\n    <tr>\n      <th>0</th>\n      <td>1</td>\n      <td>Firmicutes</td>\n      <td>632</td>\n      <td>2013</td>\n      <td>0.0</td>\n    </tr>\n    <tr>\n      <th>1</th>\n      <td>1</td>\n      <td>Proteobacteria</td>\n      <td>1638</td>\n      <td>2013</td>\n      <td>0.0</td>\n    </tr>\n    <tr>\n      <th>2</th>\n      <td>1</td>\n      <td>Actinobacteria</td>\n      <td>569</td>\n      <td>2013</td>\n      <td>0.0</td>\n    </tr>\n    <tr>\n      <th>3</th>\n      <td>1</td>\n      <td>Bacteroidetes</td>\n      <td>14</td>\n      <td>2013</td>\n      <td>0.0</td>\n    </tr>\n    <tr>\n      <th>4</th>\n      <td>2</td>\n      <td>Firmicutes</td>\n      <td>21</td>\n      <td>2013</td>\n      <td>1.0</td>\n    </tr>\n    <tr>\n      <th>5</th>\n      <td>2</td>\n      <td>Proteobacteria</td>\n      <td>0</td>\n      <td>2013</td>\n      <td>1.0</td>\n    </tr>\n  </tbody>\n</table>\n</div>"
     },
     "execution_count": 208,
     "metadata": {},
     "output_type": "execute_result"
    }
   ],
   "source": [
    "data.dropna()"
   ]
  },
  {
   "cell_type": "markdown",
   "metadata": {},
   "source": [
    "This can be overridden by passing the `how='all'` argument, which only drops a row when every field is a missing value."
   ]
  },
  {
   "cell_type": "code",
   "execution_count": 209,
   "metadata": {
    "ExecuteTime": {
     "end_time": "2023-09-30T15:28:43.371653100Z",
     "start_time": "2023-09-30T15:28:43.299652Z"
    }
   },
   "outputs": [
    {
     "data": {
      "text/plain": "   patient          phylum  value  year  treatment\n0        1      Firmicutes    632  2013        0.0\n1        1  Proteobacteria   1638  2013        0.0\n2        1  Actinobacteria    569  2013        0.0\n3        1   Bacteroidetes     14  2013        0.0\n4        2      Firmicutes     21  2013        1.0\n5        2  Proteobacteria      0  2013        1.0\n6        2  Actinobacteria      5  2013        NaN\n7        2   Bacteroidetes    555  2013        NaN",
      "text/html": "<div>\n<style scoped>\n    .dataframe tbody tr th:only-of-type {\n        vertical-align: middle;\n    }\n\n    .dataframe tbody tr th {\n        vertical-align: top;\n    }\n\n    .dataframe thead th {\n        text-align: right;\n    }\n</style>\n<table border=\"1\" class=\"dataframe\">\n  <thead>\n    <tr style=\"text-align: right;\">\n      <th></th>\n      <th>patient</th>\n      <th>phylum</th>\n      <th>value</th>\n      <th>year</th>\n      <th>treatment</th>\n    </tr>\n  </thead>\n  <tbody>\n    <tr>\n      <th>0</th>\n      <td>1</td>\n      <td>Firmicutes</td>\n      <td>632</td>\n      <td>2013</td>\n      <td>0.0</td>\n    </tr>\n    <tr>\n      <th>1</th>\n      <td>1</td>\n      <td>Proteobacteria</td>\n      <td>1638</td>\n      <td>2013</td>\n      <td>0.0</td>\n    </tr>\n    <tr>\n      <th>2</th>\n      <td>1</td>\n      <td>Actinobacteria</td>\n      <td>569</td>\n      <td>2013</td>\n      <td>0.0</td>\n    </tr>\n    <tr>\n      <th>3</th>\n      <td>1</td>\n      <td>Bacteroidetes</td>\n      <td>14</td>\n      <td>2013</td>\n      <td>0.0</td>\n    </tr>\n    <tr>\n      <th>4</th>\n      <td>2</td>\n      <td>Firmicutes</td>\n      <td>21</td>\n      <td>2013</td>\n      <td>1.0</td>\n    </tr>\n    <tr>\n      <th>5</th>\n      <td>2</td>\n      <td>Proteobacteria</td>\n      <td>0</td>\n      <td>2013</td>\n      <td>1.0</td>\n    </tr>\n    <tr>\n      <th>6</th>\n      <td>2</td>\n      <td>Actinobacteria</td>\n      <td>5</td>\n      <td>2013</td>\n      <td>NaN</td>\n    </tr>\n    <tr>\n      <th>7</th>\n      <td>2</td>\n      <td>Bacteroidetes</td>\n      <td>555</td>\n      <td>2013</td>\n      <td>NaN</td>\n    </tr>\n  </tbody>\n</table>\n</div>"
     },
     "execution_count": 209,
     "metadata": {},
     "output_type": "execute_result"
    }
   ],
   "source": [
    "data.dropna(how='all')"
   ]
  },
  {
   "cell_type": "markdown",
   "metadata": {},
   "source": [
    "Rather than omitting missing data from an analysis, in some cases it may be suitable to fill the missing value in, either with a default value (such as zero) or a value that is either imputed or carried forward/backward from similar data points. We can do this programmatically in Pandas with the `fillna` argument."
   ]
  },
  {
   "cell_type": "code",
   "execution_count": 210,
   "metadata": {
    "ExecuteTime": {
     "end_time": "2023-09-30T15:29:09.136626500Z",
     "start_time": "2023-09-30T15:29:09.034684Z"
    }
   },
   "outputs": [
    {
     "data": {
      "text/plain": "phylum\nFirmicutes           0.0\nProteobacteria     632.0\nActinobacteria    1638.0\nBacteroidetes      569.0\ndtype: float64"
     },
     "execution_count": 210,
     "metadata": {},
     "output_type": "execute_result"
    }
   ],
   "source": [
    "bacteria2.fillna(0)"
   ]
  },
  {
   "cell_type": "code",
   "execution_count": 211,
   "metadata": {
    "ExecuteTime": {
     "end_time": "2023-09-30T15:29:12.285633300Z",
     "start_time": "2023-09-30T15:29:12.170631300Z"
    }
   },
   "outputs": [
    {
     "data": {
      "text/plain": "   patient          phylum  value  year  treatment\n0        1      Firmicutes    632  2013        0.0\n1        1  Proteobacteria   1638  2013        0.0\n2        1  Actinobacteria    569  2013        0.0\n3        1   Bacteroidetes     14  2013        0.0\n4        2      Firmicutes     21  2013        1.0\n5        2  Proteobacteria      0  2013        1.0\n6        2  Actinobacteria      5  2013        2.0\n7        2   Bacteroidetes    555  2013        2.0",
      "text/html": "<div>\n<style scoped>\n    .dataframe tbody tr th:only-of-type {\n        vertical-align: middle;\n    }\n\n    .dataframe tbody tr th {\n        vertical-align: top;\n    }\n\n    .dataframe thead th {\n        text-align: right;\n    }\n</style>\n<table border=\"1\" class=\"dataframe\">\n  <thead>\n    <tr style=\"text-align: right;\">\n      <th></th>\n      <th>patient</th>\n      <th>phylum</th>\n      <th>value</th>\n      <th>year</th>\n      <th>treatment</th>\n    </tr>\n  </thead>\n  <tbody>\n    <tr>\n      <th>0</th>\n      <td>1</td>\n      <td>Firmicutes</td>\n      <td>632</td>\n      <td>2013</td>\n      <td>0.0</td>\n    </tr>\n    <tr>\n      <th>1</th>\n      <td>1</td>\n      <td>Proteobacteria</td>\n      <td>1638</td>\n      <td>2013</td>\n      <td>0.0</td>\n    </tr>\n    <tr>\n      <th>2</th>\n      <td>1</td>\n      <td>Actinobacteria</td>\n      <td>569</td>\n      <td>2013</td>\n      <td>0.0</td>\n    </tr>\n    <tr>\n      <th>3</th>\n      <td>1</td>\n      <td>Bacteroidetes</td>\n      <td>14</td>\n      <td>2013</td>\n      <td>0.0</td>\n    </tr>\n    <tr>\n      <th>4</th>\n      <td>2</td>\n      <td>Firmicutes</td>\n      <td>21</td>\n      <td>2013</td>\n      <td>1.0</td>\n    </tr>\n    <tr>\n      <th>5</th>\n      <td>2</td>\n      <td>Proteobacteria</td>\n      <td>0</td>\n      <td>2013</td>\n      <td>1.0</td>\n    </tr>\n    <tr>\n      <th>6</th>\n      <td>2</td>\n      <td>Actinobacteria</td>\n      <td>5</td>\n      <td>2013</td>\n      <td>2.0</td>\n    </tr>\n    <tr>\n      <th>7</th>\n      <td>2</td>\n      <td>Bacteroidetes</td>\n      <td>555</td>\n      <td>2013</td>\n      <td>2.0</td>\n    </tr>\n  </tbody>\n</table>\n</div>"
     },
     "execution_count": 211,
     "metadata": {},
     "output_type": "execute_result"
    }
   ],
   "source": [
    "data.fillna({'year': 2013, 'treatment':2})"
   ]
  },
  {
   "cell_type": "markdown",
   "metadata": {},
   "source": [
    "Notice that `fillna` by default returns a new object with the desired filling behavior, rather than changing the `Series` or  `DataFrame` **in place**."
   ]
  },
  {
   "cell_type": "markdown",
   "metadata": {},
   "source": [
    "We can alter values in-place using `inplace=True`."
   ]
  },
  {
   "cell_type": "code",
   "execution_count": 212,
   "metadata": {
    "ExecuteTime": {
     "end_time": "2023-09-30T15:29:48.970499900Z",
     "start_time": "2023-09-30T15:29:48.883733500Z"
    }
   },
   "outputs": [
    {
     "data": {
      "text/plain": "   patient          phylum  value  year  treatment\n0        1      Firmicutes    632  2013        0.0\n1        1  Proteobacteria   1638  2013        0.0\n2        1  Actinobacteria    569  2013        0.0\n3        1   Bacteroidetes     14  2013        0.0\n4        2      Firmicutes     21  2013        1.0\n5        2  Proteobacteria      0  2013        1.0\n6        2  Actinobacteria      5  2013        2.0\n7        2   Bacteroidetes    555  2013        2.0",
      "text/html": "<div>\n<style scoped>\n    .dataframe tbody tr th:only-of-type {\n        vertical-align: middle;\n    }\n\n    .dataframe tbody tr th {\n        vertical-align: top;\n    }\n\n    .dataframe thead th {\n        text-align: right;\n    }\n</style>\n<table border=\"1\" class=\"dataframe\">\n  <thead>\n    <tr style=\"text-align: right;\">\n      <th></th>\n      <th>patient</th>\n      <th>phylum</th>\n      <th>value</th>\n      <th>year</th>\n      <th>treatment</th>\n    </tr>\n  </thead>\n  <tbody>\n    <tr>\n      <th>0</th>\n      <td>1</td>\n      <td>Firmicutes</td>\n      <td>632</td>\n      <td>2013</td>\n      <td>0.0</td>\n    </tr>\n    <tr>\n      <th>1</th>\n      <td>1</td>\n      <td>Proteobacteria</td>\n      <td>1638</td>\n      <td>2013</td>\n      <td>0.0</td>\n    </tr>\n    <tr>\n      <th>2</th>\n      <td>1</td>\n      <td>Actinobacteria</td>\n      <td>569</td>\n      <td>2013</td>\n      <td>0.0</td>\n    </tr>\n    <tr>\n      <th>3</th>\n      <td>1</td>\n      <td>Bacteroidetes</td>\n      <td>14</td>\n      <td>2013</td>\n      <td>0.0</td>\n    </tr>\n    <tr>\n      <th>4</th>\n      <td>2</td>\n      <td>Firmicutes</td>\n      <td>21</td>\n      <td>2013</td>\n      <td>1.0</td>\n    </tr>\n    <tr>\n      <th>5</th>\n      <td>2</td>\n      <td>Proteobacteria</td>\n      <td>0</td>\n      <td>2013</td>\n      <td>1.0</td>\n    </tr>\n    <tr>\n      <th>6</th>\n      <td>2</td>\n      <td>Actinobacteria</td>\n      <td>5</td>\n      <td>2013</td>\n      <td>2.0</td>\n    </tr>\n    <tr>\n      <th>7</th>\n      <td>2</td>\n      <td>Bacteroidetes</td>\n      <td>555</td>\n      <td>2013</td>\n      <td>2.0</td>\n    </tr>\n  </tbody>\n</table>\n</div>"
     },
     "execution_count": 212,
     "metadata": {},
     "output_type": "execute_result"
    }
   ],
   "source": [
    "data['treatment'].fillna(2, inplace=True)\n",
    "data"
   ]
  },
  {
   "cell_type": "markdown",
   "metadata": {},
   "source": [
    "Missing values can also be interpolated, using any one of a variety of methods:"
   ]
  },
  {
   "cell_type": "code",
   "execution_count": 215,
   "metadata": {
    "ExecuteTime": {
     "end_time": "2023-09-30T15:34:18.544467400Z",
     "start_time": "2023-09-30T15:34:18.403914700Z"
    }
   },
   "outputs": [
    {
     "name": "stdout",
     "output_type": "stream",
     "text": [
      "phylum\n",
      "Firmicutes           NaN\n",
      "Proteobacteria     632.0\n",
      "Actinobacteria    1638.0\n",
      "Bacteroidetes      569.0\n",
      "dtype: float64\n"
     ]
    },
    {
     "data": {
      "text/plain": "phylum\nFirmicutes         632.0\nProteobacteria     632.0\nActinobacteria    1638.0\nBacteroidetes      569.0\ndtype: float64"
     },
     "execution_count": 215,
     "metadata": {},
     "output_type": "execute_result"
    }
   ],
   "source": [
    "print(bacteria2)\n",
    "bacteria2.fillna(method='bfill')"
   ]
  },
  {
   "cell_type": "markdown",
   "metadata": {},
   "source": [
    "## Data summarization\n",
    "\n",
    "We often wish to summarize data in `Series` or `DataFrame` objects, so that they can more easily be understood or compared with similar data. The NumPy package contains several functions that are useful here, but several summarization or reduction methods are built into Pandas data structures."
   ]
  },
  {
   "cell_type": "code",
   "execution_count": 216,
   "metadata": {
    "ExecuteTime": {
     "end_time": "2023-09-30T15:34:42.202370500Z",
     "start_time": "2023-09-30T15:34:42.136281300Z"
    }
   },
   "outputs": [
    {
     "data": {
      "text/plain": "player    womacto01schilcu01myersmi01helliri01johnsra05f...\nyear                                                 200692\nstint                                                   113\nteam      CHNBOSNYAMILNYASFNARILANATLNYNTORTBAHOUARIATLM...\nlg        NLALALNLALNLNLNLNLNLALALNLNLNLALNLNLNLNLALALNL...\ng                                                      5238\nab                                                    13654\nr                                                      1869\nh                                                      3582\nX2b                                                     739\nX3b                                                      55\nhr                                                      437\nrbi                                                  1847.0\nsb                                                    138.0\ncs                                                     46.0\nbb                                                     1549\nso                                                   2408.0\nibb                                                   177.0\nhbp                                                   112.0\nsh                                                    138.0\nsf                                                    120.0\ngidp                                                  354.0\nobp                                               20.751829\ndtype: object"
     },
     "execution_count": 216,
     "metadata": {},
     "output_type": "execute_result"
    }
   ],
   "source": [
    "baseball.sum()"
   ]
  },
  {
   "cell_type": "markdown",
   "metadata": {},
   "source": [
    "Clearly, `sum` is more meaningful for some columns than others. For methods like `mean` for which application to string variables is not just meaningless, but impossible, these columns are <b>automatically exculded</b>:"
   ]
  },
  {
   "cell_type": "code",
   "execution_count": 217,
   "metadata": {
    "ExecuteTime": {
     "end_time": "2023-09-30T15:35:05.183835500Z",
     "start_time": "2023-09-30T15:35:05.077058700Z"
    }
   },
   "outputs": [
    {
     "data": {
      "text/plain": "year     2006.920000\nstint       1.130000\ng          52.380000\nab        136.540000\nr          18.690000\nh          35.820000\nX2b         7.390000\nX3b         0.550000\nhr          4.370000\nrbi        18.470000\nsb          1.380000\ncs          0.460000\nbb         15.490000\nso         24.080000\nibb         1.770000\nhbp         1.120000\nsh          1.380000\nsf          1.200000\ngidp        3.540000\nobp         0.207518\ndtype: float64"
     },
     "execution_count": 217,
     "metadata": {},
     "output_type": "execute_result"
    }
   ],
   "source": [
    "baseball.mean(numeric_only=True)"
   ]
  },
  {
   "cell_type": "markdown",
   "metadata": {},
   "source": [
    "The important difference between NumPy's functions and Pandas' methods is that the latter have built-in support for handling missing data."
   ]
  },
  {
   "cell_type": "code",
   "execution_count": 218,
   "metadata": {
    "ExecuteTime": {
     "end_time": "2023-09-30T15:35:24.717778400Z",
     "start_time": "2023-09-30T15:35:24.673778Z"
    }
   },
   "outputs": [
    {
     "data": {
      "text/plain": "phylum\nFirmicutes           NaN\nProteobacteria     632.0\nActinobacteria    1638.0\nBacteroidetes      569.0\ndtype: float64"
     },
     "execution_count": 218,
     "metadata": {},
     "output_type": "execute_result"
    }
   ],
   "source": [
    "bacteria2"
   ]
  },
  {
   "cell_type": "code",
   "execution_count": 219,
   "metadata": {
    "ExecuteTime": {
     "end_time": "2023-09-30T15:35:26.998529600Z",
     "start_time": "2023-09-30T15:35:26.900516Z"
    }
   },
   "outputs": [
    {
     "data": {
      "text/plain": "946.3333333333334"
     },
     "execution_count": 219,
     "metadata": {},
     "output_type": "execute_result"
    }
   ],
   "source": [
    "bacteria2.mean()"
   ]
  },
  {
   "cell_type": "markdown",
   "metadata": {},
   "source": [
    "Sometimes we may not want to ignore missing values, and allow the `nan` to propagate."
   ]
  },
  {
   "cell_type": "code",
   "execution_count": 220,
   "metadata": {
    "ExecuteTime": {
     "end_time": "2023-09-30T15:35:44.599399900Z",
     "start_time": "2023-09-30T15:35:44.495402900Z"
    }
   },
   "outputs": [
    {
     "data": {
      "text/plain": "nan"
     },
     "execution_count": 220,
     "metadata": {},
     "output_type": "execute_result"
    }
   ],
   "source": [
    "bacteria2.mean(skipna=False)"
   ]
  },
  {
   "cell_type": "markdown",
   "metadata": {},
   "source": [
    "Passing `axis=1` will summarize over rows instead of columns, which only makes sense in certain situations."
   ]
  },
  {
   "cell_type": "code",
   "execution_count": 221,
   "metadata": {
    "ExecuteTime": {
     "end_time": "2023-09-30T15:35:55.670571700Z",
     "start_time": "2023-09-30T15:35:55.597568400Z"
    }
   },
   "outputs": [
    {
     "data": {
      "text/plain": "id\n88653    69\n89439    57\n89361    56\n89462    55\n89396    54\n89360    54\n89489    54\n89371    50\n89378    46\n89374    46\n89389    45\n89523    44\n89521    42\n89463    41\n89466    40\n88652    39\n89438    36\n89330    35\n89533    33\n89481    29\ndtype: int64"
     },
     "execution_count": 221,
     "metadata": {},
     "output_type": "execute_result"
    }
   ],
   "source": [
    "extra_bases = baseball[['X2b','X3b','hr']].sum(axis=1)\n",
    "extra_bases.sort_values(ascending=False).head(20)"
   ]
  },
  {
   "cell_type": "markdown",
   "metadata": {},
   "source": [
    "A useful summarization that gives a quick snapshot of multiple statistics for a `Series` or `DataFrame` is `describe`:"
   ]
  },
  {
   "cell_type": "code",
   "execution_count": 222,
   "metadata": {
    "ExecuteTime": {
     "end_time": "2023-09-30T15:36:41.722758400Z",
     "start_time": "2023-09-30T15:36:40.646334Z"
    }
   },
   "outputs": [
    {
     "data": {
      "text/plain": "             year       stint           g          ab          r           h  \\\ncount   100.00000  100.000000  100.000000  100.000000  100.00000  100.000000   \nmean   2006.92000    1.130000   52.380000  136.540000   18.69000   35.820000   \nstd       0.27266    0.337998   48.031299  181.936853   27.77496   50.221807   \nmin    2006.00000    1.000000    1.000000    0.000000    0.00000    0.000000   \n25%    2007.00000    1.000000    9.500000    2.000000    0.00000    0.000000   \n50%    2007.00000    1.000000   33.000000   40.500000    2.00000    8.000000   \n75%    2007.00000    1.000000   83.250000  243.750000   33.25000   62.750000   \nmax    2007.00000    2.000000  155.000000  586.000000  107.00000  159.000000   \n\n              X2b         X3b          hr        rbi          sb          cs  \\\ncount  100.000000  100.000000  100.000000  100.00000  100.000000  100.000000   \nmean     7.390000    0.550000    4.370000   18.47000    1.380000    0.460000   \nstd     11.117277    1.445124    7.975537   28.34793    3.694878    1.067613   \nmin      0.000000    0.000000    0.000000    0.00000    0.000000    0.000000   \n25%      0.000000    0.000000    0.000000    0.00000    0.000000    0.000000   \n50%      1.000000    0.000000    0.000000    2.00000    0.000000    0.000000   \n75%     11.750000    1.000000    6.000000   27.00000    1.000000    0.000000   \nmax     52.000000   12.000000   35.000000   96.00000   22.000000    6.000000   \n\n               bb          so         ibb        hbp          sh          sf  \\\ncount  100.000000  100.000000  100.000000  100.00000  100.000000  100.000000   \nmean    15.490000   24.080000    1.770000    1.12000    1.380000    1.200000   \nstd     25.812649   32.804496    5.042957    2.23055    2.919042    2.035046   \nmin      0.000000    0.000000    0.000000    0.00000    0.000000    0.000000   \n25%      0.000000    1.000000    0.000000    0.00000    0.000000    0.000000   \n50%      1.000000    7.000000    0.000000    0.00000    0.000000    0.000000   \n75%     19.250000   37.250000    1.250000    1.00000    1.000000    2.000000   \nmax    132.000000  134.000000   43.000000   11.00000   14.000000    9.000000   \n\n             gidp         obp  \ncount  100.000000  100.000000  \nmean     3.540000    0.207518  \nstd      5.201826    0.159634  \nmin      0.000000    0.000000  \n25%      0.000000    0.000000  \n50%      1.000000    0.255882  \n75%      6.000000    0.334722  \nmax     21.000000    0.500000  ",
      "text/html": "<div>\n<style scoped>\n    .dataframe tbody tr th:only-of-type {\n        vertical-align: middle;\n    }\n\n    .dataframe tbody tr th {\n        vertical-align: top;\n    }\n\n    .dataframe thead th {\n        text-align: right;\n    }\n</style>\n<table border=\"1\" class=\"dataframe\">\n  <thead>\n    <tr style=\"text-align: right;\">\n      <th></th>\n      <th>year</th>\n      <th>stint</th>\n      <th>g</th>\n      <th>ab</th>\n      <th>r</th>\n      <th>h</th>\n      <th>X2b</th>\n      <th>X3b</th>\n      <th>hr</th>\n      <th>rbi</th>\n      <th>sb</th>\n      <th>cs</th>\n      <th>bb</th>\n      <th>so</th>\n      <th>ibb</th>\n      <th>hbp</th>\n      <th>sh</th>\n      <th>sf</th>\n      <th>gidp</th>\n      <th>obp</th>\n    </tr>\n  </thead>\n  <tbody>\n    <tr>\n      <th>count</th>\n      <td>100.00000</td>\n      <td>100.000000</td>\n      <td>100.000000</td>\n      <td>100.000000</td>\n      <td>100.00000</td>\n      <td>100.000000</td>\n      <td>100.000000</td>\n      <td>100.000000</td>\n      <td>100.000000</td>\n      <td>100.00000</td>\n      <td>100.000000</td>\n      <td>100.000000</td>\n      <td>100.000000</td>\n      <td>100.000000</td>\n      <td>100.000000</td>\n      <td>100.00000</td>\n      <td>100.000000</td>\n      <td>100.000000</td>\n      <td>100.000000</td>\n      <td>100.000000</td>\n    </tr>\n    <tr>\n      <th>mean</th>\n      <td>2006.92000</td>\n      <td>1.130000</td>\n      <td>52.380000</td>\n      <td>136.540000</td>\n      <td>18.69000</td>\n      <td>35.820000</td>\n      <td>7.390000</td>\n      <td>0.550000</td>\n      <td>4.370000</td>\n      <td>18.47000</td>\n      <td>1.380000</td>\n      <td>0.460000</td>\n      <td>15.490000</td>\n      <td>24.080000</td>\n      <td>1.770000</td>\n      <td>1.12000</td>\n      <td>1.380000</td>\n      <td>1.200000</td>\n      <td>3.540000</td>\n      <td>0.207518</td>\n    </tr>\n    <tr>\n      <th>std</th>\n      <td>0.27266</td>\n      <td>0.337998</td>\n      <td>48.031299</td>\n      <td>181.936853</td>\n      <td>27.77496</td>\n      <td>50.221807</td>\n      <td>11.117277</td>\n      <td>1.445124</td>\n      <td>7.975537</td>\n      <td>28.34793</td>\n      <td>3.694878</td>\n      <td>1.067613</td>\n      <td>25.812649</td>\n      <td>32.804496</td>\n      <td>5.042957</td>\n      <td>2.23055</td>\n      <td>2.919042</td>\n      <td>2.035046</td>\n      <td>5.201826</td>\n      <td>0.159634</td>\n    </tr>\n    <tr>\n      <th>min</th>\n      <td>2006.00000</td>\n      <td>1.000000</td>\n      <td>1.000000</td>\n      <td>0.000000</td>\n      <td>0.00000</td>\n      <td>0.000000</td>\n      <td>0.000000</td>\n      <td>0.000000</td>\n      <td>0.000000</td>\n      <td>0.00000</td>\n      <td>0.000000</td>\n      <td>0.000000</td>\n      <td>0.000000</td>\n      <td>0.000000</td>\n      <td>0.000000</td>\n      <td>0.00000</td>\n      <td>0.000000</td>\n      <td>0.000000</td>\n      <td>0.000000</td>\n      <td>0.000000</td>\n    </tr>\n    <tr>\n      <th>25%</th>\n      <td>2007.00000</td>\n      <td>1.000000</td>\n      <td>9.500000</td>\n      <td>2.000000</td>\n      <td>0.00000</td>\n      <td>0.000000</td>\n      <td>0.000000</td>\n      <td>0.000000</td>\n      <td>0.000000</td>\n      <td>0.00000</td>\n      <td>0.000000</td>\n      <td>0.000000</td>\n      <td>0.000000</td>\n      <td>1.000000</td>\n      <td>0.000000</td>\n      <td>0.00000</td>\n      <td>0.000000</td>\n      <td>0.000000</td>\n      <td>0.000000</td>\n      <td>0.000000</td>\n    </tr>\n    <tr>\n      <th>50%</th>\n      <td>2007.00000</td>\n      <td>1.000000</td>\n      <td>33.000000</td>\n      <td>40.500000</td>\n      <td>2.00000</td>\n      <td>8.000000</td>\n      <td>1.000000</td>\n      <td>0.000000</td>\n      <td>0.000000</td>\n      <td>2.00000</td>\n      <td>0.000000</td>\n      <td>0.000000</td>\n      <td>1.000000</td>\n      <td>7.000000</td>\n      <td>0.000000</td>\n      <td>0.00000</td>\n      <td>0.000000</td>\n      <td>0.000000</td>\n      <td>1.000000</td>\n      <td>0.255882</td>\n    </tr>\n    <tr>\n      <th>75%</th>\n      <td>2007.00000</td>\n      <td>1.000000</td>\n      <td>83.250000</td>\n      <td>243.750000</td>\n      <td>33.25000</td>\n      <td>62.750000</td>\n      <td>11.750000</td>\n      <td>1.000000</td>\n      <td>6.000000</td>\n      <td>27.00000</td>\n      <td>1.000000</td>\n      <td>0.000000</td>\n      <td>19.250000</td>\n      <td>37.250000</td>\n      <td>1.250000</td>\n      <td>1.00000</td>\n      <td>1.000000</td>\n      <td>2.000000</td>\n      <td>6.000000</td>\n      <td>0.334722</td>\n    </tr>\n    <tr>\n      <th>max</th>\n      <td>2007.00000</td>\n      <td>2.000000</td>\n      <td>155.000000</td>\n      <td>586.000000</td>\n      <td>107.00000</td>\n      <td>159.000000</td>\n      <td>52.000000</td>\n      <td>12.000000</td>\n      <td>35.000000</td>\n      <td>96.00000</td>\n      <td>22.000000</td>\n      <td>6.000000</td>\n      <td>132.000000</td>\n      <td>134.000000</td>\n      <td>43.000000</td>\n      <td>11.00000</td>\n      <td>14.000000</td>\n      <td>9.000000</td>\n      <td>21.000000</td>\n      <td>0.500000</td>\n    </tr>\n  </tbody>\n</table>\n</div>"
     },
     "execution_count": 222,
     "metadata": {},
     "output_type": "execute_result"
    }
   ],
   "source": [
    "baseball.describe()"
   ]
  },
  {
   "cell_type": "markdown",
   "metadata": {},
   "source": [
    "`describe` can detect non-numeric data and sometimes yield useful information about it."
   ]
  },
  {
   "cell_type": "code",
   "execution_count": 223,
   "metadata": {
    "ExecuteTime": {
     "end_time": "2023-09-30T15:37:04.740687600Z",
     "start_time": "2023-09-30T15:37:04.626612400Z"
    }
   },
   "outputs": [
    {
     "data": {
      "text/plain": "count           100\nunique           82\ntop       wellsda01\nfreq              2\nName: player, dtype: object"
     },
     "execution_count": 223,
     "metadata": {},
     "output_type": "execute_result"
    }
   ],
   "source": [
    "baseball.player.describe()"
   ]
  },
  {
   "cell_type": "markdown",
   "metadata": {},
   "source": [
    "We can also calculate summary statistics *across* multiple columns, for example, correlation and covariance.\n",
    "\n",
    "$$cov(x,y) = \\sum_i (x_i - \\bar{x})(y_i - \\bar{y})$$"
   ]
  },
  {
   "cell_type": "code",
   "execution_count": 224,
   "metadata": {
    "ExecuteTime": {
     "end_time": "2023-09-30T15:37:22.540293400Z",
     "start_time": "2023-09-30T15:37:22.400295Z"
    }
   },
   "outputs": [
    {
     "data": {
      "text/plain": "69.07646464646454"
     },
     "execution_count": 224,
     "metadata": {},
     "output_type": "execute_result"
    }
   ],
   "source": [
    "baseball.hr.cov(baseball.X2b)"
   ]
  },
  {
   "cell_type": "markdown",
   "metadata": {},
   "source": [
    "$$corr(x,y) = \\frac{cov(x,y)}{(n-1)s_x s_y} = \\frac{\\sum_i (x_i - \\bar{x})(y_i - \\bar{y})}{\\sqrt{\\sum_i (x_i - \\bar{x})^2 \\sum_i (y_i - \\bar{y})^2}}$$"
   ]
  },
  {
   "cell_type": "code",
   "execution_count": 225,
   "metadata": {
    "ExecuteTime": {
     "end_time": "2023-09-30T15:37:45.105879300Z",
     "start_time": "2023-09-30T15:37:44.982168800Z"
    }
   },
   "outputs": [
    {
     "data": {
      "text/plain": "0.7790615182539742"
     },
     "execution_count": 225,
     "metadata": {},
     "output_type": "execute_result"
    }
   ],
   "source": [
    "baseball.hr.corr(baseball.X2b)"
   ]
  },
  {
   "cell_type": "code",
   "execution_count": 226,
   "metadata": {
    "ExecuteTime": {
     "end_time": "2023-09-30T15:37:50.814407Z",
     "start_time": "2023-09-30T15:37:50.714393100Z"
    }
   },
   "outputs": [
    {
     "data": {
      "text/plain": "0.9942174036272377"
     },
     "execution_count": 226,
     "metadata": {},
     "output_type": "execute_result"
    }
   ],
   "source": [
    "baseball.ab.corr(baseball.h)"
   ]
  },
  {
   "cell_type": "markdown",
   "metadata": {},
   "source": [
    "## Plotting\n",
    "Sometimes the correlation between two attributes is obvious when we plot them in the 2-d space. Also other kinds of plots (e.g., histograms) help us understand whether our data follows a particular law (e.g., a power law). Thus, it is crucial, not only to know how to select the appropriate slice of our dataset, but also how to properly visualize it. "
   ]
  },
  {
   "cell_type": "code",
   "execution_count": 227,
   "metadata": {
    "ExecuteTime": {
     "end_time": "2023-09-30T15:38:20.037883100Z",
     "start_time": "2023-09-30T15:38:19.582880900Z"
    }
   },
   "outputs": [
    {
     "data": {
      "text/plain": "<Axes: xlabel='hr', ylabel='X2b'>"
     },
     "execution_count": 227,
     "metadata": {},
     "output_type": "execute_result"
    },
    {
     "data": {
      "text/plain": "<Figure size 640x480 with 1 Axes>",
      "image/png": "[encoded data removed]"
     },
     "metadata": {},
     "output_type": "display_data"
    }
   ],
   "source": [
    "baseball.plot.scatter(x='hr', y='X2b')"
   ]
  },
  {
   "cell_type": "code",
   "execution_count": 228,
   "metadata": {
    "ExecuteTime": {
     "end_time": "2023-09-30T15:38:41.740766700Z",
     "start_time": "2023-09-30T15:38:41.423770Z"
    }
   },
   "outputs": [
    {
     "data": {
      "text/plain": "<Axes: xlabel='ab', ylabel='h'>"
     },
     "execution_count": 228,
     "metadata": {},
     "output_type": "execute_result"
    },
    {
     "data": {
      "text/plain": "<Figure size 640x480 with 1 Axes>",
      "image/png": "[encoded data removed]"
     },
     "metadata": {},
     "output_type": "display_data"
    }
   ],
   "source": [
    "baseball.plot.scatter(x='ab', y='h')"
   ]
  },
  {
   "cell_type": "markdown",
   "metadata": {},
   "source": [
    "Do you understand which of the above has better correlation?"
   ]
  },
  {
   "cell_type": "code",
   "execution_count": 229,
   "metadata": {
    "ExecuteTime": {
     "end_time": "2023-09-30T15:38:48.077883200Z",
     "start_time": "2023-09-30T15:38:47.816790600Z"
    }
   },
   "outputs": [
    {
     "data": {
      "text/plain": "<Axes: >"
     },
     "execution_count": 229,
     "metadata": {},
     "output_type": "execute_result"
    },
    {
     "data": {
      "text/plain": "<Figure size 640x480 with 1 Axes>",
      "image/png": "[encoded data removed]"
     },
     "metadata": {},
     "output_type": "display_data"
    }
   ],
   "source": [
    "baseball['ab'].hist()"
   ]
  },
  {
   "cell_type": "code",
   "execution_count": 230,
   "metadata": {
    "ExecuteTime": {
     "end_time": "2023-09-30T15:38:50.985170100Z",
     "start_time": "2023-09-30T15:38:50.693690500Z"
    }
   },
   "outputs": [
    {
     "data": {
      "text/plain": "<Axes: >"
     },
     "execution_count": 230,
     "metadata": {},
     "output_type": "execute_result"
    },
    {
     "data": {
      "text/plain": "<Figure size 640x480 with 1 Axes>",
      "image/png": "[encoded data removed]"
     },
     "metadata": {},
     "output_type": "display_data"
    }
   ],
   "source": [
    "baseball['h'].hist()"
   ]
  },
  {
   "cell_type": "markdown",
   "metadata": {},
   "source": [
    "What do you observe in the distributions of the two attributes? Is it safe to say that they correlate based on the last two plots? Why we need also the scatterplots?"
   ]
  },
  {
   "cell_type": "markdown",
   "metadata": {},
   "source": [
    "\n",
    "## Writing Data to Files\n",
    "\n",
    "As well as being able to read several data input formats, Pandas can also export data to a variety of storage formats. We will bring your attention to just a couple of these."
   ]
  },
  {
   "cell_type": "code",
   "execution_count": 231,
   "metadata": {
    "ExecuteTime": {
     "end_time": "2023-09-30T15:39:40.063536800Z",
     "start_time": "2023-09-30T15:39:39.977537200Z"
    }
   },
   "outputs": [],
   "source": [
    "mb.to_csv(\"mb.csv\")"
   ]
  },
  {
   "cell_type": "markdown",
   "metadata": {},
   "source": [
    "The `to_csv` method writes a `DataFrame` to a comma-separated values (csv) file. You can specify custom delimiters (via `sep` argument), how missing values are written (via `na_rep` argument), whether the index is writen (via `index` argument), whether the header is included (via `header` argument), among other options."
   ]
  },
  {
   "cell_type": "markdown",
   "metadata": {},
   "source": [
    "An efficient way of storing data to disk is in **binary format**. Pandas supports this using Python’s built-in pickle serialization."
   ]
  },
  {
   "cell_type": "code",
   "execution_count": 232,
   "metadata": {
    "ExecuteTime": {
     "end_time": "2023-09-30T15:40:18.131188900Z",
     "start_time": "2023-09-30T15:40:18.060705700Z"
    }
   },
   "outputs": [],
   "source": [
    "baseball.to_pickle(\"baseball_pickle\")"
   ]
  },
  {
   "cell_type": "markdown",
   "metadata": {},
   "source": [
    "The complement to `to_pickle` is the `read_pickle` function, which restores the pickle to a `DataFrame` or `Series`:"
   ]
  },
  {
   "cell_type": "code",
   "execution_count": 233,
   "metadata": {
    "ExecuteTime": {
     "end_time": "2023-09-30T15:40:28.084238700Z",
     "start_time": "2023-09-30T15:40:27.999252100Z"
    }
   },
   "outputs": [
    {
     "data": {
      "text/plain": "          player  year  stint team  lg   g  ab  r   h  X2b  ...   sb   cs  bb  \\\nid                                                          ...                 \n88641  womacto01  2006      2  CHN  NL  19  50  6  14    1  ...  1.0  1.0   4   \n88643  schilcu01  2006      1  BOS  AL  31   2  0   1    0  ...  0.0  0.0   0   \n88645  myersmi01  2006      1  NYA  AL  62   0  0   0    0  ...  0.0  0.0   0   \n88649  helliri01  2006      1  MIL  NL  20   3  0   0    0  ...  0.0  0.0   0   \n88650  johnsra05  2006      1  NYA  AL  33   6  0   1    0  ...  0.0  0.0   0   \n\n        so  ibb  hbp   sh   sf  gidp       obp  \nid                                              \n88641  4.0  0.0  0.0  3.0  0.0   0.0  0.333333  \n88643  1.0  0.0  0.0  0.0  0.0   0.0  0.500000  \n88645  0.0  0.0  0.0  0.0  0.0   0.0  0.000000  \n88649  2.0  0.0  0.0  0.0  0.0   0.0  0.000000  \n88650  4.0  0.0  0.0  0.0  0.0   0.0  0.166667  \n\n[5 rows x 23 columns]",
      "text/html": "<div>\n<style scoped>\n    .dataframe tbody tr th:only-of-type {\n        vertical-align: middle;\n    }\n\n    .dataframe tbody tr th {\n        vertical-align: top;\n    }\n\n    .dataframe thead th {\n        text-align: right;\n    }\n</style>\n<table border=\"1\" class=\"dataframe\">\n  <thead>\n    <tr style=\"text-align: right;\">\n      <th></th>\n      <th>player</th>\n      <th>year</th>\n      <th>stint</th>\n      <th>team</th>\n      <th>lg</th>\n      <th>g</th>\n      <th>ab</th>\n      <th>r</th>\n      <th>h</th>\n      <th>X2b</th>\n      <th>...</th>\n      <th>sb</th>\n      <th>cs</th>\n      <th>bb</th>\n      <th>so</th>\n      <th>ibb</th>\n      <th>hbp</th>\n      <th>sh</th>\n      <th>sf</th>\n      <th>gidp</th>\n      <th>obp</th>\n    </tr>\n    <tr>\n      <th>id</th>\n      <th></th>\n      <th></th>\n      <th></th>\n      <th></th>\n      <th></th>\n      <th></th>\n      <th></th>\n      <th></th>\n      <th></th>\n      <th></th>\n      <th></th>\n      <th></th>\n      <th></th>\n      <th></th>\n      <th></th>\n      <th></th>\n      <th></th>\n      <th></th>\n      <th></th>\n      <th></th>\n      <th></th>\n    </tr>\n  </thead>\n  <tbody>\n    <tr>\n      <th>88641</th>\n      <td>womacto01</td>\n      <td>2006</td>\n      <td>2</td>\n      <td>CHN</td>\n      <td>NL</td>\n      <td>19</td>\n      <td>50</td>\n      <td>6</td>\n      <td>14</td>\n      <td>1</td>\n      <td>...</td>\n      <td>1.0</td>\n      <td>1.0</td>\n      <td>4</td>\n      <td>4.0</td>\n      <td>0.0</td>\n      <td>0.0</td>\n      <td>3.0</td>\n      <td>0.0</td>\n      <td>0.0</td>\n      <td>0.333333</td>\n    </tr>\n    <tr>\n      <th>88643</th>\n      <td>schilcu01</td>\n      <td>2006</td>\n      <td>1</td>\n      <td>BOS</td>\n      <td>AL</td>\n      <td>31</td>\n      <td>2</td>\n      <td>0</td>\n      <td>1</td>\n      <td>0</td>\n      <td>...</td>\n      <td>0.0</td>\n      <td>0.0</td>\n      <td>0</td>\n      <td>1.0</td>\n      <td>0.0</td>\n      <td>0.0</td>\n      <td>0.0</td>\n      <td>0.0</td>\n      <td>0.0</td>\n      <td>0.500000</td>\n    </tr>\n    <tr>\n      <th>88645</th>\n      <td>myersmi01</td>\n      <td>2006</td>\n      <td>1</td>\n      <td>NYA</td>\n      <td>AL</td>\n      <td>62</td>\n      <td>0</td>\n      <td>0</td>\n      <td>0</td>\n      <td>0</td>\n      <td>...</td>\n      <td>0.0</td>\n      <td>0.0</td>\n      <td>0</td>\n      <td>0.0</td>\n      <td>0.0</td>\n      <td>0.0</td>\n      <td>0.0</td>\n      <td>0.0</td>\n      <td>0.0</td>\n      <td>0.000000</td>\n    </tr>\n    <tr>\n      <th>88649</th>\n      <td>helliri01</td>\n      <td>2006</td>\n      <td>1</td>\n      <td>MIL</td>\n      <td>NL</td>\n      <td>20</td>\n      <td>3</td>\n      <td>0</td>\n      <td>0</td>\n      <td>0</td>\n      <td>...</td>\n      <td>0.0</td>\n      <td>0.0</td>\n      <td>0</td>\n      <td>2.0</td>\n      <td>0.0</td>\n      <td>0.0</td>\n      <td>0.0</td>\n      <td>0.0</td>\n      <td>0.0</td>\n      <td>0.000000</td>\n    </tr>\n    <tr>\n      <th>88650</th>\n      <td>johnsra05</td>\n      <td>2006</td>\n      <td>1</td>\n      <td>NYA</td>\n      <td>AL</td>\n      <td>33</td>\n      <td>6</td>\n      <td>0</td>\n      <td>1</td>\n      <td>0</td>\n      <td>...</td>\n      <td>0.0</td>\n      <td>0.0</td>\n      <td>0</td>\n      <td>4.0</td>\n      <td>0.0</td>\n      <td>0.0</td>\n      <td>0.0</td>\n      <td>0.0</td>\n      <td>0.0</td>\n      <td>0.166667</td>\n    </tr>\n  </tbody>\n</table>\n<p>5 rows × 23 columns</p>\n</div>"
     },
     "execution_count": 233,
     "metadata": {},
     "output_type": "execute_result"
    }
   ],
   "source": [
    "pd.read_pickle(\"baseball_pickle\").head()"
   ]
  },
  {
   "cell_type": "markdown",
   "metadata": {},
   "source": [
    "As Wes warns in his book [1], it is recommended that binary storage of data via pickle only be used as a temporary storage format, in situations where speed is relevant. This is because there is no guarantee that the pickle format will not change with future versions of Python."
   ]
  },
  {
   "cell_type": "markdown",
   "metadata": {},
   "source": [
    "## References\n",
    "\n",
    "[1] [Python for Data Analysis](http://shop.oreilly.com/product/0636920023784.do) Wes McKinney"
   ]
  }
 ],
 "metadata": {
  "anaconda-cloud": {},
  "kernelspec": {
   "display_name": "Python 3 (ipykernel)",
   "language": "python",
   "name": "python3"
  },
  "language_info": {
   "codemirror_mode": {
    "name": "ipython",
    "version": 3
   },
   "file_extension": ".py",
   "mimetype": "text/x-python",
   "name": "python",
   "nbconvert_exporter": "python",
   "pygments_lexer": "ipython3",
   "version": "3.9.18"
  },
  "nav_menu": {},
  "toc": {
   "base_numbering": 1,
   "nav_menu": {},
   "number_sections": false,
   "sideBar": false,
   "skip_h1_title": false,
   "title_cell": "Table of Contents",
   "title_sidebar": "Contents",
   "toc_cell": true,
   "toc_position": {
    "height": "100px",
    "left": "10px",
    "top": "150px",
    "width": "165px"
   },
   "toc_section_display": true,
   "toc_window_display": false
  },
  "varInspector": {
   "cols": {
    "lenName": 16,
    "lenType": 16,
    "lenVar": 40
   },
   "kernels_config": {
    "python": {
     "delete_cmd_postfix": "",
     "delete_cmd_prefix": "del ",
     "library": "var_list.py",
     "varRefreshCmd": "print(var_dic_list())"
    },
    "r": {
     "delete_cmd_postfix": ") ",
     "delete_cmd_prefix": "rm(",
     "library": "var_list.r",
     "varRefreshCmd": "cat(var_dic_list()) "
    }
   },
   "types_to_exclude": [
    "module",
    "function",
    "builtin_function_or_method",
    "instance",
    "_Feature"
   ],
   "window_display": false
  }
 },
 "nbformat": 4,
 "nbformat_minor": 4
}

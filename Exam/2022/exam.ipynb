{
 "cells": [
  {
   "cell_type": "markdown",
   "id": "09e9a536",
   "metadata": {},
   "source": [
    "## ADA final exam (Fall 2022)\n",
    "\n",
    "This exam consists of 3 tasks. Tasks 2 and 3 are independent of each other (although conceptually related).\n"
   ]
  },
  {
   "cell_type": "markdown",
   "id": "68507ec4",
   "metadata": {},
   "source": [
    "## Dataset\n",
    "\n",
    "For a Wikipedia editor to become an administrator, a so-called “request for adminship” ([RfA](https://en.wikipedia.org/wiki/Wikipedia:Requests_for_adminship)) must be submitted by either the candidate or another community member. Subsequently, any Wikipedia member may cast a supporting or opposing vote. Here we provide a simplified version of the Wikipedia RfA dataset, containing all votes from 2003 through 2012.\n",
    "\n",
    "###  Data format\n",
    "\n",
    "|        |   SRC |   TGT |   VOT |   RES |   YEA | DAT                 | TXT                                                                                                                                                                                               |\n",
    "|-------:|------:|------:|------:|------:|------:|:--------------------|:--------------------------------------------------------------------------------------------------------------------------------------------------------------------------------------------------|\n",
    "|  39054 |  3444 | 10170 |     1 |     1 |  2009 | 2009-07-01 17:50:00 | '''Support''' - Best of luck. &nbsp;                                                                                                                                                              |\n",
    "| 159680 |   722 |  9634 |    -1 |    -1 |  2006 | 2006-12-15 07:28:00 | '''Oppose''' Not even 2000 edits.                                                                                                                                                                 |\n",
    "| 173438 |  4194 |  5524 |     1 |     1 |  2005 | 2005-03-18 19:22:00 | Ohhh, you're Carrp!  In that case, '''Support'''.                                                                                                                                                 |\n",
    "|  60627 |  4855 |  9436 |     1 |     1 |  2008 | 2008-12-18 23:26:00 | '''Support''' via thoughtful answer to my question that demonstrates this editor has clue.                                                 |\n",
    "| 194809 |  7687 |   908 |     1 |     1 |  2004 | 2004-09-25 05:21:00 | Nicholas is very good in English. Also, he got '''exceptional''' patience to explain petty obvious facts in talk page to convince ignorants. Let the world be benefitted more out of his work. -- |\n",
    "\n",
    "\n",
    "- SRC: the user name of the source of the vote, i.e., of the user who cast the vote.\n",
    "- TGT: the user name of the target of the vote, i.e., of the user running for election.\n",
    "- VOT: the source's vote on the target (-1 = oppose; 1 = support).\n",
    "- RES: the outcome of the election (-1 = target was rejected as admin; 1 = target was accepted). **(We will not use this  column in this exam.)**\n",
    "- YEA: the year of the RfA.\n",
    "- DAT: the date and time of this vote. **(We will not use this column in this exam.)**\n",
    "- TXT: the comment written by the source. **(We will not use this column in this exam.)**\n",
    "\n",
    "---\n"
   ]
  },
  {
   "cell_type": "markdown",
   "id": "4a4a661c",
   "metadata": {},
   "source": [
    "## Structural balance theory\n",
    "\n",
    "**Structural balance theory** affirms that social networks tend to be organized so as to avoid conflictual situations, e.g., if a great friend of yours hates someone, you will likely not befriend that person.\n",
    "\n",
    "The theory can be operationalized by looking at _triangles_ in an undirected _signed graph_ capturing person-to-person relationships, where a _signed graph_ is a  graph in which each edge is associated with a positive or negative sign, and a _triangle_ is a set of three edges ($\\langle u,v \\rangle$, $\\langle v,w\\rangle$, $\\langle u,w\\rangle$) that fully connect three distinct nodes ($u, v, w$).\n",
    "\n",
    "\n",
    "\n",
    "_Triangles_ in an undirected signed graph can be in 4 _configurations_:\n",
    "all positive edges ($\\{+,+,+\\}$); \n",
    "all negative edges ($\\{-,-,-\\}$); \n",
    "two positive edges and one negative edge ($\\{+,+,-\\}$);\n",
    "one positive edge and two negative edges ($\\{+,-,-\\}$).\n",
    "\n",
    "Structural balance theory posits that social networks tend to favor triangle configurations with an even number of negative signs (i.e., $\\{+,+,+\\}$ and $\\{+,-,-\\}$), which can be understood as being “balanced” by avoiding conflictual situations. Intuitively, $\\{+,+,+\\}$ could be tagged as “The friend of my friend is my friend”, and $\\{+,-,-\\}$ as “The enemy of my enemy is my friend”, “The friend of my enemy is my enemy”, or “The enemy of my friend is my enemy”. On the contrary, triangle configurations with an odd number of negative signs (i.e., $\\{+,+,-\\}$ and $\\{-,-,-\\}$) are unstable (“unbalanced”) according to structural balance theory and will thus occur less frequently in social networks. For instance, me being friends with two mutual enemies ($\\{+,+,-\\}$) would lead to tension that could be resolved if the two enemies became friends or if I took sides and ended my friendship with one of the two. Similarly, two among three mutual enemies ($\\{-,-,-\\}$) would have the incentive to form an alliance to “gang up” against the third.\n",
    "\n",
    "Some social scientists have argued that three mutual enemies ($\\{-,-,-\\}$) is not necessarily a triangle configuration that social networks tend to avoid. This gives rise to **weak structural balance theory**, which only posits that social networks tend to avoid the “unbalanced” triangle configuration $\\{+,+,-\\}$.\n",
    "\n",
    "In a nutshell,\n",
    "- structural balance theory\n",
    "  - considers $\\{+,+,+\\}$, $\\{+,-,-\\}$ as balanced,\n",
    "  - and $\\{+,+,-\\}$, $\\{-,-,-\\}$ as unbalanced;\n",
    "- weak structural balance theory\n",
    "  - considers $\\{+,+,+\\}$, $\\{+,-,-\\}$, $\\{-,-,-\\}$ as balanced,\n",
    "  - and $\\{+,+,-\\}$ as unbalanced.\n",
    "\n"
   ]
  },
  {
   "cell_type": "markdown",
   "id": "d5f337c9",
   "metadata": {},
   "source": [
    "### Task 1: Preliminaries\n",
    "\n",
    "As a good data scientist, you first load the data and explore it.\n",
    "\n",
    "**1.1**\n",
    "Load the csv file `wiki-RfA.csv.gz` in a pandas dataframe. Calculate the number of distinct RfAs and the average number of votes per RfA.\n",
    "- **Hint:** Throughout this question, assume that each RfA is uniquely determined by the column `TGT` and each vote is uniquely determined by the combination of `SRC` and `TGT`."
   ]
  },
  {
   "cell_type": "code",
   "execution_count": 60,
   "id": "ff2e92a5",
   "metadata": {
    "ExecuteTime": {
     "end_time": "2024-01-12T13:59:41.029304500Z",
     "start_time": "2024-01-12T13:59:40.007231100Z"
    }
   },
   "outputs": [
    {
     "name": "stdout",
     "output_type": "stream",
     "text": [
      "number of RfAs: 3439\n",
      "Mean number of vote: 48.561500\n"
     ]
    }
   ],
   "source": [
    "# 1.1\n",
    "import pandas as pd\n",
    "\n",
    "rfa_df = pd.read_csv(\"wiki-Rfa.csv.gz\")\n",
    "print(\"number of RfAs: %i\" %len(rfa_df[\"TGT\"].unique()))\n",
    "\n",
    "print(\"Mean number of vote: %f\" %rfa_df.groupby([\"TGT\"]).SRC.count().mean())"
   ]
  },
  {
   "cell_type": "markdown",
   "id": "813b5a32",
   "metadata": {},
   "source": [
    "**1.2** \n",
    "In a single figure with three subfigures (one per item), show the following time series:\n",
    "- the number of RfAs per year;\n",
    "- the overall fraction of positive votes per year; and \n",
    "- the average number of votes per RfA per year.\n",
    "\n",
    "For each of the above three quantities, print the value for the year 2008."
   ]
  },
  {
   "cell_type": "code",
   "execution_count": 74,
   "id": "b1732d7e",
   "metadata": {
    "ExecuteTime": {
     "end_time": "2024-01-12T14:07:26.077358800Z",
     "start_time": "2024-01-12T14:07:24.361569Z"
    }
   },
   "outputs": [
    {
     "data": {
      "text/plain": "      Number of RfAs  pos_ratio  avg_votes\nYear                                      \n2003             155   0.987097   0.974194\n2004            4145   0.871894   0.743788\n2005           15683   0.860868   0.721737\n2006           38432   0.771466   0.542933\n2007           37076   0.798090   0.596181\n2008           26412   0.762721   0.525443\n2009           18743   0.747266   0.494531\n2010           12543   0.751814   0.503628\n2011            7892   0.794729   0.589458\n2012            5922   0.722391   0.444782",
      "text/html": "<div>\n<style scoped>\n    .dataframe tbody tr th:only-of-type {\n        vertical-align: middle;\n    }\n\n    .dataframe tbody tr th {\n        vertical-align: top;\n    }\n\n    .dataframe thead th {\n        text-align: right;\n    }\n</style>\n<table border=\"1\" class=\"dataframe\">\n  <thead>\n    <tr style=\"text-align: right;\">\n      <th></th>\n      <th>Number of RfAs</th>\n      <th>pos_ratio</th>\n      <th>avg_votes</th>\n    </tr>\n    <tr>\n      <th>Year</th>\n      <th></th>\n      <th></th>\n      <th></th>\n    </tr>\n  </thead>\n  <tbody>\n    <tr>\n      <th>2003</th>\n      <td>155</td>\n      <td>0.987097</td>\n      <td>0.974194</td>\n    </tr>\n    <tr>\n      <th>2004</th>\n      <td>4145</td>\n      <td>0.871894</td>\n      <td>0.743788</td>\n    </tr>\n    <tr>\n      <th>2005</th>\n      <td>15683</td>\n      <td>0.860868</td>\n      <td>0.721737</td>\n    </tr>\n    <tr>\n      <th>2006</th>\n      <td>38432</td>\n      <td>0.771466</td>\n      <td>0.542933</td>\n    </tr>\n    <tr>\n      <th>2007</th>\n      <td>37076</td>\n      <td>0.798090</td>\n      <td>0.596181</td>\n    </tr>\n    <tr>\n      <th>2008</th>\n      <td>26412</td>\n      <td>0.762721</td>\n      <td>0.525443</td>\n    </tr>\n    <tr>\n      <th>2009</th>\n      <td>18743</td>\n      <td>0.747266</td>\n      <td>0.494531</td>\n    </tr>\n    <tr>\n      <th>2010</th>\n      <td>12543</td>\n      <td>0.751814</td>\n      <td>0.503628</td>\n    </tr>\n    <tr>\n      <th>2011</th>\n      <td>7892</td>\n      <td>0.794729</td>\n      <td>0.589458</td>\n    </tr>\n    <tr>\n      <th>2012</th>\n      <td>5922</td>\n      <td>0.722391</td>\n      <td>0.444782</td>\n    </tr>\n  </tbody>\n</table>\n</div>"
     },
     "execution_count": 74,
     "metadata": {},
     "output_type": "execute_result"
    },
    {
     "data": {
      "text/plain": "<Figure size 1500x500 with 3 Axes>",
      "image/png": "[encoded data removed]"
     },
     "metadata": {},
     "output_type": "display_data"
    }
   ],
   "source": [
    "# 1.2\n",
    "import matplotlib.pyplot as plt\n",
    "import seaborn as sns\n",
    "\n",
    "rfa_df[\"Year\"] = pd.to_datetime(rfa_df[\"DAT\"], format=\"%Y-%m-%d %H:%M:%S\")\n",
    "rfa_df[\"Year\"] = rfa_df[\"Year\"].apply(lambda x: x.year)\n",
    "\n",
    "rfas_df = rfa_df[[\"Year\", \"TGT\"]].groupby(\"Year\").count().rename(columns={\"Year\": \"Year\", \"TGT\": \"Number of RfAs\"})\n",
    "\n",
    "rfas_df[\"sum\"] = rfa_df[[\"Year\", \"VOT\"]].groupby(\"Year\").VOT.sum()\n",
    "rfas_df[\"dif\"] = rfas_df[\"Number of RfAs\"] - rfas_df[\"sum\"]\n",
    "rfas_df[\"neg_count\"] = rfas_df[\"dif\"] / 2\n",
    "rfas_df[\"pos_ratio\"] = (rfas_df[\"Number of RfAs\"] - rfas_df[\"neg_count\"]) / rfas_df[\"Number of RfAs\"]\n",
    "rfas_df.drop([\"sum\", \"dif\", 'neg_count'], axis=1, inplace=True)\n",
    "\n",
    "rfas_df[\"avg_votes\"] = rfa_df.groupby([\"Year\"]).VOT.mean() #TODO understand what to plot\n",
    "\n",
    "fig, axs = plt.subplots(1,3, figsize=(15,5))\n",
    "sns.scatterplot(rfas_df, x= \"Year\", y=\"Number of RfAs\", ax=axs[0])\n",
    "sns.scatterplot(rfas_df, x= \"Year\", y=\"pos_ratio\", ax=axs[1])\n",
    "sns.scatterplot(rfas_df, x= \"Year\", y=\"avg_votes\", ax=axs[2])\n",
    "\n",
    "rfas_df"
   ]
  },
  {
   "cell_type": "markdown",
   "id": "366d38d9",
   "metadata": {},
   "source": [
    "**1.3** \n",
    "**/Discuss:/** Describe the temporal patterns observed in the plots you did in **T1.2**."
   ]
  },
  {
   "cell_type": "markdown",
   "id": "e77900f8",
   "metadata": {},
   "source": [
    "**A1.3** \n",
    "*YOUR ANSWER HERE*"
   ]
  },
  {
   "cell_type": "markdown",
   "id": "81126c89",
   "metadata": {},
   "source": [
    "**1.4** \n",
    "Create an undirected graph ([`nx.Graph`](https://networkx.org/documentation/stable/reference/classes/graph.html)) where every node corresponds to a Wikipedia user (source or target of an RfA) and where there exists an edge between two users if at least one of them has voted on the other. Each edge should have attributes corresponding to columns of the dataframe, namely:\n",
    "- `VOT`, which equals `1` if the vote was positive, and `-1` otherwise.\n",
    "- `YEA`, an integer that represents the year of the RfA.\n",
    "\n",
    "**The code to load the graph has been provided to you!** After running it, print the number of nodes and edges in your graph.\n",
    "\n",
    "---\n",
    "\n",
    "**Observation:** Note that we have at most one edge per pair of nodes in the graph, even though two votes may be associated with the pair  — e.g., if A voted in B's RfA in time $t_1$ and B voted in A's RfA in time $t_2$ ($t_1 < t_2$). In these cases, the code provided associates the metadata of the oldest vote ($t_1$ in the example) to the edge between A and B."
   ]
  },
  {
   "cell_type": "code",
   "execution_count": 245,
   "id": "e57d4776",
   "metadata": {
    "ExecuteTime": {
     "end_time": "2024-01-12T17:59:39.293017900Z",
     "start_time": "2024-01-12T17:59:38.282897700Z"
    }
   },
   "outputs": [],
   "source": [
    "# Provided code! Do not change!\n",
    "import networkx as nx\n",
    "import pandas as pd\n",
    "G = nx.from_pandas_edgelist(pd.read_csv(\"./wiki-RfA.csv.gz\"), \n",
    "                            'SRC', 'TGT', ['VOT', 'RES', 'YEA', 'DAT'], create_using=nx.Graph)"
   ]
  },
  {
   "cell_type": "code",
   "execution_count": 209,
   "id": "f21ec7a6",
   "metadata": {
    "ExecuteTime": {
     "end_time": "2024-01-12T17:01:36.762661300Z",
     "start_time": "2024-01-12T17:01:36.718332700Z"
    }
   },
   "outputs": [
    {
     "name": "stdout",
     "output_type": "stream",
     "text": [
      "Graph with 10831 nodes and 161147 edges\n"
     ]
    }
   ],
   "source": [
    "# 1.4\n",
    "print(G)"
   ]
  },
  {
   "cell_type": "markdown",
   "id": "37cbd1b8",
   "metadata": {},
   "source": [
    "**1.5** \n",
    "Plot the **complementary** cumulative distribution of the degree centrality of the undirected graph. Use a logarithmic (base 10) x-axis and a linear y-axis."
   ]
  },
  {
   "cell_type": "code",
   "execution_count": 186,
   "id": "c1edfd6a",
   "metadata": {
    "ExecuteTime": {
     "end_time": "2024-01-12T16:39:19.676520700Z",
     "start_time": "2024-01-12T16:39:19.311730800Z"
    }
   },
   "outputs": [
    {
     "name": "stderr",
     "output_type": "stream",
     "text": [
      "C:\\Users\\xagao\\anaconda3\\lib\\site-packages\\seaborn\\_oldcore.py:1119: FutureWarning: use_inf_as_na option is deprecated and will be removed in a future version. Convert inf values to NaN before operating instead.\n",
      "  with pd.option_context('mode.use_inf_as_na', True):\n"
     ]
    },
    {
     "data": {
      "text/plain": "<Axes: ylabel='Proportion'>"
     },
     "execution_count": 186,
     "metadata": {},
     "output_type": "execute_result"
    },
    {
     "data": {
      "text/plain": "<Figure size 640x480 with 1 Axes>",
      "image/png": "[encoded data removed]"
     },
     "metadata": {},
     "output_type": "display_data"
    }
   ],
   "source": [
    "from operator import itemgetter\n",
    "import numpy as np\n",
    "\n",
    "# 1.5\n",
    "degrees = dict(G.degree(G.nodes()))\n",
    "\n",
    "sns.ecdfplot(degrees.values(), log_scale=(True,False), complementary=True)\n"
   ]
  },
  {
   "cell_type": "markdown",
   "id": "935be3bf",
   "metadata": {},
   "source": [
    "\n",
    "**1.6**\n",
    "**/Discuss:/** Why is the following statement false? Justify your answer. **\"From the graph obtained in task 1.5, one can conclude that around 40% of the users voted at least 11 times.\"**\n"
   ]
  },
  {
   "cell_type": "markdown",
   "id": "3316f395",
   "metadata": {},
   "source": [
    "**A1.6**\n",
    "*YOUR ANSWER HERE*"
   ]
  },
  {
   "cell_type": "markdown",
   "id": "9d1d5f4a",
   "metadata": {},
   "source": [
    "**1.7**\n",
    "What fraction of users voted at least 11 times? Use the data to measure the fraction."
   ]
  },
  {
   "cell_type": "code",
   "execution_count": 180,
   "id": "a167a11b",
   "metadata": {
    "ExecuteTime": {
     "end_time": "2024-01-12T15:40:49.682586500Z",
     "start_time": "2024-01-12T15:40:47.699805900Z"
    }
   },
   "outputs": [
    {
     "data": {
      "text/plain": "0.24863816822084756"
     },
     "execution_count": 180,
     "metadata": {},
     "output_type": "execute_result"
    }
   ],
   "source": [
    "# 1.7\n",
    "G = nx.from_pandas_edgelist(pd.read_csv(\"./wiki-RfA.csv.gz\"),\n",
    "                            'SRC', 'TGT', ['VOT', 'RES', 'YEA', 'DAT'], create_using=nx.DiGraph)\n",
    "degrees = G.out_degree(G.nodes())\n",
    "degs = np.array([x[1] for x in degrees])\n",
    "\n",
    "len(degs[degs >= 11])/len(degs)"
   ]
  },
  {
   "cell_type": "markdown",
   "id": "35b05b29",
   "metadata": {},
   "source": [
    "### Task 2: Triangles\n",
    "\n",
    "Next, you set out to investigate the social balance theory by looking at the RfA graph.\n",
    "\n",
    "**2.1**\n",
    "Considering _only_ the RfAs of 2004 (i.e., where `YEA == 2004`), generate all triangles in the undirected graph.\n",
    "Print the number of triangles found.\n",
    "- **Hint:** Note that you can generate a graph with only a subset of nodes and edges via ` G.edge_subgraph`.\n",
    "-  **Hint:** The function `nx.enumerate_all_cliques` generates all cliques in an undirected graph. First, all cliques of size 1 are generated, then all cliques of size 2, etc. Triangles are cliques of size 3.\n"
   ]
  },
  {
   "cell_type": "code",
   "execution_count": 263,
   "id": "b39a403e",
   "metadata": {
    "ExecuteTime": {
     "end_time": "2024-01-12T18:17:14.537091800Z",
     "start_time": "2024-01-12T18:17:14.353124Z"
    }
   },
   "outputs": [
    {
     "name": "stdout",
     "output_type": "stream",
     "text": [
      "8448\n"
     ]
    }
   ],
   "source": [
    "# 2.1\n",
    "tmp = rfa_df[rfa_df[\"YEA\"] == 2004]\n",
    "G2 = nx.from_pandas_edgelist(tmp,\n",
    "                            'SRC', 'TGT', ['VOT', 'RES', 'YEA', 'DAT'], create_using=nx.Graph)\n",
    "\n",
    "triangles = [clique for clique in nx.enumerate_all_cliques(G2) if len(clique) == 3]\n",
    "print(len(triangles))"
   ]
  },
  {
   "cell_type": "markdown",
   "id": "9b8ac389",
   "metadata": {},
   "source": [
    "**2.2 ** **/True or false:/** Is the following statement true or false? Justify your answer. **\"The node with the highest clustering coefficient in an undirected graph is the node that belongs to the largest number of triangles.\"**"
   ]
  },
  {
   "cell_type": "markdown",
   "id": "f961eef7",
   "metadata": {},
   "source": [
    "**A2.2**\n",
    "*YOUR ANSWER HERE*"
   ]
  },
  {
   "cell_type": "markdown",
   "id": "e2f5b22c",
   "metadata": {},
   "source": [
    "**2.3** Considering the set of triangles previously calculated, estimate the fraction of triangles of configurations\n",
    " $\\{+,+,+\\}$,  $\\{-,-,-\\}$,  $\\{+,+,-\\}$, and $\\{+,-,-\\}$. What fraction of triangles are \"balanced\" according to structural balance theory?"
   ]
  },
  {
   "cell_type": "code",
   "execution_count": 223,
   "id": "f858e94c",
   "metadata": {
    "ExecuteTime": {
     "end_time": "2024-01-12T17:35:43.717585700Z",
     "start_time": "2024-01-12T17:35:43.699841900Z"
    }
   },
   "outputs": [
    {
     "name": "stdout",
     "output_type": "stream",
     "text": [
      "0.7926136363636364 0.13944128787878787 0.06273674242424243 0.005208333333333333\n",
      "0.8553503787878788\n"
     ]
    }
   ],
   "source": [
    "# 2.3\n",
    "from itertools import combinations\n",
    "\n",
    "plus3 = 0\n",
    "plus2 = 0\n",
    "plus1 = 0\n",
    "plus0 = 0\n",
    "\n",
    "for triangle in triangles:\n",
    "    minus = 0\n",
    "    for comb in combinations(triangle, 2):\n",
    "        if G2.edges[comb][\"VOT\"] < 0:\n",
    "            minus += 1\n",
    "    if minus == 0:\n",
    "        plus3 += 1\n",
    "    elif minus == 1:\n",
    "        plus2 += 1\n",
    "    elif minus == 2:\n",
    "        plus1 += 1\n",
    "    else:\n",
    "        plus0 +=1\n",
    "\n",
    "total = plus3 + plus2 + plus1 + plus0\n",
    "print(plus3/total, plus2/total, plus1/total, plus0/total)\n",
    "print((plus3+plus1)/total)"
   ]
  },
  {
   "cell_type": "markdown",
   "id": "97e6f9f0",
   "metadata": {},
   "source": [
    "**2.4** To observe how triangle configurations would be distributed under a random null model, do the following:\n",
    "- Create a new column `VOT_RND` in the dataframe, where RfA votes (i.e., edge signs in the graph) are shuffled, i.e., permuted randomly.  For shuffling, use `numpy.random`, without replacement and with the seed 32 (see code provided below).\n",
    "- Create a new edge attribute with the values of `VOT_RND` in the graph you created in task **1.4**. You can do this easily using the  [`set_edge_attributes`](https://networkx.org/documentation/stable/reference/generated/networkx.classes.function.set_edge_attributes.html) function.\n",
    "- Considering the shuffled edge signs,  compute the fraction of triangles in each configuration ($\\{+,+,+\\}$,  $\\{-,-,-\\}$,  $\\{+,+,-\\}$, $\\{+,-,-\\}$). Moreover, compute the fraction of triangles that are \"balanced\" according to structural balance theory. (Reminder: consider only the RfAs of 2004.)\n"
   ]
  },
  {
   "cell_type": "code",
   "execution_count": 264,
   "id": "8b4cba61",
   "metadata": {
    "ExecuteTime": {
     "end_time": "2024-01-12T18:17:25.518509500Z",
     "start_time": "2024-01-12T18:17:25.484950300Z"
    }
   },
   "outputs": [],
   "source": [
    "# PROVIDED STUB FOR 2.4\n",
    "import numpy as np\n",
    "np.random.seed(32)\n",
    "df_2004 = rfa_df[rfa_df.YEA == 2004].copy(deep=True)\n",
    "df_2004[\"VOT_RND\"] = np.random.choice(df_2004[\"VOT\"].values, size=len(df_2004), replace=False)"
   ]
  },
  {
   "cell_type": "code",
   "execution_count": 266,
   "id": "49cf240b",
   "metadata": {
    "ExecuteTime": {
     "end_time": "2024-01-12T18:17:40.047498800Z",
     "start_time": "2024-01-12T18:17:39.874078300Z"
    }
   },
   "outputs": [],
   "source": [
    "# 2.4\n",
    "dic = dict()\n",
    "for x in df_2004.iterrows():\n",
    "    dic[(x[1].SRC, x[1].TGT)] = x[1].VOT_RND\n",
    "\n",
    "nx.set_edge_attributes(G2, name=\"VOT_RND\",values= dic)"
   ]
  },
  {
   "cell_type": "code",
   "execution_count": 267,
   "outputs": [
    {
     "name": "stdout",
     "output_type": "stream",
     "text": [
      "0.6857244318181818 0.2779356060606061 0.03444602272727273 0.001893939393939394\n",
      "0.7201704545454546\n"
     ]
    }
   ],
   "source": [
    "plus3 = 0\n",
    "plus2 = 0\n",
    "plus1 = 0\n",
    "plus0 = 0\n",
    "triangles = [clique for clique in nx.enumerate_all_cliques(G2) if len(clique) == 3]\n",
    "for triangle in triangles:\n",
    "    minus = 0\n",
    "    for comb in combinations(triangle, 2):\n",
    "        if G2.edges[comb][\"VOT_RND\"] < 0:\n",
    "            minus += 1\n",
    "    if minus == 0:\n",
    "        plus3 += 1\n",
    "    elif minus == 1:\n",
    "        plus2 += 1\n",
    "    elif minus == 2:\n",
    "        plus1 += 1\n",
    "    else:\n",
    "        plus0 +=1\n",
    "\n",
    "total = plus3 + plus2 + plus1 + plus0\n",
    "print(plus3/total, plus2/total, plus1/total, plus0/total)\n",
    "print((plus3+plus1)/total)"
   ],
   "metadata": {
    "collapsed": false,
    "ExecuteTime": {
     "end_time": "2024-01-12T18:17:40.944273200Z",
     "start_time": "2024-01-12T18:17:40.844840300Z"
    }
   }
  },
  {
   "cell_type": "markdown",
   "id": "f055a145",
   "metadata": {},
   "source": [
    "**2.5** **/Discuss:/** Do the results of tasks **2.3** and **2.4** suggest that structural balance theory is correct? What kind of subsequent analysis would make you trust that the results are not obtained simply by chance? (No need to actually perform that subsequent analysis here.) Justify your answer."
   ]
  },
  {
   "cell_type": "markdown",
   "id": "dcd070a6",
   "metadata": {},
   "source": [
    "**A2.5** *YOUR ANSWER HERE*"
   ]
  },
  {
   "cell_type": "markdown",
   "id": "d5252ffb",
   "metadata": {},
   "source": [
    "### Interlude: Additional data\n",
    "\n",
    "In the data provided in the file `wiki-RfA.csv.gz` (with which you’ve worked up to now), each column corresponds to a vote from a user $u$ to a user $v$ at a time $t$. \n",
    "\n",
    "In **Task 2**, we did not consider the temporal aspect of this network. For the next task, you are provided with a complimentary dataset (`data/wiki-RfA_extra.csv.gz`) containing, for each vote (uniquely determined by `SRC` and `TGT`), a variety of features. **Importantly, these features were calculated considering only data that was already available at the time when the respective vote was cast.** The features are described as follows.\n",
    "\n",
    "- `PP`, `NN`, `PN` — Each vote (signed edge) is part of zero or more triangles, and we computed the number of triangles in which the two remaining edges were both positive (`PP`), both negative (`NN`) and of different signs (i.e., one positive and one negative, `PN`). This considers only the votes the target (denoted by `TGT`) has received before the current vote. \n",
    "\n",
    "- `P`, `N` — The number of positive (`P`) and negative (`N`) votes that the target `TGT` received before the current vote.\n",
    "\n",
    "- `TXT_PROCESSED` — The text in the original dataset, processed so 1) it is entirely lower-case, 2) it does not contain non-alphanumeric characters, and 3) it does not contain words starting with “supp” or “opp” (since words such as \"support\" and \"oppose\"  are obvious give-away signals of the vote).\n",
    "\n",
    "### Interlude: Predicting edge signs with structural balance theory\n",
    "\n",
    "We can use structural balance theory to predict edge signs. \n",
    "\n",
    "Consider an edge whose sign we do not know, as well as the fractions `PP`, `NN`, and `PN` associated with the edge, as defined above. \n",
    "\n",
    "According to structural balance theory, if `PP` + `NN` $\\geq$ `PN`, the vote is predicted to be positive, as this will create more balanced triangles in the graph. Otherwise, it is predicted to be negative. \n",
    "\n",
    "According to the weak structural balance theory, if `PP` $\\geq$ `PN`, the vote is predicted to be positive, as this will create more balanced triangles in the graph. Otherwise, it is predicted to be negative. \n",
    "\n",
    "Note that in both cases we use “$\\geq$” rather than “<”, i.e., when both sides of the equation are equal, we break ties in favor of positive edges. We do so because there are more positive edges in the graph."
   ]
  },
  {
   "cell_type": "markdown",
   "id": "e2f20eed",
   "metadata": {},
   "source": [
    "### Task 3: Predict it!\n",
    "\n",
    "In the final part of the exam, you will leverage your machine learning and regression skills.\n",
    "\n",
    "**3.1** Merge the new dataset with the original dataframe from task **1** using the columns `SRC` and `TGT`. You may drop the old `TXT` column if you want to. \n"
   ]
  },
  {
   "cell_type": "code",
   "execution_count": 274,
   "id": "a2272113",
   "metadata": {
    "ExecuteTime": {
     "end_time": "2024-01-12T18:30:48.561781800Z",
     "start_time": "2024-01-12T18:30:47.896382700Z"
    }
   },
   "outputs": [
    {
     "data": {
      "text/plain": "          SRC   TGT   YEA  PP  NN  PN  N  P  \\\n0        2775  7137  2012   0   0   0  0  0   \n1        2652  7137  2012   0   0   0  0  1   \n2        3356  7137  2012   0   0   0  0  2   \n3        4076  7137  2012   0   0   0  0  3   \n4        5612  7137  2012   0   0   0  0  4   \n...       ...   ...   ...  ..  ..  .. .. ..   \n166998   3867  5823  2003   0   0   0  0  0   \n166999   1011  3422  2003   0   0   0  0  0   \n167000   8629  3422  2003   0   0   0  0  1   \n167001   1581  5037  2003   0   0   0  0  0   \n167002  10897  5037  2003   0   0   0  0  1   \n\n                                            TXT_PROCESSED  VOT  RES  \\\n0                                                 as nom     1    1   \n1       i haven t seen this user around but a cursory ...    1    1   \n2       level headed tactful and a good communicator i...    1    1   \n3        user wizardman span style color 030 wizardman...    1    1   \n4        editor needs to spend more time on nascar and...    1    1   \n...                                                   ...  ...  ...   \n166998                also seems like a good contributor     1    1   \n166999                                                       1    1   \n167000                                                       1    1   \n167001                                                       1    1   \n167002               age has nothing to do with maturity     1    1   \n\n                        DAT  Year  \n0       2012-08-20 21:29:00  2012  \n1       2012-08-20 21:40:00  2012  \n2       2012-08-20 22:34:00  2012  \n3       2012-08-20 22:41:00  2012  \n4       2012-08-20 22:42:00  2012  \n...                     ...   ...  \n166998  2003-12-06 16:05:00  2003  \n166999  2003-08-31 02:13:00  2003  \n167000  2003-09-02 02:51:00  2003  \n167001  2003-11-26 23:45:00  2003  \n167002  2003-12-05 05:38:00  2003  \n\n[167003 rows x 13 columns]",
      "text/html": "<div>\n<style scoped>\n    .dataframe tbody tr th:only-of-type {\n        vertical-align: middle;\n    }\n\n    .dataframe tbody tr th {\n        vertical-align: top;\n    }\n\n    .dataframe thead th {\n        text-align: right;\n    }\n</style>\n<table border=\"1\" class=\"dataframe\">\n  <thead>\n    <tr style=\"text-align: right;\">\n      <th></th>\n      <th>SRC</th>\n      <th>TGT</th>\n      <th>YEA</th>\n      <th>PP</th>\n      <th>NN</th>\n      <th>PN</th>\n      <th>N</th>\n      <th>P</th>\n      <th>TXT_PROCESSED</th>\n      <th>VOT</th>\n      <th>RES</th>\n      <th>DAT</th>\n      <th>Year</th>\n    </tr>\n  </thead>\n  <tbody>\n    <tr>\n      <th>0</th>\n      <td>2775</td>\n      <td>7137</td>\n      <td>2012</td>\n      <td>0</td>\n      <td>0</td>\n      <td>0</td>\n      <td>0</td>\n      <td>0</td>\n      <td>as nom</td>\n      <td>1</td>\n      <td>1</td>\n      <td>2012-08-20 21:29:00</td>\n      <td>2012</td>\n    </tr>\n    <tr>\n      <th>1</th>\n      <td>2652</td>\n      <td>7137</td>\n      <td>2012</td>\n      <td>0</td>\n      <td>0</td>\n      <td>0</td>\n      <td>0</td>\n      <td>1</td>\n      <td>i haven t seen this user around but a cursory ...</td>\n      <td>1</td>\n      <td>1</td>\n      <td>2012-08-20 21:40:00</td>\n      <td>2012</td>\n    </tr>\n    <tr>\n      <th>2</th>\n      <td>3356</td>\n      <td>7137</td>\n      <td>2012</td>\n      <td>0</td>\n      <td>0</td>\n      <td>0</td>\n      <td>0</td>\n      <td>2</td>\n      <td>level headed tactful and a good communicator i...</td>\n      <td>1</td>\n      <td>1</td>\n      <td>2012-08-20 22:34:00</td>\n      <td>2012</td>\n    </tr>\n    <tr>\n      <th>3</th>\n      <td>4076</td>\n      <td>7137</td>\n      <td>2012</td>\n      <td>0</td>\n      <td>0</td>\n      <td>0</td>\n      <td>0</td>\n      <td>3</td>\n      <td>user wizardman span style color 030 wizardman...</td>\n      <td>1</td>\n      <td>1</td>\n      <td>2012-08-20 22:41:00</td>\n      <td>2012</td>\n    </tr>\n    <tr>\n      <th>4</th>\n      <td>5612</td>\n      <td>7137</td>\n      <td>2012</td>\n      <td>0</td>\n      <td>0</td>\n      <td>0</td>\n      <td>0</td>\n      <td>4</td>\n      <td>editor needs to spend more time on nascar and...</td>\n      <td>1</td>\n      <td>1</td>\n      <td>2012-08-20 22:42:00</td>\n      <td>2012</td>\n    </tr>\n    <tr>\n      <th>...</th>\n      <td>...</td>\n      <td>...</td>\n      <td>...</td>\n      <td>...</td>\n      <td>...</td>\n      <td>...</td>\n      <td>...</td>\n      <td>...</td>\n      <td>...</td>\n      <td>...</td>\n      <td>...</td>\n      <td>...</td>\n      <td>...</td>\n    </tr>\n    <tr>\n      <th>166998</th>\n      <td>3867</td>\n      <td>5823</td>\n      <td>2003</td>\n      <td>0</td>\n      <td>0</td>\n      <td>0</td>\n      <td>0</td>\n      <td>0</td>\n      <td>also seems like a good contributor</td>\n      <td>1</td>\n      <td>1</td>\n      <td>2003-12-06 16:05:00</td>\n      <td>2003</td>\n    </tr>\n    <tr>\n      <th>166999</th>\n      <td>1011</td>\n      <td>3422</td>\n      <td>2003</td>\n      <td>0</td>\n      <td>0</td>\n      <td>0</td>\n      <td>0</td>\n      <td>0</td>\n      <td></td>\n      <td>1</td>\n      <td>1</td>\n      <td>2003-08-31 02:13:00</td>\n      <td>2003</td>\n    </tr>\n    <tr>\n      <th>167000</th>\n      <td>8629</td>\n      <td>3422</td>\n      <td>2003</td>\n      <td>0</td>\n      <td>0</td>\n      <td>0</td>\n      <td>0</td>\n      <td>1</td>\n      <td></td>\n      <td>1</td>\n      <td>1</td>\n      <td>2003-09-02 02:51:00</td>\n      <td>2003</td>\n    </tr>\n    <tr>\n      <th>167001</th>\n      <td>1581</td>\n      <td>5037</td>\n      <td>2003</td>\n      <td>0</td>\n      <td>0</td>\n      <td>0</td>\n      <td>0</td>\n      <td>0</td>\n      <td></td>\n      <td>1</td>\n      <td>1</td>\n      <td>2003-11-26 23:45:00</td>\n      <td>2003</td>\n    </tr>\n    <tr>\n      <th>167002</th>\n      <td>10897</td>\n      <td>5037</td>\n      <td>2003</td>\n      <td>0</td>\n      <td>0</td>\n      <td>0</td>\n      <td>0</td>\n      <td>1</td>\n      <td>age has nothing to do with maturity</td>\n      <td>1</td>\n      <td>1</td>\n      <td>2003-12-05 05:38:00</td>\n      <td>2003</td>\n    </tr>\n  </tbody>\n</table>\n<p>167003 rows × 13 columns</p>\n</div>"
     },
     "execution_count": 274,
     "metadata": {},
     "output_type": "execute_result"
    }
   ],
   "source": [
    "# 3.1\n",
    "extra_df = pd.read_csv(\"wiki-RfA_extra.csv.gz\")\n",
    "\n",
    "extra_df = extra_df.merge(rfa_df).drop(\"TXT\", axis=1)\n",
    "extra_df"
   ]
  },
  {
   "cell_type": "markdown",
   "id": "c5d42a2d",
   "metadata": {},
   "source": [
    "**3.2**  Create the following two rule-based classifiers, and for each, estimate its area under the ROC curve (a.k.a. “AUC/ROC”) on the entire dataset:\n",
    "\n",
    "- **A)** a classifier inspired by structural balance theory. The classifier should predict a positive vote if  `PP` + `NN` $\\geq$ `PN`, and a negative vote otherwise.\n",
    "- **B)** a classifier inspired by weak structural balance theory. The classifier should predict a positive vote if `PP`  $\\geq$ `PN` and a negative vote otherwise."
   ]
  },
  {
   "cell_type": "code",
   "execution_count": 292,
   "id": "44643421",
   "metadata": {
    "ExecuteTime": {
     "end_time": "2024-01-12T18:46:03.015765700Z",
     "start_time": "2024-01-12T18:46:02.949172700Z"
    }
   },
   "outputs": [],
   "source": [
    "y =extra_df[\"VOT\"].values\n",
    "X = extra_df[[\"PP\",\"NN\", \"PN\"]].values.astype(int)"
   ]
  },
  {
   "cell_type": "code",
   "execution_count": 300,
   "outputs": [
    {
     "data": {
      "text/plain": "<Figure size 640x480 with 1 Axes>",
      "image/png": "[encoded data removed]"
     },
     "metadata": {},
     "output_type": "display_data"
    }
   ],
   "source": [
    "from sklearn.metrics import roc_curve, auc\n",
    "\n",
    "y_pred = extra_df[\"PP\"] + extra_df[\"NN\"] >= extra_df[\"PN\"]\n",
    "\n",
    "# Compute the False Positive Rate and True Positive Rate\n",
    "fpr, tpr, _ = roc_curve(y, y_pred)\n",
    "# Compute the area under the fpt-tpf curve\n",
    "auc_score = auc(fpr, tpr)\n",
    "\n",
    "plt.plot(fpr, tpr)\n",
    "plt.plot([0, 1], [0, 1],'r--')\n",
    "plt.xlabel(\"False Positive Rate\")\n",
    "plt.ylabel(\"True Positive Rate\")\n",
    "plt.title(\"ROC Curve - Area = {:.5f}\".format(auc_score));\n"
   ],
   "metadata": {
    "collapsed": false,
    "ExecuteTime": {
     "end_time": "2024-01-12T18:51:39.537916400Z",
     "start_time": "2024-01-12T18:51:39.322879100Z"
    }
   }
  },
  {
   "cell_type": "code",
   "execution_count": 299,
   "outputs": [
    {
     "data": {
      "text/plain": "<Figure size 640x480 with 1 Axes>",
      "image/png": "[encoded data removed]"
     },
     "metadata": {},
     "output_type": "display_data"
    }
   ],
   "source": [
    "y_pred = extra_df[\"PP\"] >= extra_df[\"PN\"]\n",
    "\n",
    "# Compute the False Positive Rate and True Positive Rate\n",
    "fpr, tpr, _ = roc_curve(y, y_pred)\n",
    "# Compute the area under the fpt-tpf curve\n",
    "auc_score = auc(fpr, tpr)\n",
    "\n",
    "plt.plot(fpr, tpr)\n",
    "plt.plot([0, 1], [0, 1],'r--')\n",
    "plt.xlabel(\"False Positive Rate\")\n",
    "plt.ylabel(\"True Positive Rate\")\n",
    "plt.title(\"ROC Curve - Area = {:.5f}\".format(auc_score));"
   ],
   "metadata": {
    "collapsed": false,
    "ExecuteTime": {
     "end_time": "2024-01-12T18:51:32.105597800Z",
     "start_time": "2024-01-12T18:51:31.872044Z"
    }
   }
  },
  {
   "cell_type": "markdown",
   "id": "0161ec09",
   "metadata": {},
   "source": [
    "**3.3** To determine if the differences in the classifiers from task **3.2** occur solely due to chance, follow the following bootstrap procedure, using 200 iterations:\n",
    "\n",
    "- **A)** Randomly sample the entire dataset (i.e., votes from the dataframe constructed in task **3.1**) with replacement;\n",
    "- **B)** Compute the difference of the AUC/ROC for the two classifiers on the entire dataset.\n",
    "\n",
    "Then use the distribution of AUC/ROC differences (one difference per bootstrap iteration) to estimate the 95% confidence interval for the AUC/ROC difference."
   ]
  },
  {
   "cell_type": "code",
   "execution_count": 311,
   "id": "817ee28f",
   "metadata": {
    "ExecuteTime": {
     "end_time": "2024-01-12T19:25:41.445173600Z",
     "start_time": "2024-01-12T19:25:33.013718400Z"
    }
   },
   "outputs": [
    {
     "name": "stdout",
     "output_type": "stream",
     "text": [
      "(-0.00306690709766628, -0.002282468658328124)\n"
     ]
    }
   ],
   "source": [
    "iterations = 200\n",
    "means = np.zeros(iterations)\n",
    "for i in range(iterations):\n",
    "    bootstrap_sample = extra_df.sample(len(extra_df),replace=True)\n",
    "    y_pred1 = bootstrap_sample[\"PP\"] + bootstrap_sample[\"NN\"] >= bootstrap_sample[\"PN\"]\n",
    "    y_pred2 = bootstrap_sample[\"PP\"] >= bootstrap_sample[\"PN\"]\n",
    "    fpr1, tpr1, _ = roc_curve(bootstrap_sample[\"VOT\"], y_pred1)\n",
    "    auc_score1 = auc(fpr1, tpr1)\n",
    "    fpr2, tpr2, _ = roc_curve(bootstrap_sample[\"VOT\"], y_pred2)\n",
    "    auc_score2 = auc(fpr2, tpr2)\n",
    "    means[i] = np.mean(auc_score1-auc_score2)\n",
    "lower_bound = np.percentile(means, 2.5)\n",
    "upper_bound = np.percentile(means, 97.5)\n",
    "print((lower_bound, upper_bound))"
   ]
  },
  {
   "cell_type": "markdown",
   "id": "4d0e1569",
   "metadata": {},
   "source": [
    "**3.4 ** **/Discuss:**/ According to the results in tasks **3.2** and **3.3**, which theory better predicts actual edge signs, structural balance theory or the weak structural balance theory? \n"
   ]
  },
  {
   "cell_type": "markdown",
   "id": "94b39801",
   "metadata": {},
   "source": [
    "**A3.4** *YOUR ANSWER HERE*"
   ]
  },
  {
   "cell_type": "markdown",
   "id": "28d37dc1",
   "metadata": {},
   "source": [
    "**3.5** How accurately can we predict the vote with more sophisticated features and algorithms?\n",
    "\n",
    "- Create a TF-IDF representation of the text of each vote  using `sklearn`'s vectorizer ([`sklearn.feature_extraction.text.TfidfVectorizer`](https://scikit-learn.org/stable/modules/generated/sklearn.feature_extraction.text.TfidfVectorizer.html)) with the parameters `max_features=150` and `stop_words='english'`.\n",
    "- Split the  dataset into training and test sets using sklearn [`sklearn.model_selection.train_test_split`](https://scikit-learn.org/stable/modules/generated/sklearn.model_selection.train_test_split.html) using parameters `test_size=0.1` and  `random_state=42`.\n",
    "\n",
    "- Then, train two logistic regression models ([`sklearn.linear_model.SGDClassifier`](https://scikit-learn.org/stable/modules/generated/sklearn.linear_model.SGDClassifier.html)) using parameters `loss='log_loss'` and `max_iter=2000` considering:\n",
    "\n",
    "    - **1)** the TF-IDF feature vector\n",
    "\n",
    "    - **2)** the TF-IDF feature vector and the features `PP`, `NN`, `PN`, `P`, and `N` related to the graph.\n",
    "\n",
    "- Last, report the AUC/ROC of each model in the test set."
   ]
  },
  {
   "cell_type": "code",
   "execution_count": 322,
   "id": "764a00f3",
   "metadata": {
    "ExecuteTime": {
     "end_time": "2024-01-12T19:47:37.307749800Z",
     "start_time": "2024-01-12T19:47:34.969284600Z"
    }
   },
   "outputs": [],
   "source": [
    "# 3.5\n",
    "from sklearn.feature_extraction.text import TfidfVectorizer\n",
    "from sklearn.model_selection import train_test_split\n",
    "from sklearn.linear_model import SGDClassifier\n",
    "\n",
    "vectorizer = TfidfVectorizer(max_features=150, stop_words=\"english\")\n",
    "extra_df[\"TXT_PROCESSED\"].fillna(\"\", inplace=True)\n",
    "X = vectorizer.fit_transform(extra_df.TXT_PROCESSED)"
   ]
  },
  {
   "cell_type": "code",
   "execution_count": 325,
   "outputs": [],
   "source": [
    "Xtrain, Xtest , ytrain, ytest = train_test_split(X,y, test_size=0.1, random_state=42)"
   ],
   "metadata": {
    "collapsed": false,
    "ExecuteTime": {
     "end_time": "2024-01-12T19:53:21.565100500Z",
     "start_time": "2024-01-12T19:53:21.531505400Z"
    }
   }
  },
  {
   "cell_type": "code",
   "execution_count": 329,
   "outputs": [
    {
     "data": {
      "text/plain": "0.7018521994361847"
     },
     "execution_count": 329,
     "metadata": {},
     "output_type": "execute_result"
    }
   ],
   "source": [
    "clf = SGDClassifier(loss=\"log_loss\", max_iter=2000)\n",
    "clf.fit(Xtrain, ytrain)\n",
    "\n",
    "fpr, tpr, _ = roc_curve(ytest, clf.predict(Xtest))\n",
    "# Compute the area under the fpt-tpf curve\n",
    "auc_score = auc(fpr, tpr)\n",
    "auc_score"
   ],
   "metadata": {
    "collapsed": false,
    "ExecuteTime": {
     "end_time": "2024-01-12T19:54:58.937351Z",
     "start_time": "2024-01-12T19:54:58.747405800Z"
    }
   }
  },
  {
   "cell_type": "code",
   "execution_count": 333,
   "outputs": [
    {
     "data": {
      "text/plain": "0.750554826256621"
     },
     "execution_count": 333,
     "metadata": {},
     "output_type": "execute_result"
    }
   ],
   "source": [
    "from scipy import sparse\n",
    "X = sparse.hstack((sparse.csr_matrix(extra_df[[\"PP\",\"NN\",\"PN\",\"P\",\"N\"]].values), X))\n",
    "Xtrain, Xtest, ytrain, ytest = train_test_split(X, y, test_size=0.1, random_state=42)\n",
    "clf = SGDClassifier(loss=\"log_loss\", max_iter=2000)\n",
    "clf.fit(Xtrain, ytrain)\n",
    "\n",
    "fpr, tpr, _ = roc_curve(ytest, clf.predict(Xtest))\n",
    "# Compute the area under the fpt-tpf curve\n",
    "auc_score = auc(fpr, tpr)\n",
    "auc_score"
   ],
   "metadata": {
    "collapsed": false,
    "ExecuteTime": {
     "end_time": "2024-01-12T20:04:10.422575400Z",
     "start_time": "2024-01-12T20:04:03.893943500Z"
    }
   }
  },
  {
   "cell_type": "markdown",
   "id": "898cbdd1",
   "metadata": {},
   "source": [
    "**3.6** **/Discuss:**/  According to the results in task **3.5**, does information from the graph help in the task of predicting the vote even when using the text?  What kind of subsequent analysis would make you trust that the results are not obtained simply by chance? (No need to actually perform that subsequent analysis here.) "
   ]
  },
  {
   "cell_type": "markdown",
   "id": "6b6767ad",
   "metadata": {},
   "source": [
    "**A3.6** *YOUR ANSWER HERE*"
   ]
  },
  {
   "cell_type": "markdown",
   "id": "7f51071d",
   "metadata": {},
   "source": [
    "**3.7** Putting on your observational studies hat, run two logistic regressions using `statsmodels`.\n",
    "- In the first regression, the vote is the outcome, and `PP`, `NN` and `PN` are the predictors.\n",
    "- In the second regression, the vote is the outcome, and `PP`, `NN`, `PN`, and `N` are the predictors."
   ]
  },
  {
   "cell_type": "code",
   "execution_count": 334,
   "id": "9f8df411",
   "metadata": {
    "ExecuteTime": {
     "end_time": "2024-01-13T10:18:52.256841100Z",
     "start_time": "2024-01-13T10:18:51.766856500Z"
    }
   },
   "outputs": [],
   "source": [
    "# 3.7\n",
    "import statsmodels.formula.api as smf"
   ]
  },
  {
   "cell_type": "code",
   "execution_count": 343,
   "outputs": [
    {
     "name": "stdout",
     "output_type": "stream",
     "text": [
      "Optimization terminated successfully.\n",
      "         Current function value: 0.514594\n",
      "         Iterations 7\n",
      "                           Logit Regression Results                           \n",
      "==============================================================================\n",
      "Dep. Variable:                   VOT2   No. Observations:               167003\n",
      "Model:                          Logit   Df Residuals:                   166999\n",
      "Method:                           MLE   Df Model:                            3\n",
      "Date:                Sat, 13 Jan 2024   Pseudo R-squ.:                 0.01804\n",
      "Time:                        11:32:55   Log-Likelihood:                -85939.\n",
      "converged:                       True   LL-Null:                       -87517.\n",
      "Covariance Type:            nonrobust   LLR p-value:                     0.000\n",
      "==============================================================================\n",
      "                 coef    std err          z      P>|z|      [0.025      0.975]\n",
      "------------------------------------------------------------------------------\n",
      "Intercept      1.2781      0.006    206.255      0.000       1.266       1.290\n",
      "PP             0.2493      0.007     34.272      0.000       0.235       0.264\n",
      "NN            -0.6765      0.040    -16.946      0.000      -0.755      -0.598\n",
      "PN            -0.5509      0.014    -40.304      0.000      -0.578      -0.524\n",
      "==============================================================================\n"
     ]
    }
   ],
   "source": [
    "extra_df[\"VOT2\"] = (extra_df[\"VOT\"]==1).astype(int)\n",
    "mod = smf.logit(formula=\"VOT2 ~ PP + NN + PN\", data= extra_df)\n",
    "print(mod.fit().summary())\n"
   ],
   "metadata": {
    "collapsed": false,
    "ExecuteTime": {
     "end_time": "2024-01-13T10:32:55.829876300Z",
     "start_time": "2024-01-13T10:32:55.195572300Z"
    }
   }
  },
  {
   "cell_type": "code",
   "execution_count": 344,
   "outputs": [
    {
     "name": "stdout",
     "output_type": "stream",
     "text": [
      "Optimization terminated successfully.\n",
      "         Current function value: 0.487994\n",
      "         Iterations 7\n",
      "                           Logit Regression Results                           \n",
      "==============================================================================\n",
      "Dep. Variable:                   VOT2   No. Observations:               167003\n",
      "Model:                          Logit   Df Residuals:                   166998\n",
      "Method:                           MLE   Df Model:                            4\n",
      "Date:                Sat, 13 Jan 2024   Pseudo R-squ.:                 0.06880\n",
      "Time:                        11:36:01   Log-Likelihood:                -81496.\n",
      "converged:                       True   LL-Null:                       -87517.\n",
      "Covariance Type:            nonrobust   LLR p-value:                     0.000\n",
      "==============================================================================\n",
      "                 coef    std err          z      P>|z|      [0.025      0.975]\n",
      "------------------------------------------------------------------------------\n",
      "Intercept      1.6227      0.008    212.945      0.000       1.608       1.638\n",
      "PP             0.2535      0.008     33.344      0.000       0.239       0.268\n",
      "NN            -0.5466      0.040    -13.631      0.000      -0.625      -0.468\n",
      "PN            -0.4561      0.014    -33.013      0.000      -0.483      -0.429\n",
      "N             -0.0438      0.000    -89.263      0.000      -0.045      -0.043\n",
      "==============================================================================\n"
     ]
    }
   ],
   "source": [
    "mod = smf.logit(formula=\"VOT2 ~ PP + NN + PN + N\", data= extra_df)\n",
    "print(mod.fit().summary())"
   ],
   "metadata": {
    "collapsed": false,
    "ExecuteTime": {
     "end_time": "2024-01-13T10:36:01.052115700Z",
     "start_time": "2024-01-13T10:36:00.307954500Z"
    }
   }
  },
  {
   "cell_type": "markdown",
   "id": "db15d090",
   "metadata": {},
   "source": [
    "**3.8** **/Discuss:**/   Explain what the coefficient associated with `PP` means in the first regression. Is it in accordance with structural balance theory?"
   ]
  },
  {
   "cell_type": "markdown",
   "id": "48845787",
   "metadata": {},
   "source": [
    "**A3.8** *YOUR ANSWER HERE*"
   ]
  },
  {
   "cell_type": "markdown",
   "id": "49752dbb",
   "metadata": {},
   "source": [
    "**3.9** **/Discuss:**/   Compare the coefficients associated with `PN` and `NN` in the first vs. the second regression. Present a reason that may explain this difference."
   ]
  },
  {
   "cell_type": "markdown",
   "id": "8ab7612b",
   "metadata": {},
   "source": [
    "**A3.9**  *YOUR ANSWER HERE*"
   ]
  },
  {
   "cell_type": "markdown",
   "id": "207c9147",
   "metadata": {},
   "source": [
    "---"
   ]
  }
 ],
 "metadata": {
  "kernelspec": {
   "name": "python3",
   "language": "python",
   "display_name": "Python 3 (ipykernel)"
  },
  "language_info": {
   "codemirror_mode": {
    "name": "ipython",
    "version": 3
   },
   "file_extension": ".py",
   "mimetype": "text/x-python",
   "name": "python",
   "nbconvert_exporter": "python",
   "pygments_lexer": "ipython3",
   "version": "3.10.4"
  }
 },
 "nbformat": 4,
 "nbformat_minor": 5
}
